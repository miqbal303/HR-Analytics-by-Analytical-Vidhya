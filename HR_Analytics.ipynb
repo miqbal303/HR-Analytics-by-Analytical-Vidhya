{
 "cells": [
  {
   "cell_type": "markdown",
   "metadata": {},
   "source": [
    "# Problem Statement"
   ]
  },
  {
   "cell_type": "markdown",
   "metadata": {},
   "source": [
    "Your client is a large MNC and they have 9 broad verticals across the organisation. One of the problem your client is facing is around identifying the right people for promotion (only for manager position and below) and prepare them in time. Currently the process, they are following is:\n",
    "\n",
    "They first identify a set of employees based on recommendations/ past performance\n",
    "Selected employees go through the separate training and evaluation program for each vertical. These programs are based on the required skill of each vertical\n",
    "At the end of the program, based on various factors such as training performance, KPI completion (only employees with KPIs completed greater than 60% are considered) etc., employee gets promotion\n",
    "For above mentioned process, the final promotions are only announced after the evaluation and this leads to delay in transition to their new roles. Hence, company needs your help in identifying the eligible candidates at a particular checkpoint so that they can expedite the entire promotion cycle. \n",
    "\n",
    "They have provided multiple attributes around Employee's past and current performance along with demographics. Now, The task is to predict whether a potential promotee at checkpoint in the test set will be promoted or not after the evaluation process."
   ]
  },
  {
   "cell_type": "markdown",
   "metadata": {},
   "source": [
    "# Import Required Library"
   ]
  },
  {
   "cell_type": "code",
   "execution_count": 1,
   "metadata": {
    "executionInfo": {
     "elapsed": 937,
     "status": "ok",
     "timestamp": 1671706130861,
     "user": {
      "displayName": "mohammad iqbal",
      "userId": "15909639298493340109"
     },
     "user_tz": -330
    },
    "id": "U2SVf76uC2rt"
   },
   "outputs": [],
   "source": [
    "import numpy as np\n",
    "import pandas as pd\n",
    "import matplotlib.pyplot as plt\n",
    "import seaborn as sns\n",
    "%matplotlib inline"
   ]
  },
  {
   "cell_type": "markdown",
   "metadata": {},
   "source": [
    "## Load Data\n",
    "## Data Source:- https://datahack.analyticsvidhya.com/contest/wns-analytics-hackathon-2018-1/"
   ]
  },
  {
   "cell_type": "code",
   "execution_count": 2,
   "metadata": {
    "executionInfo": {
     "elapsed": 33,
     "status": "ok",
     "timestamp": 1671706130862,
     "user": {
      "displayName": "mohammad iqbal",
      "userId": "15909639298493340109"
     },
     "user_tz": -330
    },
    "id": "ysPbxyF6EQ4t"
   },
   "outputs": [],
   "source": [
    "train = pd.read_csv('Train.csv')\n",
    "test = pd.read_csv('Test.csv')"
   ]
  },
  {
   "cell_type": "markdown",
   "metadata": {},
   "source": [
    "### Show First five row"
   ]
  },
  {
   "cell_type": "code",
   "execution_count": 3,
   "metadata": {
    "colab": {
     "base_uri": "https://localhost:8080/",
     "height": 339
    },
    "executionInfo": {
     "elapsed": 33,
     "status": "ok",
     "timestamp": 1671706130863,
     "user": {
      "displayName": "mohammad iqbal",
      "userId": "15909639298493340109"
     },
     "user_tz": -330
    },
    "id": "cciJkQKGEVxE",
    "outputId": "8309851a-3475-4d9a-8629-3e763781c41d"
   },
   "outputs": [
    {
     "data": {
      "text/html": [
       "<div>\n",
       "<style scoped>\n",
       "    .dataframe tbody tr th:only-of-type {\n",
       "        vertical-align: middle;\n",
       "    }\n",
       "\n",
       "    .dataframe tbody tr th {\n",
       "        vertical-align: top;\n",
       "    }\n",
       "\n",
       "    .dataframe thead th {\n",
       "        text-align: right;\n",
       "    }\n",
       "</style>\n",
       "<table border=\"1\" class=\"dataframe\">\n",
       "  <thead>\n",
       "    <tr style=\"text-align: right;\">\n",
       "      <th></th>\n",
       "      <th>employee_id</th>\n",
       "      <th>department</th>\n",
       "      <th>region</th>\n",
       "      <th>education</th>\n",
       "      <th>gender</th>\n",
       "      <th>recruitment_channel</th>\n",
       "      <th>no_of_trainings</th>\n",
       "      <th>age</th>\n",
       "      <th>previous_year_rating</th>\n",
       "      <th>length_of_service</th>\n",
       "      <th>KPIs_met &gt;80%</th>\n",
       "      <th>awards_won?</th>\n",
       "      <th>avg_training_score</th>\n",
       "      <th>is_promoted</th>\n",
       "    </tr>\n",
       "  </thead>\n",
       "  <tbody>\n",
       "    <tr>\n",
       "      <th>0</th>\n",
       "      <td>65438</td>\n",
       "      <td>Sales &amp; Marketing</td>\n",
       "      <td>region_7</td>\n",
       "      <td>Master's &amp; above</td>\n",
       "      <td>f</td>\n",
       "      <td>sourcing</td>\n",
       "      <td>1</td>\n",
       "      <td>35</td>\n",
       "      <td>5.0</td>\n",
       "      <td>8</td>\n",
       "      <td>1</td>\n",
       "      <td>0</td>\n",
       "      <td>49</td>\n",
       "      <td>0</td>\n",
       "    </tr>\n",
       "    <tr>\n",
       "      <th>1</th>\n",
       "      <td>65141</td>\n",
       "      <td>Operations</td>\n",
       "      <td>region_22</td>\n",
       "      <td>Bachelor's</td>\n",
       "      <td>m</td>\n",
       "      <td>other</td>\n",
       "      <td>1</td>\n",
       "      <td>30</td>\n",
       "      <td>5.0</td>\n",
       "      <td>4</td>\n",
       "      <td>0</td>\n",
       "      <td>0</td>\n",
       "      <td>60</td>\n",
       "      <td>0</td>\n",
       "    </tr>\n",
       "    <tr>\n",
       "      <th>2</th>\n",
       "      <td>7513</td>\n",
       "      <td>Sales &amp; Marketing</td>\n",
       "      <td>region_19</td>\n",
       "      <td>Bachelor's</td>\n",
       "      <td>m</td>\n",
       "      <td>sourcing</td>\n",
       "      <td>1</td>\n",
       "      <td>34</td>\n",
       "      <td>3.0</td>\n",
       "      <td>7</td>\n",
       "      <td>0</td>\n",
       "      <td>0</td>\n",
       "      <td>50</td>\n",
       "      <td>0</td>\n",
       "    </tr>\n",
       "    <tr>\n",
       "      <th>3</th>\n",
       "      <td>2542</td>\n",
       "      <td>Sales &amp; Marketing</td>\n",
       "      <td>region_23</td>\n",
       "      <td>Bachelor's</td>\n",
       "      <td>m</td>\n",
       "      <td>other</td>\n",
       "      <td>2</td>\n",
       "      <td>39</td>\n",
       "      <td>1.0</td>\n",
       "      <td>10</td>\n",
       "      <td>0</td>\n",
       "      <td>0</td>\n",
       "      <td>50</td>\n",
       "      <td>0</td>\n",
       "    </tr>\n",
       "    <tr>\n",
       "      <th>4</th>\n",
       "      <td>48945</td>\n",
       "      <td>Technology</td>\n",
       "      <td>region_26</td>\n",
       "      <td>Bachelor's</td>\n",
       "      <td>m</td>\n",
       "      <td>other</td>\n",
       "      <td>1</td>\n",
       "      <td>45</td>\n",
       "      <td>3.0</td>\n",
       "      <td>2</td>\n",
       "      <td>0</td>\n",
       "      <td>0</td>\n",
       "      <td>73</td>\n",
       "      <td>0</td>\n",
       "    </tr>\n",
       "  </tbody>\n",
       "</table>\n",
       "</div>"
      ],
      "text/plain": [
       "   employee_id         department     region         education gender  \\\n",
       "0        65438  Sales & Marketing   region_7  Master's & above      f   \n",
       "1        65141         Operations  region_22        Bachelor's      m   \n",
       "2         7513  Sales & Marketing  region_19        Bachelor's      m   \n",
       "3         2542  Sales & Marketing  region_23        Bachelor's      m   \n",
       "4        48945         Technology  region_26        Bachelor's      m   \n",
       "\n",
       "  recruitment_channel  no_of_trainings  age  previous_year_rating  \\\n",
       "0            sourcing                1   35                   5.0   \n",
       "1               other                1   30                   5.0   \n",
       "2            sourcing                1   34                   3.0   \n",
       "3               other                2   39                   1.0   \n",
       "4               other                1   45                   3.0   \n",
       "\n",
       "   length_of_service  KPIs_met >80%  awards_won?  avg_training_score  \\\n",
       "0                  8              1            0                  49   \n",
       "1                  4              0            0                  60   \n",
       "2                  7              0            0                  50   \n",
       "3                 10              0            0                  50   \n",
       "4                  2              0            0                  73   \n",
       "\n",
       "   is_promoted  \n",
       "0            0  \n",
       "1            0  \n",
       "2            0  \n",
       "3            0  \n",
       "4            0  "
      ]
     },
     "execution_count": 3,
     "metadata": {},
     "output_type": "execute_result"
    }
   ],
   "source": [
    "train.head()"
   ]
  },
  {
   "cell_type": "code",
   "execution_count": 4,
   "metadata": {
    "colab": {
     "base_uri": "https://localhost:8080/",
     "height": 305
    },
    "executionInfo": {
     "elapsed": 31,
     "status": "ok",
     "timestamp": 1671706130863,
     "user": {
      "displayName": "mohammad iqbal",
      "userId": "15909639298493340109"
     },
     "user_tz": -330
    },
    "id": "rj7mkA6MlxMM",
    "outputId": "dc9b7366-84fc-4c67-ace5-8252543f6dc5"
   },
   "outputs": [
    {
     "data": {
      "text/html": [
       "<div>\n",
       "<style scoped>\n",
       "    .dataframe tbody tr th:only-of-type {\n",
       "        vertical-align: middle;\n",
       "    }\n",
       "\n",
       "    .dataframe tbody tr th {\n",
       "        vertical-align: top;\n",
       "    }\n",
       "\n",
       "    .dataframe thead th {\n",
       "        text-align: right;\n",
       "    }\n",
       "</style>\n",
       "<table border=\"1\" class=\"dataframe\">\n",
       "  <thead>\n",
       "    <tr style=\"text-align: right;\">\n",
       "      <th></th>\n",
       "      <th>employee_id</th>\n",
       "      <th>department</th>\n",
       "      <th>region</th>\n",
       "      <th>education</th>\n",
       "      <th>gender</th>\n",
       "      <th>recruitment_channel</th>\n",
       "      <th>no_of_trainings</th>\n",
       "      <th>age</th>\n",
       "      <th>previous_year_rating</th>\n",
       "      <th>length_of_service</th>\n",
       "      <th>KPIs_met &gt;80%</th>\n",
       "      <th>awards_won?</th>\n",
       "      <th>avg_training_score</th>\n",
       "    </tr>\n",
       "  </thead>\n",
       "  <tbody>\n",
       "    <tr>\n",
       "      <th>0</th>\n",
       "      <td>8724</td>\n",
       "      <td>Technology</td>\n",
       "      <td>region_26</td>\n",
       "      <td>Bachelor's</td>\n",
       "      <td>m</td>\n",
       "      <td>sourcing</td>\n",
       "      <td>1</td>\n",
       "      <td>24</td>\n",
       "      <td>NaN</td>\n",
       "      <td>1</td>\n",
       "      <td>1</td>\n",
       "      <td>0</td>\n",
       "      <td>77</td>\n",
       "    </tr>\n",
       "    <tr>\n",
       "      <th>1</th>\n",
       "      <td>74430</td>\n",
       "      <td>HR</td>\n",
       "      <td>region_4</td>\n",
       "      <td>Bachelor's</td>\n",
       "      <td>f</td>\n",
       "      <td>other</td>\n",
       "      <td>1</td>\n",
       "      <td>31</td>\n",
       "      <td>3.0</td>\n",
       "      <td>5</td>\n",
       "      <td>0</td>\n",
       "      <td>0</td>\n",
       "      <td>51</td>\n",
       "    </tr>\n",
       "    <tr>\n",
       "      <th>2</th>\n",
       "      <td>72255</td>\n",
       "      <td>Sales &amp; Marketing</td>\n",
       "      <td>region_13</td>\n",
       "      <td>Bachelor's</td>\n",
       "      <td>m</td>\n",
       "      <td>other</td>\n",
       "      <td>1</td>\n",
       "      <td>31</td>\n",
       "      <td>1.0</td>\n",
       "      <td>4</td>\n",
       "      <td>0</td>\n",
       "      <td>0</td>\n",
       "      <td>47</td>\n",
       "    </tr>\n",
       "    <tr>\n",
       "      <th>3</th>\n",
       "      <td>38562</td>\n",
       "      <td>Procurement</td>\n",
       "      <td>region_2</td>\n",
       "      <td>Bachelor's</td>\n",
       "      <td>f</td>\n",
       "      <td>other</td>\n",
       "      <td>3</td>\n",
       "      <td>31</td>\n",
       "      <td>2.0</td>\n",
       "      <td>9</td>\n",
       "      <td>0</td>\n",
       "      <td>0</td>\n",
       "      <td>65</td>\n",
       "    </tr>\n",
       "    <tr>\n",
       "      <th>4</th>\n",
       "      <td>64486</td>\n",
       "      <td>Finance</td>\n",
       "      <td>region_29</td>\n",
       "      <td>Bachelor's</td>\n",
       "      <td>m</td>\n",
       "      <td>sourcing</td>\n",
       "      <td>1</td>\n",
       "      <td>30</td>\n",
       "      <td>4.0</td>\n",
       "      <td>7</td>\n",
       "      <td>0</td>\n",
       "      <td>0</td>\n",
       "      <td>61</td>\n",
       "    </tr>\n",
       "  </tbody>\n",
       "</table>\n",
       "</div>"
      ],
      "text/plain": [
       "   employee_id         department     region   education gender  \\\n",
       "0         8724         Technology  region_26  Bachelor's      m   \n",
       "1        74430                 HR   region_4  Bachelor's      f   \n",
       "2        72255  Sales & Marketing  region_13  Bachelor's      m   \n",
       "3        38562        Procurement   region_2  Bachelor's      f   \n",
       "4        64486            Finance  region_29  Bachelor's      m   \n",
       "\n",
       "  recruitment_channel  no_of_trainings  age  previous_year_rating  \\\n",
       "0            sourcing                1   24                   NaN   \n",
       "1               other                1   31                   3.0   \n",
       "2               other                1   31                   1.0   \n",
       "3               other                3   31                   2.0   \n",
       "4            sourcing                1   30                   4.0   \n",
       "\n",
       "   length_of_service  KPIs_met >80%  awards_won?  avg_training_score  \n",
       "0                  1              1            0                  77  \n",
       "1                  5              0            0                  51  \n",
       "2                  4              0            0                  47  \n",
       "3                  9              0            0                  65  \n",
       "4                  7              0            0                  61  "
      ]
     },
     "execution_count": 4,
     "metadata": {},
     "output_type": "execute_result"
    }
   ],
   "source": [
    "test.head()"
   ]
  },
  {
   "cell_type": "markdown",
   "metadata": {},
   "source": [
    "### Check data shape"
   ]
  },
  {
   "cell_type": "code",
   "execution_count": 5,
   "metadata": {
    "colab": {
     "base_uri": "https://localhost:8080/"
    },
    "executionInfo": {
     "elapsed": 31,
     "status": "ok",
     "timestamp": 1671706130864,
     "user": {
      "displayName": "mohammad iqbal",
      "userId": "15909639298493340109"
     },
     "user_tz": -330
    },
    "id": "8lJzrFVSEWzM",
    "outputId": "ec3f965f-8e91-4f43-a369-ac600b075c7d"
   },
   "outputs": [
    {
     "name": "stdout",
     "output_type": "stream",
     "text": [
      "(54808, 14)\n",
      "(23490, 13)\n"
     ]
    }
   ],
   "source": [
    "print(train.shape)\n",
    "print(test.shape)"
   ]
  },
  {
   "cell_type": "code",
   "execution_count": 6,
   "metadata": {
    "colab": {
     "base_uri": "https://localhost:8080/",
     "height": 381
    },
    "executionInfo": {
     "elapsed": 29,
     "status": "ok",
     "timestamp": 1671706130865,
     "user": {
      "displayName": "mohammad iqbal",
      "userId": "15909639298493340109"
     },
     "user_tz": -330
    },
    "id": "DJOfoJMoEbSF",
    "outputId": "fc66f40f-014d-479c-b38d-90baae4d840f"
   },
   "outputs": [
    {
     "data": {
      "text/html": [
       "<div>\n",
       "<style scoped>\n",
       "    .dataframe tbody tr th:only-of-type {\n",
       "        vertical-align: middle;\n",
       "    }\n",
       "\n",
       "    .dataframe tbody tr th {\n",
       "        vertical-align: top;\n",
       "    }\n",
       "\n",
       "    .dataframe thead th {\n",
       "        text-align: right;\n",
       "    }\n",
       "</style>\n",
       "<table border=\"1\" class=\"dataframe\">\n",
       "  <thead>\n",
       "    <tr style=\"text-align: right;\">\n",
       "      <th></th>\n",
       "      <th>employee_id</th>\n",
       "      <th>no_of_trainings</th>\n",
       "      <th>age</th>\n",
       "      <th>previous_year_rating</th>\n",
       "      <th>length_of_service</th>\n",
       "      <th>KPIs_met &gt;80%</th>\n",
       "      <th>awards_won?</th>\n",
       "      <th>avg_training_score</th>\n",
       "      <th>is_promoted</th>\n",
       "    </tr>\n",
       "  </thead>\n",
       "  <tbody>\n",
       "    <tr>\n",
       "      <th>count</th>\n",
       "      <td>54808.000000</td>\n",
       "      <td>54808.000000</td>\n",
       "      <td>54808.000000</td>\n",
       "      <td>50684.000000</td>\n",
       "      <td>54808.000000</td>\n",
       "      <td>54808.000000</td>\n",
       "      <td>54808.000000</td>\n",
       "      <td>54808.000000</td>\n",
       "      <td>54808.000000</td>\n",
       "    </tr>\n",
       "    <tr>\n",
       "      <th>mean</th>\n",
       "      <td>39195.830627</td>\n",
       "      <td>1.253011</td>\n",
       "      <td>34.803915</td>\n",
       "      <td>3.329256</td>\n",
       "      <td>5.865512</td>\n",
       "      <td>0.351974</td>\n",
       "      <td>0.023172</td>\n",
       "      <td>63.386750</td>\n",
       "      <td>0.085170</td>\n",
       "    </tr>\n",
       "    <tr>\n",
       "      <th>std</th>\n",
       "      <td>22586.581449</td>\n",
       "      <td>0.609264</td>\n",
       "      <td>7.660169</td>\n",
       "      <td>1.259993</td>\n",
       "      <td>4.265094</td>\n",
       "      <td>0.477590</td>\n",
       "      <td>0.150450</td>\n",
       "      <td>13.371559</td>\n",
       "      <td>0.279137</td>\n",
       "    </tr>\n",
       "    <tr>\n",
       "      <th>min</th>\n",
       "      <td>1.000000</td>\n",
       "      <td>1.000000</td>\n",
       "      <td>20.000000</td>\n",
       "      <td>1.000000</td>\n",
       "      <td>1.000000</td>\n",
       "      <td>0.000000</td>\n",
       "      <td>0.000000</td>\n",
       "      <td>39.000000</td>\n",
       "      <td>0.000000</td>\n",
       "    </tr>\n",
       "    <tr>\n",
       "      <th>25%</th>\n",
       "      <td>19669.750000</td>\n",
       "      <td>1.000000</td>\n",
       "      <td>29.000000</td>\n",
       "      <td>3.000000</td>\n",
       "      <td>3.000000</td>\n",
       "      <td>0.000000</td>\n",
       "      <td>0.000000</td>\n",
       "      <td>51.000000</td>\n",
       "      <td>0.000000</td>\n",
       "    </tr>\n",
       "    <tr>\n",
       "      <th>50%</th>\n",
       "      <td>39225.500000</td>\n",
       "      <td>1.000000</td>\n",
       "      <td>33.000000</td>\n",
       "      <td>3.000000</td>\n",
       "      <td>5.000000</td>\n",
       "      <td>0.000000</td>\n",
       "      <td>0.000000</td>\n",
       "      <td>60.000000</td>\n",
       "      <td>0.000000</td>\n",
       "    </tr>\n",
       "    <tr>\n",
       "      <th>75%</th>\n",
       "      <td>58730.500000</td>\n",
       "      <td>1.000000</td>\n",
       "      <td>39.000000</td>\n",
       "      <td>4.000000</td>\n",
       "      <td>7.000000</td>\n",
       "      <td>1.000000</td>\n",
       "      <td>0.000000</td>\n",
       "      <td>76.000000</td>\n",
       "      <td>0.000000</td>\n",
       "    </tr>\n",
       "    <tr>\n",
       "      <th>max</th>\n",
       "      <td>78298.000000</td>\n",
       "      <td>10.000000</td>\n",
       "      <td>60.000000</td>\n",
       "      <td>5.000000</td>\n",
       "      <td>37.000000</td>\n",
       "      <td>1.000000</td>\n",
       "      <td>1.000000</td>\n",
       "      <td>99.000000</td>\n",
       "      <td>1.000000</td>\n",
       "    </tr>\n",
       "  </tbody>\n",
       "</table>\n",
       "</div>"
      ],
      "text/plain": [
       "        employee_id  no_of_trainings           age  previous_year_rating  \\\n",
       "count  54808.000000     54808.000000  54808.000000          50684.000000   \n",
       "mean   39195.830627         1.253011     34.803915              3.329256   \n",
       "std    22586.581449         0.609264      7.660169              1.259993   \n",
       "min        1.000000         1.000000     20.000000              1.000000   \n",
       "25%    19669.750000         1.000000     29.000000              3.000000   \n",
       "50%    39225.500000         1.000000     33.000000              3.000000   \n",
       "75%    58730.500000         1.000000     39.000000              4.000000   \n",
       "max    78298.000000        10.000000     60.000000              5.000000   \n",
       "\n",
       "       length_of_service  KPIs_met >80%   awards_won?  avg_training_score  \\\n",
       "count       54808.000000   54808.000000  54808.000000        54808.000000   \n",
       "mean            5.865512       0.351974      0.023172           63.386750   \n",
       "std             4.265094       0.477590      0.150450           13.371559   \n",
       "min             1.000000       0.000000      0.000000           39.000000   \n",
       "25%             3.000000       0.000000      0.000000           51.000000   \n",
       "50%             5.000000       0.000000      0.000000           60.000000   \n",
       "75%             7.000000       1.000000      0.000000           76.000000   \n",
       "max            37.000000       1.000000      1.000000           99.000000   \n",
       "\n",
       "        is_promoted  \n",
       "count  54808.000000  \n",
       "mean       0.085170  \n",
       "std        0.279137  \n",
       "min        0.000000  \n",
       "25%        0.000000  \n",
       "50%        0.000000  \n",
       "75%        0.000000  \n",
       "max        1.000000  "
      ]
     },
     "execution_count": 6,
     "metadata": {},
     "output_type": "execute_result"
    }
   ],
   "source": [
    "train.describe()   # Descriptive"
   ]
  },
  {
   "cell_type": "code",
   "execution_count": 7,
   "metadata": {
    "colab": {
     "base_uri": "https://localhost:8080/",
     "height": 381
    },
    "executionInfo": {
     "elapsed": 29,
     "status": "ok",
     "timestamp": 1671706130866,
     "user": {
      "displayName": "mohammad iqbal",
      "userId": "15909639298493340109"
     },
     "user_tz": -330
    },
    "id": "gKrMI8qYl8vD",
    "outputId": "8d564a34-1dd5-4ff6-8ea8-ac0a3fb2cbfc"
   },
   "outputs": [
    {
     "data": {
      "text/html": [
       "<div>\n",
       "<style scoped>\n",
       "    .dataframe tbody tr th:only-of-type {\n",
       "        vertical-align: middle;\n",
       "    }\n",
       "\n",
       "    .dataframe tbody tr th {\n",
       "        vertical-align: top;\n",
       "    }\n",
       "\n",
       "    .dataframe thead th {\n",
       "        text-align: right;\n",
       "    }\n",
       "</style>\n",
       "<table border=\"1\" class=\"dataframe\">\n",
       "  <thead>\n",
       "    <tr style=\"text-align: right;\">\n",
       "      <th></th>\n",
       "      <th>employee_id</th>\n",
       "      <th>no_of_trainings</th>\n",
       "      <th>age</th>\n",
       "      <th>previous_year_rating</th>\n",
       "      <th>length_of_service</th>\n",
       "      <th>KPIs_met &gt;80%</th>\n",
       "      <th>awards_won?</th>\n",
       "      <th>avg_training_score</th>\n",
       "    </tr>\n",
       "  </thead>\n",
       "  <tbody>\n",
       "    <tr>\n",
       "      <th>count</th>\n",
       "      <td>23490.000000</td>\n",
       "      <td>23490.000000</td>\n",
       "      <td>23490.000000</td>\n",
       "      <td>21678.000000</td>\n",
       "      <td>23490.000000</td>\n",
       "      <td>23490.000000</td>\n",
       "      <td>23490.000000</td>\n",
       "      <td>23490.000000</td>\n",
       "    </tr>\n",
       "    <tr>\n",
       "      <th>mean</th>\n",
       "      <td>39041.399149</td>\n",
       "      <td>1.254236</td>\n",
       "      <td>34.782929</td>\n",
       "      <td>3.339146</td>\n",
       "      <td>5.810387</td>\n",
       "      <td>0.358834</td>\n",
       "      <td>0.022776</td>\n",
       "      <td>63.263133</td>\n",
       "    </tr>\n",
       "    <tr>\n",
       "      <th>std</th>\n",
       "      <td>22640.809201</td>\n",
       "      <td>0.600910</td>\n",
       "      <td>7.679492</td>\n",
       "      <td>1.263294</td>\n",
       "      <td>4.207917</td>\n",
       "      <td>0.479668</td>\n",
       "      <td>0.149191</td>\n",
       "      <td>13.411750</td>\n",
       "    </tr>\n",
       "    <tr>\n",
       "      <th>min</th>\n",
       "      <td>3.000000</td>\n",
       "      <td>1.000000</td>\n",
       "      <td>20.000000</td>\n",
       "      <td>1.000000</td>\n",
       "      <td>1.000000</td>\n",
       "      <td>0.000000</td>\n",
       "      <td>0.000000</td>\n",
       "      <td>39.000000</td>\n",
       "    </tr>\n",
       "    <tr>\n",
       "      <th>25%</th>\n",
       "      <td>19370.250000</td>\n",
       "      <td>1.000000</td>\n",
       "      <td>29.000000</td>\n",
       "      <td>3.000000</td>\n",
       "      <td>3.000000</td>\n",
       "      <td>0.000000</td>\n",
       "      <td>0.000000</td>\n",
       "      <td>51.000000</td>\n",
       "    </tr>\n",
       "    <tr>\n",
       "      <th>50%</th>\n",
       "      <td>38963.500000</td>\n",
       "      <td>1.000000</td>\n",
       "      <td>33.000000</td>\n",
       "      <td>3.000000</td>\n",
       "      <td>5.000000</td>\n",
       "      <td>0.000000</td>\n",
       "      <td>0.000000</td>\n",
       "      <td>60.000000</td>\n",
       "    </tr>\n",
       "    <tr>\n",
       "      <th>75%</th>\n",
       "      <td>58690.000000</td>\n",
       "      <td>1.000000</td>\n",
       "      <td>39.000000</td>\n",
       "      <td>4.000000</td>\n",
       "      <td>7.000000</td>\n",
       "      <td>1.000000</td>\n",
       "      <td>0.000000</td>\n",
       "      <td>76.000000</td>\n",
       "    </tr>\n",
       "    <tr>\n",
       "      <th>max</th>\n",
       "      <td>78295.000000</td>\n",
       "      <td>9.000000</td>\n",
       "      <td>60.000000</td>\n",
       "      <td>5.000000</td>\n",
       "      <td>34.000000</td>\n",
       "      <td>1.000000</td>\n",
       "      <td>1.000000</td>\n",
       "      <td>99.000000</td>\n",
       "    </tr>\n",
       "  </tbody>\n",
       "</table>\n",
       "</div>"
      ],
      "text/plain": [
       "        employee_id  no_of_trainings           age  previous_year_rating  \\\n",
       "count  23490.000000     23490.000000  23490.000000          21678.000000   \n",
       "mean   39041.399149         1.254236     34.782929              3.339146   \n",
       "std    22640.809201         0.600910      7.679492              1.263294   \n",
       "min        3.000000         1.000000     20.000000              1.000000   \n",
       "25%    19370.250000         1.000000     29.000000              3.000000   \n",
       "50%    38963.500000         1.000000     33.000000              3.000000   \n",
       "75%    58690.000000         1.000000     39.000000              4.000000   \n",
       "max    78295.000000         9.000000     60.000000              5.000000   \n",
       "\n",
       "       length_of_service  KPIs_met >80%   awards_won?  avg_training_score  \n",
       "count       23490.000000   23490.000000  23490.000000        23490.000000  \n",
       "mean            5.810387       0.358834      0.022776           63.263133  \n",
       "std             4.207917       0.479668      0.149191           13.411750  \n",
       "min             1.000000       0.000000      0.000000           39.000000  \n",
       "25%             3.000000       0.000000      0.000000           51.000000  \n",
       "50%             5.000000       0.000000      0.000000           60.000000  \n",
       "75%             7.000000       1.000000      0.000000           76.000000  \n",
       "max            34.000000       1.000000      1.000000           99.000000  "
      ]
     },
     "execution_count": 7,
     "metadata": {},
     "output_type": "execute_result"
    }
   ],
   "source": [
    "test.describe()"
   ]
  },
  {
   "cell_type": "code",
   "execution_count": 8,
   "metadata": {
    "colab": {
     "base_uri": "https://localhost:8080/"
    },
    "executionInfo": {
     "elapsed": 29,
     "status": "ok",
     "timestamp": 1671706130867,
     "user": {
      "displayName": "mohammad iqbal",
      "userId": "15909639298493340109"
     },
     "user_tz": -330
    },
    "id": "Dft2hdJFFBgk",
    "outputId": "d018e95d-8d2d-41b9-ea58-fd6a615cd6da"
   },
   "outputs": [
    {
     "name": "stdout",
     "output_type": "stream",
     "text": [
      "<class 'pandas.core.frame.DataFrame'>\n",
      "RangeIndex: 54808 entries, 0 to 54807\n",
      "Data columns (total 14 columns):\n",
      " #   Column                Non-Null Count  Dtype  \n",
      "---  ------                --------------  -----  \n",
      " 0   employee_id           54808 non-null  int64  \n",
      " 1   department            54808 non-null  object \n",
      " 2   region                54808 non-null  object \n",
      " 3   education             52399 non-null  object \n",
      " 4   gender                54808 non-null  object \n",
      " 5   recruitment_channel   54808 non-null  object \n",
      " 6   no_of_trainings       54808 non-null  int64  \n",
      " 7   age                   54808 non-null  int64  \n",
      " 8   previous_year_rating  50684 non-null  float64\n",
      " 9   length_of_service     54808 non-null  int64  \n",
      " 10  KPIs_met >80%         54808 non-null  int64  \n",
      " 11  awards_won?           54808 non-null  int64  \n",
      " 12  avg_training_score    54808 non-null  int64  \n",
      " 13  is_promoted           54808 non-null  int64  \n",
      "dtypes: float64(1), int64(8), object(5)\n",
      "memory usage: 5.9+ MB\n"
     ]
    }
   ],
   "source": [
    "train.info()   # Information of datatype"
   ]
  },
  {
   "cell_type": "code",
   "execution_count": 9,
   "metadata": {
    "colab": {
     "base_uri": "https://localhost:8080/"
    },
    "executionInfo": {
     "elapsed": 27,
     "status": "ok",
     "timestamp": 1671706130868,
     "user": {
      "displayName": "mohammad iqbal",
      "userId": "15909639298493340109"
     },
     "user_tz": -330
    },
    "id": "jjF-sUpwmEdC",
    "outputId": "96be4755-6ae6-4f0b-959a-40d41a93cf13"
   },
   "outputs": [
    {
     "name": "stdout",
     "output_type": "stream",
     "text": [
      "<class 'pandas.core.frame.DataFrame'>\n",
      "RangeIndex: 23490 entries, 0 to 23489\n",
      "Data columns (total 13 columns):\n",
      " #   Column                Non-Null Count  Dtype  \n",
      "---  ------                --------------  -----  \n",
      " 0   employee_id           23490 non-null  int64  \n",
      " 1   department            23490 non-null  object \n",
      " 2   region                23490 non-null  object \n",
      " 3   education             22456 non-null  object \n",
      " 4   gender                23490 non-null  object \n",
      " 5   recruitment_channel   23490 non-null  object \n",
      " 6   no_of_trainings       23490 non-null  int64  \n",
      " 7   age                   23490 non-null  int64  \n",
      " 8   previous_year_rating  21678 non-null  float64\n",
      " 9   length_of_service     23490 non-null  int64  \n",
      " 10  KPIs_met >80%         23490 non-null  int64  \n",
      " 11  awards_won?           23490 non-null  int64  \n",
      " 12  avg_training_score    23490 non-null  int64  \n",
      "dtypes: float64(1), int64(7), object(5)\n",
      "memory usage: 2.3+ MB\n"
     ]
    }
   ],
   "source": [
    "test.info()"
   ]
  },
  {
   "cell_type": "code",
   "execution_count": 10,
   "metadata": {
    "colab": {
     "base_uri": "https://localhost:8080/"
    },
    "executionInfo": {
     "elapsed": 26,
     "status": "ok",
     "timestamp": 1671706130869,
     "user": {
      "displayName": "mohammad iqbal",
      "userId": "15909639298493340109"
     },
     "user_tz": -330
    },
    "id": "ytOKsiCpFR5c",
    "outputId": "02c77a9f-9646-4fdd-c321-d0e9b43fdbc8"
   },
   "outputs": [
    {
     "data": {
      "text/plain": [
       "employee_id                0\n",
       "department                 0\n",
       "region                     0\n",
       "education               2409\n",
       "gender                     0\n",
       "recruitment_channel        0\n",
       "no_of_trainings            0\n",
       "age                        0\n",
       "previous_year_rating    4124\n",
       "length_of_service          0\n",
       "KPIs_met >80%              0\n",
       "awards_won?                0\n",
       "avg_training_score         0\n",
       "is_promoted                0\n",
       "dtype: int64"
      ]
     },
     "execution_count": 10,
     "metadata": {},
     "output_type": "execute_result"
    }
   ],
   "source": [
    "train.isnull().sum()  # Check Null Values"
   ]
  },
  {
   "cell_type": "code",
   "execution_count": 11,
   "metadata": {
    "colab": {
     "base_uri": "https://localhost:8080/"
    },
    "executionInfo": {
     "elapsed": 24,
     "status": "ok",
     "timestamp": 1671706130870,
     "user": {
      "displayName": "mohammad iqbal",
      "userId": "15909639298493340109"
     },
     "user_tz": -330
    },
    "id": "w0s6_HWemO4C",
    "outputId": "1a795210-8b27-492b-9103-7c41e8b2925b"
   },
   "outputs": [
    {
     "data": {
      "text/plain": [
       "employee_id                0\n",
       "department                 0\n",
       "region                     0\n",
       "education               1034\n",
       "gender                     0\n",
       "recruitment_channel        0\n",
       "no_of_trainings            0\n",
       "age                        0\n",
       "previous_year_rating    1812\n",
       "length_of_service          0\n",
       "KPIs_met >80%              0\n",
       "awards_won?                0\n",
       "avg_training_score         0\n",
       "dtype: int64"
      ]
     },
     "execution_count": 11,
     "metadata": {},
     "output_type": "execute_result"
    }
   ],
   "source": [
    "test.isnull().sum()"
   ]
  },
  {
   "cell_type": "code",
   "execution_count": 12,
   "metadata": {
    "colab": {
     "base_uri": "https://localhost:8080/",
     "height": 546
    },
    "executionInfo": {
     "elapsed": 2461,
     "status": "ok",
     "timestamp": 1671706133308,
     "user": {
      "displayName": "mohammad iqbal",
      "userId": "15909639298493340109"
     },
     "user_tz": -330
    },
    "id": "MpH0ocHqFVd0",
    "outputId": "f16431bd-c915-4399-e91f-f8253fbfc29a"
   },
   "outputs": [
    {
     "data": {
      "text/plain": [
       "<AxesSubplot:>"
      ]
     },
     "execution_count": 12,
     "metadata": {},
     "output_type": "execute_result"
    },
    {
     "data": {
      "image/png": "[encoded data removed]",
      "text/plain": [
       "<Figure size 720x504 with 2 Axes>"
      ]
     },
     "metadata": {
      "needs_background": "light"
     },
     "output_type": "display_data"
    }
   ],
   "source": [
    "# Show null values by heatmap\n",
    "plt.figure(figsize=(10,7))\n",
    "sns.heatmap(train.isnull(), cmap = 'viridis')"
   ]
  },
  {
   "cell_type": "markdown",
   "metadata": {},
   "source": [
    "### Check unique values in data"
   ]
  },
  {
   "cell_type": "code",
   "execution_count": 13,
   "metadata": {
    "colab": {
     "base_uri": "https://localhost:8080/"
    },
    "executionInfo": {
     "elapsed": 23,
     "status": "ok",
     "timestamp": 1671706133309,
     "user": {
      "displayName": "mohammad iqbal",
      "userId": "15909639298493340109"
     },
     "user_tz": -330
    },
    "id": "4KtVKyG8FnRC",
    "outputId": "af0b554f-bdc6-4632-b1be-853e2b10cd4a"
   },
   "outputs": [
    {
     "name": "stdout",
     "output_type": "stream",
     "text": [
      "Bachelor's          36669\n",
      "Master's & above    14925\n",
      "Below Secondary       805\n",
      "Name: education, dtype: int64\n",
      "3.0    18618\n",
      "5.0    11741\n",
      "4.0     9877\n",
      "1.0     6223\n",
      "2.0     4225\n",
      "Name: previous_year_rating, dtype: int64\n"
     ]
    }
   ],
   "source": [
    "print(train['education'].value_counts())\n",
    "print(train['previous_year_rating'].value_counts())"
   ]
  },
  {
   "cell_type": "code",
   "execution_count": 14,
   "metadata": {
    "colab": {
     "base_uri": "https://localhost:8080/"
    },
    "executionInfo": {
     "elapsed": 23,
     "status": "ok",
     "timestamp": 1671706133311,
     "user": {
      "displayName": "mohammad iqbal",
      "userId": "15909639298493340109"
     },
     "user_tz": -330
    },
    "id": "g1wN-ba3GEb1",
    "outputId": "1568c9ed-47ba-4d8d-814c-12dde88598d9"
   },
   "outputs": [
    {
     "name": "stdout",
     "output_type": "stream",
     "text": [
      "Bachelor's          15578\n",
      "Master's & above     6504\n",
      "Below Secondary       374\n",
      "Name: education, dtype: int64\n",
      "3.0    7921\n",
      "5.0    5097\n",
      "4.0    4249\n",
      "1.0    2680\n",
      "2.0    1731\n",
      "Name: previous_year_rating, dtype: int64\n"
     ]
    }
   ],
   "source": [
    "print(test['education'].value_counts())\n",
    "print(test['previous_year_rating'].value_counts())"
   ]
  },
  {
   "cell_type": "markdown",
   "metadata": {},
   "source": [
    "### Filling Missing values with mode"
   ]
  },
  {
   "cell_type": "code",
   "execution_count": 15,
   "metadata": {
    "executionInfo": {
     "elapsed": 21,
     "status": "ok",
     "timestamp": 1671706133311,
     "user": {
      "displayName": "mohammad iqbal",
      "userId": "15909639298493340109"
     },
     "user_tz": -330
    },
    "id": "4gtTjINLGOgc"
   },
   "outputs": [],
   "source": [
    "train['education'] = train['education'].fillna(train['education'].mode()[0])\n",
    "train['previous_year_rating'] = train['previous_year_rating'].fillna(train['previous_year_rating'].mode()[0])"
   ]
  },
  {
   "cell_type": "code",
   "execution_count": 16,
   "metadata": {
    "executionInfo": {
     "elapsed": 21,
     "status": "ok",
     "timestamp": 1671706133312,
     "user": {
      "displayName": "mohammad iqbal",
      "userId": "15909639298493340109"
     },
     "user_tz": -330
    },
    "id": "d9u_MDUxJSKB"
   },
   "outputs": [],
   "source": [
    "test['education'] = test['education'].fillna(test['education'].mode()[0])\n",
    "test['previous_year_rating'] = test['previous_year_rating'].fillna(test['previous_year_rating'].mode()[0])"
   ]
  },
  {
   "cell_type": "code",
   "execution_count": 17,
   "metadata": {
    "colab": {
     "base_uri": "https://localhost:8080/"
    },
    "executionInfo": {
     "elapsed": 21,
     "status": "ok",
     "timestamp": 1671706133312,
     "user": {
      "displayName": "mohammad iqbal",
      "userId": "15909639298493340109"
     },
     "user_tz": -330
    },
    "id": "S7-4rYCxGsNY",
    "outputId": "31471ecb-451c-410e-f37d-51388a1b5048"
   },
   "outputs": [
    {
     "data": {
      "text/plain": [
       "employee_id             0\n",
       "department              0\n",
       "region                  0\n",
       "education               0\n",
       "gender                  0\n",
       "recruitment_channel     0\n",
       "no_of_trainings         0\n",
       "age                     0\n",
       "previous_year_rating    0\n",
       "length_of_service       0\n",
       "KPIs_met >80%           0\n",
       "awards_won?             0\n",
       "avg_training_score      0\n",
       "is_promoted             0\n",
       "dtype: int64"
      ]
     },
     "execution_count": 17,
     "metadata": {},
     "output_type": "execute_result"
    }
   ],
   "source": [
    "train.isnull().sum()"
   ]
  },
  {
   "cell_type": "code",
   "execution_count": 18,
   "metadata": {
    "colab": {
     "base_uri": "https://localhost:8080/"
    },
    "executionInfo": {
     "elapsed": 20,
     "status": "ok",
     "timestamp": 1671706133313,
     "user": {
      "displayName": "mohammad iqbal",
      "userId": "15909639298493340109"
     },
     "user_tz": -330
    },
    "id": "a2xDRpT5o12h",
    "outputId": "c92f6275-3268-49d5-d0a9-9bc88c415084"
   },
   "outputs": [
    {
     "data": {
      "text/plain": [
       "employee_id             0\n",
       "department              0\n",
       "region                  0\n",
       "education               0\n",
       "gender                  0\n",
       "recruitment_channel     0\n",
       "no_of_trainings         0\n",
       "age                     0\n",
       "previous_year_rating    0\n",
       "length_of_service       0\n",
       "KPIs_met >80%           0\n",
       "awards_won?             0\n",
       "avg_training_score      0\n",
       "dtype: int64"
      ]
     },
     "execution_count": 18,
     "metadata": {},
     "output_type": "execute_result"
    }
   ],
   "source": [
    "test.isnull().sum()"
   ]
  },
  {
   "cell_type": "code",
   "execution_count": 19,
   "metadata": {
    "colab": {
     "base_uri": "https://localhost:8080/"
    },
    "executionInfo": {
     "elapsed": 19,
     "status": "ok",
     "timestamp": 1671706133314,
     "user": {
      "displayName": "mohammad iqbal",
      "userId": "15909639298493340109"
     },
     "user_tz": -330
    },
    "id": "u-wEichvJNPo",
    "outputId": "c3943d59-683b-4c87-aeb9-6bf8db6f22d0"
   },
   "outputs": [
    {
     "name": "stdout",
     "output_type": "stream",
     "text": [
      "<class 'pandas.core.frame.DataFrame'>\n",
      "RangeIndex: 54808 entries, 0 to 54807\n",
      "Data columns (total 14 columns):\n",
      " #   Column                Non-Null Count  Dtype  \n",
      "---  ------                --------------  -----  \n",
      " 0   employee_id           54808 non-null  int64  \n",
      " 1   department            54808 non-null  object \n",
      " 2   region                54808 non-null  object \n",
      " 3   education             54808 non-null  object \n",
      " 4   gender                54808 non-null  object \n",
      " 5   recruitment_channel   54808 non-null  object \n",
      " 6   no_of_trainings       54808 non-null  int64  \n",
      " 7   age                   54808 non-null  int64  \n",
      " 8   previous_year_rating  54808 non-null  float64\n",
      " 9   length_of_service     54808 non-null  int64  \n",
      " 10  KPIs_met >80%         54808 non-null  int64  \n",
      " 11  awards_won?           54808 non-null  int64  \n",
      " 12  avg_training_score    54808 non-null  int64  \n",
      " 13  is_promoted           54808 non-null  int64  \n",
      "dtypes: float64(1), int64(8), object(5)\n",
      "memory usage: 5.9+ MB\n"
     ]
    }
   ],
   "source": [
    "train.info()"
   ]
  },
  {
   "cell_type": "markdown",
   "metadata": {},
   "source": [
    "### Visualization"
   ]
  },
  {
   "cell_type": "code",
   "execution_count": 20,
   "metadata": {
    "colab": {
     "base_uri": "https://localhost:8080/",
     "height": 297
    },
    "executionInfo": {
     "elapsed": 696,
     "status": "ok",
     "timestamp": 1671706133993,
     "user": {
      "displayName": "mohammad iqbal",
      "userId": "15909639298493340109"
     },
     "user_tz": -330
    },
    "id": "hHdzQVIpJhS4",
    "outputId": "75710f74-c12e-467b-eea2-32c75b08dd8c"
   },
   "outputs": [
    {
     "data": {
      "text/plain": [
       "<AxesSubplot:xlabel='gender', ylabel='count'>"
      ]
     },
     "execution_count": 20,
     "metadata": {},
     "output_type": "execute_result"
    },
    {
     "data": {
      "image/png": "[encoded data removed]",
      "text/plain": [
       "<Figure size 432x288 with 1 Axes>"
      ]
     },
     "metadata": {
      "needs_background": "light"
     },
     "output_type": "display_data"
    }
   ],
   "source": [
    "sns.countplot(x = 'gender' , hue = 'is_promoted' , data = train)"
   ]
  },
  {
   "cell_type": "code",
   "execution_count": 21,
   "metadata": {
    "colab": {
     "base_uri": "https://localhost:8080/",
     "height": 461
    },
    "executionInfo": {
     "elapsed": 847,
     "status": "ok",
     "timestamp": 1671706134820,
     "user": {
      "displayName": "mohammad iqbal",
      "userId": "15909639298493340109"
     },
     "user_tz": -330
    },
    "id": "wvC6F93xJ1eo",
    "outputId": "f84e8433-f52e-4e60-c5c2-aafd539f52cc"
   },
   "outputs": [
    {
     "data": {
      "text/plain": [
       "<AxesSubplot:xlabel='length_of_service', ylabel='count'>"
      ]
     },
     "execution_count": 21,
     "metadata": {},
     "output_type": "execute_result"
    },
    {
     "data": {
      "image/png": "[encoded data removed]",
      "text/plain": [
       "<Figure size 720x504 with 1 Axes>"
      ]
     },
     "metadata": {
      "needs_background": "light"
     },
     "output_type": "display_data"
    }
   ],
   "source": [
    "plt.figure(figsize=(10,7))\n",
    "sns.countplot(x = 'length_of_service' , hue = 'is_promoted' , data = train)"
   ]
  },
  {
   "cell_type": "code",
   "execution_count": 22,
   "metadata": {
    "colab": {
     "base_uri": "https://localhost:8080/"
    },
    "executionInfo": {
     "elapsed": 842,
     "status": "ok",
     "timestamp": 1671706134821,
     "user": {
      "displayName": "mohammad iqbal",
      "userId": "15909639298493340109"
     },
     "user_tz": -330
    },
    "id": "0_0vEnmHKKc4",
    "outputId": "d7a13553-0d64-488f-9706-2f737d7e41e8"
   },
   "outputs": [
    {
     "name": "stdout",
     "output_type": "stream",
     "text": [
      "<class 'pandas.core.frame.DataFrame'>\n",
      "RangeIndex: 54808 entries, 0 to 54807\n",
      "Data columns (total 14 columns):\n",
      " #   Column                Non-Null Count  Dtype  \n",
      "---  ------                --------------  -----  \n",
      " 0   employee_id           54808 non-null  int64  \n",
      " 1   department            54808 non-null  object \n",
      " 2   region                54808 non-null  object \n",
      " 3   education             54808 non-null  object \n",
      " 4   gender                54808 non-null  object \n",
      " 5   recruitment_channel   54808 non-null  object \n",
      " 6   no_of_trainings       54808 non-null  int64  \n",
      " 7   age                   54808 non-null  int64  \n",
      " 8   previous_year_rating  54808 non-null  float64\n",
      " 9   length_of_service     54808 non-null  int64  \n",
      " 10  KPIs_met >80%         54808 non-null  int64  \n",
      " 11  awards_won?           54808 non-null  int64  \n",
      " 12  avg_training_score    54808 non-null  int64  \n",
      " 13  is_promoted           54808 non-null  int64  \n",
      "dtypes: float64(1), int64(8), object(5)\n",
      "memory usage: 5.9+ MB\n"
     ]
    }
   ],
   "source": [
    "train.info()"
   ]
  },
  {
   "cell_type": "code",
   "execution_count": 23,
   "metadata": {
    "executionInfo": {
     "elapsed": 24,
     "status": "ok",
     "timestamp": 1671706134821,
     "user": {
      "displayName": "mohammad iqbal",
      "userId": "15909639298493340109"
     },
     "user_tz": -330
    },
    "id": "9EXitUTHQy7m"
   },
   "outputs": [],
   "source": [
    "# Drop unnecessary column\n",
    "train.drop(columns=['employee_id','region'], axis = 1 , inplace = True)"
   ]
  },
  {
   "cell_type": "code",
   "execution_count": 24,
   "metadata": {
    "colab": {
     "base_uri": "https://localhost:8080/"
    },
    "executionInfo": {
     "elapsed": 24,
     "status": "ok",
     "timestamp": 1671706134821,
     "user": {
      "displayName": "mohammad iqbal",
      "userId": "15909639298493340109"
     },
     "user_tz": -330
    },
    "id": "47Qi3ejH-BOa",
    "outputId": "4c07fd0a-42f9-491c-e87a-e05c9c14bb61"
   },
   "outputs": [
    {
     "data": {
      "text/plain": [
       "0         8724\n",
       "1        74430\n",
       "2        72255\n",
       "3        38562\n",
       "4        64486\n",
       "         ...  \n",
       "23485    53478\n",
       "23486    25600\n",
       "23487    45409\n",
       "23488     1186\n",
       "23489     5973\n",
       "Name: employee_id, Length: 23490, dtype: int64"
      ]
     },
     "execution_count": 24,
     "metadata": {},
     "output_type": "execute_result"
    }
   ],
   "source": [
    "Employeeid = test['employee_id']\n",
    "Employeeid"
   ]
  },
  {
   "cell_type": "code",
   "execution_count": 25,
   "metadata": {
    "executionInfo": {
     "elapsed": 23,
     "status": "ok",
     "timestamp": 1671706134822,
     "user": {
      "displayName": "mohammad iqbal",
      "userId": "15909639298493340109"
     },
     "user_tz": -330
    },
    "id": "PGu4ZPa3-c6y"
   },
   "outputs": [],
   "source": [
    "test.drop(columns=['employee_id','region'], axis = 1 , inplace = True)"
   ]
  },
  {
   "cell_type": "code",
   "execution_count": 26,
   "metadata": {
    "colab": {
     "base_uri": "https://localhost:8080/"
    },
    "executionInfo": {
     "elapsed": 23,
     "status": "ok",
     "timestamp": 1671706134822,
     "user": {
      "displayName": "mohammad iqbal",
      "userId": "15909639298493340109"
     },
     "user_tz": -330
    },
    "id": "bnBD6QAMM-8I",
    "outputId": "95130cac-d725-4214-c743-4d87c2233ca5"
   },
   "outputs": [
    {
     "name": "stdout",
     "output_type": "stream",
     "text": [
      "Sales & Marketing    16840\n",
      "Operations           11348\n",
      "Procurement           7138\n",
      "Technology            7138\n",
      "Analytics             5352\n",
      "Finance               2536\n",
      "HR                    2418\n",
      "Legal                 1039\n",
      "R&D                    999\n",
      "Name: department, dtype: int64\n",
      "Bachelor's          39078\n",
      "Master's & above    14925\n",
      "Below Secondary       805\n",
      "Name: education, dtype: int64\n",
      "m    38496\n",
      "f    16312\n",
      "Name: gender, dtype: int64\n",
      "other       30446\n",
      "sourcing    23220\n",
      "referred     1142\n",
      "Name: recruitment_channel, dtype: int64\n"
     ]
    }
   ],
   "source": [
    "print(train['department'].value_counts())\n",
    "print(train['education'].value_counts())\n",
    "print(train['gender'].value_counts())\n",
    "print(train['recruitment_channel'].value_counts())\n"
   ]
  },
  {
   "cell_type": "code",
   "execution_count": 27,
   "metadata": {
    "colab": {
     "base_uri": "https://localhost:8080/"
    },
    "executionInfo": {
     "elapsed": 21,
     "status": "ok",
     "timestamp": 1671706134822,
     "user": {
      "displayName": "mohammad iqbal",
      "userId": "15909639298493340109"
     },
     "user_tz": -330
    },
    "id": "WZH5Nl0s-tIo",
    "outputId": "3d3c938e-2b90-47af-9944-0b0e6826a2f9"
   },
   "outputs": [
    {
     "name": "stdout",
     "output_type": "stream",
     "text": [
      "Sales & Marketing    7315\n",
      "Operations           4764\n",
      "Procurement          3020\n",
      "Technology           3011\n",
      "Analytics            2319\n",
      "Finance              1091\n",
      "HR                   1085\n",
      "Legal                 445\n",
      "R&D                   440\n",
      "Name: department, dtype: int64\n",
      "Bachelor's          16612\n",
      "Master's & above     6504\n",
      "Below Secondary       374\n",
      "Name: education, dtype: int64\n",
      "m    16596\n",
      "f     6894\n",
      "Name: gender, dtype: int64\n",
      "other       13078\n",
      "sourcing     9961\n",
      "referred      451\n",
      "Name: recruitment_channel, dtype: int64\n"
     ]
    }
   ],
   "source": [
    "print(test['department'].value_counts())\n",
    "print(test['education'].value_counts())\n",
    "print(test['gender'].value_counts())\n",
    "print(test['recruitment_channel'].value_counts())\n"
   ]
  },
  {
   "cell_type": "markdown",
   "metadata": {
    "id": "3OxDI7JmTbDo"
   },
   "source": [
    "# categorical to numerical"
   ]
  },
  {
   "cell_type": "code",
   "execution_count": 28,
   "metadata": {
    "executionInfo": {
     "elapsed": 18,
     "status": "ok",
     "timestamp": 1671706134822,
     "user": {
      "displayName": "mohammad iqbal",
      "userId": "15909639298493340109"
     },
     "user_tz": -330
    },
    "id": "KIRiNBqQOeO2"
   },
   "outputs": [],
   "source": [
    "from sklearn.preprocessing import LabelEncoder"
   ]
  },
  {
   "cell_type": "code",
   "execution_count": 29,
   "metadata": {
    "executionInfo": {
     "elapsed": 18,
     "status": "ok",
     "timestamp": 1671706134823,
     "user": {
      "displayName": "mohammad iqbal",
      "userId": "15909639298493340109"
     },
     "user_tz": -330
    },
    "id": "GyvLG85yPtv1"
   },
   "outputs": [],
   "source": [
    "le = LabelEncoder()"
   ]
  },
  {
   "cell_type": "code",
   "execution_count": 30,
   "metadata": {
    "executionInfo": {
     "elapsed": 18,
     "status": "ok",
     "timestamp": 1671706134823,
     "user": {
      "displayName": "mohammad iqbal",
      "userId": "15909639298493340109"
     },
     "user_tz": -330
    },
    "id": "roJ3_eINS2aT"
   },
   "outputs": [],
   "source": [
    "train['department'] = le.fit_transform(train['department'])\n",
    "train['education'] = le.fit_transform(train['education'])\n",
    "train['gender'] = le.fit_transform(train['gender'])\n",
    "train['recruitment_channel'] = le.fit_transform(train['recruitment_channel'])"
   ]
  },
  {
   "cell_type": "code",
   "execution_count": 31,
   "metadata": {
    "executionInfo": {
     "elapsed": 18,
     "status": "ok",
     "timestamp": 1671706134823,
     "user": {
      "displayName": "mohammad iqbal",
      "userId": "15909639298493340109"
     },
     "user_tz": -330
    },
    "id": "1_Ia5k1H-4T1"
   },
   "outputs": [],
   "source": [
    "test['department'] = le.fit_transform(test['department'])\n",
    "test['education'] = le.fit_transform(test['education'])\n",
    "test['gender'] = le.fit_transform(test['gender'])\n",
    "test['recruitment_channel'] = le.fit_transform(test['recruitment_channel'])"
   ]
  },
  {
   "cell_type": "code",
   "execution_count": 32,
   "metadata": {
    "colab": {
     "base_uri": "https://localhost:8080/"
    },
    "executionInfo": {
     "elapsed": 17,
     "status": "ok",
     "timestamp": 1671706134823,
     "user": {
      "displayName": "mohammad iqbal",
      "userId": "15909639298493340109"
     },
     "user_tz": -330
    },
    "id": "UTDZimD3TG2v",
    "outputId": "ba782885-81b3-4fa5-bf9d-f3ff926f3901"
   },
   "outputs": [
    {
     "name": "stdout",
     "output_type": "stream",
     "text": [
      "<class 'pandas.core.frame.DataFrame'>\n",
      "RangeIndex: 54808 entries, 0 to 54807\n",
      "Data columns (total 12 columns):\n",
      " #   Column                Non-Null Count  Dtype  \n",
      "---  ------                --------------  -----  \n",
      " 0   department            54808 non-null  int32  \n",
      " 1   education             54808 non-null  int32  \n",
      " 2   gender                54808 non-null  int32  \n",
      " 3   recruitment_channel   54808 non-null  int32  \n",
      " 4   no_of_trainings       54808 non-null  int64  \n",
      " 5   age                   54808 non-null  int64  \n",
      " 6   previous_year_rating  54808 non-null  float64\n",
      " 7   length_of_service     54808 non-null  int64  \n",
      " 8   KPIs_met >80%         54808 non-null  int64  \n",
      " 9   awards_won?           54808 non-null  int64  \n",
      " 10  avg_training_score    54808 non-null  int64  \n",
      " 11  is_promoted           54808 non-null  int64  \n",
      "dtypes: float64(1), int32(4), int64(7)\n",
      "memory usage: 4.2 MB\n"
     ]
    }
   ],
   "source": [
    "train.info()"
   ]
  },
  {
   "cell_type": "code",
   "execution_count": 33,
   "metadata": {
    "colab": {
     "base_uri": "https://localhost:8080/"
    },
    "executionInfo": {
     "elapsed": 16,
     "status": "ok",
     "timestamp": 1671706134824,
     "user": {
      "displayName": "mohammad iqbal",
      "userId": "15909639298493340109"
     },
     "user_tz": -330
    },
    "id": "w9tVc4zV_WKX",
    "outputId": "f264b45d-965a-472e-8a5b-bd98009dc1d2"
   },
   "outputs": [
    {
     "name": "stdout",
     "output_type": "stream",
     "text": [
      "<class 'pandas.core.frame.DataFrame'>\n",
      "RangeIndex: 23490 entries, 0 to 23489\n",
      "Data columns (total 11 columns):\n",
      " #   Column                Non-Null Count  Dtype  \n",
      "---  ------                --------------  -----  \n",
      " 0   department            23490 non-null  int32  \n",
      " 1   education             23490 non-null  int32  \n",
      " 2   gender                23490 non-null  int32  \n",
      " 3   recruitment_channel   23490 non-null  int32  \n",
      " 4   no_of_trainings       23490 non-null  int64  \n",
      " 5   age                   23490 non-null  int64  \n",
      " 6   previous_year_rating  23490 non-null  float64\n",
      " 7   length_of_service     23490 non-null  int64  \n",
      " 8   KPIs_met >80%         23490 non-null  int64  \n",
      " 9   awards_won?           23490 non-null  int64  \n",
      " 10  avg_training_score    23490 non-null  int64  \n",
      "dtypes: float64(1), int32(4), int64(6)\n",
      "memory usage: 1.6 MB\n"
     ]
    }
   ],
   "source": [
    "test.info()"
   ]
  },
  {
   "cell_type": "markdown",
   "metadata": {},
   "source": [
    "# Corelation"
   ]
  },
  {
   "cell_type": "code",
   "execution_count": 34,
   "metadata": {},
   "outputs": [
    {
     "data": {
      "text/plain": [
       "<AxesSubplot:>"
      ]
     },
     "execution_count": 34,
     "metadata": {},
     "output_type": "execute_result"
    },
    {
     "data": {
      "image/png": "[encoded data removed]",
      "text/plain": [
       "<Figure size 864x504 with 2 Axes>"
      ]
     },
     "metadata": {
      "needs_background": "light"
     },
     "output_type": "display_data"
    }
   ],
   "source": [
    "plt.figure(figsize=(12,7))\n",
    "sns.heatmap(data = train.corr(), annot = True, cmap = 'viridis')"
   ]
  },
  {
   "cell_type": "markdown",
   "metadata": {
    "id": "C7Vyn7zrTm_J"
   },
   "source": [
    "# Train Test Split"
   ]
  },
  {
   "cell_type": "code",
   "execution_count": 35,
   "metadata": {
    "executionInfo": {
     "elapsed": 14,
     "status": "ok",
     "timestamp": 1671706134824,
     "user": {
      "displayName": "mohammad iqbal",
      "userId": "15909639298493340109"
     },
     "user_tz": -330
    },
    "id": "zjyHSaexTVtP"
   },
   "outputs": [],
   "source": [
    "from sklearn.model_selection import train_test_split"
   ]
  },
  {
   "cell_type": "code",
   "execution_count": 36,
   "metadata": {
    "colab": {
     "base_uri": "https://localhost:8080/"
    },
    "executionInfo": {
     "elapsed": 14,
     "status": "ok",
     "timestamp": 1671706134824,
     "user": {
      "displayName": "mohammad iqbal",
      "userId": "15909639298493340109"
     },
     "user_tz": -330
    },
    "id": "gnhY_2GLTlz-",
    "outputId": "23db0b0b-d7a5-4783-818a-7ee071f3acab"
   },
   "outputs": [
    {
     "name": "stdout",
     "output_type": "stream",
     "text": [
      "(54808, 11)\n",
      "(54808,)\n"
     ]
    }
   ],
   "source": [
    "X = train.drop(columns = ['is_promoted'], axis = 1)\n",
    "y = train['is_promoted']\n",
    "\n",
    "print(X.shape)\n",
    "print(y.shape)"
   ]
  },
  {
   "cell_type": "code",
   "execution_count": 37,
   "metadata": {
    "executionInfo": {
     "elapsed": 12,
     "status": "ok",
     "timestamp": 1671706134824,
     "user": {
      "displayName": "mohammad iqbal",
      "userId": "15909639298493340109"
     },
     "user_tz": -330
    },
    "id": "qPT5MjIgVrKk"
   },
   "outputs": [],
   "source": [
    "X_train, X_test, y_train, y_test = train_test_split(X, y, test_size=0.3, random_state=151)"
   ]
  },
  {
   "cell_type": "markdown",
   "metadata": {
    "id": "43PIXV4xULYv"
   },
   "source": [
    "# ML Algorithim Xgboost "
   ]
  },
  {
   "cell_type": "code",
   "execution_count": 38,
   "metadata": {},
   "outputs": [],
   "source": [
    "from xgboost import XGBClassifier"
   ]
  },
  {
   "cell_type": "code",
   "execution_count": 39,
   "metadata": {},
   "outputs": [],
   "source": [
    "model = XGBClassifier(learning_rate=0.1,max_depth=3,n_estimators=500,num_parallel_tree=5)"
   ]
  },
  {
   "cell_type": "code",
   "execution_count": 40,
   "metadata": {},
   "outputs": [
    {
     "data": {
      "text/html": [
       "<style>#sk-container-id-1 {color: black;background-color: white;}#sk-container-id-1 pre{padding: 0;}#sk-container-id-1 div.sk-toggleable {background-color: white;}#sk-container-id-1 label.sk-toggleable__label {cursor: pointer;display: block;width: 100%;margin-bottom: 0;padding: 0.3em;box-sizing: border-box;text-align: center;}#sk-container-id-1 label.sk-toggleable__label-arrow:before {content: \"▸\";float: left;margin-right: 0.25em;color: #696969;}#sk-container-id-1 label.sk-toggleable__label-arrow:hover:before {color: black;}#sk-container-id-1 div.sk-estimator:hover label.sk-toggleable__label-arrow:before {color: black;}#sk-container-id-1 div.sk-toggleable__content {max-height: 0;max-width: 0;overflow: hidden;text-align: left;background-color: #f0f8ff;}#sk-container-id-1 div.sk-toggleable__content pre {margin: 0.2em;color: black;border-radius: 0.25em;background-color: #f0f8ff;}#sk-container-id-1 input.sk-toggleable__control:checked~div.sk-toggleable__content {max-height: 200px;max-width: 100%;overflow: auto;}#sk-container-id-1 input.sk-toggleable__control:checked~label.sk-toggleable__label-arrow:before {content: \"▾\";}#sk-container-id-1 div.sk-estimator input.sk-toggleable__control:checked~label.sk-toggleable__label {background-color: #d4ebff;}#sk-container-id-1 div.sk-label input.sk-toggleable__control:checked~label.sk-toggleable__label {background-color: #d4ebff;}#sk-container-id-1 input.sk-hidden--visually {border: 0;clip: rect(1px 1px 1px 1px);clip: rect(1px, 1px, 1px, 1px);height: 1px;margin: -1px;overflow: hidden;padding: 0;position: absolute;width: 1px;}#sk-container-id-1 div.sk-estimator {font-family: monospace;background-color: #f0f8ff;border: 1px dotted black;border-radius: 0.25em;box-sizing: border-box;margin-bottom: 0.5em;}#sk-container-id-1 div.sk-estimator:hover {background-color: #d4ebff;}#sk-container-id-1 div.sk-parallel-item::after {content: \"\";width: 100%;border-bottom: 1px solid gray;flex-grow: 1;}#sk-container-id-1 div.sk-label:hover label.sk-toggleable__label {background-color: #d4ebff;}#sk-container-id-1 div.sk-serial::before {content: \"\";position: absolute;border-left: 1px solid gray;box-sizing: border-box;top: 0;bottom: 0;left: 50%;z-index: 0;}#sk-container-id-1 div.sk-serial {display: flex;flex-direction: column;align-items: center;background-color: white;padding-right: 0.2em;padding-left: 0.2em;position: relative;}#sk-container-id-1 div.sk-item {position: relative;z-index: 1;}#sk-container-id-1 div.sk-parallel {display: flex;align-items: stretch;justify-content: center;background-color: white;position: relative;}#sk-container-id-1 div.sk-item::before, #sk-container-id-1 div.sk-parallel-item::before {content: \"\";position: absolute;border-left: 1px solid gray;box-sizing: border-box;top: 0;bottom: 0;left: 50%;z-index: -1;}#sk-container-id-1 div.sk-parallel-item {display: flex;flex-direction: column;z-index: 1;position: relative;background-color: white;}#sk-container-id-1 div.sk-parallel-item:first-child::after {align-self: flex-end;width: 50%;}#sk-container-id-1 div.sk-parallel-item:last-child::after {align-self: flex-start;width: 50%;}#sk-container-id-1 div.sk-parallel-item:only-child::after {width: 0;}#sk-container-id-1 div.sk-dashed-wrapped {border: 1px dashed gray;margin: 0 0.4em 0.5em 0.4em;box-sizing: border-box;padding-bottom: 0.4em;background-color: white;}#sk-container-id-1 div.sk-label label {font-family: monospace;font-weight: bold;display: inline-block;line-height: 1.2em;}#sk-container-id-1 div.sk-label-container {text-align: center;}#sk-container-id-1 div.sk-container {/* jupyter's `normalize.less` sets `[hidden] { display: none; }` but bootstrap.min.css set `[hidden] { display: none !important; }` so we also need the `!important` here to be able to override the default hidden behavior on the sphinx rendered scikit-learn.org. See: https://github.com/scikit-learn/scikit-learn/issues/21755 */display: inline-block !important;position: relative;}#sk-container-id-1 div.sk-text-repr-fallback {display: none;}</style><div id=\"sk-container-id-1\" class=\"sk-top-container\"><div class=\"sk-text-repr-fallback\"><pre>XGBClassifier(base_score=0.5, booster=&#x27;gbtree&#x27;, callbacks=None,\n",
       "              colsample_bylevel=1, colsample_bynode=1, colsample_bytree=1,\n",
       "              early_stopping_rounds=None, enable_categorical=False,\n",
       "              eval_metric=None, gamma=0, gpu_id=-1, grow_policy=&#x27;depthwise&#x27;,\n",
       "              importance_type=None, interaction_constraints=&#x27;&#x27;,\n",
       "              learning_rate=0.1, max_bin=256, max_cat_to_onehot=4,\n",
       "              max_delta_step=0, max_depth=3, max_leaves=0, min_child_weight=1,\n",
       "              missing=nan, monotone_constraints=&#x27;()&#x27;, n_estimators=500,\n",
       "              n_jobs=0, num_parallel_tree=5, predictor=&#x27;auto&#x27;, random_state=0,\n",
       "              reg_alpha=0, reg_lambda=1, ...)</pre><b>In a Jupyter environment, please rerun this cell to show the HTML representation or trust the notebook. <br />On GitHub, the HTML representation is unable to render, please try loading this page with nbviewer.org.</b></div><div class=\"sk-container\" hidden><div class=\"sk-item\"><div class=\"sk-estimator sk-toggleable\"><input class=\"sk-toggleable__control sk-hidden--visually\" id=\"sk-estimator-id-1\" type=\"checkbox\" checked><label for=\"sk-estimator-id-1\" class=\"sk-toggleable__label sk-toggleable__label-arrow\">XGBClassifier</label><div class=\"sk-toggleable__content\"><pre>XGBClassifier(base_score=0.5, booster=&#x27;gbtree&#x27;, callbacks=None,\n",
       "              colsample_bylevel=1, colsample_bynode=1, colsample_bytree=1,\n",
       "              early_stopping_rounds=None, enable_categorical=False,\n",
       "              eval_metric=None, gamma=0, gpu_id=-1, grow_policy=&#x27;depthwise&#x27;,\n",
       "              importance_type=None, interaction_constraints=&#x27;&#x27;,\n",
       "              learning_rate=0.1, max_bin=256, max_cat_to_onehot=4,\n",
       "              max_delta_step=0, max_depth=3, max_leaves=0, min_child_weight=1,\n",
       "              missing=nan, monotone_constraints=&#x27;()&#x27;, n_estimators=500,\n",
       "              n_jobs=0, num_parallel_tree=5, predictor=&#x27;auto&#x27;, random_state=0,\n",
       "              reg_alpha=0, reg_lambda=1, ...)</pre></div></div></div></div></div>"
      ],
      "text/plain": [
       "XGBClassifier(base_score=0.5, booster='gbtree', callbacks=None,\n",
       "              colsample_bylevel=1, colsample_bynode=1, colsample_bytree=1,\n",
       "              early_stopping_rounds=None, enable_categorical=False,\n",
       "              eval_metric=None, gamma=0, gpu_id=-1, grow_policy='depthwise',\n",
       "              importance_type=None, interaction_constraints='',\n",
       "              learning_rate=0.1, max_bin=256, max_cat_to_onehot=4,\n",
       "              max_delta_step=0, max_depth=3, max_leaves=0, min_child_weight=1,\n",
       "              missing=nan, monotone_constraints='()', n_estimators=500,\n",
       "              n_jobs=0, num_parallel_tree=5, predictor='auto', random_state=0,\n",
       "              reg_alpha=0, reg_lambda=1, ...)"
      ]
     },
     "execution_count": 40,
     "metadata": {},
     "output_type": "execute_result"
    }
   ],
   "source": [
    "model.fit(X_train,y_train)"
   ]
  },
  {
   "cell_type": "code",
   "execution_count": 41,
   "metadata": {},
   "outputs": [],
   "source": [
    "y_pred = model.predict(X_test)"
   ]
  },
  {
   "cell_type": "markdown",
   "metadata": {
    "id": "FL045FHpivj0"
   },
   "source": [
    "# import matrics"
   ]
  },
  {
   "cell_type": "code",
   "execution_count": 42,
   "metadata": {
    "executionInfo": {
     "elapsed": 12,
     "status": "ok",
     "timestamp": 1671706135711,
     "user": {
      "displayName": "mohammad iqbal",
      "userId": "15909639298493340109"
     },
     "user_tz": -330
    },
    "id": "P-yBMAHPixZC"
   },
   "outputs": [],
   "source": [
    "from sklearn.metrics import confusion_matrix , accuracy_score"
   ]
  },
  {
   "cell_type": "code",
   "execution_count": 43,
   "metadata": {},
   "outputs": [
    {
     "name": "stdout",
     "output_type": "stream",
     "text": [
      "[[15024    38]\n",
      " [  901   480]]\n",
      "0.942893632548805\n"
     ]
    }
   ],
   "source": [
    "print(confusion_matrix(y_test,y_pred))\n",
    "print(accuracy_score(y_test,y_pred))"
   ]
  },
  {
   "cell_type": "markdown",
   "metadata": {},
   "source": [
    "### Model gives 94% of accuracy which is pretty good "
   ]
  },
  {
   "cell_type": "markdown",
   "metadata": {},
   "source": [
    "# Creating a blank dataframe"
   ]
  },
  {
   "cell_type": "code",
   "execution_count": 44,
   "metadata": {
    "colab": {
     "base_uri": "https://localhost:8080/",
     "height": 49
    },
    "executionInfo": {
     "elapsed": 1712,
     "status": "ok",
     "timestamp": 1671706137414,
     "user": {
      "displayName": "mohammad iqbal",
      "userId": "15909639298493340109"
     },
     "user_tz": -330
    },
    "id": "CKEQzG6gjdsi",
    "outputId": "acc5d888-745d-4c5d-ca78-dc31fa8567e1"
   },
   "outputs": [
    {
     "data": {
      "text/html": [
       "<div>\n",
       "<style scoped>\n",
       "    .dataframe tbody tr th:only-of-type {\n",
       "        vertical-align: middle;\n",
       "    }\n",
       "\n",
       "    .dataframe tbody tr th {\n",
       "        vertical-align: top;\n",
       "    }\n",
       "\n",
       "    .dataframe thead th {\n",
       "        text-align: right;\n",
       "    }\n",
       "</style>\n",
       "<table border=\"1\" class=\"dataframe\">\n",
       "  <thead>\n",
       "    <tr style=\"text-align: right;\">\n",
       "      <th></th>\n",
       "    </tr>\n",
       "  </thead>\n",
       "  <tbody>\n",
       "  </tbody>\n",
       "</table>\n",
       "</div>"
      ],
      "text/plain": [
       "Empty DataFrame\n",
       "Columns: []\n",
       "Index: []"
      ]
     },
     "execution_count": 44,
     "metadata": {},
     "output_type": "execute_result"
    }
   ],
   "source": [
    "data = pd.DataFrame()\n",
    "data"
   ]
  },
  {
   "cell_type": "code",
   "execution_count": 45,
   "metadata": {
    "colab": {
     "base_uri": "https://localhost:8080/",
     "height": 505
    },
    "executionInfo": {
     "elapsed": 29,
     "status": "ok",
     "timestamp": 1671706137416,
     "user": {
      "displayName": "mohammad iqbal",
      "userId": "15909639298493340109"
     },
     "user_tz": -330
    },
    "id": "Ihp1DDJG_ouE",
    "outputId": "68c7d45a-fa1f-4439-92a5-17226425dacc"
   },
   "outputs": [
    {
     "data": {
      "text/html": [
       "<div>\n",
       "<style scoped>\n",
       "    .dataframe tbody tr th:only-of-type {\n",
       "        vertical-align: middle;\n",
       "    }\n",
       "\n",
       "    .dataframe tbody tr th {\n",
       "        vertical-align: top;\n",
       "    }\n",
       "\n",
       "    .dataframe thead th {\n",
       "        text-align: right;\n",
       "    }\n",
       "</style>\n",
       "<table border=\"1\" class=\"dataframe\">\n",
       "  <thead>\n",
       "    <tr style=\"text-align: right;\">\n",
       "      <th></th>\n",
       "      <th>department</th>\n",
       "      <th>education</th>\n",
       "      <th>gender</th>\n",
       "      <th>recruitment_channel</th>\n",
       "      <th>no_of_trainings</th>\n",
       "      <th>age</th>\n",
       "      <th>previous_year_rating</th>\n",
       "      <th>length_of_service</th>\n",
       "      <th>KPIs_met &gt;80%</th>\n",
       "      <th>awards_won?</th>\n",
       "      <th>avg_training_score</th>\n",
       "    </tr>\n",
       "  </thead>\n",
       "  <tbody>\n",
       "    <tr>\n",
       "      <th>0</th>\n",
       "      <td>8</td>\n",
       "      <td>0</td>\n",
       "      <td>1</td>\n",
       "      <td>2</td>\n",
       "      <td>1</td>\n",
       "      <td>24</td>\n",
       "      <td>3.0</td>\n",
       "      <td>1</td>\n",
       "      <td>1</td>\n",
       "      <td>0</td>\n",
       "      <td>77</td>\n",
       "    </tr>\n",
       "    <tr>\n",
       "      <th>1</th>\n",
       "      <td>2</td>\n",
       "      <td>0</td>\n",
       "      <td>0</td>\n",
       "      <td>0</td>\n",
       "      <td>1</td>\n",
       "      <td>31</td>\n",
       "      <td>3.0</td>\n",
       "      <td>5</td>\n",
       "      <td>0</td>\n",
       "      <td>0</td>\n",
       "      <td>51</td>\n",
       "    </tr>\n",
       "    <tr>\n",
       "      <th>2</th>\n",
       "      <td>7</td>\n",
       "      <td>0</td>\n",
       "      <td>1</td>\n",
       "      <td>0</td>\n",
       "      <td>1</td>\n",
       "      <td>31</td>\n",
       "      <td>1.0</td>\n",
       "      <td>4</td>\n",
       "      <td>0</td>\n",
       "      <td>0</td>\n",
       "      <td>47</td>\n",
       "    </tr>\n",
       "    <tr>\n",
       "      <th>3</th>\n",
       "      <td>5</td>\n",
       "      <td>0</td>\n",
       "      <td>0</td>\n",
       "      <td>0</td>\n",
       "      <td>3</td>\n",
       "      <td>31</td>\n",
       "      <td>2.0</td>\n",
       "      <td>9</td>\n",
       "      <td>0</td>\n",
       "      <td>0</td>\n",
       "      <td>65</td>\n",
       "    </tr>\n",
       "    <tr>\n",
       "      <th>4</th>\n",
       "      <td>1</td>\n",
       "      <td>0</td>\n",
       "      <td>1</td>\n",
       "      <td>2</td>\n",
       "      <td>1</td>\n",
       "      <td>30</td>\n",
       "      <td>4.0</td>\n",
       "      <td>7</td>\n",
       "      <td>0</td>\n",
       "      <td>0</td>\n",
       "      <td>61</td>\n",
       "    </tr>\n",
       "    <tr>\n",
       "      <th>...</th>\n",
       "      <td>...</td>\n",
       "      <td>...</td>\n",
       "      <td>...</td>\n",
       "      <td>...</td>\n",
       "      <td>...</td>\n",
       "      <td>...</td>\n",
       "      <td>...</td>\n",
       "      <td>...</td>\n",
       "      <td>...</td>\n",
       "      <td>...</td>\n",
       "      <td>...</td>\n",
       "    </tr>\n",
       "    <tr>\n",
       "      <th>23485</th>\n",
       "      <td>3</td>\n",
       "      <td>1</td>\n",
       "      <td>1</td>\n",
       "      <td>2</td>\n",
       "      <td>1</td>\n",
       "      <td>24</td>\n",
       "      <td>3.0</td>\n",
       "      <td>1</td>\n",
       "      <td>0</td>\n",
       "      <td>0</td>\n",
       "      <td>61</td>\n",
       "    </tr>\n",
       "    <tr>\n",
       "      <th>23486</th>\n",
       "      <td>8</td>\n",
       "      <td>0</td>\n",
       "      <td>1</td>\n",
       "      <td>2</td>\n",
       "      <td>1</td>\n",
       "      <td>31</td>\n",
       "      <td>3.0</td>\n",
       "      <td>7</td>\n",
       "      <td>0</td>\n",
       "      <td>0</td>\n",
       "      <td>74</td>\n",
       "    </tr>\n",
       "    <tr>\n",
       "      <th>23487</th>\n",
       "      <td>2</td>\n",
       "      <td>0</td>\n",
       "      <td>0</td>\n",
       "      <td>2</td>\n",
       "      <td>1</td>\n",
       "      <td>26</td>\n",
       "      <td>4.0</td>\n",
       "      <td>4</td>\n",
       "      <td>0</td>\n",
       "      <td>0</td>\n",
       "      <td>50</td>\n",
       "    </tr>\n",
       "    <tr>\n",
       "      <th>23488</th>\n",
       "      <td>5</td>\n",
       "      <td>0</td>\n",
       "      <td>1</td>\n",
       "      <td>2</td>\n",
       "      <td>3</td>\n",
       "      <td>27</td>\n",
       "      <td>3.0</td>\n",
       "      <td>1</td>\n",
       "      <td>0</td>\n",
       "      <td>0</td>\n",
       "      <td>70</td>\n",
       "    </tr>\n",
       "    <tr>\n",
       "      <th>23489</th>\n",
       "      <td>8</td>\n",
       "      <td>2</td>\n",
       "      <td>1</td>\n",
       "      <td>0</td>\n",
       "      <td>3</td>\n",
       "      <td>40</td>\n",
       "      <td>5.0</td>\n",
       "      <td>5</td>\n",
       "      <td>1</td>\n",
       "      <td>0</td>\n",
       "      <td>89</td>\n",
       "    </tr>\n",
       "  </tbody>\n",
       "</table>\n",
       "<p>23490 rows × 11 columns</p>\n",
       "</div>"
      ],
      "text/plain": [
       "       department  education  gender  recruitment_channel  no_of_trainings  \\\n",
       "0               8          0       1                    2                1   \n",
       "1               2          0       0                    0                1   \n",
       "2               7          0       1                    0                1   \n",
       "3               5          0       0                    0                3   \n",
       "4               1          0       1                    2                1   \n",
       "...           ...        ...     ...                  ...              ...   \n",
       "23485           3          1       1                    2                1   \n",
       "23486           8          0       1                    2                1   \n",
       "23487           2          0       0                    2                1   \n",
       "23488           5          0       1                    2                3   \n",
       "23489           8          2       1                    0                3   \n",
       "\n",
       "       age  previous_year_rating  length_of_service  KPIs_met >80%  \\\n",
       "0       24                   3.0                  1              1   \n",
       "1       31                   3.0                  5              0   \n",
       "2       31                   1.0                  4              0   \n",
       "3       31                   2.0                  9              0   \n",
       "4       30                   4.0                  7              0   \n",
       "...    ...                   ...                ...            ...   \n",
       "23485   24                   3.0                  1              0   \n",
       "23486   31                   3.0                  7              0   \n",
       "23487   26                   4.0                  4              0   \n",
       "23488   27                   3.0                  1              0   \n",
       "23489   40                   5.0                  5              1   \n",
       "\n",
       "       awards_won?  avg_training_score  \n",
       "0                0                  77  \n",
       "1                0                  51  \n",
       "2                0                  47  \n",
       "3                0                  65  \n",
       "4                0                  61  \n",
       "...            ...                 ...  \n",
       "23485            0                  61  \n",
       "23486            0                  74  \n",
       "23487            0                  50  \n",
       "23488            0                  70  \n",
       "23489            0                  89  \n",
       "\n",
       "[23490 rows x 11 columns]"
      ]
     },
     "execution_count": 45,
     "metadata": {},
     "output_type": "execute_result"
    }
   ],
   "source": [
    "test"
   ]
  },
  {
   "cell_type": "code",
   "execution_count": 46,
   "metadata": {
    "colab": {
     "base_uri": "https://localhost:8080/"
    },
    "executionInfo": {
     "elapsed": 28,
     "status": "ok",
     "timestamp": 1671706137417,
     "user": {
      "displayName": "mohammad iqbal",
      "userId": "15909639298493340109"
     },
     "user_tz": -330
    },
    "id": "iEX5vLXVG-KQ",
    "outputId": "e792fc27-5001-4e3a-9c15-0bf66b6632e0"
   },
   "outputs": [
    {
     "data": {
      "text/plain": [
       "array([[ 8.,  0.,  1., ...,  1.,  0., 77.],\n",
       "       [ 2.,  0.,  0., ...,  0.,  0., 51.],\n",
       "       [ 7.,  0.,  1., ...,  0.,  0., 47.],\n",
       "       ...,\n",
       "       [ 2.,  0.,  0., ...,  0.,  0., 50.],\n",
       "       [ 5.,  0.,  1., ...,  0.,  0., 70.],\n",
       "       [ 8.,  2.,  1., ...,  1.,  0., 89.]])"
      ]
     },
     "execution_count": 46,
     "metadata": {},
     "output_type": "execute_result"
    }
   ],
   "source": [
    "xf = test.values\n",
    "xf"
   ]
  },
  {
   "cell_type": "code",
   "execution_count": 47,
   "metadata": {
    "colab": {
     "base_uri": "https://localhost:8080/"
    },
    "executionInfo": {
     "elapsed": 26,
     "status": "ok",
     "timestamp": 1671706137418,
     "user": {
      "displayName": "mohammad iqbal",
      "userId": "15909639298493340109"
     },
     "user_tz": -330
    },
    "id": "7SUkXEJfHBNY",
    "outputId": "847737b2-065c-4984-af51-1b5713eb7590"
   },
   "outputs": [
    {
     "data": {
      "text/plain": [
       "array([0, 0, 0, ..., 0, 0, 1])"
      ]
     },
     "execution_count": 47,
     "metadata": {},
     "output_type": "execute_result"
    }
   ],
   "source": [
    "y_final = model.predict(xf)\n",
    "y_final"
   ]
  },
  {
   "cell_type": "code",
   "execution_count": 48,
   "metadata": {
    "colab": {
     "base_uri": "https://localhost:8080/"
    },
    "executionInfo": {
     "elapsed": 22,
     "status": "ok",
     "timestamp": 1671706137418,
     "user": {
      "displayName": "mohammad iqbal",
      "userId": "15909639298493340109"
     },
     "user_tz": -330
    },
    "id": "uNArewUBHPuI",
    "outputId": "527c88c2-5ace-4405-d128-ab8d1f28000f"
   },
   "outputs": [
    {
     "name": "stdout",
     "output_type": "stream",
     "text": [
      "(23490,)\n",
      "(23490,)\n"
     ]
    }
   ],
   "source": [
    "print(y_final.shape)\n",
    "print(Employeeid.shape)"
   ]
  },
  {
   "cell_type": "code",
   "execution_count": 49,
   "metadata": {
    "colab": {
     "base_uri": "https://localhost:8080/",
     "height": 423
    },
    "executionInfo": {
     "elapsed": 20,
     "status": "ok",
     "timestamp": 1671706137419,
     "user": {
      "displayName": "mohammad iqbal",
      "userId": "15909639298493340109"
     },
     "user_tz": -330
    },
    "id": "Ecf7Nn-9H1g4",
    "outputId": "87207477-6444-43e9-e654-a497693bbe95"
   },
   "outputs": [
    {
     "data": {
      "text/html": [
       "<div>\n",
       "<style scoped>\n",
       "    .dataframe tbody tr th:only-of-type {\n",
       "        vertical-align: middle;\n",
       "    }\n",
       "\n",
       "    .dataframe tbody tr th {\n",
       "        vertical-align: top;\n",
       "    }\n",
       "\n",
       "    .dataframe thead th {\n",
       "        text-align: right;\n",
       "    }\n",
       "</style>\n",
       "<table border=\"1\" class=\"dataframe\">\n",
       "  <thead>\n",
       "    <tr style=\"text-align: right;\">\n",
       "      <th></th>\n",
       "      <th>employee_id</th>\n",
       "      <th>is_promoted</th>\n",
       "    </tr>\n",
       "  </thead>\n",
       "  <tbody>\n",
       "    <tr>\n",
       "      <th>0</th>\n",
       "      <td>8724</td>\n",
       "      <td>0</td>\n",
       "    </tr>\n",
       "    <tr>\n",
       "      <th>1</th>\n",
       "      <td>74430</td>\n",
       "      <td>0</td>\n",
       "    </tr>\n",
       "    <tr>\n",
       "      <th>2</th>\n",
       "      <td>72255</td>\n",
       "      <td>0</td>\n",
       "    </tr>\n",
       "    <tr>\n",
       "      <th>3</th>\n",
       "      <td>38562</td>\n",
       "      <td>0</td>\n",
       "    </tr>\n",
       "    <tr>\n",
       "      <th>4</th>\n",
       "      <td>64486</td>\n",
       "      <td>0</td>\n",
       "    </tr>\n",
       "    <tr>\n",
       "      <th>...</th>\n",
       "      <td>...</td>\n",
       "      <td>...</td>\n",
       "    </tr>\n",
       "    <tr>\n",
       "      <th>23485</th>\n",
       "      <td>53478</td>\n",
       "      <td>0</td>\n",
       "    </tr>\n",
       "    <tr>\n",
       "      <th>23486</th>\n",
       "      <td>25600</td>\n",
       "      <td>0</td>\n",
       "    </tr>\n",
       "    <tr>\n",
       "      <th>23487</th>\n",
       "      <td>45409</td>\n",
       "      <td>0</td>\n",
       "    </tr>\n",
       "    <tr>\n",
       "      <th>23488</th>\n",
       "      <td>1186</td>\n",
       "      <td>0</td>\n",
       "    </tr>\n",
       "    <tr>\n",
       "      <th>23489</th>\n",
       "      <td>5973</td>\n",
       "      <td>1</td>\n",
       "    </tr>\n",
       "  </tbody>\n",
       "</table>\n",
       "<p>23490 rows × 2 columns</p>\n",
       "</div>"
      ],
      "text/plain": [
       "       employee_id  is_promoted\n",
       "0             8724            0\n",
       "1            74430            0\n",
       "2            72255            0\n",
       "3            38562            0\n",
       "4            64486            0\n",
       "...            ...          ...\n",
       "23485        53478            0\n",
       "23486        25600            0\n",
       "23487        45409            0\n",
       "23488         1186            0\n",
       "23489         5973            1\n",
       "\n",
       "[23490 rows x 2 columns]"
      ]
     },
     "execution_count": 49,
     "metadata": {},
     "output_type": "execute_result"
    }
   ],
   "source": [
    "data['employee_id'] = Employeeid\n",
    "data['is_promoted'] = y_final\n",
    "\n",
    "data"
   ]
  },
  {
   "cell_type": "markdown",
   "metadata": {},
   "source": [
    "# Save data into a csv file"
   ]
  },
  {
   "cell_type": "code",
   "execution_count": 50,
   "metadata": {
    "colab": {
     "base_uri": "https://localhost:8080/",
     "height": 165
    },
    "executionInfo": {
     "elapsed": 19,
     "status": "ok",
     "timestamp": 1671706137419,
     "user": {
      "displayName": "mohammad iqbal",
      "userId": "15909639298493340109"
     },
     "user_tz": -330
    },
    "id": "9W7XmxjTId9H",
    "outputId": "05dfa00c-122c-4897-b045-dc1282117309"
   },
   "outputs": [
    {
     "data": {
      "text/plain": [
       "'employee_id,is_promoted\\r\\n8724,0\\r\\n74430,0\\r\\n72255,0\\r\\n38562,0\\r\\n64486,0\\r\\n46232,0\\r\\n54542,0\\r\\n67269,0\\r\\n66174,0\\r\\n76303,0\\r\\n60245,0\\r\\n42639,0\\r\\n30963,0\\r\\n54055,0\\r\\n42996,0\\r\\n12737,0\\r\\n27561,0\\r\\n26622,0\\r\\n31582,0\\r\\n29793,0\\r\\n72735,0\\r\\n5677,0\\r\\n60889,0\\r\\n51498,0\\r\\n8566,0\\r\\n53151,0\\r\\n16203,0\\r\\n61083,0\\r\\n74849,0\\r\\n13259,0\\r\\n72407,0\\r\\n65237,0\\r\\n67672,0\\r\\n77460,0\\r\\n67317,0\\r\\n68788,0\\r\\n36834,0\\r\\n64281,0\\r\\n1822,0\\r\\n55325,0\\r\\n41432,0\\r\\n52061,0\\r\\n39973,0\\r\\n42524,0\\r\\n7935,0\\r\\n49940,0\\r\\n10059,0\\r\\n44159,0\\r\\n76691,0\\r\\n3720,0\\r\\n5621,0\\r\\n24147,0\\r\\n33997,0\\r\\n64076,0\\r\\n21379,0\\r\\n23714,0\\r\\n19866,0\\r\\n4529,0\\r\\n64703,0\\r\\n19649,0\\r\\n6596,0\\r\\n7999,0\\r\\n4762,0\\r\\n5387,0\\r\\n24620,0\\r\\n57989,0\\r\\n75619,0\\r\\n26977,0\\r\\n65975,0\\r\\n51302,0\\r\\n63714,0\\r\\n70556,0\\r\\n70117,0\\r\\n51972,0\\r\\n60572,0\\r\\n9548,0\\r\\n64,0\\r\\n35510,0\\r\\n10732,0\\r\\n9214,0\\r\\n10761,0\\r\\n32110,0\\r\\n50038,0\\r\\n1555,0\\r\\n21200,0\\r\\n50380,0\\r\\n45009,0\\r\\n65450,0\\r\\n77333,0\\r\\n2347,0\\r\\n8443,0\\r\\n39490,0\\r\\n69077,0\\r\\n64652,0\\r\\n5254,0\\r\\n71131,0\\r\\n19620,0\\r\\n41266,0\\r\\n11001,0\\r\\n28530,0\\r\\n72481,0\\r\\n67417,0\\r\\n51840,0\\r\\n43223,0\\r\\n40287,0\\r\\n29367,0\\r\\n36352,0\\r\\n29681,0\\r\\n30233,0\\r\\n66601,0\\r\\n40276,0\\r\\n1522,0\\r\\n17936,0\\r\\n26270,0\\r\\n6837,0\\r\\n49665,0\\r\\n1908,0\\r\\n6474,0\\r\\n27495,1\\r\\n24324,0\\r\\n14299,0\\r\\n56246,0\\r\\n3901,1\\r\\n41566,0\\r\\n55735,1\\r\\n53627,0\\r\\n62683,0\\r\\n42719,0\\r\\n44948,0\\r\\n26037,0\\r\\n30607,0\\r\\n46103,0\\r\\n6452,0\\r\\n47286,0\\r\\n44117,0\\r\\n1367,0\\r\\n26228,0\\r\\n65694,0\\r\\n2721,0\\r\\n63901,1\\r\\n4701,0\\r\\n35341,0\\r\\n3203,0\\r\\n10361,0\\r\\n6572,0\\r\\n70408,0\\r\\n11774,0\\r\\n37873,0\\r\\n3886,0\\r\\n23347,0\\r\\n3034,0\\r\\n30137,1\\r\\n52431,0\\r\\n11061,0\\r\\n9706,0\\r\\n17607,0\\r\\n64986,0\\r\\n8082,0\\r\\n20982,0\\r\\n5794,0\\r\\n69381,0\\r\\n50176,0\\r\\n1612,0\\r\\n48923,0\\r\\n50366,0\\r\\n48813,0\\r\\n5574,0\\r\\n57601,0\\r\\n26788,0\\r\\n564,0\\r\\n3864,0\\r\\n19598,0\\r\\n19513,0\\r\\n74965,0\\r\\n42353,0\\r\\n13367,0\\r\\n38556,0\\r\\n51344,0\\r\\n28320,0\\r\\n56104,0\\r\\n68882,0\\r\\n75800,0\\r\\n13223,0\\r\\n62740,0\\r\\n67233,0\\r\\n49207,0\\r\\n19053,0\\r\\n38096,0\\r\\n46519,0\\r\\n2111,1\\r\\n69413,0\\r\\n53827,0\\r\\n40064,0\\r\\n33502,0\\r\\n15182,0\\r\\n13593,0\\r\\n15613,0\\r\\n75751,0\\r\\n71625,0\\r\\n37763,0\\r\\n10812,0\\r\\n67357,0\\r\\n49583,0\\r\\n45428,0\\r\\n9978,0\\r\\n44266,0\\r\\n47252,0\\r\\n57884,0\\r\\n24334,0\\r\\n58892,0\\r\\n40799,0\\r\\n33879,0\\r\\n24403,0\\r\\n51150,0\\r\\n7722,0\\r\\n71271,0\\r\\n56772,0\\r\\n65909,0\\r\\n8228,0\\r\\n52138,0\\r\\n22999,0\\r\\n29196,0\\r\\n10663,0\\r\\n65651,0\\r\\n17973,0\\r\\n10986,0\\r\\n19355,0\\r\\n75402,0\\r\\n52587,0\\r\\n41662,0\\r\\n73944,0\\r\\n3987,0\\r\\n40057,0\\r\\n76195,0\\r\\n12411,0\\r\\n15161,0\\r\\n59084,0\\r\\n53857,0\\r\\n42772,0\\r\\n5294,0\\r\\n56439,0\\r\\n29998,0\\r\\n76599,0\\r\\n27424,0\\r\\n45605,0\\r\\n75833,0\\r\\n57068,0\\r\\n70129,0\\r\\n14733,0\\r\\n71886,0\\r\\n7561,0\\r\\n59522,1\\r\\n44299,0\\r\\n29220,0\\r\\n15869,0\\r\\n51270,0\\r\\n14778,0\\r\\n19212,0\\r\\n70890,1\\r\\n31183,0\\r\\n46628,0\\r\\n44670,0\\r\\n70734,1\\r\\n47051,0\\r\\n17760,0\\r\\n8180,0\\r\\n24756,0\\r\\n56780,0\\r\\n59919,0\\r\\n18924,0\\r\\n42477,0\\r\\n50900,0\\r\\n11824,0\\r\\n51740,0\\r\\n51364,0\\r\\n64265,0\\r\\n46233,0\\r\\n41215,0\\r\\n47172,0\\r\\n53542,0\\r\\n2121,0\\r\\n77677,0\\r\\n38018,0\\r\\n29799,0\\r\\n565,0\\r\\n33473,0\\r\\n14628,0\\r\\n46339,0\\r\\n6352,0\\r\\n63568,0\\r\\n15317,0\\r\\n63035,0\\r\\n22942,0\\r\\n62212,1\\r\\n49252,0\\r\\n38520,0\\r\\n65459,0\\r\\n69109,0\\r\\n67985,0\\r\\n74040,0\\r\\n31049,0\\r\\n55523,0\\r\\n40579,0\\r\\n40211,0\\r\\n41982,0\\r\\n24286,0\\r\\n53696,0\\r\\n47130,0\\r\\n25340,0\\r\\n16794,0\\r\\n10399,0\\r\\n9095,1\\r\\n60624,0\\r\\n30188,0\\r\\n19292,0\\r\\n58780,0\\r\\n33674,0\\r\\n17128,0\\r\\n28127,0\\r\\n42650,0\\r\\n58393,0\\r\\n72037,0\\r\\n33736,0\\r\\n51260,0\\r\\n21326,0\\r\\n7784,0\\r\\n33540,0\\r\\n14669,0\\r\\n53267,0\\r\\n51294,0\\r\\n4208,0\\r\\n64266,0\\r\\n57995,0\\r\\n76317,0\\r\\n32169,0\\r\\n22403,0\\r\\n18775,0\\r\\n7007,0\\r\\n58836,0\\r\\n67403,0\\r\\n34371,0\\r\\n17603,0\\r\\n72636,0\\r\\n44193,0\\r\\n41162,0\\r\\n42939,0\\r\\n37227,0\\r\\n34986,0\\r\\n10473,0\\r\\n42833,0\\r\\n39224,1\\r\\n34148,0\\r\\n65558,0\\r\\n63986,0\\r\\n31641,0\\r\\n45087,0\\r\\n63354,0\\r\\n41610,0\\r\\n10376,0\\r\\n11414,0\\r\\n32884,0\\r\\n71007,0\\r\\n43891,0\\r\\n26769,0\\r\\n23022,1\\r\\n56684,0\\r\\n24951,0\\r\\n8810,0\\r\\n77266,0\\r\\n33334,0\\r\\n29911,0\\r\\n42142,0\\r\\n29467,0\\r\\n11784,0\\r\\n29776,0\\r\\n10563,0\\r\\n6736,0\\r\\n441,0\\r\\n14980,0\\r\\n13549,0\\r\\n1348,0\\r\\n14948,0\\r\\n12723,0\\r\\n22827,0\\r\\n30527,0\\r\\n38928,0\\r\\n17420,0\\r\\n72878,0\\r\\n43657,0\\r\\n38588,0\\r\\n55236,0\\r\\n339,0\\r\\n30270,0\\r\\n52076,0\\r\\n36458,0\\r\\n27999,0\\r\\n57114,0\\r\\n25603,0\\r\\n71930,0\\r\\n23945,0\\r\\n22469,0\\r\\n34891,0\\r\\n17506,0\\r\\n32124,0\\r\\n48160,0\\r\\n30792,0\\r\\n76840,0\\r\\n27844,0\\r\\n32595,0\\r\\n68808,0\\r\\n66391,0\\r\\n18212,0\\r\\n51051,1\\r\\n60375,1\\r\\n8495,0\\r\\n61193,0\\r\\n18612,0\\r\\n50665,0\\r\\n50512,0\\r\\n6621,0\\r\\n10992,0\\r\\n10742,0\\r\\n33326,0\\r\\n28711,0\\r\\n16466,0\\r\\n71692,0\\r\\n60158,0\\r\\n5296,0\\r\\n1415,0\\r\\n376,0\\r\\n11139,0\\r\\n21667,0\\r\\n52771,0\\r\\n30283,0\\r\\n33431,0\\r\\n10860,0\\r\\n76614,0\\r\\n52246,0\\r\\n16337,0\\r\\n21160,1\\r\\n30888,0\\r\\n41543,0\\r\\n68619,0\\r\\n46124,0\\r\\n9454,0\\r\\n48316,0\\r\\n61103,0\\r\\n46772,0\\r\\n62688,0\\r\\n53821,0\\r\\n67083,0\\r\\n10508,0\\r\\n42182,0\\r\\n51295,1\\r\\n26017,0\\r\\n38656,0\\r\\n1210,0\\r\\n52205,0\\r\\n18776,0\\r\\n39588,0\\r\\n2066,0\\r\\n7952,0\\r\\n28286,0\\r\\n15837,0\\r\\n41908,0\\r\\n28766,0\\r\\n35922,0\\r\\n44582,0\\r\\n42485,0\\r\\n71289,0\\r\\n47556,0\\r\\n27264,0\\r\\n50266,0\\r\\n77122,0\\r\\n45635,0\\r\\n57502,0\\r\\n26262,0\\r\\n74374,0\\r\\n34661,0\\r\\n38450,0\\r\\n31134,0\\r\\n27968,0\\r\\n36271,0\\r\\n3316,0\\r\\n35219,0\\r\\n52701,0\\r\\n8654,0\\r\\n7551,0\\r\\n18778,0\\r\\n74667,0\\r\\n57527,0\\r\\n1726,0\\r\\n60191,0\\r\\n30623,0\\r\\n67366,0\\r\\n38917,0\\r\\n15689,0\\r\\n18286,0\\r\\n63660,0\\r\\n32232,0\\r\\n56976,0\\r\\n64644,0\\r\\n39204,0\\r\\n47141,0\\r\\n26883,0\\r\\n9890,0\\r\\n50095,0\\r\\n16145,0\\r\\n24190,0\\r\\n17777,0\\r\\n3339,0\\r\\n11436,0\\r\\n40457,0\\r\\n4730,0\\r\\n10380,0\\r\\n6891,0\\r\\n40575,0\\r\\n60937,0\\r\\n50037,0\\r\\n3066,0\\r\\n18712,0\\r\\n68494,0\\r\\n74119,0\\r\\n76254,0\\r\\n49402,0\\r\\n8141,0\\r\\n3076,0\\r\\n14390,0\\r\\n66964,0\\r\\n67091,0\\r\\n13164,0\\r\\n21190,0\\r\\n21432,0\\r\\n2096,0\\r\\n53808,0\\r\\n9751,0\\r\\n59105,0\\r\\n76796,0\\r\\n49192,0\\r\\n45888,0\\r\\n12492,0\\r\\n72963,0\\r\\n53303,0\\r\\n53081,0\\r\\n23930,0\\r\\n51938,0\\r\\n29280,0\\r\\n7689,0\\r\\n16924,1\\r\\n40162,0\\r\\n8648,0\\r\\n57036,0\\r\\n69859,0\\r\\n31492,0\\r\\n3964,0\\r\\n20962,0\\r\\n16434,0\\r\\n28860,0\\r\\n28665,0\\r\\n1561,0\\r\\n72856,0\\r\\n28596,0\\r\\n52840,0\\r\\n73807,0\\r\\n1089,0\\r\\n20345,0\\r\\n59325,0\\r\\n45294,0\\r\\n61412,0\\r\\n29033,1\\r\\n41735,0\\r\\n64996,0\\r\\n10388,0\\r\\n20001,0\\r\\n47942,0\\r\\n5232,0\\r\\n7097,0\\r\\n61335,0\\r\\n61360,0\\r\\n429,0\\r\\n54187,0\\r\\n18493,0\\r\\n23130,0\\r\\n16180,0\\r\\n5133,0\\r\\n54456,0\\r\\n62197,0\\r\\n50861,0\\r\\n40356,0\\r\\n68967,0\\r\\n49181,0\\r\\n19572,0\\r\\n58731,0\\r\\n32167,0\\r\\n3435,0\\r\\n7389,0\\r\\n44860,0\\r\\n72065,0\\r\\n49353,0\\r\\n42688,0\\r\\n4019,0\\r\\n64023,0\\r\\n30034,0\\r\\n6907,0\\r\\n14810,0\\r\\n17629,0\\r\\n7003,0\\r\\n59100,0\\r\\n73651,0\\r\\n65300,0\\r\\n38796,0\\r\\n17133,0\\r\\n10552,0\\r\\n58271,0\\r\\n42387,0\\r\\n19737,0\\r\\n35156,0\\r\\n68576,0\\r\\n62951,0\\r\\n76794,0\\r\\n39736,0\\r\\n73402,1\\r\\n30749,0\\r\\n49089,0\\r\\n57203,0\\r\\n37385,0\\r\\n14101,0\\r\\n31036,0\\r\\n66566,0\\r\\n2283,0\\r\\n35086,0\\r\\n66082,0\\r\\n34105,0\\r\\n14599,0\\r\\n21293,0\\r\\n44127,0\\r\\n17522,0\\r\\n23708,0\\r\\n64845,0\\r\\n38638,0\\r\\n62916,1\\r\\n18984,0\\r\\n35872,0\\r\\n8019,0\\r\\n6358,0\\r\\n53023,1\\r\\n32026,0\\r\\n32170,0\\r\\n46737,0\\r\\n21112,0\\r\\n12594,0\\r\\n9049,0\\r\\n48577,0\\r\\n9087,0\\r\\n74296,0\\r\\n13640,0\\r\\n65412,0\\r\\n17816,0\\r\\n50036,0\\r\\n34158,0\\r\\n30033,0\\r\\n74401,0\\r\\n73296,0\\r\\n41847,0\\r\\n28456,0\\r\\n55643,0\\r\\n40689,0\\r\\n41087,0\\r\\n56409,0\\r\\n28892,0\\r\\n22658,0\\r\\n34021,0\\r\\n29419,0\\r\\n65630,0\\r\\n18809,0\\r\\n59695,0\\r\\n39585,0\\r\\n30356,0\\r\\n78175,0\\r\\n23668,0\\r\\n50441,0\\r\\n52311,0\\r\\n19576,0\\r\\n39982,0\\r\\n23338,0\\r\\n58769,0\\r\\n65210,0\\r\\n70168,0\\r\\n44136,0\\r\\n19098,0\\r\\n19826,0\\r\\n68896,0\\r\\n22540,0\\r\\n52630,0\\r\\n42249,0\\r\\n41645,0\\r\\n60352,0\\r\\n24168,0\\r\\n77703,0\\r\\n52005,0\\r\\n22821,0\\r\\n33963,0\\r\\n55903,0\\r\\n70360,0\\r\\n21163,0\\r\\n52351,0\\r\\n57632,0\\r\\n67448,0\\r\\n21018,0\\r\\n30307,0\\r\\n51006,0\\r\\n59242,0\\r\\n19353,0\\r\\n25940,0\\r\\n33400,0\\r\\n46896,0\\r\\n65389,0\\r\\n31886,0\\r\\n62107,0\\r\\n62662,0\\r\\n77743,0\\r\\n54888,0\\r\\n6878,0\\r\\n71343,0\\r\\n64742,0\\r\\n31110,0\\r\\n22290,0\\r\\n5238,0\\r\\n17481,0\\r\\n16426,0\\r\\n45701,0\\r\\n65943,0\\r\\n23605,0\\r\\n65623,0\\r\\n8693,0\\r\\n77061,0\\r\\n50458,0\\r\\n50405,0\\r\\n29954,0\\r\\n27369,0\\r\\n34266,0\\r\\n69082,0\\r\\n54481,0\\r\\n16986,0\\r\\n21502,0\\r\\n26676,0\\r\\n54360,0\\r\\n14467,0\\r\\n58255,0\\r\\n46322,0\\r\\n49734,0\\r\\n18985,0\\r\\n51064,0\\r\\n24677,0\\r\\n52765,0\\r\\n46466,0\\r\\n9307,0\\r\\n45619,0\\r\\n1110,0\\r\\n928,0\\r\\n24625,0\\r\\n16069,0\\r\\n59733,0\\r\\n8710,0\\r\\n28479,0\\r\\n73983,1\\r\\n57108,0\\r\\n7195,0\\r\\n52665,0\\r\\n37573,0\\r\\n68267,0\\r\\n40855,0\\r\\n61710,0\\r\\n14955,0\\r\\n77531,0\\r\\n5885,0\\r\\n31444,0\\r\\n12927,0\\r\\n3718,0\\r\\n718,0\\r\\n813,1\\r\\n2005,0\\r\\n38391,0\\r\\n62502,0\\r\\n30320,0\\r\\n71236,0\\r\\n7361,0\\r\\n24579,0\\r\\n75383,0\\r\\n3994,0\\r\\n56762,0\\r\\n21572,0\\r\\n49902,0\\r\\n46473,0\\r\\n66123,0\\r\\n63361,0\\r\\n30949,0\\r\\n65248,0\\r\\n5320,0\\r\\n6158,0\\r\\n3570,0\\r\\n12033,0\\r\\n61175,0\\r\\n49816,0\\r\\n8824,0\\r\\n57352,1\\r\\n50294,0\\r\\n76037,0\\r\\n19245,0\\r\\n1610,0\\r\\n33835,0\\r\\n61018,0\\r\\n16908,0\\r\\n20068,0\\r\\n30534,0\\r\\n29500,0\\r\\n33834,0\\r\\n54535,0\\r\\n17853,0\\r\\n30139,0\\r\\n27401,0\\r\\n42042,0\\r\\n24099,0\\r\\n7180,0\\r\\n35814,0\\r\\n44779,0\\r\\n29222,0\\r\\n50994,0\\r\\n1276,0\\r\\n22054,0\\r\\n31041,0\\r\\n64122,0\\r\\n76830,0\\r\\n24188,0\\r\\n1749,0\\r\\n74749,0\\r\\n24091,0\\r\\n69671,0\\r\\n31902,0\\r\\n48217,1\\r\\n10292,0\\r\\n61474,0\\r\\n54053,0\\r\\n65465,0\\r\\n26232,0\\r\\n54413,0\\r\\n59365,0\\r\\n45470,0\\r\\n12571,0\\r\\n31518,0\\r\\n49208,0\\r\\n31515,0\\r\\n43824,0\\r\\n18600,0\\r\\n49494,0\\r\\n76821,0\\r\\n11378,0\\r\\n32242,0\\r\\n16142,0\\r\\n1250,0\\r\\n6366,0\\r\\n65786,0\\r\\n52386,0\\r\\n71833,0\\r\\n1327,0\\r\\n2383,0\\r\\n67658,0\\r\\n24637,0\\r\\n67379,0\\r\\n37712,0\\r\\n66799,0\\r\\n16875,0\\r\\n16517,0\\r\\n46895,0\\r\\n46351,0\\r\\n25883,0\\r\\n67480,0\\r\\n13471,0\\r\\n48370,0\\r\\n1183,0\\r\\n66776,1\\r\\n53366,0\\r\\n77194,0\\r\\n56386,0\\r\\n44243,1\\r\\n68929,0\\r\\n47990,0\\r\\n42308,0\\r\\n34787,0\\r\\n30673,0\\r\\n20454,0\\r\\n14255,0\\r\\n695,0\\r\\n62976,0\\r\\n16198,0\\r\\n18019,0\\r\\n37984,0\\r\\n2425,0\\r\\n40814,0\\r\\n23800,0\\r\\n32889,0\\r\\n11336,0\\r\\n3455,0\\r\\n58459,0\\r\\n34222,0\\r\\n19756,0\\r\\n22506,0\\r\\n7488,0\\r\\n42978,0\\r\\n57052,0\\r\\n10424,1\\r\\n70644,0\\r\\n42310,1\\r\\n55184,0\\r\\n19061,0\\r\\n72225,0\\r\\n65816,0\\r\\n33424,0\\r\\n73061,0\\r\\n57307,0\\r\\n16751,0\\r\\n31709,0\\r\\n46319,0\\r\\n32544,0\\r\\n29042,0\\r\\n66787,1\\r\\n58208,0\\r\\n53176,0\\r\\n6100,0\\r\\n46547,1\\r\\n25467,0\\r\\n7474,0\\r\\n5010,0\\r\\n16790,0\\r\\n15692,0\\r\\n54516,0\\r\\n7725,0\\r\\n49036,0\\r\\n28899,0\\r\\n48877,0\\r\\n76815,0\\r\\n29086,0\\r\\n17697,0\\r\\n25912,0\\r\\n33757,0\\r\\n30353,0\\r\\n66863,0\\r\\n44598,0\\r\\n69056,0\\r\\n39697,0\\r\\n9996,0\\r\\n73487,0\\r\\n6239,0\\r\\n6980,1\\r\\n54953,0\\r\\n67681,0\\r\\n4417,0\\r\\n75702,0\\r\\n591,0\\r\\n12841,0\\r\\n43704,0\\r\\n37689,0\\r\\n3990,1\\r\\n55454,0\\r\\n9677,0\\r\\n25620,0\\r\\n78280,0\\r\\n69996,0\\r\\n38992,0\\r\\n61755,0\\r\\n29966,0\\r\\n51673,0\\r\\n36870,0\\r\\n23116,0\\r\\n54222,0\\r\\n2454,0\\r\\n9994,0\\r\\n14705,0\\r\\n74684,0\\r\\n43067,0\\r\\n56434,0\\r\\n76328,0\\r\\n39928,0\\r\\n64375,0\\r\\n12320,0\\r\\n20464,0\\r\\n31764,0\\r\\n47215,0\\r\\n33910,0\\r\\n3485,0\\r\\n73471,0\\r\\n9251,0\\r\\n59688,0\\r\\n56262,0\\r\\n12803,0\\r\\n68388,1\\r\\n32344,0\\r\\n71931,0\\r\\n55130,0\\r\\n47604,0\\r\\n29747,0\\r\\n25289,0\\r\\n70638,0\\r\\n40109,0\\r\\n34855,0\\r\\n57455,0\\r\\n31558,0\\r\\n47680,0\\r\\n70695,0\\r\\n51197,0\\r\\n59110,0\\r\\n25602,0\\r\\n19695,0\\r\\n38429,0\\r\\n52760,0\\r\\n26863,0\\r\\n16454,0\\r\\n4559,0\\r\\n14115,0\\r\\n7286,0\\r\\n37820,0\\r\\n5453,0\\r\\n69587,0\\r\\n66010,0\\r\\n983,0\\r\\n30800,0\\r\\n46367,0\\r\\n50384,0\\r\\n43679,0\\r\\n20232,0\\r\\n40572,0\\r\\n75902,1\\r\\n31472,0\\r\\n22353,0\\r\\n57914,0\\r\\n64069,0\\r\\n16459,0\\r\\n8158,0\\r\\n73268,0\\r\\n66226,0\\r\\n58785,0\\r\\n44141,0\\r\\n36629,0\\r\\n31052,0\\r\\n51685,0\\r\\n35379,0\\r\\n44749,0\\r\\n41723,0\\r\\n61361,0\\r\\n40149,0\\r\\n56099,0\\r\\n40736,0\\r\\n71628,0\\r\\n38791,1\\r\\n20157,0\\r\\n22877,0\\r\\n4313,0\\r\\n30855,0\\r\\n75069,0\\r\\n75683,0\\r\\n67608,0\\r\\n23027,0\\r\\n19501,0\\r\\n3635,0\\r\\n58375,0\\r\\n47380,0\\r\\n975,0\\r\\n41742,0\\r\\n11526,0\\r\\n44722,0\\r\\n62674,0\\r\\n62680,0\\r\\n17043,0\\r\\n63224,0\\r\\n13282,0\\r\\n5139,0\\r\\n47117,0\\r\\n58067,0\\r\\n23681,0\\r\\n44416,0\\r\\n23828,0\\r\\n75849,0\\r\\n74165,0\\r\\n28382,0\\r\\n63366,0\\r\\n16909,0\\r\\n51737,0\\r\\n18585,0\\r\\n33646,0\\r\\n58458,1\\r\\n69215,0\\r\\n4508,0\\r\\n49647,0\\r\\n49618,0\\r\\n14986,0\\r\\n26321,0\\r\\n51408,0\\r\\n36203,0\\r\\n9523,0\\r\\n24337,0\\r\\n53448,0\\r\\n5576,0\\r\\n44110,0\\r\\n69085,0\\r\\n77167,0\\r\\n6150,0\\r\\n62147,0\\r\\n68879,0\\r\\n65115,0\\r\\n55269,0\\r\\n51763,0\\r\\n30940,0\\r\\n71078,0\\r\\n52464,0\\r\\n3530,0\\r\\n9188,0\\r\\n65121,0\\r\\n37895,0\\r\\n5649,0\\r\\n61577,0\\r\\n12868,0\\r\\n74966,0\\r\\n8023,0\\r\\n33807,0\\r\\n71459,0\\r\\n39582,0\\r\\n25879,0\\r\\n35351,0\\r\\n31794,0\\r\\n61663,0\\r\\n72095,1\\r\\n77101,0\\r\\n25557,0\\r\\n31585,0\\r\\n25793,0\\r\\n26024,0\\r\\n54748,0\\r\\n8839,0\\r\\n27967,0\\r\\n75588,0\\r\\n20382,1\\r\\n30108,0\\r\\n48297,0\\r\\n75625,0\\r\\n19947,0\\r\\n61450,0\\r\\n77304,0\\r\\n40159,0\\r\\n68305,0\\r\\n21207,0\\r\\n54630,0\\r\\n7451,0\\r\\n749,0\\r\\n71969,0\\r\\n29562,0\\r\\n10344,0\\r\\n26908,0\\r\\n17135,1\\r\\n29120,0\\r\\n75684,0\\r\\n74636,0\\r\\n20682,0\\r\\n55502,0\\r\\n2254,0\\r\\n6971,0\\r\\n47079,0\\r\\n62302,0\\r\\n72591,0\\r\\n48238,0\\r\\n30555,0\\r\\n57880,0\\r\\n53571,0\\r\\n78090,0\\r\\n57253,0\\r\\n15563,0\\r\\n17580,0\\r\\n55993,0\\r\\n56380,0\\r\\n77081,0\\r\\n15187,0\\r\\n65221,0\\r\\n3105,0\\r\\n1094,0\\r\\n42628,0\\r\\n50652,0\\r\\n45424,0\\r\\n64809,0\\r\\n48866,0\\r\\n43578,0\\r\\n37402,0\\r\\n55268,0\\r\\n22553,0\\r\\n40416,1\\r\\n39353,0\\r\\n17454,0\\r\\n9953,0\\r\\n59615,0\\r\\n10330,0\\r\\n75928,0\\r\\n50946,0\\r\\n35469,0\\r\\n11755,0\\r\\n8588,0\\r\\n64902,0\\r\\n10290,0\\r\\n69439,0\\r\\n43257,0\\r\\n41927,0\\r\\n20981,0\\r\\n77562,0\\r\\n23890,0\\r\\n59925,0\\r\\n55146,0\\r\\n24634,0\\r\\n47504,0\\r\\n75122,0\\r\\n64041,0\\r\\n5955,0\\r\\n32483,0\\r\\n56698,0\\r\\n6547,0\\r\\n1502,0\\r\\n66259,0\\r\\n23766,0\\r\\n51390,0\\r\\n72914,0\\r\\n64739,0\\r\\n21153,0\\r\\n41632,0\\r\\n53041,0\\r\\n11480,0\\r\\n3666,0\\r\\n68914,0\\r\\n10105,0\\r\\n54417,0\\r\\n17485,0\\r\\n63485,0\\r\\n33678,0\\r\\n21026,0\\r\\n20407,0\\r\\n68933,0\\r\\n7866,0\\r\\n51363,0\\r\\n37310,0\\r\\n38712,0\\r\\n24250,0\\r\\n73208,0\\r\\n4022,0\\r\\n6411,1\\r\\n69607,1\\r\\n72483,0\\r\\n13350,0\\r\\n15192,0\\r\\n66704,0\\r\\n60756,0\\r\\n36333,0\\r\\n15436,0\\r\\n46344,1\\r\\n11910,0\\r\\n19336,0\\r\\n22213,0\\r\\n54450,0\\r\\n28980,0\\r\\n33601,1\\r\\n56936,0\\r\\n64345,0\\r\\n20309,0\\r\\n21959,0\\r\\n34467,0\\r\\n12221,0\\r\\n22778,0\\r\\n71875,0\\r\\n181,0\\r\\n13901,0\\r\\n29067,0\\r\\n22425,0\\r\\n26558,0\\r\\n31777,0\\r\\n60992,0\\r\\n54607,0\\r\\n35201,0\\r\\n59719,0\\r\\n11104,0\\r\\n49810,0\\r\\n35790,0\\r\\n40170,0\\r\\n13742,0\\r\\n22654,0\\r\\n54593,0\\r\\n10676,0\\r\\n43696,0\\r\\n415,0\\r\\n50537,0\\r\\n19443,0\\r\\n50237,0\\r\\n26609,0\\r\\n18739,0\\r\\n14194,1\\r\\n31998,0\\r\\n68410,1\\r\\n59511,0\\r\\n41326,0\\r\\n30387,0\\r\\n37823,0\\r\\n25982,0\\r\\n21358,0\\r\\n57509,1\\r\\n31377,0\\r\\n36038,0\\r\\n28713,0\\r\\n19744,0\\r\\n55928,0\\r\\n31749,0\\r\\n7941,0\\r\\n8255,1\\r\\n39861,0\\r\\n10378,0\\r\\n3905,0\\r\\n37359,0\\r\\n23546,0\\r\\n75483,0\\r\\n50961,0\\r\\n82,0\\r\\n61244,0\\r\\n19859,0\\r\\n10260,0\\r\\n64373,0\\r\\n62436,0\\r\\n20739,0\\r\\n10043,1\\r\\n18640,1\\r\\n59299,0\\r\\n24531,0\\r\\n72844,0\\r\\n59212,0\\r\\n1365,0\\r\\n56898,0\\r\\n75734,0\\r\\n57182,0\\r\\n75283,0\\r\\n8249,0\\r\\n53531,0\\r\\n40862,0\\r\\n1083,0\\r\\n75994,0\\r\\n76167,0\\r\\n61330,0\\r\\n77524,0\\r\\n75714,0\\r\\n26588,0\\r\\n18532,0\\r\\n37620,0\\r\\n44010,0\\r\\n36990,0\\r\\n36140,0\\r\\n60899,0\\r\\n27390,0\\r\\n58054,0\\r\\n32807,0\\r\\n28737,0\\r\\n65681,0\\r\\n50906,0\\r\\n65503,0\\r\\n48535,0\\r\\n27930,0\\r\\n38789,0\\r\\n31674,0\\r\\n27757,0\\r\\n42766,0\\r\\n37897,0\\r\\n69119,0\\r\\n5726,0\\r\\n52216,0\\r\\n44275,0\\r\\n11107,0\\r\\n23884,0\\r\\n26426,0\\r\\n29920,0\\r\\n15498,0\\r\\n45328,0\\r\\n16825,0\\r\\n66231,0\\r\\n5588,0\\r\\n37414,0\\r\\n77673,0\\r\\n4070,0\\r\\n9505,0\\r\\n39253,0\\r\\n41456,0\\r\\n31058,0\\r\\n38578,0\\r\\n43795,0\\r\\n54678,0\\r\\n65031,0\\r\\n20992,1\\r\\n31580,0\\r\\n58329,0\\r\\n53150,0\\r\\n23235,0\\r\\n69006,0\\r\\n60552,0\\r\\n61900,0\\r\\n16916,0\\r\\n26477,0\\r\\n76994,0\\r\\n44827,0\\r\\n59193,0\\r\\n44286,0\\r\\n74490,0\\r\\n28192,0\\r\\n9681,0\\r\\n58502,0\\r\\n5062,0\\r\\n17033,0\\r\\n77867,0\\r\\n54785,0\\r\\n12623,0\\r\\n17622,0\\r\\n43147,0\\r\\n61241,0\\r\\n50740,0\\r\\n8089,0\\r\\n60024,0\\r\\n70383,0\\r\\n54320,0\\r\\n51413,0\\r\\n21597,0\\r\\n49461,0\\r\\n35329,0\\r\\n60162,0\\r\\n1242,0\\r\\n14401,0\\r\\n44085,0\\r\\n46389,0\\r\\n59589,0\\r\\n36005,0\\r\\n31832,0\\r\\n33652,0\\r\\n67715,0\\r\\n43102,0\\r\\n45375,0\\r\\n30249,0\\r\\n59029,0\\r\\n58084,0\\r\\n16222,0\\r\\n46040,0\\r\\n37559,0\\r\\n35361,0\\r\\n47379,0\\r\\n56753,0\\r\\n14899,0\\r\\n5531,0\\r\\n23664,0\\r\\n2228,0\\r\\n57043,0\\r\\n61379,0\\r\\n55229,0\\r\\n63298,0\\r\\n76085,0\\r\\n30443,0\\r\\n16137,0\\r\\n61857,0\\r\\n2617,0\\r\\n38238,0\\r\\n1589,0\\r\\n50386,0\\r\\n26816,0\\r\\n42761,0\\r\\n50011,0\\r\\n43450,0\\r\\n3242,0\\r\\n58320,0\\r\\n72514,0\\r\\n40640,0\\r\\n68285,0\\r\\n37528,0\\r\\n25862,0\\r\\n22322,0\\r\\n21841,0\\r\\n60125,0\\r\\n40861,0\\r\\n16371,1\\r\\n71796,0\\r\\n67823,0\\r\\n69196,0\\r\\n55338,0\\r\\n14136,1\\r\\n5079,0\\r\\n9657,0\\r\\n72357,0\\r\\n15789,0\\r\\n7125,1\\r\\n33738,0\\r\\n4294,0\\r\\n63966,0\\r\\n40762,0\\r\\n68375,0\\r\\n11846,0\\r\\n38731,0\\r\\n16068,0\\r\\n70850,0\\r\\n61573,0\\r\\n38907,0\\r\\n23461,0\\r\\n44489,0\\r\\n19827,0\\r\\n76668,0\\r\\n45085,0\\r\\n60654,0\\r\\n48910,0\\r\\n72082,0\\r\\n22200,0\\r\\n43893,0\\r\\n77137,0\\r\\n34431,0\\r\\n34085,0\\r\\n28120,1\\r\\n49022,0\\r\\n34069,0\\r\\n62775,0\\r\\n35063,0\\r\\n24136,0\\r\\n64242,0\\r\\n59751,0\\r\\n44178,0\\r\\n73870,0\\r\\n1547,0\\r\\n36237,0\\r\\n15215,0\\r\\n12811,0\\r\\n70413,0\\r\\n66122,0\\r\\n54334,0\\r\\n700,0\\r\\n76355,0\\r\\n32555,0\\r\\n48784,0\\r\\n26197,0\\r\\n15262,0\\r\\n10514,0\\r\\n11521,0\\r\\n5494,1\\r\\n32115,0\\r\\n31670,0\\r\\n31910,0\\r\\n72748,0\\r\\n3208,0\\r\\n47019,0\\r\\n21007,0\\r\\n52527,0\\r\\n60950,0\\r\\n6675,0\\r\\n38284,0\\r\\n66600,0\\r\\n52520,0\\r\\n34181,0\\r\\n49610,0\\r\\n22663,0\\r\\n12732,0\\r\\n25755,0\\r\\n61611,0\\r\\n2420,0\\r\\n75643,0\\r\\n32020,0\\r\\n77186,0\\r\\n9064,0\\r\\n40441,0\\r\\n32573,0\\r\\n30192,1\\r\\n54211,0\\r\\n61905,0\\r\\n66795,0\\r\\n42697,0\\r\\n8650,0\\r\\n14583,1\\r\\n969,1\\r\\n11626,1\\r\\n24135,0\\r\\n12218,0\\r\\n41449,0\\r\\n9361,0\\r\\n66825,0\\r\\n72830,0\\r\\n28405,0\\r\\n54162,0\\r\\n55153,0\\r\\n5824,0\\r\\n56576,0\\r\\n63398,0\\r\\n65058,0\\r\\n73693,0\\r\\n47452,0\\r\\n9158,0\\r\\n52691,0\\r\\n5939,0\\r\\n40141,0\\r\\n59345,0\\r\\n39830,0\\r\\n67886,0\\r\\n50912,0\\r\\n17838,0\\r\\n5537,0\\r\\n46588,0\\r\\n72938,0\\r\\n68462,0\\r\\n4667,0\\r\\n29295,0\\r\\n29525,0\\r\\n66345,1\\r\\n53340,0\\r\\n36208,0\\r\\n8871,0\\r\\n5758,0\\r\\n18220,0\\r\\n11726,0\\r\\n68278,0\\r\\n1708,0\\r\\n45684,0\\r\\n6229,0\\r\\n61959,0\\r\\n32263,0\\r\\n69510,0\\r\\n24506,0\\r\\n68120,0\\r\\n70993,0\\r\\n41138,0\\r\\n36104,0\\r\\n44482,0\\r\\n60366,0\\r\\n46589,0\\r\\n61063,0\\r\\n54231,0\\r\\n35241,0\\r\\n19261,0\\r\\n23566,0\\r\\n47149,0\\r\\n56245,0\\r\\n45501,0\\r\\n71547,0\\r\\n43503,0\\r\\n37815,0\\r\\n56107,0\\r\\n50724,0\\r\\n40530,0\\r\\n70025,0\\r\\n48967,0\\r\\n78223,0\\r\\n51779,0\\r\\n42992,0\\r\\n58716,0\\r\\n60558,0\\r\\n59514,0\\r\\n62347,1\\r\\n24984,0\\r\\n14175,0\\r\\n14551,0\\r\\n19420,0\\r\\n44200,0\\r\\n69465,0\\r\\n61520,0\\r\\n36600,0\\r\\n63633,0\\r\\n56668,0\\r\\n68781,0\\r\\n54479,0\\r\\n22015,0\\r\\n11993,0\\r\\n18039,0\\r\\n59306,0\\r\\n49282,0\\r\\n60907,0\\r\\n52958,0\\r\\n50699,0\\r\\n10712,0\\r\\n35092,0\\r\\n24715,0\\r\\n43015,0\\r\\n18992,0\\r\\n6482,0\\r\\n53054,0\\r\\n7682,0\\r\\n1346,0\\r\\n74602,0\\r\\n65363,0\\r\\n72440,0\\r\\n67145,0\\r\\n59604,0\\r\\n31179,0\\r\\n35779,0\\r\\n48822,0\\r\\n61003,0\\r\\n16738,0\\r\\n21584,0\\r\\n42615,0\\r\\n15047,0\\r\\n71446,0\\r\\n71287,0\\r\\n71278,0\\r\\n41183,0\\r\\n20301,0\\r\\n50028,0\\r\\n34725,0\\r\\n24165,0\\r\\n28307,0\\r\\n63784,0\\r\\n30018,0\\r\\n36094,0\\r\\n19047,0\\r\\n75718,0\\r\\n33507,0\\r\\n17560,0\\r\\n42952,0\\r\\n44292,0\\r\\n76569,0\\r\\n27642,0\\r\\n14022,0\\r\\n17366,0\\r\\n3533,0\\r\\n58841,0\\r\\n54629,0\\r\\n54508,0\\r\\n20730,0\\r\\n35209,0\\r\\n72868,0\\r\\n70404,0\\r\\n47336,0\\r\\n4554,0\\r\\n29791,0\\r\\n10374,0\\r\\n21717,0\\r\\n54159,0\\r\\n14937,1\\r\\n46924,0\\r\\n12814,0\\r\\n19070,0\\r\\n9979,0\\r\\n61328,0\\r\\n63402,0\\r\\n10009,0\\r\\n60308,0\\r\\n24175,0\\r\\n62135,0\\r\\n14496,0\\r\\n48543,0\\r\\n34591,0\\r\\n63844,0\\r\\n64525,0\\r\\n51362,0\\r\\n41758,0\\r\\n43876,0\\r\\n41869,0\\r\\n19321,0\\r\\n23209,0\\r\\n74618,0\\r\\n76823,0\\r\\n18507,0\\r\\n64489,0\\r\\n36605,0\\r\\n60156,0\\r\\n17772,0\\r\\n21804,0\\r\\n70511,0\\r\\n57126,0\\r\\n24903,0\\r\\n9181,0\\r\\n19592,0\\r\\n13396,0\\r\\n48061,0\\r\\n54173,0\\r\\n51368,0\\r\\n56683,0\\r\\n2479,0\\r\\n64000,0\\r\\n21897,0\\r\\n3668,1\\r\\n1641,0\\r\\n64158,0\\r\\n24352,0\\r\\n37562,0\\r\\n49241,0\\r\\n26996,0\\r\\n1819,0\\r\\n41979,0\\r\\n14430,0\\r\\n19256,0\\r\\n9740,0\\r\\n6713,0\\r\\n73669,0\\r\\n40673,0\\r\\n38982,0\\r\\n60443,0\\r\\n25800,0\\r\\n47594,0\\r\\n74052,0\\r\\n5635,0\\r\\n21861,0\\r\\n71445,0\\r\\n77923,0\\r\\n2698,0\\r\\n10421,0\\r\\n47024,0\\r\\n11099,0\\r\\n31686,0\\r\\n69605,0\\r\\n58570,0\\r\\n44970,0\\r\\n59252,0\\r\\n57643,0\\r\\n34240,0\\r\\n41974,0\\r\\n40199,0\\r\\n74211,0\\r\\n27298,0\\r\\n13040,0\\r\\n14415,0\\r\\n3109,0\\r\\n21564,0\\r\\n69866,0\\r\\n27310,0\\r\\n25661,0\\r\\n41367,0\\r\\n33717,0\\r\\n52867,0\\r\\n23564,0\\r\\n16516,0\\r\\n70415,0\\r\\n44241,0\\r\\n76463,0\\r\\n27566,0\\r\\n56150,0\\r\\n24885,0\\r\\n21613,0\\r\\n30190,1\\r\\n12090,0\\r\\n12496,0\\r\\n12556,0\\r\\n7182,0\\r\\n71861,0\\r\\n65479,0\\r\\n15270,0\\r\\n43083,0\\r\\n22374,0\\r\\n227,0\\r\\n19936,0\\r\\n36229,0\\r\\n30495,0\\r\\n13883,0\\r\\n27368,0\\r\\n63453,0\\r\\n21943,0\\r\\n9602,0\\r\\n51347,0\\r\\n74084,0\\r\\n56747,0\\r\\n7611,0\\r\\n17618,0\\r\\n30119,0\\r\\n66542,0\\r\\n22569,0\\r\\n44133,0\\r\\n21079,0\\r\\n57185,0\\r\\n61236,0\\r\\n62019,0\\r\\n48358,0\\r\\n40914,0\\r\\n27978,0\\r\\n69364,0\\r\\n9050,0\\r\\n25638,0\\r\\n39551,0\\r\\n42279,0\\r\\n42760,0\\r\\n39503,0\\r\\n6694,1\\r\\n19634,0\\r\\n46328,0\\r\\n40140,0\\r\\n62189,0\\r\\n53330,0\\r\\n53998,0\\r\\n72083,1\\r\\n43341,0\\r\\n18539,0\\r\\n8264,0\\r\\n35066,0\\r\\n39240,0\\r\\n11178,0\\r\\n74675,0\\r\\n23001,0\\r\\n46395,0\\r\\n12726,0\\r\\n1501,0\\r\\n12925,0\\r\\n14578,0\\r\\n61547,0\\r\\n7742,0\\r\\n65812,0\\r\\n22164,0\\r\\n17643,0\\r\\n45113,0\\r\\n27176,0\\r\\n57001,0\\r\\n2411,0\\r\\n27916,1\\r\\n15608,0\\r\\n28217,0\\r\\n33269,0\\r\\n42106,0\\r\\n58070,0\\r\\n52165,0\\r\\n68215,0\\r\\n42180,0\\r\\n72306,0\\r\\n18766,0\\r\\n6429,0\\r\\n63471,0\\r\\n50147,0\\r\\n52043,0\\r\\n20235,0\\r\\n22147,0\\r\\n25778,0\\r\\n68446,0\\r\\n44513,0\\r\\n48248,0\\r\\n11497,0\\r\\n18156,0\\r\\n72089,0\\r\\n14488,0\\r\\n27751,0\\r\\n42291,0\\r\\n76966,0\\r\\n17388,0\\r\\n60917,0\\r\\n11124,0\\r\\n47248,1\\r\\n77916,0\\r\\n64508,0\\r\\n1636,0\\r\\n18753,0\\r\\n71408,0\\r\\n62449,0\\r\\n28942,0\\r\\n49100,0\\r\\n42954,0\\r\\n40593,0\\r\\n77168,0\\r\\n9257,0\\r\\n68,0\\r\\n28227,0\\r\\n49279,0\\r\\n62187,0\\r\\n54750,0\\r\\n54521,0\\r\\n56210,0\\r\\n73513,0\\r\\n44723,0\\r\\n52754,0\\r\\n50014,0\\r\\n30375,0\\r\\n15177,0\\r\\n53731,0\\r\\n56053,0\\r\\n67928,0\\r\\n47829,0\\r\\n23630,0\\r\\n24377,0\\r\\n50159,0\\r\\n75439,0\\r\\n25134,0\\r\\n65401,0\\r\\n61584,0\\r\\n22899,0\\r\\n47341,0\\r\\n12777,0\\r\\n73808,0\\r\\n45782,0\\r\\n50738,0\\r\\n65992,1\\r\\n26481,0\\r\\n10334,0\\r\\n16565,0\\r\\n5011,0\\r\\n22665,0\\r\\n45703,0\\r\\n16624,0\\r\\n71936,0\\r\\n46544,0\\r\\n57809,0\\r\\n51174,0\\r\\n1775,0\\r\\n46627,0\\r\\n66256,0\\r\\n3534,0\\r\\n68596,0\\r\\n33176,0\\r\\n59179,0\\r\\n7848,0\\r\\n19219,0\\r\\n52406,0\\r\\n71750,0\\r\\n45876,0\\r\\n65930,0\\r\\n870,0\\r\\n37555,0\\r\\n11556,0\\r\\n10521,0\\r\\n77563,0\\r\\n69971,0\\r\\n38299,0\\r\\n66156,0\\r\\n59769,0\\r\\n61842,0\\r\\n25857,0\\r\\n62730,0\\r\\n21245,0\\r\\n46231,0\\r\\n72117,0\\r\\n54297,0\\r\\n21114,0\\r\\n5397,0\\r\\n16255,0\\r\\n19151,0\\r\\n53795,0\\r\\n66144,0\\r\\n6460,0\\r\\n12406,0\\r\\n8940,0\\r\\n40811,0\\r\\n23340,0\\r\\n51676,0\\r\\n11328,1\\r\\n13378,0\\r\\n65727,0\\r\\n56943,0\\r\\n63673,0\\r\\n1698,0\\r\\n30509,0\\r\\n13347,0\\r\\n25917,0\\r\\n22911,0\\r\\n6145,0\\r\\n46205,0\\r\\n68045,0\\r\\n13375,0\\r\\n73917,0\\r\\n70316,0\\r\\n19094,0\\r\\n42191,0\\r\\n68198,0\\r\\n21813,0\\r\\n22941,0\\r\\n61436,0\\r\\n30939,0\\r\\n2722,0\\r\\n27416,0\\r\\n54916,0\\r\\n50864,0\\r\\n63200,0\\r\\n52878,0\\r\\n8767,0\\r\\n32013,0\\r\\n51928,0\\r\\n25066,0\\r\\n36909,0\\r\\n20764,0\\r\\n27347,0\\r\\n24398,0\\r\\n76547,0\\r\\n74715,0\\r\\n44568,0\\r\\n29382,0\\r\\n64915,0\\r\\n31390,0\\r\\n6280,0\\r\\n33420,0\\r\\n72124,0\\r\\n13022,0\\r\\n56900,0\\r\\n27192,0\\r\\n5747,0\\r\\n69943,0\\r\\n35542,0\\r\\n41835,1\\r\\n11486,0\\r\\n73885,0\\r\\n74562,0\\r\\n76771,0\\r\\n65059,0\\r\\n22008,0\\r\\n11568,0\\r\\n4334,0\\r\\n39062,0\\r\\n73000,0\\r\\n24551,0\\r\\n54723,0\\r\\n73098,0\\r\\n9114,0\\r\\n23491,0\\r\\n71702,0\\r\\n5582,0\\r\\n24703,0\\r\\n61210,0\\r\\n27588,0\\r\\n12954,0\\r\\n16476,0\\r\\n21526,0\\r\\n30076,0\\r\\n8018,0\\r\\n57034,0\\r\\n32239,0\\r\\n18626,0\\r\\n1794,0\\r\\n64903,0\\r\\n77851,0\\r\\n5234,0\\r\\n4917,0\\r\\n31387,0\\r\\n75865,0\\r\\n65499,0\\r\\n5338,1\\r\\n3791,0\\r\\n39105,0\\r\\n47425,0\\r\\n34558,0\\r\\n19027,0\\r\\n11793,0\\r\\n54976,0\\r\\n34696,0\\r\\n35969,0\\r\\n49485,0\\r\\n10136,0\\r\\n14753,0\\r\\n60825,0\\r\\n26711,0\\r\\n64579,0\\r\\n68322,0\\r\\n44627,0\\r\\n30550,0\\r\\n38290,0\\r\\n56734,0\\r\\n4112,0\\r\\n42706,0\\r\\n75874,0\\r\\n19398,0\\r\\n26632,0\\r\\n74554,0\\r\\n74765,0\\r\\n11787,0\\r\\n14970,0\\r\\n15054,0\\r\\n11865,0\\r\\n63450,0\\r\\n38539,0\\r\\n53594,0\\r\\n45551,0\\r\\n40676,0\\r\\n12054,0\\r\\n40871,0\\r\\n22652,0\\r\\n47517,0\\r\\n15679,0\\r\\n55855,0\\r\\n13158,0\\r\\n18385,0\\r\\n62844,0\\r\\n23893,0\\r\\n13124,0\\r\\n29622,0\\r\\n48441,0\\r\\n46548,0\\r\\n23412,0\\r\\n10218,0\\r\\n27288,0\\r\\n38585,1\\r\\n66866,0\\r\\n44545,0\\r\\n78187,0\\r\\n10629,0\\r\\n67737,0\\r\\n26667,0\\r\\n37900,1\\r\\n33058,0\\r\\n47255,0\\r\\n941,0\\r\\n60904,0\\r\\n60717,0\\r\\n47949,0\\r\\n22351,0\\r\\n11357,0\\r\\n63732,0\\r\\n12495,0\\r\\n14554,0\\r\\n39627,0\\r\\n57641,0\\r\\n13957,0\\r\\n63127,0\\r\\n58805,0\\r\\n50773,0\\r\\n38640,0\\r\\n32453,0\\r\\n52239,0\\r\\n1893,1\\r\\n33838,0\\r\\n27535,0\\r\\n37716,0\\r\\n18662,0\\r\\n74570,0\\r\\n77195,0\\r\\n54336,0\\r\\n28214,0\\r\\n66068,0\\r\\n73388,0\\r\\n19805,0\\r\\n10282,0\\r\\n2967,0\\r\\n4379,0\\r\\n4619,0\\r\\n36279,0\\r\\n23129,0\\r\\n77761,0\\r\\n50513,0\\r\\n35476,0\\r\\n63143,0\\r\\n8327,0\\r\\n31124,0\\r\\n4994,0\\r\\n39909,0\\r\\n26403,0\\r\\n48566,0\\r\\n52200,0\\r\\n28018,0\\r\\n61153,0\\r\\n57463,0\\r\\n5774,0\\r\\n61872,0\\r\\n3060,0\\r\\n70721,0\\r\\n43115,0\\r\\n28025,0\\r\\n60288,0\\r\\n57261,0\\r\\n50142,0\\r\\n28544,0\\r\\n614,0\\r\\n18333,0\\r\\n48434,0\\r\\n48241,0\\r\\n55621,0\\r\\n1882,0\\r\\n916,0\\r\\n73286,0\\r\\n65388,0\\r\\n68007,0\\r\\n34961,0\\r\\n63706,0\\r\\n8406,0\\r\\n39122,0\\r\\n37383,0\\r\\n39384,0\\r\\n62926,0\\r\\n2799,0\\r\\n42876,0\\r\\n12785,0\\r\\n27781,0\\r\\n49704,0\\r\\n61355,0\\r\\n4639,1\\r\\n57980,0\\r\\n11290,0\\r\\n25853,0\\r\\n11131,0\\r\\n51614,0\\r\\n32236,0\\r\\n43675,0\\r\\n56741,0\\r\\n23288,0\\r\\n71040,0\\r\\n7930,0\\r\\n62861,0\\r\\n16034,0\\r\\n21696,0\\r\\n56315,0\\r\\n37019,0\\r\\n43935,0\\r\\n23695,0\\r\\n31879,0\\r\\n15868,0\\r\\n36506,0\\r\\n63694,0\\r\\n52692,0\\r\\n65948,0\\r\\n39767,0\\r\\n39017,0\\r\\n5778,0\\r\\n10224,0\\r\\n69711,0\\r\\n11549,0\\r\\n38430,0\\r\\n65779,0\\r\\n7418,0\\r\\n48504,0\\r\\n50456,0\\r\\n78165,0\\r\\n72376,0\\r\\n9173,0\\r\\n12023,0\\r\\n34174,0\\r\\n10873,0\\r\\n7610,0\\r\\n77303,0\\r\\n20429,0\\r\\n29169,0\\r\\n14814,0\\r\\n6061,0\\r\\n73506,0\\r\\n17557,0\\r\\n57270,0\\r\\n39762,0\\r\\n43443,0\\r\\n28648,0\\r\\n53086,0\\r\\n19487,0\\r\\n28338,0\\r\\n56535,1\\r\\n55383,0\\r\\n60017,0\\r\\n481,0\\r\\n20455,0\\r\\n52514,0\\r\\n14363,0\\r\\n37490,0\\r\\n40409,0\\r\\n20800,0\\r\\n62016,0\\r\\n33631,0\\r\\n17682,0\\r\\n40868,0\\r\\n29225,0\\r\\n70967,0\\r\\n74395,0\\r\\n15698,0\\r\\n39251,0\\r\\n28339,0\\r\\n77492,0\\r\\n8532,0\\r\\n17457,0\\r\\n56426,0\\r\\n62263,0\\r\\n46193,0\\r\\n47682,0\\r\\n35720,0\\r\\n66713,0\\r\\n22972,0\\r\\n32426,0\\r\\n14538,0\\r\\n41713,0\\r\\n27559,0\\r\\n9237,0\\r\\n71941,0\\r\\n51818,0\\r\\n35185,0\\r\\n13557,0\\r\\n63961,0\\r\\n33093,0\\r\\n28887,0\\r\\n332,0\\r\\n36266,0\\r\\n51054,0\\r\\n45780,0\\r\\n32541,0\\r\\n70900,0\\r\\n38333,0\\r\\n51961,0\\r\\n19476,0\\r\\n62868,0\\r\\n65545,1\\r\\n69297,0\\r\\n61483,0\\r\\n19545,0\\r\\n77499,0\\r\\n65143,0\\r\\n18191,1\\r\\n40395,0\\r\\n31475,0\\r\\n32377,0\\r\\n74970,0\\r\\n69046,0\\r\\n69240,0\\r\\n77992,0\\r\\n41798,0\\r\\n64888,0\\r\\n15184,0\\r\\n67154,0\\r\\n37020,0\\r\\n5389,0\\r\\n20866,0\\r\\n14604,0\\r\\n51743,0\\r\\n75179,0\\r\\n8971,0\\r\\n21979,0\\r\\n68905,0\\r\\n15427,0\\r\\n50960,0\\r\\n36620,0\\r\\n12291,0\\r\\n64998,0\\r\\n48286,0\\r\\n14493,0\\r\\n27141,0\\r\\n77638,0\\r\\n50454,0\\r\\n24053,0\\r\\n73766,0\\r\\n69429,0\\r\\n29234,0\\r\\n75127,0\\r\\n65570,0\\r\\n13041,0\\r\\n70088,0\\r\\n32528,0\\r\\n76610,0\\r\\n35949,0\\r\\n26685,0\\r\\n58934,0\\r\\n43100,0\\r\\n19,0\\r\\n54282,0\\r\\n60400,0\\r\\n60207,0\\r\\n13902,0\\r\\n52449,0\\r\\n16400,0\\r\\n10845,0\\r\\n78255,0\\r\\n17339,0\\r\\n52959,0\\r\\n37793,0\\r\\n72648,0\\r\\n8279,0\\r\\n72947,0\\r\\n17896,0\\r\\n73111,0\\r\\n31284,0\\r\\n52295,0\\r\\n40026,0\\r\\n30934,0\\r\\n10621,0\\r\\n5330,0\\r\\n74317,0\\r\\n23907,0\\r\\n34327,0\\r\\n5316,0\\r\\n30663,0\\r\\n33033,0\\r\\n57330,0\\r\\n41290,0\\r\\n2396,0\\r\\n66630,0\\r\\n72160,0\\r\\n58364,0\\r\\n6281,0\\r\\n62980,0\\r\\n45785,0\\r\\n9042,0\\r\\n67688,0\\r\\n72497,0\\r\\n72568,0\\r\\n17817,0\\r\\n46184,0\\r\\n19836,0\\r\\n28580,0\\r\\n1861,0\\r\\n58620,0\\r\\n16475,0\\r\\n43075,0\\r\\n23710,0\\r\\n74050,0\\r\\n28630,0\\r\\n18274,0\\r\\n29720,0\\r\\n58701,0\\r\\n4029,0\\r\\n61411,0\\r\\n5462,0\\r\\n76113,0\\r\\n51632,0\\r\\n59634,0\\r\\n35774,0\\r\\n59036,0\\r\\n26950,0\\r\\n62211,0\\r\\n36507,0\\r\\n71842,0\\r\\n47233,0\\r\\n44706,0\\r\\n59730,0\\r\\n55866,0\\r\\n4365,0\\r\\n16075,0\\r\\n29493,0\\r\\n18281,0\\r\\n25322,0\\r\\n47009,0\\r\\n66880,0\\r\\n48992,0\\r\\n74158,0\\r\\n74624,0\\r\\n647,0\\r\\n44872,0\\r\\n71846,1\\r\\n64187,0\\r\\n86,0\\r\\n27404,0\\r\\n38670,0\\r\\n921,0\\r\\n56854,0\\r\\n118,0\\r\\n11413,0\\r\\n5797,0\\r\\n47059,1\\r\\n56443,0\\r\\n65404,0\\r\\n11393,0\\r\\n9520,0\\r\\n20889,0\\r\\n58057,0\\r\\n37751,0\\r\\n59547,0\\r\\n29339,0\\r\\n44163,0\\r\\n77651,0\\r\\n21869,0\\r\\n51391,0\\r\\n73502,0\\r\\n77675,0\\r\\n62805,0\\r\\n26680,0\\r\\n36757,0\\r\\n51161,0\\r\\n23465,0\\r\\n18247,0\\r\\n67024,0\\r\\n27053,0\\r\\n39696,0\\r\\n25673,0\\r\\n15553,0\\r\\n18963,1\\r\\n14222,0\\r\\n12629,0\\r\\n67299,1\\r\\n41098,0\\r\\n77533,0\\r\\n30151,0\\r\\n5495,0\\r\\n9239,0\\r\\n39998,0\\r\\n9178,0\\r\\n25059,0\\r\\n6314,0\\r\\n3368,0\\r\\n203,0\\r\\n40578,0\\r\\n77262,0\\r\\n45121,0\\r\\n73299,0\\r\\n23394,0\\r\\n53820,0\\r\\n6571,0\\r\\n15521,0\\r\\n59116,0\\r\\n60775,0\\r\\n42104,0\\r\\n37387,0\\r\\n39102,0\\r\\n38847,0\\r\\n38591,0\\r\\n49656,0\\r\\n446,0\\r\\n65019,0\\r\\n72307,0\\r\\n42773,0\\r\\n50234,0\\r\\n65227,0\\r\\n69820,0\\r\\n37730,0\\r\\n52911,1\\r\\n15856,0\\r\\n54556,0\\r\\n66782,0\\r\\n68357,0\\r\\n68979,0\\r\\n24106,0\\r\\n32665,0\\r\\n66570,0\\r\\n10781,0\\r\\n5056,0\\r\\n61949,0\\r\\n23277,0\\r\\n70710,0\\r\\n71354,0\\r\\n37308,0\\r\\n13295,0\\r\\n50114,0\\r\\n58356,0\\r\\n72515,0\\r\\n25817,0\\r\\n36626,0\\r\\n62946,0\\r\\n7702,0\\r\\n8585,0\\r\\n5151,0\\r\\n3291,0\\r\\n73455,0\\r\\n36303,0\\r\\n75469,0\\r\\n31420,0\\r\\n26935,0\\r\\n46234,0\\r\\n40710,0\\r\\n76909,0\\r\\n46154,0\\r\\n27003,0\\r\\n14706,0\\r\\n70824,0\\r\\n75956,0\\r\\n1058,0\\r\\n58834,0\\r\\n10651,0\\r\\n78116,0\\r\\n54885,0\\r\\n54777,0\\r\\n36328,0\\r\\n70799,0\\r\\n7203,0\\r\\n15935,0\\r\\n53982,0\\r\\n10184,0\\r\\n45376,0\\r\\n650,0\\r\\n48557,0\\r\\n19401,0\\r\\n57551,0\\r\\n20537,0\\r\\n67428,0\\r\\n25858,0\\r\\n36958,0\\r\\n8159,0\\r\\n59197,0\\r\\n54412,0\\r\\n19161,0\\r\\n38364,0\\r\\n15541,0\\r\\n850,1\\r\\n12057,0\\r\\n13850,0\\r\\n34396,0\\r\\n40731,0\\r\\n70425,0\\r\\n55233,0\\r\\n5114,0\\r\\n75872,0\\r\\n34037,0\\r\\n31028,0\\r\\n23749,0\\r\\n16874,0\\r\\n39574,0\\r\\n856,0\\r\\n53411,0\\r\\n37345,0\\r\\n39814,0\\r\\n584,0\\r\\n30043,0\\r\\n58772,0\\r\\n21477,0\\r\\n11137,0\\r\\n69961,0\\r\\n18689,0\\r\\n72567,0\\r\\n17414,0\\r\\n44834,0\\r\\n35884,0\\r\\n24717,0\\r\\n45702,0\\r\\n64782,0\\r\\n8786,0\\r\\n47094,0\\r\\n76726,0\\r\\n11073,0\\r\\n19799,0\\r\\n31639,0\\r\\n53464,0\\r\\n13165,0\\r\\n53178,0\\r\\n36594,0\\r\\n24411,0\\r\\n7708,0\\r\\n27948,0\\r\\n76477,0\\r\\n31978,0\\r\\n54997,0\\r\\n19074,0\\r\\n61707,0\\r\\n34689,0\\r\\n75217,0\\r\\n55392,0\\r\\n7308,0\\r\\n21184,0\\r\\n39516,1\\r\\n75139,0\\r\\n74564,0\\r\\n72276,0\\r\\n40196,0\\r\\n45749,0\\r\\n68778,0\\r\\n5698,0\\r\\n47081,0\\r\\n49305,0\\r\\n31600,0\\r\\n545,1\\r\\n29555,0\\r\\n54011,0\\r\\n30172,1\\r\\n76057,0\\r\\n33381,0\\r\\n54509,0\\r\\n34590,0\\r\\n5154,0\\r\\n4362,0\\r\\n54050,0\\r\\n27838,0\\r\\n7660,0\\r\\n35616,0\\r\\n23598,0\\r\\n35514,0\\r\\n37211,0\\r\\n16083,0\\r\\n72860,0\\r\\n49455,0\\r\\n74771,0\\r\\n22548,0\\r\\n69430,0\\r\\n52388,0\\r\\n13366,0\\r\\n76140,0\\r\\n9696,0\\r\\n55027,0\\r\\n71039,0\\r\\n27382,0\\r\\n35551,0\\r\\n42011,0\\r\\n57222,0\\r\\n53538,0\\r\\n23036,0\\r\\n74262,0\\r\\n71097,0\\r\\n46570,0\\r\\n60231,0\\r\\n61062,0\\r\\n65407,0\\r\\n8518,0\\r\\n33975,0\\r\\n8297,0\\r\\n51647,0\\r\\n70921,0\\r\\n3398,0\\r\\n22468,0\\r\\n23408,0\\r\\n63066,0\\r\\n65069,0\\r\\n1441,0\\r\\n43880,0\\r\\n48204,0\\r\\n65627,0\\r\\n356,0\\r\\n30824,0\\r\\n35267,0\\r\\n70303,0\\r\\n68112,0\\r\\n51102,0\\r\\n58377,1\\r\\n36851,0\\r\\n46942,1\\r\\n10237,0\\r\\n50830,0\\r\\n65466,0\\r\\n42198,0\\r\\n43780,0\\r\\n29092,0\\r\\n5265,0\\r\\n69581,0\\r\\n52931,0\\r\\n14750,0\\r\\n5589,0\\r\\n41324,0\\r\\n64688,0\\r\\n67440,0\\r\\n16402,0\\r\\n50540,0\\r\\n6560,0\\r\\n59082,0\\r\\n32057,0\\r\\n47427,0\\r\\n55562,0\\r\\n14297,0\\r\\n57405,0\\r\\n23271,1\\r\\n3765,0\\r\\n48680,0\\r\\n77948,0\\r\\n24785,0\\r\\n39777,0\\r\\n7790,0\\r\\n69549,0\\r\\n7943,0\\r\\n46946,0\\r\\n2591,0\\r\\n41968,0\\r\\n35447,0\\r\\n40139,0\\r\\n72511,0\\r\\n60546,0\\r\\n27766,0\\r\\n23831,0\\r\\n8842,0\\r\\n1200,0\\r\\n28008,0\\r\\n21423,0\\r\\n13230,0\\r\\n17741,0\\r\\n26804,0\\r\\n69357,0\\r\\n27270,0\\r\\n51083,0\\r\\n56358,0\\r\\n55079,0\\r\\n20623,0\\r\\n54376,0\\r\\n65710,0\\r\\n3977,0\\r\\n6741,0\\r\\n71927,0\\r\\n10822,0\\r\\n28488,0\\r\\n16109,0\\r\\n29497,0\\r\\n18940,0\\r\\n59574,0\\r\\n29733,0\\r\\n16662,0\\r\\n15367,0\\r\\n2788,0\\r\\n25676,0\\r\\n73763,0\\r\\n69037,1\\r\\n31473,0\\r\\n58782,0\\r\\n58370,0\\r\\n35065,0\\r\\n22906,0\\r\\n63364,0\\r\\n2645,0\\r\\n38781,0\\r\\n12678,0\\r\\n34218,0\\r\\n29731,0\\r\\n6521,0\\r\\n44574,0\\r\\n19274,0\\r\\n29940,0\\r\\n43029,0\\r\\n69882,0\\r\\n33840,0\\r\\n54366,0\\r\\n31721,0\\r\\n54298,0\\r\\n18400,0\\r\\n77739,0\\r\\n7832,0\\r\\n1216,0\\r\\n389,0\\r\\n1446,0\\r\\n36471,0\\r\\n9975,0\\r\\n20521,0\\r\\n41729,0\\r\\n39452,0\\r\\n3197,0\\r\\n19571,0\\r\\n35130,0\\r\\n45314,0\\r\\n72757,0\\r\\n68633,0\\r\\n67509,0\\r\\n38288,0\\r\\n29519,0\\r\\n17601,0\\r\\n38443,0\\r\\n65620,0\\r\\n48635,0\\r\\n45454,0\\r\\n23282,0\\r\\n25644,0\\r\\n15081,0\\r\\n77783,0\\r\\n63599,0\\r\\n57682,0\\r\\n7042,0\\r\\n68777,0\\r\\n37972,0\\r\\n70505,0\\r\\n10665,0\\r\\n73985,0\\r\\n77573,0\\r\\n60842,0\\r\\n63544,0\\r\\n75072,0\\r\\n57312,0\\r\\n24287,0\\r\\n72228,0\\r\\n13454,0\\r\\n56568,0\\r\\n55258,0\\r\\n61516,0\\r\\n18597,0\\r\\n44787,0\\r\\n34972,0\\r\\n38813,0\\r\\n49839,0\\r\\n11769,0\\r\\n48966,0\\r\\n38612,0\\r\\n36161,0\\r\\n4162,0\\r\\n11467,0\\r\\n34594,0\\r\\n29965,0\\r\\n8201,0\\r\\n14133,0\\r\\n6882,0\\r\\n73731,0\\r\\n45598,0\\r\\n12687,0\\r\\n54232,0\\r\\n21294,0\\r\\n8016,0\\r\\n27370,0\\r\\n48495,0\\r\\n17184,0\\r\\n37287,0\\r\\n22948,0\\r\\n25625,0\\r\\n6225,0\\r\\n36502,0\\r\\n63395,0\\r\\n60025,0\\r\\n3320,0\\r\\n46622,0\\r\\n50349,1\\r\\n20443,0\\r\\n29633,0\\r\\n10012,0\\r\\n28828,0\\r\\n18808,0\\r\\n6567,0\\r\\n9021,0\\r\\n17117,0\\r\\n55912,0\\r\\n16019,0\\r\\n71743,0\\r\\n67929,0\\r\\n40076,0\\r\\n538,0\\r\\n54731,0\\r\\n68800,0\\r\\n66683,0\\r\\n44407,0\\r\\n10566,0\\r\\n52836,0\\r\\n11789,0\\r\\n55334,0\\r\\n49263,0\\r\\n12252,0\\r\\n49882,1\\r\\n44337,0\\r\\n3479,0\\r\\n49625,0\\r\\n40943,0\\r\\n30511,0\\r\\n73913,0\\r\\n73519,0\\r\\n22597,0\\r\\n66549,0\\r\\n3678,0\\r\\n76261,0\\r\\n4803,0\\r\\n44097,0\\r\\n54264,0\\r\\n67309,0\\r\\n8893,1\\r\\n48550,0\\r\\n41949,0\\r\\n12353,0\\r\\n30158,0\\r\\n49203,1\\r\\n50518,0\\r\\n46064,0\\r\\n6051,0\\r\\n18123,0\\r\\n62917,0\\r\\n34893,0\\r\\n22557,0\\r\\n70898,0\\r\\n3226,0\\r\\n51384,0\\r\\n50997,0\\r\\n19216,0\\r\\n42725,0\\r\\n70532,0\\r\\n75686,0\\r\\n46286,0\\r\\n28089,0\\r\\n73001,0\\r\\n48534,0\\r\\n61096,0\\r\\n72076,0\\r\\n12858,0\\r\\n10526,0\\r\\n19240,0\\r\\n4766,0\\r\\n55829,0\\r\\n20761,0\\r\\n15199,0\\r\\n47951,0\\r\\n39232,0\\r\\n10204,0\\r\\n58024,0\\r\\n31311,0\\r\\n49454,0\\r\\n49795,0\\r\\n30439,0\\r\\n18454,0\\r\\n52725,0\\r\\n20463,0\\r\\n74133,0\\r\\n1192,0\\r\\n60096,0\\r\\n12428,0\\r\\n52360,0\\r\\n754,0\\r\\n27941,0\\r\\n24640,0\\r\\n66856,0\\r\\n73361,0\\r\\n18740,0\\r\\n74413,0\\r\\n24856,0\\r\\n5146,0\\r\\n46878,0\\r\\n7734,0\\r\\n68122,0\\r\\n38555,1\\r\\n29581,0\\r\\n737,0\\r\\n32424,0\\r\\n11187,0\\r\\n8385,0\\r\\n25807,0\\r\\n51808,0\\r\\n40479,0\\r\\n72335,0\\r\\n4391,0\\r\\n3810,0\\r\\n74914,0\\r\\n21974,0\\r\\n17425,0\\r\\n36688,0\\r\\n15807,0\\r\\n49023,0\\r\\n2008,0\\r\\n8104,0\\r\\n52303,0\\r\\n61851,0\\r\\n55181,0\\r\\n37493,0\\r\\n40669,0\\r\\n64600,0\\r\\n22925,0\\r\\n71912,0\\r\\n75807,0\\r\\n55868,0\\r\\n4033,0\\r\\n73966,0\\r\\n5736,0\\r\\n64784,0\\r\\n18906,0\\r\\n52150,0\\r\\n49733,0\\r\\n36707,0\\r\\n37373,0\\r\\n34200,0\\r\\n45606,0\\r\\n47274,0\\r\\n15464,0\\r\\n20509,0\\r\\n7157,0\\r\\n23757,0\\r\\n1294,0\\r\\n43020,0\\r\\n30643,0\\r\\n52080,0\\r\\n60968,0\\r\\n48519,0\\r\\n8411,0\\r\\n75028,0\\r\\n23615,0\\r\\n13589,0\\r\\n44007,0\\r\\n10748,1\\r\\n7924,0\\r\\n55204,0\\r\\n5185,0\\r\\n29630,0\\r\\n54463,1\\r\\n65324,0\\r\\n25738,0\\r\\n68657,1\\r\\n25889,0\\r\\n3648,0\\r\\n41078,0\\r\\n53579,0\\r\\n76350,0\\r\\n43674,0\\r\\n71683,0\\r\\n54023,0\\r\\n9669,0\\r\\n70665,1\\r\\n19048,0\\r\\n51072,0\\r\\n73556,0\\r\\n25706,0\\r\\n65156,0\\r\\n74823,0\\r\\n22717,0\\r\\n307,0\\r\\n7199,0\\r\\n60914,0\\r\\n68248,0\\r\\n8247,1\\r\\n67994,0\\r\\n21,0\\r\\n60994,0\\r\\n35818,0\\r\\n52480,0\\r\\n42937,1\\r\\n23249,0\\r\\n33112,0\\r\\n38482,0\\r\\n40658,0\\r\\n33753,0\\r\\n63860,0\\r\\n48032,0\\r\\n4161,0\\r\\n40464,0\\r\\n26180,0\\r\\n50998,0\\r\\n14696,0\\r\\n19500,0\\r\\n63438,0\\r\\n38609,0\\r\\n20211,0\\r\\n71137,1\\r\\n76517,0\\r\\n64343,0\\r\\n10973,0\\r\\n13382,0\\r\\n12493,0\\r\\n35477,0\\r\\n39938,0\\r\\n4765,0\\r\\n45943,0\\r\\n32158,0\\r\\n18238,0\\r\\n33532,0\\r\\n75086,0\\r\\n9568,0\\r\\n23589,0\\r\\n73806,0\\r\\n71150,0\\r\\n763,0\\r\\n75727,0\\r\\n61681,0\\r\\n33954,0\\r\\n61090,1\\r\\n21063,0\\r\\n56993,0\\r\\n75413,0\\r\\n47495,0\\r\\n53119,0\\r\\n22175,0\\r\\n68332,0\\r\\n54018,0\\r\\n56763,0\\r\\n29480,0\\r\\n73207,0\\r\\n65903,0\\r\\n2296,0\\r\\n49568,0\\r\\n54148,0\\r\\n53816,1\\r\\n56658,0\\r\\n53220,0\\r\\n26160,0\\r\\n24319,0\\r\\n36897,1\\r\\n17542,0\\r\\n14683,0\\r\\n39109,0\\r\\n23850,1\\r\\n15575,0\\r\\n25741,0\\r\\n70427,0\\r\\n26616,0\\r\\n36971,0\\r\\n53384,0\\r\\n48995,0\\r\\n57113,1\\r\\n47716,0\\r\\n56148,0\\r\\n66809,0\\r\\n53600,0\\r\\n61424,0\\r\\n54322,0\\r\\n45913,0\\r\\n44815,0\\r\\n8358,0\\r\\n60000,0\\r\\n35204,0\\r\\n72071,0\\r\\n26701,0\\r\\n10370,0\\r\\n74560,0\\r\\n19604,0\\r\\n58653,0\\r\\n52501,0\\r\\n30549,0\\r\\n63071,0\\r\\n73756,1\\r\\n41024,0\\r\\n65938,0\\r\\n52355,0\\r\\n76455,0\\r\\n29034,0\\r\\n1339,0\\r\\n58577,0\\r\\n26836,1\\r\\n36738,0\\r\\n1746,0\\r\\n952,0\\r\\n76867,0\\r\\n62517,0\\r\\n47788,0\\r\\n52075,0\\r\\n53875,0\\r\\n63777,0\\r\\n3182,0\\r\\n52458,0\\r\\n20965,0\\r\\n2603,0\\r\\n51791,0\\r\\n58142,0\\r\\n29416,0\\r\\n37643,0\\r\\n60807,0\\r\\n32593,0\\r\\n40011,0\\r\\n40485,0\\r\\n44713,0\\r\\n7079,0\\r\\n45240,0\\r\\n40851,1\\r\\n3367,0\\r\\n12415,0\\r\\n32095,0\\r\\n11434,0\\r\\n8243,0\\r\\n46929,0\\r\\n10590,0\\r\\n20983,0\\r\\n66233,0\\r\\n25392,0\\r\\n48176,0\\r\\n17965,0\\r\\n36854,0\\r\\n29590,0\\r\\n53774,0\\r\\n38689,0\\r\\n54609,0\\r\\n45502,1\\r\\n26829,1\\r\\n13626,0\\r\\n49930,0\\r\\n76158,0\\r\\n3365,0\\r\\n57183,0\\r\\n35195,0\\r\\n11259,0\\r\\n34286,0\\r\\n38025,0\\r\\n76714,0\\r\\n62506,0\\r\\n21500,0\\r\\n59516,0\\r\\n61160,0\\r\\n36634,0\\r\\n51452,0\\r\\n20574,0\\r\\n27677,0\\r\\n34947,0\\r\\n39475,0\\r\\n46145,0\\r\\n19963,0\\r\\n30851,0\\r\\n70730,0\\r\\n20881,0\\r\\n63701,0\\r\\n69182,0\\r\\n60208,0\\r\\n11282,0\\r\\n57851,0\\r\\n54160,0\\r\\n14887,0\\r\\n66925,0\\r\\n74462,0\\r\\n32427,0\\r\\n45843,0\\r\\n51611,0\\r\\n17527,0\\r\\n75151,0\\r\\n51768,0\\r\\n18558,0\\r\\n2667,0\\r\\n74123,0\\r\\n12031,0\\r\\n74159,0\\r\\n28452,0\\r\\n44291,0\\r\\n28396,0\\r\\n51644,0\\r\\n9484,0\\r\\n61677,0\\r\\n37321,0\\r\\n16699,0\\r\\n65319,0\\r\\n7800,0\\r\\n11814,0\\r\\n20288,0\\r\\n41574,0\\r\\n3689,0\\r\\n71221,0\\r\\n48600,0\\r\\n24478,0\\r\\n4893,0\\r\\n19494,0\\r\\n26306,0\\r\\n31181,0\\r\\n10373,0\\r\\n63416,0\\r\\n72298,0\\r\\n50561,0\\r\\n68825,0\\r\\n32184,0\\r\\n36716,0\\r\\n22892,0\\r\\n69447,0\\r\\n4385,0\\r\\n50333,0\\r\\n24586,0\\r\\n6498,0\\r\\n39445,0\\r\\n38911,0\\r\\n40345,0\\r\\n9048,0\\r\\n48968,1\\r\\n37638,0\\r\\n3067,0\\r\\n36723,0\\r\\n9515,0\\r\\n26468,0\\r\\n11431,0\\r\\n52192,0\\r\\n23638,0\\r\\n25307,0\\r\\n19739,0\\r\\n24929,0\\r\\n65483,0\\r\\n58123,0\\r\\n24271,0\\r\\n67422,0\\r\\n59590,0\\r\\n42211,0\\r\\n24593,0\\r\\n73135,0\\r\\n14041,0\\r\\n21265,0\\r\\n56997,0\\r\\n69767,0\\r\\n61292,1\\r\\n16151,0\\r\\n37848,0\\r\\n44308,1\\r\\n40582,0\\r\\n27143,0\\r\\n72650,0\\r\\n74023,0\\r\\n39957,0\\r\\n18437,0\\r\\n26230,0\\r\\n10800,0\\r\\n37518,0\\r\\n14480,0\\r\\n74270,0\\r\\n9318,0\\r\\n65988,0\\r\\n25707,0\\r\\n65633,0\\r\\n41040,0\\r\\n43607,0\\r\\n29098,0\\r\\n63002,0\\r\\n14364,0\\r\\n71752,0\\r\\n51527,0\\r\\n74012,0\\r\\n11592,0\\r\\n73855,0\\r\\n31325,0\\r\\n63171,0\\r\\n73854,0\\r\\n43684,0\\r\\n50378,0\\r\\n48880,0\\r\\n67778,0\\r\\n60843,0\\r\\n32851,0\\r\\n51467,1\\r\\n74888,0\\r\\n23102,0\\r\\n31758,0\\r\\n30975,0\\r\\n72724,0\\r\\n66519,0\\r\\n29330,0\\r\\n19619,0\\r\\n21906,0\\r\\n12124,1\\r\\n27620,0\\r\\n28083,0\\r\\n30271,0\\r\\n22220,0\\r\\n18998,0\\r\\n32037,0\\r\\n56940,0\\r\\n3280,0\\r\\n10441,0\\r\\n2770,0\\r\\n42158,0\\r\\n21345,1\\r\\n62425,0\\r\\n12837,0\\r\\n72526,0\\r\\n45538,0\\r\\n56179,0\\r\\n57921,0\\r\\n36563,0\\r\\n7424,0\\r\\n76923,0\\r\\n14211,0\\r\\n28987,0\\r\\n24573,0\\r\\n36570,0\\r\\n64832,0\\r\\n29816,0\\r\\n13728,0\\r\\n45112,0\\r\\n435,0\\r\\n51057,0\\r\\n57646,0\\r\\n33392,0\\r\\n77530,0\\r\\n62583,0\\r\\n1177,0\\r\\n45055,0\\r\\n46487,0\\r\\n18319,0\\r\\n11781,0\\r\\n7546,0\\r\\n17933,0\\r\\n56851,0\\r\\n1891,0\\r\\n77150,0\\r\\n23736,0\\r\\n56659,0\\r\\n72629,0\\r\\n76067,0\\r\\n44692,1\\r\\n8656,0\\r\\n8564,0\\r\\n63207,0\\r\\n51801,0\\r\\n26292,0\\r\\n44120,0\\r\\n3247,0\\r\\n48864,0\\r\\n74808,0\\r\\n43879,0\\r\\n65333,0\\r\\n46359,0\\r\\n54512,0\\r\\n74594,0\\r\\n41178,0\\r\\n5156,0\\r\\n48069,0\\r\\n63982,0\\r\\n14354,0\\r\\n34504,0\\r\\n46711,0\\r\\n4064,0\\r\\n12234,0\\r\\n73067,0\\r\\n12769,0\\r\\n68623,0\\r\\n55219,0\\r\\n64823,0\\r\\n70775,0\\r\\n39568,0\\r\\n37786,0\\r\\n18950,0\\r\\n59069,0\\r\\n70295,0\\r\\n23885,0\\r\\n52629,0\\r\\n76115,0\\r\\n26452,0\\r\\n59342,0\\r\\n31091,0\\r\\n59442,0\\r\\n12561,0\\r\\n40928,0\\r\\n24063,0\\r\\n11999,0\\r\\n33718,0\\r\\n27597,0\\r\\n12084,0\\r\\n30255,0\\r\\n41142,0\\r\\n64049,0\\r\\n16674,0\\r\\n30017,0\\r\\n73059,0\\r\\n40589,0\\r\\n4815,0\\r\\n31796,0\\r\\n32087,0\\r\\n70063,0\\r\\n34017,0\\r\\n62817,0\\r\\n48900,0\\r\\n8983,0\\r\\n17351,0\\r\\n40115,0\\r\\n7108,0\\r\\n78083,0\\r\\n69768,0\\r\\n33433,0\\r\\n4672,0\\r\\n42230,0\\r\\n69821,0\\r\\n66305,0\\r\\n37369,0\\r\\n74767,0\\r\\n73014,0\\r\\n42780,0\\r\\n59940,0\\r\\n25248,0\\r\\n52932,0\\r\\n38421,0\\r\\n47834,0\\r\\n64568,0\\r\\n3859,0\\r\\n28649,0\\r\\n59145,0\\r\\n36569,0\\r\\n34588,0\\r\\n53716,0\\r\\n71411,0\\r\\n36871,0\\r\\n54106,0\\r\\n38743,0\\r\\n54907,0\\r\\n77568,0\\r\\n47040,0\\r\\n2705,0\\r\\n50713,0\\r\\n30944,0\\r\\n57864,0\\r\\n32556,0\\r\\n65952,0\\r\\n35996,0\\r\\n49393,0\\r\\n22523,0\\r\\n18827,0\\r\\n3727,0\\r\\n16080,0\\r\\n37021,0\\r\\n51040,1\\r\\n20888,0\\r\\n214,0\\r\\n35417,0\\r\\n64494,0\\r\\n3627,0\\r\\n31849,0\\r\\n28691,0\\r\\n9800,0\\r\\n44963,0\\r\\n52488,0\\r\\n44960,0\\r\\n24755,0\\r\\n66381,0\\r\\n19556,0\\r\\n41146,0\\r\\n27861,0\\r\\n43146,0\\r\\n64366,0\\r\\n54764,0\\r\\n15410,1\\r\\n67671,0\\r\\n73832,0\\r\\n48225,0\\r\\n2897,0\\r\\n57906,0\\r\\n18066,0\\r\\n63387,0\\r\\n26286,0\\r\\n52912,0\\r\\n59773,0\\r\\n19792,0\\r\\n66559,0\\r\\n41980,0\\r\\n76042,0\\r\\n78096,0\\r\\n8670,0\\r\\n31692,0\\r\\n46671,0\\r\\n42148,0\\r\\n66608,0\\r\\n70909,0\\r\\n31741,0\\r\\n44475,0\\r\\n38078,0\\r\\n23047,0\\r\\n13325,0\\r\\n67060,0\\r\\n16286,0\\r\\n14103,0\\r\\n51857,0\\r\\n1976,0\\r\\n21410,0\\r\\n67306,0\\r\\n26090,0\\r\\n68776,0\\r\\n11894,0\\r\\n75587,0\\r\\n23944,1\\r\\n11441,0\\r\\n10528,0\\r\\n61645,0\\r\\n3495,0\\r\\n15345,1\\r\\n1394,0\\r\\n61475,0\\r\\n75935,0\\r\\n39929,0\\r\\n73020,0\\r\\n74685,0\\r\\n39561,0\\r\\n66240,0\\r\\n54702,0\\r\\n61035,0\\r\\n65505,0\\r\\n54286,0\\r\\n61961,0\\r\\n55345,0\\r\\n73575,0\\r\\n64471,0\\r\\n53680,0\\r\\n21010,0\\r\\n53537,0\\r\\n2489,0\\r\\n2753,0\\r\\n6512,0\\r\\n70533,0\\r\\n39822,0\\r\\n54076,0\\r\\n32269,0\\r\\n16515,0\\r\\n76503,0\\r\\n68837,0\\r\\n34330,0\\r\\n20985,0\\r\\n53522,0\\r\\n20425,0\\r\\n31916,0\\r\\n61539,1\\r\\n29552,0\\r\\n61124,0\\r\\n55746,0\\r\\n73842,0\\r\\n31974,0\\r\\n51888,0\\r\\n11341,0\\r\\n66654,0\\r\\n45231,0\\r\\n22251,0\\r\\n16770,0\\r\\n32470,0\\r\\n49820,0\\r\\n56738,0\\r\\n69967,0\\r\\n7051,0\\r\\n34644,0\\r\\n21451,0\\r\\n75781,0\\r\\n75181,0\\r\\n38188,0\\r\\n72944,0\\r\\n46780,0\\r\\n56836,0\\r\\n25309,0\\r\\n20112,0\\r\\n66820,0\\r\\n24298,0\\r\\n5803,0\\r\\n9595,0\\r\\n47056,0\\r\\n7470,0\\r\\n41965,0\\r\\n5478,0\\r\\n78072,0\\r\\n62874,0\\r\\n27852,0\\r\\n56311,0\\r\\n29360,0\\r\\n43485,0\\r\\n36625,0\\r\\n42995,0\\r\\n57157,0\\r\\n69557,0\\r\\n41377,0\\r\\n31645,0\\r\\n56199,0\\r\\n36485,0\\r\\n50374,0\\r\\n60900,0\\r\\n35690,0\\r\\n25668,1\\r\\n32740,0\\r\\n60290,0\\r\\n11667,0\\r\\n36618,1\\r\\n58493,0\\r\\n45458,0\\r\\n13698,0\\r\\n5130,0\\r\\n71534,0\\r\\n75082,0\\r\\n72033,0\\r\\n69619,0\\r\\n11481,0\\r\\n20647,0\\r\\n40286,0\\r\\n32007,0\\r\\n38774,0\\r\\n70473,0\\r\\n4788,0\\r\\n55558,0\\r\\n57125,0\\r\\n52000,0\\r\\n48088,1\\r\\n68163,0\\r\\n21086,0\\r\\n72112,0\\r\\n66910,0\\r\\n2491,0\\r\\n35073,0\\r\\n13448,0\\r\\n30402,0\\r\\n66510,0\\r\\n28939,0\\r\\n25055,0\\r\\n59421,0\\r\\n8898,0\\r\\n71082,0\\r\\n78121,0\\r\\n72825,0\\r\\n47976,0\\r\\n49920,0\\r\\n64382,0\\r\\n54291,0\\r\\n1613,0\\r\\n11147,0\\r\\n8788,0\\r\\n4252,0\\r\\n73300,0\\r\\n56710,0\\r\\n16177,0\\r\\n15636,0\\r\\n25314,0\\r\\n22201,0\\r\\n34180,0\\r\\n76721,0\\r\\n978,0\\r\\n60956,0\\r\\n48725,0\\r\\n48460,0\\r\\n68724,0\\r\\n38699,0\\r\\n73851,0\\r\\n18546,0\\r\\n51241,0\\r\\n39269,0\\r\\n72708,0\\r\\n1227,0\\r\\n21052,0\\r\\n48229,0\\r\\n25308,0\\r\\n30799,0\\r\\n50863,0\\r\\n49391,0\\r\\n70179,0\\r\\n37416,0\\r\\n7903,0\\r\\n44633,0\\r\\n8499,0\\r\\n19647,0\\r\\n67227,0\\r\\n23629,1\\r\\n16753,0\\r\\n68396,0\\r\\n48477,0\\r\\n51105,0\\r\\n33813,0\\r\\n69921,0\\r\\n57598,0\\r\\n35600,0\\r\\n4827,0\\r\\n55837,0\\r\\n44491,0\\r\\n78144,0\\r\\n2512,0\\r\\n28621,0\\r\\n30526,0\\r\\n12219,0\\r\\n72946,0\\r\\n23428,0\\r\\n64112,0\\r\\n59633,0\\r\\n14111,0\\r\\n23383,0\\r\\n26209,0\\r\\n51208,0\\r\\n57910,0\\r\\n77440,0\\r\\n66320,0\\r\\n49506,0\\r\\n44978,0\\r\\n77880,0\\r\\n49034,0\\r\\n6584,0\\r\\n26001,0\\r\\n77781,0\\r\\n42035,0\\r\\n59699,0\\r\\n2388,0\\r\\n9512,0\\r\\n8115,0\\r\\n10970,0\\r\\n56768,0\\r\\n61502,0\\r\\n72904,0\\r\\n3836,0\\r\\n54675,0\\r\\n45763,1\\r\\n75480,0\\r\\n55185,0\\r\\n16366,0\\r\\n42475,0\\r\\n53922,0\\r\\n30332,0\\r\\n38669,0\\r\\n12554,0\\r\\n39219,0\\r\\n12129,0\\r\\n24025,0\\r\\n53181,0\\r\\n15003,0\\r\\n54572,0\\r\\n775,0\\r\\n59963,0\\r\\n16542,0\\r\\n36402,0\\r\\n65599,0\\r\\n66084,0\\r\\n3634,0\\r\\n74109,0\\r\\n31032,0\\r\\n13055,0\\r\\n22044,0\\r\\n52087,0\\r\\n47173,0\\r\\n10711,0\\r\\n31217,0\\r\\n64907,0\\r\\n3876,1\\r\\n23683,0\\r\\n51308,0\\r\\n32210,0\\r\\n77257,0\\r\\n50878,0\\r\\n47603,0\\r\\n2522,0\\r\\n51695,0\\r\\n23840,0\\r\\n54317,0\\r\\n9572,0\\r\\n39468,0\\r\\n30847,0\\r\\n17546,0\\r\\n20726,0\\r\\n40542,0\\r\\n36736,0\\r\\n4296,0\\r\\n43949,0\\r\\n74243,0\\r\\n22637,0\\r\\n65125,0\\r\\n50714,0\\r\\n44903,0\\r\\n43151,0\\r\\n46611,0\\r\\n19327,1\\r\\n47890,0\\r\\n49948,0\\r\\n17063,1\\r\\n55388,0\\r\\n65295,0\\r\\n77316,0\\r\\n59184,0\\r\\n4657,0\\r\\n68996,0\\r\\n4727,0\\r\\n56504,0\\r\\n18876,0\\r\\n46563,0\\r\\n21582,0\\r\\n36113,0\\r\\n34548,0\\r\\n59008,0\\r\\n60091,0\\r\\n33042,0\\r\\n37852,0\\r\\n20449,0\\r\\n29021,1\\r\\n64338,0\\r\\n44535,0\\r\\n48615,0\\r\\n16991,1\\r\\n63405,0\\r\\n42881,1\\r\\n74838,0\\r\\n73149,0\\r\\n48834,0\\r\\n2459,0\\r\\n1519,0\\r\\n41442,0\\r\\n48688,0\\r\\n5099,0\\r\\n34779,0\\r\\n62714,0\\r\\n5724,0\\r\\n34000,0\\r\\n40805,0\\r\\n31,0\\r\\n34216,0\\r\\n62960,1\\r\\n40460,0\\r\\n64625,0\\r\\n43733,0\\r\\n14546,0\\r\\n3861,0\\r\\n21591,0\\r\\n42727,0\\r\\n64184,0\\r\\n66257,0\\r\\n23717,0\\r\\n18881,0\\r\\n46845,0\\r\\n3840,0\\r\\n67386,0\\r\\n72934,0\\r\\n50032,0\\r\\n48136,0\\r\\n24844,0\\r\\n8598,0\\r\\n59836,0\\r\\n33740,0\\r\\n33212,0\\r\\n53895,0\\r\\n26167,0\\r\\n13028,0\\r\\n23197,0\\r\\n41600,0\\r\\n38453,0\\r\\n25106,0\\r\\n68826,0\\r\\n14835,0\\r\\n74376,0\\r\\n31016,0\\r\\n77309,0\\r\\n61565,0\\r\\n10864,0\\r\\n42145,0\\r\\n58524,0\\r\\n39014,0\\r\\n33245,0\\r\\n42687,0\\r\\n44463,0\\r\\n62366,0\\r\\n32491,0\\r\\n23754,0\\r\\n66111,0\\r\\n874,0\\r\\n34905,0\\r\\n19253,0\\r\\n10619,0\\r\\n56869,0\\r\\n66175,0\\r\\n56255,0\\r\\n69066,0\\r\\n30927,1\\r\\n65217,0\\r\\n60263,0\\r\\n54974,0\\r\\n67054,0\\r\\n66765,0\\r\\n21312,0\\r\\n23267,0\\r\\n4535,0\\r\\n23275,0\\r\\n6646,0\\r\\n72480,0\\r\\n76051,0\\r\\n12529,0\\r\\n52126,0\\r\\n66085,0\\r\\n40826,0\\r\\n60967,0\\r\\n9559,0\\r\\n42873,0\\r\\n63371,0\\r\\n70005,0\\r\\n23918,0\\r\\n29479,0\\r\\n24516,0\\r\\n35905,0\\r\\n53240,0\\r\\n36074,0\\r\\n58702,0\\r\\n38183,0\\r\\n19073,0\\r\\n64659,0\\r\\n11450,0\\r\\n13990,0\\r\\n8830,0\\r\\n21377,0\\r\\n71525,0\\r\\n47475,0\\r\\n57673,0\\r\\n40793,0\\r\\n67229,0\\r\\n48328,0\\r\\n38730,0\\r\\n72436,0\\r\\n49177,0\\r\\n49785,0\\r\\n54874,0\\r\\n46700,0\\r\\n32261,0\\r\\n51766,0\\r\\n34987,0\\r\\n57193,0\\r\\n59674,0\\r\\n21843,0\\r\\n46636,0\\r\\n3509,0\\r\\n11335,0\\r\\n73468,0\\r\\n2657,0\\r\\n26873,1\\r\\n18298,0\\r\\n35730,0\\r\\n12372,0\\r\\n29722,0\\r\\n4902,0\\r\\n63508,0\\r\\n30041,0\\r\\n23804,0\\r\\n23228,0\\r\\n50574,0\\r\\n8097,0\\r\\n69522,1\\r\\n7884,0\\r\\n35727,0\\r\\n42372,0\\r\\n12816,0\\r\\n57837,0\\r\\n67977,0\\r\\n27604,0\\r\\n77844,0\\r\\n38126,0\\r\\n25214,0\\r\\n56056,0\\r\\n67663,0\\r\\n72942,0\\r\\n48228,0\\r\\n64702,0\\r\\n39505,0\\r\\n54304,0\\r\\n4771,1\\r\\n4452,0\\r\\n7955,0\\r\\n68191,0\\r\\n2506,1\\r\\n17384,0\\r\\n52494,0\\r\\n30618,0\\r\\n2691,0\\r\\n59993,0\\r\\n75247,0\\r\\n66963,0\\r\\n6594,0\\r\\n30519,1\\r\\n40666,0\\r\\n33032,0\\r\\n2835,0\\r\\n73915,0\\r\\n58931,0\\r\\n49848,0\\r\\n72295,0\\r\\n31243,0\\r\\n65890,0\\r\\n3986,0\\r\\n46352,0\\r\\n36040,0\\r\\n16610,0\\r\\n41393,0\\r\\n48816,0\\r\\n57229,0\\r\\n49362,0\\r\\n38051,0\\r\\n47042,0\\r\\n7434,0\\r\\n30730,0\\r\\n19382,0\\r\\n13429,0\\r\\n18341,0\\r\\n38705,0\\r\\n29300,0\\r\\n74239,0\\r\\n12216,0\\r\\n4688,0\\r\\n46692,0\\r\\n47923,0\\r\\n8486,0\\r\\n77112,0\\r\\n39018,0\\r\\n24303,1\\r\\n9646,0\\r\\n56881,0\\r\\n57168,0\\r\\n72838,0\\r\\n50216,0\\r\\n32989,0\\r\\n57767,0\\r\\n3450,0\\r\\n56292,0\\r\\n14234,0\\r\\n18487,0\\r\\n69894,0\\r\\n45453,0\\r\\n67524,0\\r\\n2473,0\\r\\n12656,0\\r\\n68062,0\\r\\n9442,0\\r\\n5862,0\\r\\n14076,0\\r\\n63370,0\\r\\n47348,0\\r\\n41859,0\\r\\n14147,0\\r\\n141,0\\r\\n8593,0\\r\\n19449,0\\r\\n64401,0\\r\\n32507,0\\r\\n67933,0\\r\\n15994,0\\r\\n75464,0\\r\\n64009,0\\r\\n55652,0\\r\\n60933,0\\r\\n53723,0\\r\\n38167,0\\r\\n7266,0\\r\\n18242,0\\r\\n36743,0\\r\\n67121,0\\r\\n35246,0\\r\\n5728,0\\r\\n34051,0\\r\\n14659,0\\r\\n33403,0\\r\\n72885,0\\r\\n56307,0\\r\\n43438,0\\r\\n63369,1\\r\\n63539,0\\r\\n66423,0\\r\\n40423,0\\r\\n68647,0\\r\\n65132,0\\r\\n22508,0\\r\\n52914,0\\r\\n30825,0\\r\\n53100,0\\r\\n73520,0\\r\\n2953,0\\r\\n24061,0\\r\\n17449,0\\r\\n60740,0\\r\\n62891,0\\r\\n11203,1\\r\\n24208,0\\r\\n6325,0\\r\\n23480,0\\r\\n70385,0\\r\\n2025,0\\r\\n72550,0\\r\\n43866,0\\r\\n53451,0\\r\\n28411,0\\r\\n31989,0\\r\\n41081,0\\r\\n54103,0\\r\\n42523,0\\r\\n45018,0\\r\\n12901,0\\r\\n71296,0\\r\\n78157,0\\r\\n47334,0\\r\\n16007,0\\r\\n62467,0\\r\\n72729,0\\r\\n1670,0\\r\\n47897,0\\r\\n40693,0\\r\\n34134,0\\r\\n25795,0\\r\\n29785,0\\r\\n22497,0\\r\\n677,0\\r\\n39819,0\\r\\n66909,0\\r\\n3074,0\\r\\n52536,0\\r\\n23720,0\\r\\n67863,1\\r\\n74398,0\\r\\n20535,0\\r\\n63422,0\\r\\n27320,0\\r\\n76245,0\\r\\n40264,0\\r\\n14298,0\\r\\n31683,0\\r\\n54657,0\\r\\n23269,0\\r\\n49072,0\\r\\n76672,0\\r\\n77489,1\\r\\n61544,0\\r\\n47852,0\\r\\n61261,0\\r\\n14945,0\\r\\n65410,0\\r\\n75098,0\\r\\n36120,0\\r\\n18982,0\\r\\n4231,0\\r\\n29644,0\\r\\n43494,0\\r\\n53941,0\\r\\n7467,0\\r\\n69805,0\\r\\n64884,0\\r\\n33860,0\\r\\n26381,0\\r\\n45397,0\\r\\n77780,0\\r\\n11805,0\\r\\n5005,0\\r\\n21937,0\\r\\n61582,0\\r\\n24810,0\\r\\n31310,0\\r\\n69092,0\\r\\n74903,0\\r\\n42348,0\\r\\n72367,0\\r\\n31478,0\\r\\n36184,0\\r\\n54689,0\\r\\n46913,0\\r\\n3573,0\\r\\n21532,0\\r\\n58945,0\\r\\n16868,1\\r\\n73413,1\\r\\n1387,0\\r\\n29834,0\\r\\n902,0\\r\\n36145,0\\r\\n269,0\\r\\n26557,0\\r\\n14098,0\\r\\n55484,0\\r\\n22794,0\\r\\n21144,0\\r\\n30308,0\\r\\n21373,0\\r\\n12636,0\\r\\n68761,0\\r\\n67650,0\\r\\n5036,0\\r\\n1169,0\\r\\n5808,0\\r\\n34611,0\\r\\n74828,0\\r\\n20546,0\\r\\n7643,0\\r\\n12489,0\\r\\n384,0\\r\\n61503,0\\r\\n36095,0\\r\\n7207,0\\r\\n66983,0\\r\\n8477,0\\r\\n63262,0\\r\\n2045,0\\r\\n25687,0\\r\\n15677,0\\r\\n53823,0\\r\\n13311,0\\r\\n4910,0\\r\\n53307,0\\r\\n44778,0\\r\\n49163,0\\r\\n45476,0\\r\\n37995,0\\r\\n29052,0\\r\\n43285,0\\r\\n15938,0\\r\\n5199,0\\r\\n10627,0\\r\\n28166,0\\r\\n42924,0\\r\\n30150,0\\r\\n60902,0\\r\\n53298,0\\r\\n22136,0\\r\\n63442,0\\r\\n71398,0\\r\\n13172,0\\r\\n75716,0\\r\\n8309,0\\r\\n22221,0\\r\\n2326,0\\r\\n31911,0\\r\\n3543,0\\r\\n72236,0\\r\\n44405,0\\r\\n54275,0\\r\\n12312,0\\r\\n12268,0\\r\\n68025,0\\r\\n32396,0\\r\\n57757,0\\r\\n23432,0\\r\\n34771,0\\r\\n30745,0\\r\\n17206,0\\r\\n55238,0\\r\\n12386,0\\r\\n23640,0\\r\\n76216,0\\r\\n25344,0\\r\\n46480,0\\r\\n63146,0\\r\\n36557,0\\r\\n35979,0\\r\\n18548,0\\r\\n42214,0\\r\\n42224,0\\r\\n21287,0\\r\\n73916,0\\r\\n71117,0\\r\\n62991,0\\r\\n53404,0\\r\\n57244,0\\r\\n69424,0\\r\\n12117,0\\r\\n13986,0\\r\\n32772,0\\r\\n681,0\\r\\n39038,0\\r\\n7959,0\\r\\n35880,0\\r\\n8700,0\\r\\n21468,0\\r\\n12771,0\\r\\n58115,0\\r\\n40549,0\\r\\n67039,0\\r\\n32542,0\\r\\n75590,0\\r\\n37337,0\\r\\n64168,0\\r\\n68885,0\\r\\n57419,1\\r\\n4507,0\\r\\n7153,0\\r\\n30237,0\\r\\n44213,0\\r\\n49509,0\\r\\n66357,0\\r\\n52016,0\\r\\n29150,0\\r\\n54761,0\\r\\n51233,0\\r\\n2767,0\\r\\n51620,0\\r\\n76013,0\\r\\n58462,0\\r\\n25886,0\\r\\n18083,0\\r\\n30423,0\\r\\n2683,0\\r\\n15406,0\\r\\n43974,0\\r\\n46057,0\\r\\n48015,0\\r\\n19247,0\\r\\n23803,0\\r\\n76543,0\\r\\n7069,0\\r\\n71284,0\\r\\n23373,0\\r\\n13484,0\\r\\n63689,1\\r\\n66433,0\\r\\n71691,0\\r\\n28947,0\\r\\n2488,0\\r\\n21175,0\\r\\n12166,0\\r\\n15107,0\\r\\n9532,0\\r\\n7375,0\\r\\n47992,0\\r\\n51153,0\\r\\n13830,0\\r\\n22398,0\\r\\n9873,0\\r\\n50442,0\\r\\n39330,0\\r\\n11783,0\\r\\n7080,0\\r\\n14813,1\\r\\n8868,0\\r\\n39826,0\\r\\n15191,0\\r\\n48444,0\\r\\n5842,0\\r\\n56948,0\\r\\n54717,0\\r\\n53063,0\\r\\n38383,0\\r\\n19108,0\\r\\n5209,0\\r\\n36024,0\\r\\n41558,0\\r\\n48294,0\\r\\n51987,0\\r\\n20879,0\\r\\n27283,0\\r\\n48687,0\\r\\n64615,0\\r\\n52871,0\\r\\n20745,0\\r\\n64344,0\\r\\n76092,0\\r\\n62808,0\\r\\n74283,0\\r\\n5897,0\\r\\n46706,0\\r\\n60392,0\\r\\n62797,0\\r\\n15754,0\\r\\n10019,0\\r\\n19394,0\\r\\n37096,0\\r\\n61730,0\\r\\n2859,0\\r\\n42204,0\\r\\n39846,1\\r\\n39510,0\\r\\n16379,0\\r\\n71527,0\\r\\n63596,0\\r\\n36518,0\\r\\n2728,0\\r\\n26263,0\\r\\n51076,0\\r\\n11773,0\\r\\n76363,0\\r\\n21223,0\\r\\n46094,0\\r\\n70855,0\\r\\n30677,0\\r\\n32919,0\\r\\n24073,0\\r\\n7468,0\\r\\n64386,0\\r\\n26247,0\\r\\n46315,0\\r\\n25294,0\\r\\n59812,0\\r\\n9405,0\\r\\n66914,0\\r\\n15370,0\\r\\n55543,0\\r\\n65291,0\\r\\n62396,0\\r\\n41358,0\\r\\n66166,0\\r\\n72975,0\\r\\n42277,0\\r\\n77804,0\\r\\n63918,0\\r\\n49529,0\\r\\n17633,0\\r\\n21684,0\\r\\n31030,0\\r\\n19596,0\\r\\n48540,0\\r\\n15058,0\\r\\n37384,0\\r\\n56008,0\\r\\n46542,0\\r\\n10216,0\\r\\n7206,0\\r\\n41351,1\\r\\n32924,0\\r\\n62445,0\\r\\n52813,0\\r\\n24827,0\\r\\n73694,0\\r\\n54350,0\\r\\n28882,0\\r\\n30671,0\\r\\n59646,0\\r\\n69710,0\\r\\n70108,0\\r\\n38572,0\\r\\n21260,0\\r\\n4026,0\\r\\n7074,0\\r\\n12224,0\\r\\n12429,0\\r\\n4513,1\\r\\n48789,0\\r\\n27379,0\\r\\n31973,0\\r\\n18422,0\\r\\n22967,0\\r\\n43286,0\\r\\n35268,0\\r\\n77711,0\\r\\n47251,0\\r\\n1974,0\\r\\n7909,0\\r\\n43727,0\\r\\n68644,0\\r\\n20267,0\\r\\n64671,0\\r\\n22154,0\\r\\n32723,0\\r\\n18005,0\\r\\n76701,0\\r\\n49784,0\\r\\n34066,0\\r\\n28132,0\\r\\n6664,0\\r\\n59678,0\\r\\n37688,0\\r\\n36179,0\\r\\n56503,0\\r\\n74916,1\\r\\n56600,0\\r\\n28243,0\\r\\n58305,0\\r\\n37670,0\\r\\n70393,0\\r\\n57801,0\\r\\n32598,0\\r\\n41513,0\\r\\n52428,0\\r\\n15993,0\\r\\n29915,0\\r\\n23559,0\\r\\n29193,0\\r\\n70462,0\\r\\n44979,0\\r\\n75762,0\\r\\n35964,0\\r\\n72241,0\\r\\n33917,0\\r\\n54001,0\\r\\n7860,0\\r\\n4664,0\\r\\n15536,0\\r\\n64856,0\\r\\n52392,0\\r\\n25961,0\\r\\n1707,0\\r\\n31723,0\\r\\n672,0\\r\\n53962,0\\r\\n7406,0\\r\\n2172,0\\r\\n10038,0\\r\\n34829,0\\r\\n54147,0\\r\\n17247,0\\r\\n11219,0\\r\\n48740,0\\r\\n21310,0\\r\\n67783,0\\r\\n55878,0\\r\\n26957,0\\r\\n29959,0\\r\\n54213,0\\r\\n16268,0\\r\\n21117,0\\r\\n47895,0\\r\\n27732,0\\r\\n50096,0\\r\\n65972,0\\r\\n41809,0\\r\\n26849,1\\r\\n23,0\\r\\n14795,0\\r\\n11125,0\\r\\n55925,0\\r\\n72499,0\\r\\n15059,0\\r\\n58987,0\\r\\n27845,0\\r\\n11634,0\\r\\n726,0\\r\\n30740,0\\r\\n11945,0\\r\\n58226,0\\r\\n2574,0\\r\\n68141,0\\r\\n23555,0\\r\\n28251,0\\r\\n59580,0\\r\\n43967,0\\r\\n10821,0\\r\\n77861,0\\r\\n59440,0\\r\\n63653,0\\r\\n41070,0\\r\\n74067,0\\r\\n35881,0\\r\\n52095,0\\r\\n19084,0\\r\\n50753,0\\r\\n3701,0\\r\\n69210,0\\r\\n3190,0\\r\\n49615,0\\r\\n10543,0\\r\\n55458,0\\r\\n53732,0\\r\\n74170,0\\r\\n25587,0\\r\\n51236,0\\r\\n65057,0\\r\\n64893,0\\r\\n56938,0\\r\\n12430,0\\r\\n8252,0\\r\\n8673,0\\r\\n52013,1\\r\\n59992,0\\r\\n29037,0\\r\\n77589,0\\r\\n74232,0\\r\\n21772,0\\r\\n75909,0\\r\\n43315,0\\r\\n8502,0\\r\\n70863,0\\r\\n30074,0\\r\\n21647,0\\r\\n73083,0\\r\\n30272,0\\r\\n36124,0\\r\\n30653,0\\r\\n69490,0\\r\\n22378,0\\r\\n43154,0\\r\\n9111,0\\r\\n59369,0\\r\\n31538,0\\r\\n52399,0\\r\\n66943,0\\r\\n19995,0\\r\\n45665,0\\r\\n70527,0\\r\\n26869,1\\r\\n20044,0\\r\\n70754,0\\r\\n517,0\\r\\n59611,0\\r\\n24690,0\\r\\n17958,0\\r\\n45251,0\\r\\n59213,0\\r\\n10688,0\\r\\n76888,0\\r\\n18968,0\\r\\n34022,0\\r\\n17182,0\\r\\n16452,0\\r\\n37512,0\\r\\n76615,0\\r\\n21252,0\\r\\n68087,0\\r\\n29884,0\\r\\n1024,0\\r\\n73110,0\\r\\n33138,0\\r\\n63894,0\\r\\n36223,0\\r\\n62952,0\\r\\n77567,0\\r\\n69234,0\\r\\n63924,0\\r\\n66300,0\\r\\n51010,0\\r\\n12654,0\\r\\n50986,0\\r\\n67627,0\\r\\n17870,0\\r\\n23068,0\\r\\n53396,0\\r\\n10034,0\\r\\n60436,1\\r\\n57791,0\\r\\n53153,0\\r\\n16512,0\\r\\n48197,0\\r\\n33650,0\\r\\n7786,0\\r\\n49875,0\\r\\n7797,0\\r\\n52768,0\\r\\n67884,0\\r\\n69070,0\\r\\n65176,0\\r\\n50436,0\\r\\n43481,0\\r\\n68779,0\\r\\n23765,0\\r\\n42559,0\\r\\n44379,0\\r\\n58757,0\\r\\n71104,0\\r\\n11318,0\\r\\n24163,0\\r\\n59841,0\\r\\n47309,0\\r\\n44558,0\\r\\n28355,0\\r\\n6988,0\\r\\n56676,0\\r\\n54214,0\\r\\n77267,0\\r\\n56603,0\\r\\n13627,0\\r\\n21449,0\\r\\n60828,0\\r\\n43531,0\\r\\n8075,0\\r\\n50243,0\\r\\n27698,0\\r\\n58162,0\\r\\n3121,0\\r\\n46997,0\\r\\n55483,0\\r\\n736,0\\r\\n27817,0\\r\\n17288,0\\r\\n627,0\\r\\n9167,0\\r\\n11036,0\\r\\n75884,0\\r\\n75788,0\\r\\n9230,0\\r\\n1422,1\\r\\n63246,0\\r\\n62909,0\\r\\n54519,0\\r\\n61873,0\\r\\n71183,0\\r\\n44744,0\\r\\n13956,0\\r\\n52644,0\\r\\n60962,0\\r\\n65272,0\\r\\n37586,0\\r\\n54188,0\\r\\n59842,0\\r\\n48590,0\\r\\n71847,0\\r\\n39648,0\\r\\n61845,0\\r\\n20522,0\\r\\n27602,0\\r\\n56892,0\\r\\n23015,0\\r\\n62183,0\\r\\n73412,0\\r\\n23333,0\\r\\n53517,0\\r\\n75346,0\\r\\n67409,0\\r\\n31266,0\\r\\n6445,0\\r\\n13827,0\\r\\n62568,0\\r\\n27482,0\\r\\n2114,0\\r\\n10369,0\\r\\n59065,0\\r\\n34929,0\\r\\n30334,0\\r\\n26530,0\\r\\n6695,0\\r\\n39986,0\\r\\n63093,0\\r\\n76767,0\\r\\n54998,0\\r\\n43424,0\\r\\n39372,0\\r\\n40410,0\\r\\n9081,0\\r\\n69250,0\\r\\n11087,0\\r\\n30342,0\\r\\n72809,0\\r\\n6908,1\\r\\n28161,0\\r\\n76684,0\\r\\n49845,0\\r\\n4650,0\\r\\n5622,0\\r\\n68135,0\\r\\n24372,0\\r\\n11832,0\\r\\n16113,0\\r\\n21759,0\\r\\n10538,0\\r\\n72288,0\\r\\n57099,0\\r\\n31201,0\\r\\n43745,0\\r\\n55624,0\\r\\n26527,0\\r\\n25032,0\\r\\n65991,0\\r\\n35645,0\\r\\n2638,0\\r\\n76087,0\\r\\n57925,0\\r\\n74626,0\\r\\n24443,0\\r\\n77376,0\\r\\n14723,0\\r\\n67390,0\\r\\n30027,0\\r\\n21258,0\\r\\n72625,0\\r\\n15399,0\\r\\n15347,0\\r\\n72153,0\\r\\n8863,0\\r\\n77896,0\\r\\n35843,0\\r\\n16522,0\\r\\n3189,0\\r\\n14606,0\\r\\n35733,0\\r\\n4874,0\\r\\n41399,0\\r\\n19178,0\\r\\n65914,0\\r\\n61744,0\\r\\n51280,0\\r\\n73810,0\\r\\n7783,0\\r\\n77397,0\\r\\n54832,0\\r\\n56278,0\\r\\n2725,0\\r\\n74329,0\\r\\n50580,0\\r\\n60628,0\\r\\n32016,0\\r\\n24977,0\\r\\n64107,0\\r\\n74310,0\\r\\n24127,0\\r\\n64700,0\\r\\n15273,0\\r\\n34227,0\\r\\n20391,0\\r\\n2197,0\\r\\n50356,0\\r\\n41396,0\\r\\n74009,0\\r\\n26455,0\\r\\n41221,0\\r\\n59254,0\\r\\n46950,0\\r\\n51964,0\\r\\n8978,0\\r\\n2811,0\\r\\n50678,0\\r\\n35045,0\\r\\n65639,1\\r\\n35791,0\\r\\n39417,0\\r\\n69870,0\\r\\n228,0\\r\\n868,0\\r\\n21424,0\\r\\n4239,0\\r\\n73897,0\\r\\n49457,1\\r\\n16928,0\\r\\n28529,0\\r\\n70729,0\\r\\n21583,0\\r\\n21333,0\\r\\n33864,0\\r\\n13552,0\\r\\n31800,0\\r\\n3651,0\\r\\n20753,0\\r\\n6007,0\\r\\n6884,0\\r\\n29216,0\\r\\n50393,0\\r\\n14449,0\\r\\n54410,0\\r\\n5470,0\\r\\n65258,0\\r\\n40070,0\\r\\n19565,0\\r\\n10741,0\\r\\n63401,0\\r\\n49886,0\\r\\n64917,0\\r\\n35830,0\\r\\n52424,0\\r\\n60260,0\\r\\n56604,0\\r\\n36330,0\\r\\n63206,0\\r\\n73972,0\\r\\n31884,0\\r\\n41724,0\\r\\n49031,0\\r\\n68954,0\\r\\n26015,0\\r\\n10386,0\\r\\n27529,0\\r\\n15214,0\\r\\n46038,0\\r\\n4336,0\\r\\n76827,0\\r\\n60697,0\\r\\n43537,0\\r\\n16462,0\\r\\n944,0\\r\\n63624,0\\r\\n64873,0\\r\\n18136,0\\r\\n15247,0\\r\\n49058,0\\r\\n204,0\\r\\n32369,0\\r\\n31563,0\\r\\n3161,0\\r\\n60986,0\\r\\n56969,0\\r\\n64750,0\\r\\n2266,0\\r\\n56746,0\\r\\n77311,0\\r\\n42657,0\\r\\n77082,0\\r\\n25614,0\\r\\n27980,0\\r\\n32917,0\\r\\n65274,0\\r\\n30500,0\\r\\n45630,0\\r\\n51376,0\\r\\n7811,0\\r\\n10757,0\\r\\n42265,0\\r\\n34632,0\\r\\n32231,0\\r\\n71804,0\\r\\n7680,0\\r\\n21197,0\\r\\n40877,0\\r\\n20310,0\\r\\n50937,0\\r\\n55016,0\\r\\n41365,0\\r\\n64341,0\\r\\n40258,0\\r\\n1926,0\\r\\n9700,0\\r\\n67640,0\\r\\n46906,0\\r\\n64232,0\\r\\n41154,0\\r\\n48132,0\\r\\n55595,1\\r\\n63541,0\\r\\n42901,0\\r\\n66495,0\\r\\n53314,0\\r\\n1913,0\\r\\n42755,0\\r\\n50051,0\\r\\n16980,0\\r\\n53861,0\\r\\n9668,0\\r\\n56323,0\\r\\n5243,0\\r\\n4723,0\\r\\n75993,1\\r\\n30465,0\\r\\n12180,0\\r\\n18811,0\\r\\n11905,0\\r\\n41970,0\\r\\n47732,0\\r\\n35285,0\\r\\n74926,0\\r\\n43580,0\\r\\n59844,0\\r\\n17367,0\\r\\n31433,0\\r\\n9606,0\\r\\n60455,0\\r\\n51812,0\\r\\n61986,0\\r\\n18219,0\\r\\n7616,0\\r\\n28331,0\\r\\n75947,0\\r\\n55734,0\\r\\n75507,0\\r\\n39106,0\\r\\n69054,0\\r\\n63980,0\\r\\n19772,0\\r\\n54433,0\\r\\n3436,0\\r\\n15470,0\\r\\n1718,0\\r\\n19344,0\\r\\n44288,0\\r\\n28739,0\\r\\n74827,0\\r\\n56783,0\\r\\n60197,0\\r\\n17165,0\\r\\n22861,0\\r\\n39713,0\\r\\n30832,0\\r\\n658,0\\r\\n10993,0\\r\\n54807,0\\r\\n553,0\\r\\n34750,0\\r\\n67202,0\\r\\n76062,0\\r\\n50300,0\\r\\n36667,0\\r\\n75991,0\\r\\n26100,0\\r\\n63022,0\\r\\n43293,0\\r\\n68085,0\\r\\n15715,0\\r\\n34813,0\\r\\n30915,0\\r\\n39001,0\\r\\n53973,0\\r\\n10520,0\\r\\n54349,0\\r\\n47520,0\\r\\n16389,0\\r\\n17852,0\\r\\n10311,0\\r\\n12074,0\\r\\n54670,0\\r\\n14028,0\\r\\n73442,1\\r\\n17014,0\\r\\n47049,0\\r\\n60701,0\\r\\n45581,0\\r\\n35394,0\\r\\n10333,0\\r\\n25695,0\\r\\n21023,0\\r\\n43545,0\\r\\n2310,0\\r\\n22922,0\\r\\n56510,0\\r\\n7267,0\\r\\n45289,0\\r\\n1874,0\\r\\n17620,0\\r\\n50485,0\\r\\n75793,0\\r\\n24344,1\\r\\n45355,0\\r\\n31912,0\\r\\n27261,0\\r\\n77657,0\\r\\n61365,0\\r\\n64953,0\\r\\n39081,0\\r\\n18387,0\\r\\n73475,0\\r\\n44734,0\\r\\n73408,0\\r\\n56917,0\\r\\n69673,0\\r\\n63591,0\\r\\n27463,0\\r\\n51027,0\\r\\n13217,0\\r\\n77391,0\\r\\n47461,0\\r\\n43019,0\\r\\n46120,0\\r\\n71020,0\\r\\n62932,0\\r\\n50225,0\\r\\n67947,0\\r\\n12956,1\\r\\n14037,0\\r\\n19894,0\\r\\n20838,0\\r\\n42325,0\\r\\n29412,0\\r\\n16319,0\\r\\n67962,0\\r\\n77252,0\\r\\n2408,1\\r\\n65074,0\\r\\n40319,0\\r\\n19833,0\\r\\n9553,0\\r\\n16600,0\\r\\n49294,0\\r\\n73084,0\\r\\n61201,0\\r\\n66961,0\\r\\n66208,0\\r\\n32911,0\\r\\n27627,0\\r\\n53198,0\\r\\n7731,0\\r\\n17792,0\\r\\n11574,0\\r\\n22152,0\\r\\n61548,0\\r\\n69127,0\\r\\n22010,0\\r\\n31752,1\\r\\n59555,0\\r\\n9030,0\\r\\n61861,0\\r\\n28603,0\\r\\n8974,0\\r\\n34853,0\\r\\n29374,0\\r\\n3466,0\\r\\n20540,0\\r\\n14517,0\\r\\n41962,0\\r\\n62202,0\\r\\n29918,0\\r\\n73593,0\\r\\n74640,0\\r\\n21045,0\\r\\n6342,0\\r\\n36601,0\\r\\n75291,0\\r\\n22873,0\\r\\n40978,0\\r\\n38787,0\\r\\n53105,1\\r\\n61762,0\\r\\n48858,0\\r\\n56303,0\\r\\n3856,0\\r\\n10278,0\\r\\n12223,0\\r\\n39622,0\\r\\n69102,0\\r\\n17265,0\\r\\n74704,0\\r\\n66297,0\\r\\n5211,0\\r\\n71414,0\\r\\n18861,0\\r\\n479,0\\r\\n4372,0\\r\\n48994,0\\r\\n66997,0\\r\\n13126,0\\r\\n10121,0\\r\\n33531,0\\r\\n72686,0\\r\\n68538,0\\r\\n24325,0\\r\\n50507,0\\r\\n22189,0\\r\\n75832,0\\r\\n34170,0\\r\\n12691,0\\r\\n61786,0\\r\\n47630,0\\r\\n13677,0\\r\\n56951,0\\r\\n59234,0\\r\\n3997,0\\r\\n36521,0\\r\\n24567,0\\r\\n60318,0\\r\\n68137,0\\r\\n15160,0\\r\\n53246,0\\r\\n33892,0\\r\\n6013,0\\r\\n21100,0\\r\\n23242,0\\r\\n5321,0\\r\\n28897,0\\r\\n9196,1\\r\\n13988,0\\r\\n17053,0\\r\\n42974,0\\r\\n41134,0\\r\\n60651,0\\r\\n74581,0\\r\\n47247,0\\r\\n8468,0\\r\\n16876,0\\r\\n49590,0\\r\\n46114,0\\r\\n47786,0\\r\\n76346,0\\r\\n30377,0\\r\\n10336,0\\r\\n77177,0\\r\\n75476,0\\r\\n50293,0\\r\\n57898,0\\r\\n48419,0\\r\\n8347,0\\r\\n12902,0\\r\\n32149,0\\r\\n73957,0\\r\\n60990,0\\r\\n23160,0\\r\\n77380,0\\r\\n4224,0\\r\\n61784,0\\r\\n53607,0\\r\\n14082,0\\r\\n41357,0\\r\\n51313,0\\r\\n16229,0\\r\\n22875,0\\r\\n71387,0\\r\\n19461,0\\r\\n73659,0\\r\\n47417,0\\r\\n14482,0\\r\\n63612,0\\r\\n61831,0\\r\\n30398,0\\r\\n64501,0\\r\\n39537,0\\r\\n39402,0\\r\\n28730,0\\r\\n10050,0\\r\\n30080,0\\r\\n28999,0\\r\\n76897,0\\r\\n36273,0\\r\\n74590,0\\r\\n70175,0\\r\\n24277,0\\r\\n45044,0\\r\\n6765,0\\r\\n17492,1\\r\\n43414,0\\r\\n28249,0\\r\\n15142,0\\r\\n20169,0\\r\\n55,0\\r\\n48480,0\\r\\n59868,0\\r\\n36220,0\\r\\n6732,0\\r\\n46660,0\\r\\n18100,0\\r\\n45569,0\\r\\n49444,0\\r\\n22063,0\\r\\n41071,0\\r\\n66853,0\\r\\n54241,0\\r\\n22810,0\\r\\n54046,0\\r\\n31172,0\\r\\n60493,0\\r\\n13063,0\\r\\n71878,0\\r\\n63102,1\\r\\n28135,0\\r\\n72545,0\\r\\n71965,0\\r\\n16040,0\\r\\n46517,1\\r\\n52372,0\\r\\n11344,0\\r\\n29678,0\\r\\n48233,0\\r\\n12530,0\\r\\n47673,0\\r\\n7995,0\\r\\n35336,0\\r\\n34136,0\\r\\n55573,0\\r\\n33445,0\\r\\n11045,0\\r\\n67189,0\\r\\n45241,0\\r\\n36150,0\\r\\n60736,0\\r\\n48234,0\\r\\n58592,0\\r\\n23909,0\\r\\n40518,0\\r\\n28636,0\\r\\n47969,0\\r\\n41287,0\\r\\n52770,0\\r\\n51952,0\\r\\n27658,0\\r\\n64136,0\\r\\n28232,0\\r\\n19422,0\\r\\n37155,0\\r\\n37481,0\\r\\n48518,0\\r\\n52769,0\\r\\n19088,0\\r\\n126,0\\r\\n31887,0\\r\\n44696,0\\r\\n3461,0\\r\\n75515,0\\r\\n23809,0\\r\\n35473,0\\r\\n34283,0\\r\\n49185,0\\r\\n8540,0\\r\\n11744,0\\r\\n41795,0\\r\\n30685,0\\r\\n53425,0\\r\\n30351,0\\r\\n50135,0\\r\\n67073,0\\r\\n41127,0\\r\\n13464,0\\r\\n11271,0\\r\\n33867,0\\r\\n56381,0\\r\\n17583,0\\r\\n50463,0\\r\\n10325,0\\r\\n13864,0\\r\\n24257,0\\r\\n76327,1\\r\\n18980,0\\r\\n24889,0\\r\\n74960,0\\r\\n65586,0\\r\\n72506,0\\r\\n25252,0\\r\\n16633,0\\r\\n39129,0\\r\\n54070,0\\r\\n8332,0\\r\\n33354,0\\r\\n7859,0\\r\\n51469,0\\r\\n30380,0\\r\\n28874,0\\r\\n71851,0\\r\\n51777,0\\r\\n9957,0\\r\\n76000,0\\r\\n42856,0\\r\\n6456,0\\r\\n65750,0\\r\\n22238,0\\r\\n18137,0\\r\\n63710,0\\r\\n46010,0\\r\\n39843,0\\r\\n60867,0\\r\\n37632,0\\r\\n73458,0\\r\\n44223,1\\r\\n7947,0\\r\\n15936,0\\r\\n55172,0\\r\\n30986,0\\r\\n9610,0\\r\\n10958,0\\r\\n72249,0\\r\\n46695,0\\r\\n51607,0\\r\\n50833,0\\r\\n9275,0\\r\\n67588,0\\r\\n68015,0\\r\\n8441,0\\r\\n53217,0\\r\\n45384,0\\r\\n75539,0\\r\\n2999,0\\r\\n36993,0\\r\\n1549,0\\r\\n48465,0\\r\\n62275,0\\r\\n9135,0\\r\\n6443,0\\r\\n31642,0\\r\\n56643,0\\r\\n17429,0\\r\\n27740,0\\r\\n38295,0\\r\\n58109,0\\r\\n39325,0\\r\\n15568,0\\r\\n71755,0\\r\\n4004,0\\r\\n1293,0\\r\\n48649,0\\r\\n68773,0\\r\\n33505,0\\r\\n60009,0\\r\\n38584,0\\r\\n40263,0\\r\\n1704,0\\r\\n5551,0\\r\\n51108,0\\r\\n38693,0\\r\\n52313,0\\r\\n27399,0\\r\\n77897,0\\r\\n21119,0\\r\\n2028,0\\r\\n78208,0\\r\\n22719,0\\r\\n75197,0\\r\\n66332,0\\r\\n1936,0\\r\\n64055,0\\r\\n39869,0\\r\\n45295,0\\r\\n3965,0\\r\\n5762,0\\r\\n32229,0\\r\\n3571,0\\r\\n9781,0\\r\\n52028,0\\r\\n56501,0\\r\\n25518,1\\r\\n47554,0\\r\\n50327,0\\r\\n32741,0\\r\\n10194,0\\r\\n62000,0\\r\\n75353,0\\r\\n55332,0\\r\\n21718,0\\r\\n8679,0\\r\\n27733,0\\r\\n56015,0\\r\\n23302,0\\r\\n11739,0\\r\\n61814,0\\r\\n36376,0\\r\\n69701,0\\r\\n60516,0\\r\\n77792,0\\r\\n22223,0\\r\\n67372,0\\r\\n26837,0\\r\\n73081,0\\r\\n63418,0\\r\\n61536,0\\r\\n37738,0\\r\\n41205,0\\r\\n60251,0\\r\\n19375,0\\r\\n23268,0\\r\\n72012,0\\r\\n47150,0\\r\\n29433,0\\r\\n833,0\\r\\n74837,0\\r\\n34915,0\\r\\n67900,0\\r\\n56966,0\\r\\n59329,0\\r\\n70815,0\\r\\n22613,0\\r\\n1910,0\\r\\n27637,0\\r\\n15379,0\\r\\n52640,0\\r\\n27825,0\\r\\n26862,0\\r\\n65519,0\\r\\n17920,0\\r\\n28011,0\\r\\n13842,0\\r\\n52511,0\\r\\n34935,0\\r\\n60401,0\\r\\n5464,0\\r\\n70658,0\\r\\n32286,0\\r\\n35683,0\\r\\n38475,0\\r\\n55286,0\\r\\n40995,0\\r\\n16253,0\\r\\n39768,0\\r\\n57280,0\\r\\n54869,0\\r\\n37435,0\\r\\n67152,0\\r\\n42452,0\\r\\n46390,0\\r\\n63348,0\\r\\n32830,0\\r\\n6393,0\\r\\n50932,0\\r\\n68982,0\\r\\n69120,0\\r\\n29632,0\\r\\n38056,0\\r\\n8232,0\\r\\n43753,0\\r\\n60016,0\\r\\n2382,0\\r\\n47779,0\\r\\n44389,0\\r\\n76572,0\\r\\n49949,0\\r\\n69696,0\\r\\n36753,0\\r\\n36869,0\\r\\n28590,0\\r\\n66698,0\\r\\n62276,0\\r\\n45014,0\\r\\n19250,0\\r\\n3820,0\\r\\n23484,0\\r\\n69033,0\\r\\n32139,0\\r\\n64314,0\\r\\n60782,0\\r\\n59865,0\\r\\n49003,0\\r\\n69414,0\\r\\n66956,0\\r\\n41044,0\\r\\n72492,0\\r\\n1217,0\\r\\n60428,0\\r\\n3780,1\\r\\n34998,0\\r\\n68440,0\\r\\n67301,0\\r\\n19977,0\\r\\n10771,0\\r\\n15168,0\\r\\n9274,0\\r\\n6133,1\\r\\n25206,0\\r\\n46728,0\\r\\n11155,0\\r\\n35589,0\\r\\n54605,0\\r\\n38344,0\\r\\n29288,0\\r\\n67683,0\\r\\n52735,0\\r\\n72433,0\\r\\n21548,0\\r\\n33675,0\\r\\n29919,0\\r\\n9207,0\\r\\n32249,0\\r\\n61497,0\\r\\n45593,0\\r\\n40246,1\\r\\n42879,0\\r\\n27064,0\\r\\n29835,0\\r\\n47179,0\\r\\n16690,0\\r\\n53907,0\\r\\n60699,0\\r\\n60526,0\\r\\n30580,0\\r\\n7932,0\\r\\n27206,0\\r\\n20482,0\\r\\n32882,0\\r\\n11586,0\\r\\n29201,0\\r\\n47207,0\\r\\n68680,0\\r\\n19782,0\\r\\n34731,0\\r\\n35265,0\\r\\n65764,0\\r\\n15519,1\\r\\n37156,0\\r\\n13658,0\\r\\n58398,0\\r\\n17984,0\\r\\n47798,0\\r\\n5760,0\\r\\n43742,0\\r\\n62087,0\\r\\n60870,0\\r\\n66214,0\\r\\n53682,1\\r\\n15628,0\\r\\n52752,0\\r\\n62323,0\\r\\n54738,0\\r\\n18377,0\\r\\n38377,0\\r\\n14919,0\\r\\n23915,0\\r\\n28278,0\\r\\n70934,0\\r\\n10579,0\\r\\n71960,0\\r\\n22721,0\\r\\n73839,0\\r\\n35253,0\\r\\n57427,0\\r\\n43280,0\\r\\n74561,0\\r\\n50996,0\\r\\n76506,0\\r\\n10824,1\\r\\n51465,0\\r\\n60504,0\\r\\n77956,0\\r\\n6388,0\\r\\n24209,0\\r\\n18979,1\\r\\n31587,0\\r\\n625,0\\r\\n8888,0\\r\\n40547,0\\r\\n57508,0\\r\\n55703,0\\r\\n41987,0\\r\\n10479,0\\r\\n31613,0\\r\\n23326,0\\r\\n35511,0\\r\\n74750,0\\r\\n31995,0\\r\\n69865,0\\r\\n76891,0\\r\\n20525,0\\r\\n54277,0\\r\\n2052,0\\r\\n45759,0\\r\\n69194,0\\r\\n12528,0\\r\\n75442,0\\r\\n49424,0\\r\\n49340,0\\r\\n69906,0\\r\\n47100,0\\r\\n36301,0\\r\\n70435,0\\r\\n4848,0\\r\\n48057,0\\r\\n27550,0\\r\\n338,0\\r\\n41216,0\\r\\n39726,0\\r\\n33155,0\\r\\n64186,0\\r\\n70335,0\\r\\n69562,0\\r\\n56188,0\\r\\n48881,0\\r\\n31191,0\\r\\n61854,0\\r\\n20358,0\\r\\n69561,0\\r\\n29938,0\\r\\n75681,0\\r\\n50600,0\\r\\n12007,0\\r\\n21456,0\\r\\n47588,0\\r\\n72886,0\\r\\n8436,0\\r\\n13527,0\\r\\n52683,0\\r\\n5990,0\\r\\n34693,0\\r\\n20327,0\\r\\n57421,0\\r\\n40478,0\\r\\n62372,0\\r\\n41511,1\\r\\n29732,0\\r\\n38253,0\\r\\n30961,0\\r\\n11640,0\\r\\n13010,0\\r\\n71051,0\\r\\n15838,0\\r\\n41411,0\\r\\n15817,0\\r\\n15479,0\\r\\n13793,0\\r\\n23063,0\\r\\n37888,0\\r\\n64452,0\\r\\n53877,0\\r\\n74131,0\\r\\n5511,0\\r\\n22025,0\\r\\n21280,0\\r\\n31481,0\\r\\n30684,0\\r\\n59376,0\\r\\n1045,0\\r\\n37275,0\\r\\n51670,1\\r\\n45885,0\\r\\n64518,0\\r\\n13332,0\\r\\n48326,0\\r\\n39663,0\\r\\n13110,0\\r\\n77940,0\\r\\n19854,0\\r\\n48340,0\\r\\n75768,0\\r\\n44895,0\\r\\n9636,0\\r\\n24237,0\\r\\n22011,0\\r\\n63498,0\\r\\n69423,0\\r\\n43074,0\\r\\n5499,0\\r\\n32813,0\\r\\n19821,0\\r\\n33579,0\\r\\n18942,0\\r\\n46081,0\\r\\n30761,0\\r\\n5590,0\\r\\n1180,0\\r\\n63417,0\\r\\n58476,0\\r\\n45172,0\\r\\n56965,0\\r\\n40892,0\\r\\n14310,0\\r\\n35974,0\\r\\n58684,0\\r\\n28633,0\\r\\n34835,0\\r\\n49400,0\\r\\n64475,0\\r\\n10435,0\\r\\n18052,0\\r\\n58396,0\\r\\n45742,0\\r\\n8500,0\\r\\n49515,0\\r\\n23058,0\\r\\n45425,0\\r\\n52308,0\\r\\n72204,0\\r\\n18629,0\\r\\n10725,0\\r\\n41236,0\\r\\n17191,0\\r\\n35717,0\\r\\n45386,0\\r\\n52709,0\\r\\n56616,0\\r\\n66317,0\\r\\n32533,0\\r\\n30063,0\\r\\n42131,0\\r\\n77697,0\\r\\n21215,0\\r\\n39229,0\\r\\n20715,0\\r\\n46151,0\\r\\n22689,0\\r\\n58292,0\\r\\n11934,0\\r\\n5583,0\\r\\n36677,0\\r\\n31001,0\\r\\n64674,0\\r\\n68298,0\\r\\n48627,0\\r\\n38452,0\\r\\n1769,0\\r\\n2394,0\\r\\n51077,0\\r\\n41591,0\\r\\n8368,0\\r\\n67340,0\\r\\n1818,0\\r\\n21027,0\\r\\n38808,0\\r\\n42927,0\\r\\n34892,1\\r\\n42731,0\\r\\n44826,0\\r\\n6822,0\\r\\n10455,0\\r\\n71207,0\\r\\n26604,0\\r\\n64428,0\\r\\n1832,0\\r\\n59541,0\\r\\n44648,0\\r\\n73107,0\\r\\n61433,0\\r\\n30159,0\\r\\n18138,0\\r\\n12570,0\\r\\n48205,0\\r\\n23205,0\\r\\n24361,0\\r\\n5007,0\\r\\n42534,0\\r\\n55399,0\\r\\n74439,0\\r\\n58844,0\\r\\n55176,0\\r\\n13823,1\\r\\n14392,0\\r\\n44519,0\\r\\n50331,1\\r\\n34118,0\\r\\n44797,0\\r\\n629,0\\r\\n52926,0\\r\\n56877,0\\r\\n12752,0\\r\\n6730,0\\r\\n7768,0\\r\\n75254,0\\r\\n59771,0\\r\\n282,0\\r\\n19157,0\\r\\n10103,0\\r\\n2054,0\\r\\n1202,0\\r\\n61269,0\\r\\n34326,0\\r\\n55199,1\\r\\n28403,0\\r\\n24329,0\\r\\n36138,0\\r\\n29930,0\\r\\n55692,0\\r\\n64099,0\\r\\n64297,0\\r\\n19801,0\\r\\n4012,0\\r\\n64332,0\\r\\n4353,0\\r\\n21446,0\\r\\n50796,0\\r\\n51902,0\\r\\n17070,0\\r\\n67418,0\\r\\n70422,0\\r\\n19666,0\\r\\n58955,0\\r\\n11707,0\\r\\n37762,0\\r\\n53618,0\\r\\n59563,0\\r\\n50310,0\\r\\n60595,1\\r\\n66534,0\\r\\n56218,0\\r\\n59392,0\\r\\n64641,0\\r\\n6035,0\\r\\n11600,0\\r\\n60196,0\\r\\n34151,0\\r\\n27306,0\\r\\n70496,0\\r\\n8092,0\\r\\n10850,0\\r\\n69792,0\\r\\n76856,0\\r\\n55327,0\\r\\n53647,0\\r\\n39801,1\\r\\n75906,0\\r\\n75457,0\\r\\n40614,0\\r\\n2688,0\\r\\n52706,0\\r\\n1587,0\\r\\n32466,0\\r\\n28283,0\\r\\n29856,0\\r\\n3155,0\\r\\n56176,0\\r\\n27569,0\\r\\n55339,0\\r\\n5570,0\\r\\n68220,0\\r\\n67062,0\\r\\n57624,0\\r\\n59576,0\\r\\n25505,0\\r\\n76101,0\\r\\n51570,0\\r\\n15526,0\\r\\n8354,0\\r\\n51592,0\\r\\n47927,0\\r\\n22439,0\\r\\n49189,0\\r\\n28395,0\\r\\n23819,0\\r\\n1581,0\\r\\n20040,0\\r\\n23982,0\\r\\n36036,0\\r\\n21162,0\\r\\n34770,0\\r\\n61416,0\\r\\n48245,0\\r\\n3774,0\\r\\n22041,0\\r\\n55512,0\\r\\n33165,0\\r\\n15002,0\\r\\n64912,0\\r\\n27387,0\\r\\n43920,0\\r\\n53447,0\\r\\n29335,0\\r\\n49104,0\\r\\n58296,0\\r\\n19793,0\\r\\n61401,0\\r\\n43945,0\\r\\n52380,0\\r\\n7842,0\\r\\n2214,0\\r\\n41826,0\\r\\n74752,0\\r\\n5030,0\\r\\n64064,0\\r\\n11206,0\\r\\n74205,0\\r\\n48761,0\\r\\n27919,0\\r\\n12499,0\\r\\n34769,0\\r\\n75054,0\\r\\n65172,0\\r\\n22402,0\\r\\n17866,0\\r\\n12012,0\\r\\n63985,0\\r\\n75663,0\\r\\n27007,0\\r\\n52834,0\\r\\n32808,0\\r\\n23395,0\\r\\n44084,0\\r\\n39945,0\\r\\n71056,0\\r\\n29362,1\\r\\n66991,0\\r\\n21702,0\\r\\n18855,0\\r\\n22314,0\\r\\n14815,0\\r\\n6486,0\\r\\n5957,0\\r\\n70178,0\\r\\n66883,0\\r\\n51827,0\\r\\n76385,0\\r\\n30789,0\\r\\n11558,0\\r\\n14145,0\\r\\n19338,0\\r\\n49518,0\\r\\n48790,0\\r\\n58315,0\\r\\n71517,0\\r\\n864,0\\r\\n45116,0\\r\\n32534,0\\r\\n12039,0\\r\\n30720,0\\r\\n78075,0\\r\\n70617,0\\r\\n16,0\\r\\n15892,0\\r\\n15702,0\\r\\n72677,0\\r\\n4422,0\\r\\n20160,0\\r\\n9630,0\\r\\n58209,0\\r\\n40042,0\\r\\n35386,0\\r\\n70374,0\\r\\n51111,0\\r\\n36827,0\\r\\n19601,0\\r\\n17825,0\\r\\n16971,0\\r\\n76895,0\\r\\n71434,1\\r\\n72451,0\\r\\n4622,0\\r\\n68913,0\\r\\n41576,0\\r\\n55271,0\\r\\n45074,0\\r\\n26350,0\\r\\n4298,0\\r\\n49543,0\\r\\n73454,0\\r\\n62038,0\\r\\n64843,0\\r\\n30065,0\\r\\n43916,0\\r\\n11343,0\\r\\n74154,0\\r\\n20865,0\\r\\n74344,0\\r\\n14786,0\\r\\n61065,0\\r\\n70849,0\\r\\n67326,0\\r\\n7670,0\\r\\n11492,0\\r\\n16446,0\\r\\n64067,0\\r\\n53894,0\\r\\n61654,0\\r\\n55133,0\\r\\n13380,0\\r\\n57313,0\\r\\n18024,0\\r\\n76634,0\\r\\n18122,0\\r\\n44661,0\\r\\n16472,0\\r\\n31174,0\\r\\n58460,0\\r\\n27739,0\\r\\n66753,0\\r\\n11682,0\\r\\n43499,0\\r\\n39210,0\\r\\n10322,0\\r\\n53944,0\\r\\n12463,0\\r\\n68930,0\\r\\n62823,0\\r\\n55119,0\\r\\n26018,0\\r\\n6726,0\\r\\n40370,0\\r\\n16807,0\\r\\n37429,0\\r\\n9323,0\\r\\n21081,0\\r\\n52672,0\\r\\n19309,0\\r\\n19785,0\\r\\n47824,0\\r\\n25094,1\\r\\n5122,0\\r\\n74557,0\\r\\n18781,0\\r\\n45243,0\\r\\n62166,1\\r\\n65688,0\\r\\n33927,0\\r\\n15555,0\\r\\n66055,0\\r\\n1843,1\\r\\n30504,0\\r\\n77053,0\\r\\n23296,0\\r\\n44146,0\\r\\n33125,0\\r\\n21894,0\\r\\n58838,0\\r\\n21182,0\\r\\n76269,0\\r\\n63199,0\\r\\n50557,0\\r\\n70267,0\\r\\n73835,0\\r\\n30295,0\\r\\n8362,0\\r\\n8085,0\\r\\n74072,0\\r\\n68219,0\\r\\n26541,0\\r\\n12164,0\\r\\n70719,0\\r\\n879,1\\r\\n30296,0\\r\\n46356,0\\r\\n68831,0\\r\\n63203,0\\r\\n29710,0\\r\\n71014,0\\r\\n15877,0\\r\\n9922,0\\r\\n47694,0\\r\\n10675,0\\r\\n8383,0\\r\\n64984,0\\r\\n20504,0\\r\\n43639,0\\r\\n24015,0\\r\\n27197,0\\r\\n37075,0\\r\\n64878,0\\r\\n63064,0\\r\\n74278,0\\r\\n4478,0\\r\\n35296,0\\r\\n70928,0\\r\\n33876,0\\r\\n8185,0\\r\\n76892,0\\r\\n32467,0\\r\\n72561,0\\r\\n68566,0\\r\\n36498,0\\r\\n20375,0\\r\\n8716,0\\r\\n8461,0\\r\\n41812,0\\r\\n59490,0\\r\\n51757,0\\r\\n51865,0\\r\\n4309,0\\r\\n64885,0\\r\\n20168,0\\r\\n66087,0\\r\\n73009,0\\r\\n30164,0\\r\\n67864,0\\r\\n35816,0\\r\\n76192,0\\r\\n60888,0\\r\\n55590,0\\r\\n50283,0\\r\\n41551,0\\r\\n42146,0\\r\\n67875,0\\r\\n61813,0\\r\\n68570,0\\r\\n14736,0\\r\\n7659,0\\r\\n6682,0\\r\\n37576,0\\r\\n55026,0\\r\\n41550,0\\r\\n72398,0\\r\\n2892,0\\r\\n39098,0\\r\\n50982,0\\r\\n51580,0\\r\\n77914,0\\r\\n10922,0\\r\\n18382,0\\r\\n42668,0\\r\\n76359,0\\r\\n74333,0\\r\\n2573,0\\r\\n76559,0\\r\\n68232,0\\r\\n9985,0\\r\\n5082,0\\r\\n73938,0\\r\\n36101,0\\r\\n44167,0\\r\\n45108,0\\r\\n47090,0\\r\\n73522,0\\r\\n39153,0\\r\\n69591,0\\r\\n28165,0\\r\\n7937,0\\r\\n9535,0\\r\\n21889,0\\r\\n48698,0\\r\\n1145,0\\r\\n58190,0\\r\\n78006,0\\r\\n61926,0\\r\\n31026,0\\r\\n37098,0\\r\\n77035,0\\r\\n651,0\\r\\n42878,0\\r\\n75645,0\\r\\n19255,0\\r\\n65631,0\\r\\n35412,0\\r\\n34480,0\\r\\n71650,0\\r\\n51839,0\\r\\n26847,0\\r\\n31479,0\\r\\n9359,0\\r\\n33249,0\\r\\n13840,0\\r\\n23150,0\\r\\n2325,0\\r\\n53842,0\\r\\n77803,0\\r\\n67457,0\\r\\n55194,0\\r\\n29960,0\\r\\n41569,0\\r\\n10899,0\\r\\n33213,0\\r\\n73179,0\\r\\n78058,0\\r\\n77202,0\\r\\n37225,0\\r\\n24874,0\\r\\n76316,0\\r\\n59098,0\\r\\n53290,0\\r\\n63148,0\\r\\n63822,0\\r\\n2614,0\\r\\n62483,0\\r\\n57703,0\\r\\n35775,0\\r\\n28125,0\\r\\n2418,0\\r\\n44885,0\\r\\n48027,0\\r\\n50649,0\\r\\n9933,0\\r\\n69081,0\\r\\n53201,0\\r\\n6808,0\\r\\n65488,0\\r\\n19528,0\\r\\n54477,0\\r\\n49951,0\\r\\n54415,0\\r\\n61931,0\\r\\n1119,0\\r\\n63462,0\\r\\n22101,0\\r\\n8568,0\\r\\n8600,0\\r\\n52936,0\\r\\n63614,0\\r\\n52124,0\\r\\n18797,0\\r\\n4256,0\\r\\n39870,0\\r\\n51095,0\\r\\n46141,0\\r\\n44898,0\\r\\n74073,0\\r\\n45471,0\\r\\n66030,0\\r\\n28826,0\\r\\n12508,0\\r\\n11937,0\\r\\n76334,0\\r\\n8723,0\\r\\n45446,1\\r\\n52583,0\\r\\n68908,0\\r\\n2001,1\\r\\n8595,0\\r\\n65126,0\\r\\n28428,0\\r\\n22896,0\\r\\n24347,0\\r\\n74688,0\\r\\n76692,0\\r\\n66343,0\\r\\n19034,0\\r\\n41843,0\\r\\n40691,0\\r\\n41577,0\\r\\n30872,0\\r\\n19722,0\\r\\n47091,0\\r\\n76229,0\\r\\n68016,0\\r\\n56816,0\\r\\n8114,0\\r\\n29399,0\\r\\n65155,0\\r\\n59957,0\\r\\n8060,0\\r\\n5491,0\\r\\n43030,0\\r\\n36920,1\\r\\n47664,0\\r\\n43058,0\\r\\n30714,0\\r\\n48536,0\\r\\n13339,0\\r\\n39319,0\\r\\n22604,0\\r\\n62022,0\\r\\n33140,0\\r\\n32824,0\\r\\n50509,0\\r\\n5137,0\\r\\n11013,0\\r\\n34933,0\\r\\n48056,0\\r\\n12280,0\\r\\n12477,0\\r\\n32310,0\\r\\n19044,0\\r\\n75945,0\\r\\n6979,0\\r\\n12198,0\\r\\n6326,0\\r\\n22440,0\\r\\n27549,0\\r\\n32172,0\\r\\n12740,0\\r\\n6103,0\\r\\n40466,0\\r\\n54928,0\\r\\n75347,0\\r\\n72217,0\\r\\n54174,0\\r\\n26791,0\\r\\n48096,0\\r\\n17082,0\\r\\n77839,0\\r\\n16582,0\\r\\n18957,0\\r\\n1553,0\\r\\n31940,0\\r\\n47438,0\\r\\n61331,0\\r\\n12229,0\\r\\n76480,0\\r\\n68403,0\\r\\n11831,0\\r\\n5902,0\\r\\n41651,0\\r\\n66284,0\\r\\n59517,0\\r\\n2605,0\\r\\n18363,0\\r\\n48605,0\\r\\n23109,0\\r\\n52648,0\\r\\n31164,0\\r\\n9814,0\\r\\n60883,0\\r\\n77971,0\\r\\n21863,0\\r\\n53394,0\\r\\n8880,0\\r\\n29085,1\\r\\n11270,0\\r\\n12470,0\\r\\n56110,0\\r\\n64613,0\\r\\n36383,0\\r\\n20324,0\\r\\n33069,0\\r\\n64270,0\\r\\n40147,0\\r\\n76519,0\\r\\n26123,0\\r\\n73529,0\\r\\n56105,0\\r\\n67047,0\\r\\n18953,0\\r\\n55765,0\\r\\n8589,0\\r\\n53855,0\\r\\n18609,0\\r\\n10519,0\\r\\n49966,0\\r\\n70943,0\\r\\n15839,0\\r\\n34106,0\\r\\n34031,0\\r\\n52720,0\\r\\n24922,0\\r\\n55404,0\\r\\n16921,0\\r\\n762,0\\r\\n26361,0\\r\\n58215,0\\r\\n72058,0\\r\\n33106,0\\r\\n77707,0\\r\\n63139,0\\r\\n53064,0\\r\\n22585,0\\r\\n64361,0\\r\\n3733,0\\r\\n58643,0\\r\\n77917,0\\r\\n22051,0\\r\\n657,0\\r\\n36262,0\\r\\n17446,0\\r\\n32645,0\\r\\n43653,0\\r\\n3909,0\\r\\n27754,0\\r\\n37472,0\\r\\n25690,0\\r\\n55830,0\\r\\n67443,0\\r\\n17550,0\\r\\n76819,0\\r\\n24074,0\\r\\n49624,0\\r\\n54727,0\\r\\n28787,0\\r\\n23416,0\\r\\n40207,0\\r\\n32771,0\\r\\n23013,0\\r\\n6034,0\\r\\n63826,0\\r\\n40274,0\\r\\n65595,0\\r\\n65691,0\\r\\n63520,0\\r\\n10504,0\\r\\n93,0\\r\\n26759,0\\r\\n51651,0\\r\\n40417,0\\r\\n14282,0\\r\\n29138,0\\r\\n25305,0\\r\\n497,0\\r\\n20824,0\\r\\n31964,0\\r\\n33417,0\\r\\n4890,0\\r\\n49932,0\\r\\n66567,0\\r\\n50440,0\\r\\n78193,0\\r\\n66198,0\\r\\n42331,0\\r\\n17324,0\\r\\n15335,0\\r\\n37550,0\\r\\n46675,0\\r\\n35763,0\\r\\n20118,0\\r\\n51730,0\\r\\n37661,0\\r\\n61040,0\\r\\n20868,1\\r\\n74616,0\\r\\n10117,0\\r\\n46704,0\\r\\n17437,0\\r\\n23733,0\\r\\n55291,0\\r\\n41485,0\\r\\n18182,0\\r\\n7432,0\\r\\n53393,0\\r\\n61922,0\\r\\n53426,0\\r\\n28179,0\\r\\n24852,0\\r\\n8204,0\\r\\n58386,0\\r\\n46300,0\\r\\n31289,0\\r\\n25142,0\\r\\n44975,0\\r\\n68149,0\\r\\n61600,0\\r\\n77785,0\\r\\n50801,0\\r\\n27761,0\\r\\n56793,0\\r\\n43855,0\\r\\n50170,0\\r\\n40605,0\\r\\n3118,0\\r\\n67959,1\\r\\n18625,0\\r\\n26013,0\\r\\n26131,0\\r\\n38491,0\\r\\n34508,0\\r\\n74182,1\\r\\n10035,0\\r\\n51731,0\\r\\n9618,0\\r\\n57074,0\\r\\n13360,0\\r\\n63388,0\\r\\n41363,0\\r\\n13895,0\\r\\n9791,0\\r\\n21452,0\\r\\n39985,0\\r\\n30779,1\\r\\n77599,0\\r\\n18056,0\\r\\n88,0\\r\\n72429,0\\r\\n47070,0\\r\\n23934,0\\r\\n14440,0\\r\\n19297,0\\r\\n10359,0\\r\\n75107,0\\r\\n30753,0\\r\\n15008,0\\r\\n8414,0\\r\\n77936,0\\r\\n32129,0\\r\\n71526,0\\r\\n78062,0\\r\\n26027,0\\r\\n50410,0\\r\\n55150,0\\r\\n40091,0\\r\\n22229,0\\r\\n23264,0\\r\\n3010,0\\r\\n56092,0\\r\\n25837,0\\r\\n46237,0\\r\\n22235,0\\r\\n20588,0\\r\\n54642,0\\r\\n12589,0\\r\\n58669,0\\r\\n28762,0\\r\\n46326,0\\r\\n27528,0\\r\\n43853,0\\r\\n75010,0\\r\\n65264,0\\r\\n14894,0\\r\\n939,0\\r\\n74652,0\\r\\n36389,0\\r\\n44937,0\\r\\n765,0\\r\\n64954,0\\r\\n35765,0\\r\\n11775,0\\r\\n10782,0\\r\\n11347,0\\r\\n32488,0\\r\\n19754,0\\r\\n8056,0\\r\\n4720,0\\r\\n70758,0\\r\\n56032,0\\r\\n21658,0\\r\\n27809,0\\r\\n19290,0\\r\\n31071,0\\r\\n28867,0\\r\\n57661,0\\r\\n68132,0\\r\\n11472,0\\r\\n62190,0\\r\\n58599,0\\r\\n71363,0\\r\\n10857,0\\r\\n23176,0\\r\\n4870,0\\r\\n10904,0\\r\\n60122,0\\r\\n21084,0\\r\\n20105,0\\r\\n21828,0\\r\\n14874,0\\r\\n10475,0\\r\\n21615,0\\r\\n18140,0\\r\\n49676,0\\r\\n74394,0\\r\\n54803,1\\r\\n4669,1\\r\\n32599,0\\r\\n8067,0\\r\\n53695,0\\r\\n34076,0\\r\\n22364,0\\r\\n60152,0\\r\\n30068,0\\r\\n17688,1\\r\\n53629,0\\r\\n15034,0\\r\\n59954,0\\r\\n61317,0\\r\\n18995,0\\r\\n14897,0\\r\\n43056,0\\r\\n13433,0\\r\\n32499,0\\r\\n40803,0\\r\\n15325,1\\r\\n71568,0\\r\\n23847,0\\r\\n3582,0\\r\\n3555,0\\r\\n19150,0\\r\\n46812,0\\r\\n35695,0\\r\\n77763,0\\r\\n51345,0\\r\\n24129,0\\r\\n48672,0\\r\\n21666,0\\r\\n65203,0\\r\\n48800,0\\r\\n8378,0\\r\\n22142,0\\r\\n44111,0\\r\\n56894,0\\r\\n65941,0\\r\\n69782,0\\r\\n74867,0\\r\\n56906,0\\r\\n25375,0\\r\\n52309,0\\r\\n9438,0\\r\\n46353,0\\r\\n9828,0\\r\\n33582,0\\r\\n42960,0\\r\\n28368,0\\r\\n25356,0\\r\\n78295,0\\r\\n66309,0\\r\\n57413,0\\r\\n6857,0\\r\\n57835,0\\r\\n77760,1\\r\\n55034,0\\r\\n56653,0\\r\\n46396,0\\r\\n36819,1\\r\\n37704,0\\r\\n12446,0\\r\\n54948,0\\r\\n71202,0\\r\\n54051,0\\r\\n37390,0\\r\\n9582,0\\r\\n7190,0\\r\\n71972,0\\r\\n66729,0\\r\\n801,0\\r\\n10076,0\\r\\n35654,0\\r\\n51915,0\\r\\n62481,0\\r\\n16287,0\\r\\n20431,0\\r\\n1528,0\\r\\n25154,0\\r\\n65194,0\\r\\n35348,0\\r\\n45660,0\\r\\n10947,0\\r\\n54865,0\\r\\n30638,0\\r\\n27873,0\\r\\n4467,0\\r\\n23064,0\\r\\n52154,0\\r\\n66575,0\\r\\n51005,0\\r\\n289,0\\r\\n24795,0\\r\\n70225,0\\r\\n24603,0\\r\\n63145,0\\r\\n53686,0\\r\\n31726,0\\r\\n70607,0\\r\\n4839,0\\r\\n50370,0\\r\\n1969,0\\r\\n11175,0\\r\\n12255,0\\r\\n73516,0\\r\\n77433,1\\r\\n9567,0\\r\\n66456,0\\r\\n50769,0\\r\\n2847,0\\r\\n14831,0\\r\\n44923,0\\r\\n63713,0\\r\\n71732,0\\r\\n11901,0\\r\\n67353,0\\r\\n22570,0\\r\\n25118,0\\r\\n62848,0\\r\\n798,0\\r\\n59196,0\\r\\n5231,0\\r\\n69774,0\\r\\n40748,0\\r\\n8801,0\\r\\n5135,0\\r\\n54302,0\\r\\n33108,0\\r\\n26355,0\\r\\n69668,0\\r\\n55751,0\\r\\n50066,0\\r\\n13515,0\\r\\n66327,0\\r\\n16773,0\\r\\n38024,0\\r\\n15934,0\\r\\n11365,0\\r\\n29179,0\\r\\n74822,0\\r\\n48474,0\\r\\n43486,0\\r\\n52356,0\\r\\n23694,0\\r\\n24571,0\\r\\n55737,0\\r\\n46036,0\\r\\n48109,0\\r\\n22239,0\\r\\n67517,0\\r\\n65841,0\\r\\n38298,0\\r\\n27473,0\\r\\n50505,0\\r\\n6088,0\\r\\n71388,0\\r\\n11383,0\\r\\n41151,0\\r\\n10088,0\\r\\n4668,0\\r\\n25765,0\\r\\n14053,0\\r\\n64638,0\\r\\n30592,0\\r\\n165,0\\r\\n18225,0\\r\\n55883,0\\r\\n24523,0\\r\\n47432,0\\r\\n77269,0\\r\\n13346,0\\r\\n37111,0\\r\\n48913,0\\r\\n2289,0\\r\\n41783,0\\r\\n31166,0\\r\\n44438,0\\r\\n27411,0\\r\\n77324,0\\r\\n65544,0\\r\\n59584,1\\r\\n76465,0\\r\\n33726,0\\r\\n70892,0\\r\\n49769,0\\r\\n68324,0\\r\\n27881,0\\r\\n67625,0\\r\\n58878,0\\r\\n28651,1\\r\\n69410,0\\r\\n10314,0\\r\\n10687,0\\r\\n4206,0\\r\\n2559,0\\r\\n28936,0\\r\\n47368,0\\r\\n20468,0\\r\\n68392,0\\r\\n16987,0\\r\\n53227,0\\r\\n51608,0\\r\\n73803,0\\r\\n4143,0\\r\\n56404,0\\r\\n52529,0\\r\\n61080,0\\r\\n46920,0\\r\\n50855,0\\r\\n52556,0\\r\\n44719,0\\r\\n15070,0\\r\\n5287,0\\r\\n26820,0\\r\\n22128,0\\r\\n14029,0\\r\\n31414,0\\r\\n47194,0\\r\\n73039,0\\r\\n24465,0\\r\\n68922,0\\r\\n506,0\\r\\n14340,0\\r\\n70196,0\\r\\n65336,0\\r\\n7281,0\\r\\n77238,0\\r\\n5046,0\\r\\n4840,0\\r\\n49445,0\\r\\n23074,0\\r\\n24200,0\\r\\n27935,0\\r\\n53440,0\\r\\n39392,0\\r\\n27991,0\\r\\n29677,0\\r\\n21480,0\\r\\n37587,0\\r\\n26369,0\\r\\n44180,0\\r\\n70099,0\\r\\n71719,0\\r\\n25348,0\\r\\n11670,0\\r\\n8623,0\\r\\n75926,0\\r\\n11790,0\\r\\n11881,0\\r\\n9282,0\\r\\n59887,0\\r\\n5661,0\\r\\n50733,0\\r\\n27065,0\\r\\n43105,0\\r\\n26391,0\\r\\n38480,0\\r\\n64236,0\\r\\n9225,0\\r\\n77776,0\\r\\n59450,0\\r\\n28792,0\\r\\n61768,0\\r\\n46376,0\\r\\n50916,0\\r\\n45614,0\\r\\n64097,0\\r\\n13862,0\\r\\n26596,0\\r\\n20816,0\\r\\n28543,0\\r\\n32294,0\\r\\n77793,0\\r\\n12293,0\\r\\n4202,0\\r\\n52758,0\\r\\n1191,0\\r\\n3240,0\\r\\n69001,0\\r\\n42016,0\\r\\n1149,0\\r\\n55755,0\\r\\n14215,0\\r\\n34249,0\\r\\n69509,0\\r\\n41395,1\\r\\n38667,0\\r\\n72921,0\\r\\n42323,0\\r\\n52852,0\\r\\n57218,0\\r\\n61904,0\\r\\n60592,0\\r\\n24048,0\\r\\n23824,0\\r\\n31367,0\\r\\n72741,0\\r\\n42569,0\\r\\n30853,0\\r\\n4520,0\\r\\n56445,0\\r\\n67989,0\\r\\n56865,0\\r\\n20679,0\\r\\n26313,0\\r\\n14719,0\\r\\n793,0\\r\\n3624,0\\r\\n65359,0\\r\\n75870,0\\r\\n71321,0\\r\\n17915,0\\r\\n26941,0\\r\\n55036,0\\r\\n74591,1\\r\\n34219,0\\r\\n45671,0\\r\\n22450,0\\r\\n53615,0\\r\\n6797,0\\r\\n75142,0\\r\\n56094,0\\r\\n11394,0\\r\\n11226,0\\r\\n17317,0\\r\\n68150,0\\r\\n41942,0\\r\\n41754,0\\r\\n25065,0\\r\\n40383,0\\r\\n29298,0\\r\\n59990,0\\r\\n19339,0\\r\\n4775,0\\r\\n28483,0\\r\\n29845,0\\r\\n27173,0\\r\\n46048,0\\r\\n49052,0\\r\\n50277,0\\r\\n75433,0\\r\\n43781,0\\r\\n37282,0\\r\\n41299,0\\r\\n71760,0\\r\\n41323,0\\r\\n40467,0\\r\\n14698,0\\r\\n9545,0\\r\\n68227,0\\r\\n25239,0\\r\\n57181,0\\r\\n57221,0\\r\\n25631,0\\r\\n20284,0\\r\\n546,0\\r\\n34882,0\\r\\n27179,0\\r\\n77557,0\\r\\n55312,0\\r\\n7806,0\\r\\n6055,0\\r\\n68084,0\\r\\n28310,0\\r\\n7313,0\\r\\n74381,0\\r\\n47696,0\\r\\n31625,0\\r\\n32259,0\\r\\n41487,0\\r\\n17164,0\\r\\n50024,0\\r\\n61049,0\\r\\n23024,0\\r\\n72166,0\\r\\n57284,0\\r\\n74553,0\\r\\n2900,0\\r\\n28376,0\\r\\n38335,0\\r\\n40047,0\\r\\n38268,0\\r\\n55095,0\\r\\n67738,0\\r\\n61699,0\\r\\n47998,0\\r\\n52794,0\\r\\n55987,0\\r\\n43759,0\\r\\n78243,1\\r\\n69262,0\\r\\n76337,0\\r\\n69749,0\\r\\n58118,0\\r\\n7232,0\\r\\n63995,0\\r\\n38792,0\\r\\n58571,0\\r\\n75341,0\\r\\n41455,0\\r\\n32033,0\\r\\n53763,1\\r\\n29297,0\\r\\n46808,0\\r\\n59763,0\\r\\n51464,1\\r\\n13371,0\\r\\n34238,0\\r\\n70322,0\\r\\n5277,0\\r\\n342,0\\r\\n77794,0\\r\\n59535,0\\r\\n56045,0\\r\\n6152,0\\r\\n21833,0\\r\\n50549,0\\r\\n46206,0\\r\\n12518,0\\r\\n36534,0\\r\\n14054,0\\r\\n26196,0\\r\\n7012,0\\r\\n70712,0\\r\\n56821,0\\r\\n14682,0\\r\\n53066,0\\r\\n53587,0\\r\\n61924,0\\r\\n33800,0\\r\\n87,0\\r\\n9335,0\\r\\n52548,0\\r\\n13775,0\\r\\n26436,0\\r\\n52956,0\\r\\n14738,0\\r\\n37595,0\\r\\n60482,0\\r\\n22250,0\\r\\n12423,0\\r\\n51429,0\\r\\n2663,0\\r\\n27145,1\\r\\n76633,0\\r\\n41523,0\\r\\n10596,0\\r\\n148,0\\r\\n66788,0\\r\\n25203,0\\r\\n7730,0\\r\\n69787,0\\r\\n40496,0\\r\\n18792,0\\r\\n24050,0\\r\\n30993,0\\r\\n37874,0\\r\\n9284,0\\r\\n41089,0\\r\\n30302,0\\r\\n3502,1\\r\\n75953,0\\r\\n37771,0\\r\\n15000,0\\r\\n53362,0\\r\\n62498,0\\r\\n67732,0\\r\\n518,0\\r\\n36790,0\\r\\n67520,0\\r\\n65510,0\\r\\n62570,0\\r\\n14150,0\\r\\n25067,0\\r\\n45057,0\\r\\n52382,0\\r\\n71103,0\\r\\n27970,0\\r\\n42644,0\\r\\n60296,0\\r\\n11189,0\\r\\n6467,0\\r\\n38436,0\\r\\n14655,0\\r\\n33809,0\\r\\n42079,0\\r\\n35909,0\\r\\n55175,0\\r\\n5535,0\\r\\n13678,0\\r\\n18254,0\\r\\n35102,0\\r\\n50941,0\\r\\n25410,0\\r\\n32270,0\\r\\n50745,0\\r\\n41554,0\\r\\n55807,0\\r\\n14088,0\\r\\n27430,0\\r\\n41469,0\\r\\n77240,0\\r\\n26924,0\\r\\n65027,0\\r\\n41335,0\\r\\n73245,0\\r\\n72016,0\\r\\n5052,0\\r\\n54588,0\\r\\n47312,0\\r\\n38158,0\\r\\n70263,0\\r\\n69700,0\\r\\n63674,0\\r\\n54354,0\\r\\n29624,0\\r\\n60001,0\\r\\n46702,0\\r\\n73147,0\\r\\n49464,0\\r\\n59562,0\\r\\n49981,0\\r\\n50306,0\\r\\n51775,0\\r\\n22390,0\\r\\n8275,0\\r\\n59640,0\\r\\n14619,0\\r\\n42723,0\\r\\n64491,0\\r\\n27664,0\\r\\n4950,0\\r\\n13747,0\\r\\n24569,0\\r\\n30765,0\\r\\n23955,0\\r\\n8924,0\\r\\n77175,0\\r\\n67691,0\\r\\n43680,0\\r\\n13639,0\\r\\n40845,0\\r\\n75420,0\\r\\n43614,0\\r\\n1206,0\\r\\n66850,0\\r\\n5383,0\\r\\n17154,0\\r\\n22554,0\\r\\n49062,0\\r\\n61154,0\\r\\n8590,0\\r\\n17742,0\\r\\n67333,0\\r\\n67198,0\\r\\n27675,0\\r\\n54768,1\\r\\n15760,0\\r\\n55969,0\\r\\n65701,0\\r\\n5317,0\\r\\n17371,0\\r\\n62213,0\\r\\n39165,0\\r\\n7048,0\\r\\n56202,0\\r\\n48940,0\\r\\n59025,0\\r\\n17949,0\\r\\n34437,0\\r\\n67101,0\\r\\n74094,0\\r\\n55944,0\\r\\n59139,0\\r\\n68611,0\\r\\n43525,0\\r\\n24322,0\\r\\n2218,1\\r\\n43036,0\\r\\n68026,0\\r\\n15584,0\\r\\n3559,0\\r\\n70869,0\\r\\n42769,0\\r\\n7980,0\\r\\n32850,0\\r\\n48724,0\\r\\n63161,0\\r\\n32130,0\\r\\n76015,0\\r\\n30049,0\\r\\n49496,0\\r\\n9035,0\\r\\n1597,0\\r\\n20892,0\\r\\n66974,0\\r\\n67922,0\\r\\n12391,0\\r\\n9430,0\\r\\n31924,0\\r\\n60587,0\\r\\n33868,0\\r\\n7622,0\\r\\n19913,0\\r\\n39617,0\\r\\n57143,0\\r\\n71656,0\\r\\n64150,0\\r\\n37816,0\\r\\n39049,0\\r\\n74577,0\\r\\n41707,0\\r\\n8985,0\\r\\n20041,0\\r\\n28852,0\\r\\n75824,0\\r\\n57458,0\\r\\n48379,0\\r\\n40532,0\\r\\n73339,0\\r\\n71703,0\\r\\n38944,0\\r\\n12523,0\\r\\n28264,0\\r\\n68129,0\\r\\n19853,0\\r\\n37811,0\\r\\n34578,0\\r\\n408,0\\r\\n24445,0\\r\\n77650,0\\r\\n37650,0\\r\\n8615,0\\r\\n39380,0\\r\\n19588,0\\r\\n47328,0\\r\\n29715,0\\r\\n50681,0\\r\\n4460,0\\r\\n33413,0\\r\\n71186,0\\r\\n51646,0\\r\\n73589,0\\r\\n10844,0\\r\\n18805,0\\r\\n14549,0\\r\\n77161,0\\r\\n24737,0\\r\\n13083,0\\r\\n47228,0\\r\\n16478,0\\r\\n38090,0\\r\\n13806,0\\r\\n3158,0\\r\\n11362,0\\r\\n75252,1\\r\\n25535,0\\r\\n64472,0\\r\\n43963,0\\r\\n8106,0\\r\\n72913,0\\r\\n8389,0\\r\\n23123,0\\r\\n38561,0\\r\\n77080,0\\r\\n52085,0\\r\\n2970,0\\r\\n7898,0\\r\\n52915,0\\r\\n10428,0\\r\\n22437,0\\r\\n13908,0\\r\\n73171,0\\r\\n50958,0\\r\\n65460,0\\r\\n22603,0\\r\\n70111,0\\r\\n35633,0\\r\\n22592,0\\r\\n1993,0\\r\\n3664,0\\r\\n44199,0\\r\\n7679,0\\r\\n75747,0\\r\\n60745,0\\r\\n57971,0\\r\\n72855,0\\r\\n20912,0\\r\\n2665,0\\r\\n60342,0\\r\\n67031,0\\r\\n31485,0\\r\\n47377,1\\r\\n66307,0\\r\\n63868,0\\r\\n25461,0\\r\\n55496,0\\r\\n11806,0\\r\\n32367,0\\r\\n23369,0\\r\\n19776,0\\r\\n41834,0\\r\\n41110,0\\r\\n45919,0\\r\\n46377,0\\r\\n38864,0\\r\\n40967,0\\r\\n58898,0\\r\\n68841,0\\r\\n46634,0\\r\\n22562,0\\r\\n36116,0\\r\\n31702,0\\r\\n19873,0\\r\\n3258,0\\r\\n73456,0\\r\\n25928,0\\r\\n75907,0\\r\\n68017,0\\r\\n11331,0\\r\\n48726,0\\r\\n13559,0\\r\\n70423,0\\r\\n40495,0\\r\\n58328,0\\r\\n70090,0\\r\\n53513,0\\r\\n24878,0\\r\\n59338,0\\r\\n69027,0\\r\\n1663,0\\r\\n21910,0\\r\\n23082,0\\r\\n70042,0\\r\\n23568,0\\r\\n64654,0\\r\\n33494,0\\r\\n73986,0\\r\\n41910,0\\r\\n33981,0\\r\\n16602,0\\r\\n69245,1\\r\\n72746,0\\r\\n65149,0\\r\\n6758,0\\r\\n47811,0\\r\\n47229,0\\r\\n47629,0\\r\\n36825,0\\r\\n53708,0\\r\\n45417,0\\r\\n5915,0\\r\\n33676,0\\r\\n28030,0\\r\\n15260,0\\r\\n57858,0\\r\\n8602,0\\r\\n48002,0\\r\\n11515,0\\r\\n49741,0\\r\\n20456,0\\r\\n46945,0\\r\\n28103,1\\r\\n12892,0\\r\\n16291,1\\r\\n71336,0\\r\\n23403,0\\r\\n27244,0\\r\\n25099,0\\r\\n36433,0\\r\\n58197,0\\r\\n16963,0\\r\\n56944,0\\r\\n23167,0\\r\\n19687,0\\r\\n459,0\\r\\n61937,0\\r\\n35328,0\\r\\n30429,0\\r\\n55775,0\\r\\n48156,1\\r\\n10513,0\\r\\n24385,0\\r\\n62548,0\\r\\n8639,0\\r\\n10144,0\\r\\n55243,0\\r\\n67679,0\\r\\n62306,0\\r\\n62303,0\\r\\n41560,0\\r\\n41568,0\\r\\n21546,0\\r\\n44899,0\\r\\n73401,0\\r\\n61394,0\\r\\n57479,0\\r\\n28715,0\\r\\n23056,0\\r\\n51667,0\\r\\n59232,0\\r\\n6541,0\\r\\n38995,0\\r\\n10496,0\\r\\n75632,0\\r\\n74031,0\\r\\n4976,0\\r\\n17441,0\\r\\n57876,0\\r\\n52507,0\\r\\n4603,0\\r\\n62933,0\\r\\n51710,0\\r\\n61127,0\\r\\n47648,0\\r\\n18055,0\\r\\n12174,1\\r\\n56467,0\\r\\n47956,0\\r\\n73446,0\\r\\n46844,0\\r\\n54234,0\\r\\n2819,0\\r\\n15305,0\\r\\n44107,0\\r\\n65826,0\\r\\n16104,0\\r\\n35508,0\\r\\n69570,0\\r\\n43224,1\\r\\n14665,0\\r\\n52461,0\\r\\n5386,0\\r\\n35266,0\\r\\n51675,0\\r\\n37053,0\\r\\n7045,0\\r\\n41802,0\\r\\n28849,0\\r\\n43454,0\\r\\n37112,0\\r\\n71099,1\\r\\n46263,0\\r\\n17232,0\\r\\n7813,0\\r\\n37247,0\\r\\n71780,0\\r\\n73816,0\\r\\n51340,0\\r\\n51897,0\\r\\n53442,0\\r\\n35030,0\\r\\n32954,0\\r\\n42086,0\\r\\n40833,0\\r\\n25788,0\\r\\n14243,0\\r\\n57748,0\\r\\n65191,0\\r\\n20795,0\\r\\n56671,0\\r\\n12649,0\\r\\n49167,0\\r\\n11130,0\\r\\n25749,0\\r\\n14228,0\\r\\n23768,0\\r\\n18240,0\\r\\n37192,0\\r\\n77976,0\\r\\n76025,0\\r\\n54314,0\\r\\n52077,0\\r\\n71427,0\\r\\n44354,0\\r\\n30863,0\\r\\n36796,0\\r\\n58096,0\\r\\n46539,0\\r\\n68385,0\\r\\n73238,0\\r\\n9932,0\\r\\n60857,0\\r\\n17095,0\\r\\n18407,0\\r\\n54707,0\\r\\n6377,0\\r\\n702,0\\r\\n60795,0\\r\\n31197,0\\r\\n42597,0\\r\\n17002,0\\r\\n53191,0\\r\\n21909,0\\r\\n63631,0\\r\\n22383,0\\r\\n3903,1\\r\\n7917,0\\r\\n10210,0\\r\\n26200,0\\r\\n41069,0\\r\\n4009,0\\r\\n23746,0\\r\\n27727,0\\r\\n20681,0\\r\\n39015,0\\r\\n3619,0\\r\\n18633,0\\r\\n39357,0\\r\\n71059,0\\r\\n36949,0\\r\\n21790,0\\r\\n10702,1\\r\\n10242,0\\r\\n35910,0\\r\\n19035,0\\r\\n493,0\\r\\n53361,0\\r\\n28459,0\\r\\n12422,0\\r\\n32313,0\\r\\n42332,1\\r\\n64707,0\\r\\n62563,0\\r\\n72027,0\\r\\n18173,0\\r\\n27927,0\\r\\n7761,0\\r\\n13584,0\\r\\n49789,0\\r\\n8707,0\\r\\n3222,0\\r\\n35876,0\\r\\n6238,0\\r\\n29968,0\\r\\n45735,0\\r\\n1122,0\\r\\n57695,0\\r\\n26168,0\\r\\n31622,0\\r\\n69352,0\\r\\n65736,0\\r\\n52006,0\\r\\n18568,0\\r\\n53541,0\\r\\n11512,0\\r\\n40458,0\\r\\n66436,0\\r\\n22279,0\\r\\n78082,0\\r\\n58822,0\\r\\n28474,0\\r\\n799,0\\r\\n76676,0\\r\\n55796,0\\r\\n38959,0\\r\\n9731,0\\r\\n49575,0\\r\\n4367,0\\r\\n21569,0\\r\\n61928,0\\r\\n57919,0\\r\\n15106,0\\r\\n14100,0\\r\\n62208,0\\r\\n48142,0\\r\\n52094,0\\r\\n23876,0\\r\\n69976,0\\r\\n32870,0\\r\\n36717,0\\r\\n27667,0\\r\\n31802,0\\r\\n1673,0\\r\\n50354,1\\r\\n76421,0\\r\\n9219,0\\r\\n56172,0\\r\\n25489,0\\r\\n75600,0\\r\\n33489,0\\r\\n22600,0\\r\\n61225,0\\r\\n13300,0\\r\\n53280,0\\r\\n29945,0\\r\\n30818,0\\r\\n23499,0\\r\\n40615,0\\r\\n41605,0\\r\\n45678,0\\r\\n56989,0\\r\\n1380,0\\r\\n5627,0\\r\\n9394,0\\r\\n55510,0\\r\\n55467,0\\r\\n9761,0\\r\\n18660,0\\r\\n6143,0\\r\\n5078,0\\r\\n23661,0\\r\\n2976,0\\r\\n21130,0\\r\\n61216,0\\r\\n66598,0\\r\\n65278,0\\r\\n61131,0\\r\\n15310,0\\r\\n5284,0\\r\\n76979,0\\r\\n75067,0\\r\\n18536,0\\r\\n2082,0\\r\\n50396,0\\r\\n34913,0\\r\\n46568,0\\r\\n8996,0\\r\\n59424,0\\r\\n17748,0\\r\\n22847,0\\r\\n31125,0\\r\\n49912,0\\r\\n8526,0\\r\\n3358,0\\r\\n14267,0\\r\\n26523,0\\r\\n3039,0\\r\\n65361,0\\r\\n59170,0\\r\\n13860,0\\r\\n14066,0\\r\\n29274,0\\r\\n61917,1\\r\\n74498,0\\r\\n29414,0\\r\\n53770,0\\r\\n6362,0\\r\\n71898,0\\r\\n68983,0\\r\\n11880,0\\r\\n892,0\\r\\n29081,0\\r\\n12494,0\\r\\n52868,0\\r\\n2145,0\\r\\n70321,0\\r\\n5194,0\\r\\n12524,0\\r\\n74973,0\\r\\n24134,0\\r\\n10206,0\\r\\n23658,0\\r\\n19346,0\\r\\n1809,0\\r\\n62130,0\\r\\n9344,0\\r\\n72216,0\\r\\n36070,0\\r\\n30583,0\\r\\n58540,0\\r\\n61299,1\\r\\n53897,0\\r\\n24216,0\\r\\n23693,0\\r\\n21514,0\\r\\n22304,0\\r\\n60026,0\\r\\n17946,0\\r\\n16156,0\\r\\n60787,0\\r\\n10048,0\\r\\n7864,0\\r\\n7994,1\\r\\n68571,0\\r\\n21988,0\\r\\n11955,0\\r\\n64154,0\\r\\n2787,0\\r\\n65528,0\\r\\n5165,1\\r\\n24568,0\\r\\n31424,0\\r\\n20626,0\\r\\n29371,0\\r\\n57084,0\\r\\n69846,0\\r\\n31774,0\\r\\n53365,0\\r\\n12766,0\\r\\n42260,0\\r\\n11950,0\\r\\n7236,0\\r\\n18570,0\\r\\n14616,1\\r\\n76301,0\\r\\n25257,0\\r\\n5882,0\\r\\n16115,0\\r\\n68458,0\\r\\n4697,0\\r\\n50419,0\\r\\n42739,0\\r\\n26316,0\\r\\n56990,0\\r\\n13329,0\\r\\n4846,0\\r\\n77062,0\\r\\n73199,0\\r\\n2485,0\\r\\n30620,0\\r\\n75128,0\\r\\n53143,0\\r\\n65634,0\\r\\n25564,0\\r\\n12201,0\\r\\n47989,0\\r\\n991,0\\r\\n27806,0\\r\\n64397,0\\r\\n42653,0\\r\\n31242,0\\r\\n71054,0\\r\\n48997,0\\r\\n70545,0\\r\\n46175,0\\r\\n20071,0\\r\\n42244,0\\r\\n25317,0\\r\\n34695,0\\r\\n47384,0\\r\\n46610,0\\r\\n21380,0\\r\\n41204,0\\r\\n61998,0\\r\\n78036,0\\r\\n42966,0\\r\\n70202,1\\r\\n48888,0\\r\\n35487,0\\r\\n56784,0\\r\\n59000,0\\r\\n48867,0\\r\\n67771,0\\r\\n28461,0\\r\\n25953,0\\r\\n34496,0\\r\\n26375,0\\r\\n73654,0\\r\\n7304,0\\r\\n10318,0\\r\\n7720,0\\r\\n25382,0\\r\\n2169,0\\r\\n46831,0\\r\\n69637,0\\r\\n29881,0\\r\\n15211,0\\r\\n13,0\\r\\n3552,0\\r\\n69875,0\\r\\n9205,0\\r\\n21552,0\\r\\n10036,0\\r\\n5972,0\\r\\n7117,0\\r\\n71506,0\\r\\n66533,0\\r\\n66772,0\\r\\n27587,0\\r\\n21912,0\\r\\n60319,0\\r\\n12620,0\\r\\n23050,0\\r\\n40447,0\\r\\n22505,0\\r\\n2925,0\\r\\n7246,0\\r\\n59103,0\\r\\n62281,0\\r\\n30480,0\\r\\n26171,0\\r\\n51946,0\\r\\n53790,0\\r\\n35626,0\\r\\n32799,0\\r\\n65145,0\\r\\n76528,0\\r\\n68288,0\\r\\n19897,0\\r\\n33749,0\\r\\n21735,1\\r\\n63782,0\\r\\n75577,0\\r\\n77623,0\\r\\n51516,0\\r\\n39024,0\\r\\n31825,0\\r\\n21792,0\\r\\n18798,0\\r\\n39315,0\\r\\n5242,0\\r\\n38044,0\\r\\n10670,0\\r\\n49793,0\\r\\n74112,0\\r\\n54434,0\\r\\n4680,1\\r\\n16873,0\\r\\n15600,0\\r\\n10301,0\\r\\n37482,0\\r\\n75966,0\\r\\n13757,0\\r\\n71546,0\\r\\n62282,0\\r\\n75300,0\\r\\n52747,0\\r\\n21957,0\\r\\n18309,0\\r\\n4016,0\\r\\n28184,0\\r\\n73210,0\\r\\n9294,0\\r\\n22943,0\\r\\n58678,0\\r\\n40085,0\\r\\n6935,0\\r\\n62782,0\\r\\n42208,0\\r\\n34288,0\\r\\n53450,0\\r\\n53127,0\\r\\n14263,0\\r\\n73815,0\\r\\n23631,0\\r\\n65551,0\\r\\n56609,0\\r\\n77389,1\\r\\n53938,0\\r\\n25791,0\\r\\n71785,0\\r\\n2827,0\\r\\n62910,0\\r\\n34516,0\\r\\n46235,0\\r\\n13497,0\\r\\n57081,0\\r\\n70696,0\\r\\n38604,0\\r\\n32220,0\\r\\n72881,0\\r\\n23244,0\\r\\n44609,0\\r\\n56486,0\\r\\n46278,0\\r\\n10205,0\\r\\n26331,0\\r\\n56968,0\\r\\n58465,0\\r\\n61788,0\\r\\n51185,0\\r\\n21357,0\\r\\n23310,0\\r\\n69139,0\\r\\n41947,0\\r\\n37847,0\\r\\n40329,0\\r\\n33264,0\\r\\n16381,0\\r\\n20381,1\\r\\n32867,0\\r\\n36282,0\\r\\n37306,0\\r\\n58407,0\\r\\n12875,0\\r\\n28559,0\\r\\n32277,0\\r\\n63543,0\\r\\n60943,0\\r\\n9120,0\\r\\n6309,0\\r\\n11841,0\\r\\n12792,0\\r\\n74511,0\\r\\n48562,0\\r\\n45932,0\\r\\n44546,0\\r\\n48793,0\\r\\n74228,0\\r\\n54135,0\\r\\n53000,0\\r\\n35915,0\\r\\n5532,0\\r\\n16123,0\\r\\n12193,0\\r\\n56513,0\\r\\n17451,0\\r\\n61294,0\\r\\n34313,0\\r\\n67053,0\\r\\n11109,0\\r\\n29927,0\\r\\n15614,0\\r\\n14913,0\\r\\n74038,0\\r\\n33982,0\\r\\n10737,0\\r\\n53493,0\\r\\n15205,0\\r\\n23953,0\\r\\n20979,0\\r\\n30222,1\\r\\n57082,0\\r\\n77179,0\\r\\n45131,0\\r\\n4164,0\\r\\n59368,0\\r\\n40,0\\r\\n55217,0\\r\\n66507,0\\r\\n65733,1\\r\\n65534,0\\r\\n16587,0\\r\\n29147,0\\r\\n46758,0\\r\\n14338,0\\r\\n43636,0\\r\\n27461,0\\r\\n75304,0\\r\\n6107,0\\r\\n41333,0\\r\\n66338,0\\r\\n69855,0\\r\\n53082,0\\r\\n41160,0\\r\\n6334,0\\r\\n32569,0\\r\\n8827,0\\r\\n67910,0\\r\\n76813,0\\r\\n2988,0\\r\\n64190,0\\r\\n20121,0\\r\\n41741,0\\r\\n45194,0\\r\\n49919,0\\r\\n14154,0\\r\\n11254,0\\r\\n16331,0\\r\\n55001,0\\r\\n28513,0\\r\\n20185,0\\r\\n35919,0\\r\\n24500,0\\r\\n44054,0\\r\\n50629,0\\r\\n59166,0\\r\\n9372,0\\r\\n47084,0\\r\\n73073,0\\r\\n5349,0\\r\\n76713,0\\r\\n65142,0\\r\\n73178,0\\r\\n434,0\\r\\n40397,0\\r\\n35129,0\\r\\n24753,0\\r\\n54946,0\\r\\n49679,0\\r\\n70426,0\\r\\n75033,1\\r\\n55142,0\\r\\n31732,0\\r\\n67361,1\\r\\n7862,0\\r\\n47674,0\\r\\n51170,0\\r\\n40250,0\\r\\n15882,0\\r\\n33088,0\\r\\n74571,0\\r\\n14855,0\\r\\n27267,0\\r\\n77029,0\\r\\n57031,0\\r\\n69393,0\\r\\n46092,1\\r\\n76238,0\\r\\n66339,0\\r\\n7081,0\\r\\n15678,0\\r\\n18667,0\\r\\n29359,0\\r\\n36923,0\\r\\n42363,0\\r\\n42346,0\\r\\n2398,0\\r\\n62464,0\\r\\n17938,0\\r\\n49710,0\\r\\n33989,0\\r\\n72283,0\\r\\n8721,0\\r\\n53137,0\\r\\n18516,0\\r\\n41498,0\\r\\n19237,0\\r\\n68536,0\\r\\n74853,0\\r\\n62777,0\\r\\n50962,0\\r\\n37122,0\\r\\n24564,0\\r\\n63834,0\\r\\n7507,0\\r\\n23158,0\\r\\n57670,0\\r\\n35619,0\\r\\n38839,0\\r\\n58149,0\\r\\n71077,0\\r\\n68696,0\\r\\n63303,0\\r\\n29100,0\\r\\n22881,0\\r\\n26273,0\\r\\n27544,0\\r\\n29125,0\\r\\n44046,0\\r\\n76292,0\\r\\n71693,0\\r\\n7887,0\\r\\n1630,0\\r\\n34880,0\\r\\n32111,0\\r\\n67458,0\\r\\n9513,0\\r\\n251,0\\r\\n74792,0\\r\\n45392,0\\r\\n52285,0\\r\\n11142,0\\r\\n23965,0\\r\\n52158,0\\r\\n12689,0\\r\\n4389,0\\r\\n22203,0\\r\\n65204,0\\r\\n55171,0\\r\\n642,0\\r\\n18034,0\\r\\n38233,0\\r\\n40438,0\\r\\n5672,0\\r\\n36360,0\\r\\n71731,0\\r\\n75348,0\\r\\n77560,0\\r\\n73394,0\\r\\n3963,0\\r\\n72319,0\\r\\n13734,0\\r\\n61684,0\\r\\n35369,0\\r\\n7136,0\\r\\n77470,0\\r\\n26561,0\\r\\n38724,0\\r\\n12776,0\\r\\n25604,0\\r\\n73581,0\\r\\n6164,0\\r\\n40315,0\\r\\n50169,0\\r\\n22002,0\\r\\n65901,0\\r\\n48190,0\\r\\n6530,0\\r\\n44237,0\\r\\n43404,0\\r\\n52164,0\\r\\n21533,0\\r\\n39279,0\\r\\n43365,1\\r\\n48458,0\\r\\n29001,0\\r\\n2112,0\\r\\n15626,0\\r\\n38346,0\\r\\n15640,0\\r\\n11803,0\\r\\n29804,0\\r\\n23181,0\\r\\n40972,0\\r\\n22542,0\\r\\n74599,0\\r\\n62043,0\\r\\n19010,0\\r\\n76400,0\\r\\n5921,0\\r\\n24617,0\\r\\n43838,0\\r\\n43985,0\\r\\n49217,0\\r\\n2251,0\\r\\n32062,0\\r\\n71741,0\\r\\n37759,0\\r\\n46616,0\\r\\n25420,0\\r\\n42255,0\\r\\n55265,0\\r\\n9316,0\\r\\n73040,0\\r\\n69295,0\\r\\n59204,0\\r\\n14900,0\\r\\n7099,0\\r\\n21091,0\\r\\n12739,0\\r\\n65553,0\\r\\n24447,0\\r\\n27933,0\\r\\n73298,0\\r\\n63372,0\\r\\n74510,0\\r\\n66547,0\\r\\n15775,0\\r\\n58258,0\\r\\n67699,0\\r\\n70274,0\\r\\n6010,0\\r\\n46947,0\\r\\n2239,0\\r\\n50546,0\\r\\n34930,0\\r\\n35859,0\\r\\n9903,0\\r\\n12389,0\\r\\n28343,0\\r\\n52597,0\\r\\n21269,0\\r\\n48939,0\\r\\n18613,0\\r\\n32320,0\\r\\n56253,0\\r\\n30370,0\\r\\n25659,0\\r\\n47894,0\\r\\n53018,0\\r\\n27866,0\\r\\n9564,0\\r\\n42527,0\\r\\n24880,0\\r\\n6821,0\\r\\n66028,0\\r\\n48863,0\\r\\n76975,0\\r\\n69278,0\\r\\n36730,0\\r\\n37713,0\\r\\n76163,0\\r\\n65489,0\\r\\n8198,0\\r\\n77694,0\\r\\n67578,0\\r\\n40823,0\\r\\n14423,1\\r\\n60679,0\\r\\n25563,0\\r\\n6060,0\\r\\n21761,0\\r\\n140,0\\r\\n14779,0\\r\\n50055,0\\r\\n51240,0\\r\\n72425,0\\r\\n14730,0\\r\\n16822,0\\r\\n18369,0\\r\\n22971,0\\r\\n22904,0\\r\\n35353,0\\r\\n71231,0\\r\\n24247,1\\r\\n34518,0\\r\\n54988,0\\r\\n36916,0\\r\\n60931,0\\r\\n72213,0\\r\\n32787,0\\r\\n76012,0\\r\\n31371,0\\r\\n70625,0\\r\\n26615,0\\r\\n58293,0\\r\\n44681,0\\r\\n70288,0\\r\\n42200,0\\r\\n585,0\\r\\n39138,0\\r\\n51487,0\\r\\n44264,0\\r\\n9368,0\\r\\n62194,0\\r\\n8427,0\\r\\n72121,0\\r\\n67784,0\\r\\n50392,0\\r\\n72674,0\\r\\n20072,0\\r\\n74917,0\\r\\n10312,0\\r\\n27112,0\\r\\n45308,0\\r\\n49172,0\\r\\n66386,0\\r\\n60575,0\\r\\n16841,0\\r\\n59126,1\\r\\n26677,0\\r\\n63012,0\\r\\n6650,0\\r\\n28415,0\\r\\n1921,0\\r\\n20319,0\\r\\n64504,0\\r\\n60173,0\\r\\n74128,0\\r\\n25776,0\\r\\n17835,0\\r\\n63672,0\\r\\n31676,0\\r\\n34663,0\\r\\n24762,0\\r\\n28698,0\\r\\n12640,0\\r\\n64142,0\\r\\n13619,0\\r\\n74342,0\\r\\n38946,0\\r\\n24962,0\\r\\n18223,0\\r\\n36014,0\\r\\n75424,0\\r\\n25754,0\\r\\n10077,0\\r\\n11911,0\\r\\n44573,0\\r\\n11525,0\\r\\n2809,0\\r\\n73597,0\\r\\n33884,0\\r\\n46470,0\\r\\n27098,0\\r\\n60185,0\\r\\n53520,0\\r\\n69176,0\\r\\n37256,0\\r\\n7407,0\\r\\n70940,0\\r\\n9672,0\\r\\n6984,0\\r\\n57859,0\\r\\n53087,0\\r\\n78112,0\\r\\n77540,0\\r\\n39526,0\\r\\n61135,0\\r\\n67567,0\\r\\n22903,0\\r\\n20271,0\\r\\n33599,0\\r\\n63533,0\\r\\n74989,0\\r\\n37974,0\\r\\n70865,0\\r\\n23842,0\\r\\n16910,0\\r\\n23447,0\\r\\n46592,0\\r\\n63274,0\\r\\n71143,0\\r\\n21339,0\\r\\n9709,0\\r\\n16611,0\\r\\n67295,0\\r\\n4130,0\\r\\n32398,0\\r\\n11893,0\\r\\n68326,0\\r\\n55555,0\\r\\n54712,0\\r\\n1001,0\\r\\n47269,0\\r\\n48044,0\\r\\n57894,0\\r\\n7678,0\\r\\n10096,0\\r\\n28198,0\\r\\n17919,0\\r\\n41249,0\\r\\n36387,0\\r\\n48921,0\\r\\n54128,0\\r\\n69471,0\\r\\n19189,0\\r\\n1479,0\\r\\n27426,0\\r\\n56452,0\\r\\n18004,0\\r\\n42333,0\\r\\n42735,0\\r\\n46922,0\\r\\n55409,0\\r\\n75753,0\\r\\n9621,0\\r\\n4492,0\\r\\n69638,0\\r\\n39424,0\\r\\n23202,0\\r\\n44355,0\\r\\n69850,0\\r\\n64449,0\\r\\n37853,1\\r\\n11445,0\\r\\n35561,0\\r\\n22045,0\\r\\n69365,0\\r\\n65818,1\\r\\n38711,0\\r\\n23352,0\\r\\n3822,0\\r\\n43409,0\\r\\n74543,0\\r\\n40055,0\\r\\n50119,0\\r\\n56487,0\\r\\n23601,0\\r\\n45745,0\\r\\n29366,0\\r\\n18320,0\\r\\n22316,0\\r\\n7426,0\\r\\n22804,0\\r\\n19928,0\\r\\n9020,0\\r\\n1827,0\\r\\n50806,0\\r\\n12026,0\\r\\n49974,0\\r\\n2697,0\\r\\n59236,0\\r\\n77423,0\\r\\n49274,0\\r\\n29256,0\\r\\n13015,0\\r\\n29671,0\\r\\n71125,0\\r\\n75089,0\\r\\n34678,0\\r\\n74479,0\\r\\n67173,0\\r\\n20368,0\\r\\n64117,0\\r\\n28811,0\\r\\n12490,0\\r\\n37925,0\\r\\n30937,0\\r\\n33188,0\\r\\n69148,0\\r\\n66951,0\\r\\n14833,0\\r\\n20593,0\\r\\n54875,0\\r\\n52707,0\\r\\n31483,0\\r\\n32255,0\\r\\n72695,0\\r\\n12141,0\\r\\n12934,0\\r\\n37295,0\\r\\n37478,0\\r\\n50969,1\\r\\n77001,0\\r\\n16077,0\\r\\n45650,1\\r\\n8088,0\\r\\n25601,0\\r\\n24735,0\\r\\n53457,0\\r\\n74900,0\\r\\n40902,0\\r\\n43899,0\\r\\n13876,0\\r\\n2942,0\\r\\n62736,0\\r\\n35216,0\\r\\n70342,0\\r\\n71565,0\\r\\n71706,0\\r\\n53110,0\\r\\n72624,0\\r\\n48743,0\\r\\n8346,0\\r\\n1253,0\\r\\n12404,0\\r\\n41671,0\\r\\n45213,0\\r\\n61603,0\\r\\n52456,0\\r\\n27418,0\\r\\n55487,0\\r\\n66716,0\\r\\n75377,0\\r\\n47115,0\\r\\n22680,0\\r\\n36008,0\\r\\n16030,0\\r\\n2832,0\\r\\n47946,0\\r\\n76964,0\\r\\n47035,0\\r\\n71370,0\\r\\n61304,0\\r\\n52395,0\\r\\n60140,0\\r\\n44850,0\\r\\n49895,0\\r\\n65287,0\\r\\n54012,0\\r\\n36451,0\\r\\n39006,0\\r\\n41951,0\\r\\n53302,0\\r\\n5652,1\\r\\n36533,0\\r\\n42732,0\\r\\n63572,0\\r\\n40853,0\\r\\n18071,0\\r\\n18307,0\\r\\n51687,0\\r\\n5553,0\\r\\n47813,0\\r\\n72646,0\\r\\n55080,1\\r\\n12699,0\\r\\n29932,0\\r\\n13098,1\\r\\n65868,0\\r\\n23107,0\\r\\n43708,0\\r\\n9955,0\\r\\n51627,0\\r\\n39810,0\\r\\n68935,0\\r\\n21893,0\\r\\n30134,0\\r\\n52921,0\\r\\n16168,0\\r\\n38273,0\\r\\n13023,0\\r\\n2709,0\\r\\n64358,0\\r\\n15980,0\\r\\n69616,0\\r\\n15889,0\\r\\n20943,0\\r\\n70429,0\\r\\n36374,0\\r\\n198,0\\r\\n41270,0\\r\\n34018,0\\r\\n51397,0\\r\\n23990,0\\r\\n10533,0\\r\\n51264,0\\r\\n66076,0\\r\\n36424,0\\r\\n6128,0\\r\\n19278,0\\r\\n53208,0\\r\\n61023,0\\r\\n38294,0\\r\\n8949,0\\r\\n25406,0\\r\\n12917,0\\r\\n21608,0\\r\\n63356,0\\r\\n48970,0\\r\\n15110,0\\r\\n45842,0\\r\\n5631,1\\r\\n179,0\\r\\n71839,0\\r\\n33182,0\\r\\n23591,0\\r\\n33538,0\\r\\n25510,0\\r\\n69751,0\\r\\n2858,0\\r\\n13873,0\\r\\n28926,0\\r\\n49821,0\\r\\n62877,0\\r\\n7876,0\\r\\n21516,0\\r\\n57342,0\\r\\n53712,1\\r\\n24996,0\\r\\n31980,0\\r\\n58618,0\\r\\n52478,0\\r\\n6245,0\\r\\n3481,0\\r\\n25914,0\\r\\n36992,0\\r\\n68430,0\\r\\n60277,0\\r\\n61313,0\\r\\n40226,1\\r\\n66725,0\\r\\n51065,0\\r\\n74264,0\\r\\n61466,0\\r\\n39835,0\\r\\n60020,0\\r\\n43465,0\\r\\n40083,0\\r\\n63585,0\\r\\n70585,0\\r\\n53320,0\\r\\n56935,0\\r\\n13354,0\\r\\n32685,0\\r\\n11648,0\\r\\n27794,0\\r\\n3031,0\\r\\n16272,0\\r\\n36530,0\\r\\n6846,0\\r\\n18109,0\\r\\n7269,0\\r\\n8870,0\\r\\n12474,0\\r\\n16042,0\\r\\n5502,1\\r\\n45856,0\\r\\n3643,0\\r\\n44216,0\\r\\n49067,0\\r\\n32610,0\\r\\n52250,0\\r\\n73526,0\\r\\n25174,0\\r\\n61015,0\\r\\n22764,0\\r\\n41219,0\\r\\n38080,0\\r\\n29252,0\\r\\n6537,0\\r\\n22766,0\\r\\n19436,0\\r\\n5555,0\\r\\n43861,0\\r\\n43803,0\\r\\n45058,0\\r\\n22109,0\\r\\n44369,0\\r\\n70935,0\\r\\n19134,0\\r\\n3,0\\r\\n40096,0\\r\\n70362,1\\r\\n64981,0\\r\\n72136,0\\r\\n63864,0\\r\\n68240,1\\r\\n67067,0\\r\\n31035,1\\r\\n36454,0\\r\\n32152,0\\r\\n63837,0\\r\\n25441,0\\r\\n42588,0\\r\\n41931,1\\r\\n30918,0\\r\\n65516,0\\r\\n30515,0\\r\\n45956,0\\r\\n48505,0\\r\\n70981,0\\r\\n43793,0\\r\\n78148,0\\r\\n68760,0\\r\\n35146,0\\r\\n60800,0\\r\\n20498,0\\r\\n50838,0\\r\\n63451,0\\r\\n42429,0\\r\\n65648,0\\r\\n42301,0\\r\\n25286,0\\r\\n34815,0\\r\\n40921,0\\r\\n8779,0\\r\\n11374,0\\r\\n26447,0\\r\\n11705,0\\r\\n59038,0\\r\\n33923,0\\r\\n7110,0\\r\\n63565,0\\r\\n62029,0\\r\\n62461,0\\r\\n72129,0\\r\\n64304,0\\r\\n24747,0\\r\\n727,0\\r\\n52896,0\\r\\n50984,0\\r\\n65588,0\\r\\n53616,0\\r\\n69989,0\\r\\n52837,0\\r\\n63906,0\\r\\n40934,0\\r\\n70355,0\\r\\n7123,0\\r\\n16508,0\\r\\n26607,0\\r\\n40404,0\\r\\n65303,0\\r\\n70958,0\\r\\n38736,0\\r\\n20446,0\\r\\n26602,0\\r\\n18751,0\\r\\n1190,0\\r\\n67847,0\\r\\n68921,0\\r\\n77236,0\\r\\n1175,0\\r\\n68845,0\\r\\n34567,0\\r\\n28857,0\\r\\n12535,0\\r\\n55598,0\\r\\n76120,0\\r\\n53636,0\\r\\n31136,0\\r\\n67349,0\\r\\n49791,0\\r\\n57582,0\\r\\n61822,0\\r\\n41300,0\\r\\n68072,0\\r\\n69974,0\\r\\n17932,0\\r\\n7912,0\\r\\n65240,0\\r\\n69417,0\\r\\n19162,0\\r\\n40185,0\\r\\n75540,0\\r\\n38602,0\\r\\n32048,0\\r\\n65951,1\\r\\n32687,0\\r\\n77,0\\r\\n53799,0\\r\\n75398,0\\r\\n41428,0\\r\\n77467,0\\r\\n14816,0\\r\\n63164,0\\r\\n46148,0\\r\\n45979,0\\r\\n24256,0\\r\\n61988,0\\r\\n17072,0\\r\\n71545,0\\r\\n72659,0\\r\\n73994,0\\r\\n59102,0\\r\\n8793,0\\r\\n65193,0\\r\\n7580,0\\r\\n36770,0\\r\\n46846,0\\r\\n48874,0\\r\\n56933,0\\r\\n9611,0\\r\\n28306,0\\r\\n68350,0\\r\\n19313,0\\r\\n70972,0\\r\\n26353,0\\r\\n2755,0\\r\\n52886,0\\r\\n2708,0\\r\\n72438,0\\r\\n37051,0\\r\\n57571,0\\r\\n63380,0\\r\\n33299,0\\r\\n12799,0\\r\\n58083,0\\r\\n42053,0\\r\\n24047,0\\r\\n53562,0\\r\\n21030,0\\r\\n46408,0\\r\\n16743,0\\r\\n5763,0\\r\\n41320,0\\r\\n68946,0\\r\\n5916,0\\r\\n3501,0\\r\\n21630,0\\r\\n50235,0\\r\\n47329,0\\r\\n52345,0\\r\\n64188,0\\r\\n36072,0\\r\\n57743,0\\r\\n63879,0\\r\\n64295,0\\r\\n76116,0\\r\\n12167,0\\r\\n30517,0\\r\\n33797,0\\r\\n2568,0\\r\\n16913,0\\r\\n17921,0\\r\\n1943,0\\r\\n69299,0\\r\\n55294,0\\r\\n55535,0\\r\\n53987,0\\r\\n28399,0\\r\\n48964,0\\r\\n26535,0\\r\\n51043,0\\r\\n32021,0\\r\\n36214,0\\r\\n66302,0\\r\\n56433,0\\r\\n60166,0\\r\\n2049,0\\r\\n24601,0\\r\\n29430,0\\r\\n66977,0\\r\\n69274,0\\r\\n62403,0\\r\\n21059,0\\r\\n31913,0\\r\\n12220,0\\r\\n52403,0\\r\\n22696,0\\r\\n42816,0\\r\\n60946,0\\r\\n42817,0\\r\\n36575,0\\r\\n8712,0\\r\\n52207,0\\r\\n37829,0\\r\\n46931,0\\r\\n49692,0\\r\\n64019,0\\r\\n34095,0\\r\\n56283,0\\r\\n68750,0\\r\\n65449,0\\r\\n20862,0\\r\\n73682,0\\r\\n32964,0\\r\\n22495,0\\r\\n784,0\\r\\n20996,0\\r\\n22619,0\\r\\n24421,0\\r\\n15087,0\\r\\n24911,0\\r\\n76761,0\\r\\n5584,0\\r\\n15023,0\\r\\n5892,0\\r\\n19525,0\\r\\n5068,0\\r\\n62841,0\\r\\n51508,0\\r\\n36437,0\\r\\n32757,0\\r\\n4175,0\\r\\n26166,0\\r\\n42207,0\\r\\n1319,0\\r\\n64909,0\\r\\n53265,0\\r\\n38593,0\\r\\n19419,0\\r\\n15644,0\\r\\n64165,0\\r\\n56320,0\\r\\n60258,0\\r\\n27377,0\\r\\n51009,0\\r\\n41675,0\\r\\n47003,0\\r\\n33575,0\\r\\n46211,0\\r\\n54202,0\\r\\n45534,0\\r\\n46813,0\\r\\n21682,0\\r\\n53418,0\\r\\n35494,0\\r\\n13788,0\\r\\n72443,0\\r\\n72819,0\\r\\n10536,0\\r\\n64668,0\\r\\n78066,0\\r\\n41628,0\\r\\n71071,0\\r\\n40817,0\\r\\n14276,0\\r\\n29745,0\\r\\n77419,0\\r\\n21685,0\\r\\n70110,0\\r\\n46196,0\\r\\n76014,0\\r\\n41966,0\\r\\n5362,0\\r\\n70057,0\\r\\n67342,1\\r\\n36828,0\\r\\n48120,0\\r\\n60085,0\\r\\n30180,0\\r\\n48625,0\\r\\n62318,0\\r\\n38352,0\\r\\n26264,0\\r\\n66894,0\\r\\n66778,0\\r\\n66750,0\\r\\n23887,0\\r\\n72529,0\\r\\n4955,0\\r\\n52197,0\\r\\n51284,0\\r\\n30314,0\\r\\n4191,0\\r\\n54674,0\\r\\n26930,0\\r\\n77153,0\\r\\n36883,0\\r\\n46898,0\\r\\n61553,0\\r\\n19591,0\\r\\n29048,0\\r\\n73734,0\\r\\n36215,0\\r\\n47647,0\\r\\n11597,0\\r\\n14928,0\\r\\n13803,0\\r\\n20937,0\\r\\n32279,0\\r\\n40925,0\\r\\n52976,0\\r\\n20127,0\\r\\n73950,0\\r\\n53928,0\\r\\n4380,0\\r\\n3409,0\\r\\n29398,0\\r\\n20673,0\\r\\n46150,0\\r\\n26072,0\\r\\n65983,0\\r\\n49372,0\\r\\n48592,0\\r\\n75916,0\\r\\n60295,0\\r\\n5978,0\\r\\n25398,0\\r\\n68012,0\\r\\n56383,0\\r\\n42098,0\\r\\n20674,0\\r\\n57314,0\\r\\n63664,0\\r\\n17648,0\\r\\n44635,0\\r\\n75475,0\\r\\n38204,0\\r\\n28619,0\\r\\n18816,0\\r\\n47991,0\\r\\n10213,0\\r\\n12132,0\\r\\n44252,0\\r\\n7326,0\\r\\n48846,0\\r\\n62331,0\\r\\n12839,0\\r\\n48529,0\\r\\n12119,0\\r\\n48624,0\\r\\n72201,0\\r\\n15363,0\\r\\n77449,0\\r\\n39548,0\\r\\n19062,0\\r\\n38527,0\\r\\n50765,0\\r\\n13082,0\\r\\n24838,0\\r\\n43330,0\\r\\n45481,0\\r\\n60299,0\\r\\n60054,0\\r\\n32700,0\\r\\n11056,0\\r\\n3486,0\\r\\n64601,0\\r\\n35140,0\\r\\n4849,0\\r\\n65821,0\\r\\n65622,0\\r\\n31373,0\\r\\n43734,0\\r\\n51460,0\\r\\n65175,0\\r\\n18169,0\\r\\n2441,0\\r\\n46220,0\\r\\n63798,0\\r\\n63099,0\\r\\n46887,0\\r\\n63840,0\\r\\n29875,0\\r\\n2572,1\\r\\n44505,0\\r\\n44091,0\\r\\n8221,0\\r\\n50065,0\\r\\n22606,0\\r\\n2230,0\\r\\n24376,0\\r\\n38181,0\\r\\n59377,0\\r\\n66171,0\\r\\n5846,0\\r\\n34982,0\\r\\n23138,0\\r\\n14526,0\\r\\n75894,0\\r\\n10304,0\\r\\n23748,0\\r\\n4485,0\\r\\n62409,0\\r\\n62137,0\\r\\n2176,1\\r\\n19742,0\\r\\n49412,1\\r\\n49285,0\\r\\n10662,0\\r\\n3156,0\\r\\n17472,0\\r\\n57128,0\\r\\n42096,0\\r\\n66062,0\\r\\n15704,0\\r\\n42087,0\\r\\n17943,0\\r\\n53256,0\\r\\n62028,0\\r\\n71111,0\\r\\n3379,0\\r\\n50254,0\\r\\n23286,1\\r\\n1247,0\\r\\n54884,0\\r\\n43840,0\\r\\n60107,0\\r\\n28625,0\\r\\n15012,0\\r\\n44838,0\\r\\n73225,0\\r\\n48170,0\\r\\n43278,0\\r\\n2174,0\\r\\n77565,0\\r\\n64256,0\\r\\n10298,0\\r\\n66275,0\\r\\n3255,0\\r\\n62059,0\\r\\n46790,0\\r\\n58051,0\\r\\n18315,0\\r\\n56236,0\\r\\n33683,0\\r\\n16125,0\\r\\n46358,0\\r\\n52409,0\\r\\n67228,0\\r\\n46126,0\\r\\n34988,0\\r\\n74410,0\\r\\n20002,0\\r\\n27945,0\\r\\n45047,0\\r\\n34234,0\\r\\n76199,0\\r\\n57212,0\\r\\n39239,0\\r\\n6866,0\\r\\n47977,0\\r\\n16352,0\\r\\n27106,0\\r\\n13567,0\\r\\n38553,0\\r\\n4229,0\\r\\n23866,0\\r\\n15486,0\\r\\n4443,0\\r\\n25036,0\\r\\n4122,0\\r\\n36429,0\\r\\n32046,0\\r\\n57608,0\\r\\n17227,0\\r\\n40864,0\\r\\n66107,0\\r\\n76561,0\\r\\n38459,0\\r\\n57517,0\\r\\n20520,0\\r\\n49074,0\\r\\n43173,0\\r\\n48840,0\\r\\n23660,0\\r\\n54082,0\\r\\n4855,0\\r\\n59840,0\\r\\n51489,0\\r\\n55163,0\\r\\n12743,0\\r\\n59360,0\\r\\n59509,0\\r\\n37230,0\\r\\n24432,0\\r\\n31304,0\\r\\n10872,1\\r\\n3371,0\\r\\n24528,0\\r\\n71346,0\\r\\n77527,0\\r\\n7885,0\\r\\n37454,0\\r\\n74774,0\\r\\n74891,0\\r\\n54610,0\\r\\n31027,0\\r\\n71385,0\\r\\n70994,0\\r\\n69188,1\\r\\n61774,0\\r\\n71829,0\\r\\n10024,0\\r\\n75335,0\\r\\n59297,0\\r\\n7249,1\\r\\n26854,0\\r\\n15048,0\\r\\n31519,0\\r\\n20242,0\\r\\n15444,0\\r\\n21261,0\\r\\n1447,0\\r\\n7623,0\\r\\n25902,0\\r\\n32275,0\\r\\n5746,0\\r\\n22850,0\\r\\n35906,0\\r\\n48762,0\\r\\n28647,0\\r\\n28569,0\\r\\n14055,1\\r\\n68071,0\\r\\n36361,0\\r\\n52349,0\\r\\n54252,0\\r\\n57886,0\\r\\n9885,0\\r\\n50968,0\\r\\n30146,0\\r\\n33416,0\\r\\n17153,0\\r\\n74441,0\\r\\n76366,0\\r\\n31950,0\\r\\n75453,0\\r\\n61048,0\\r\\n16490,0\\r\\n25855,0\\r\\n6264,0\\r\\n13324,1\\r\\n31451,1\\r\\n50615,0\\r\\n25359,1\\r\\n31897,0\\r\\n52802,0\\r\\n33812,0\\r\\n77171,0\\r\\n18135,0\\r\\n16732,0\\r\\n27211,0\\r\\n45447,0\\r\\n16449,0\\r\\n4214,0\\r\\n24299,0\\r\\n53505,0\\r\\n1084,0\\r\\n66958,0\\r\\n9780,0\\r\\n23490,0\\r\\n26768,0\\r\\n75258,0\\r\\n29386,0\\r\\n61702,0\\r\\n31484,0\\r\\n39108,0\\r\\n50687,0\\r\\n3318,0\\r\\n4801,0\\r\\n61042,0\\r\\n2265,0\\r\\n25490,0\\r\\n22373,0\\r\\n4995,0\\r\\n71538,0\\r\\n55395,0\\r\\n43435,0\\r\\n11566,0\\r\\n8977,0\\r\\n52307,0\\r\\n3521,0\\r\\n12213,0\\r\\n12421,0\\r\\n16480,0\\r\\n66929,0\\r\\n26234,0\\r\\n8603,0\\r\\n45852,0\\r\\n77514,0\\r\\n11352,0\\r\\n29542,0\\r\\n31956,0\\r\\n16114,0\\r\\n11802,0\\r\\n43190,0\\r\\n78029,0\\r\\n7016,0\\r\\n21376,0\\r\\n17664,0\\r\\n27864,0\\r\\n50192,0\\r\\n73751,0\\r\\n58638,0\\r\\n66271,0\\r\\n31298,0\\r\\n65661,0\\r\\n5868,0\\r\\n2649,0\\r\\n57902,0\\r\\n29744,0\\r\\n173,0\\r\\n6320,0\\r\\n20677,0\\r\\n49991,0\\r\\n58969,0\\r\\n32788,0\\r\\n14388,0\\r\\n14992,0\\r\\n39374,0\\r\\n62111,0\\r\\n12398,0\\r\\n18518,0\\r\\n52546,0\\r\\n73332,0\\r\\n56018,0\\r\\n25438,0\\r\\n31578,0\\r\\n1959,0\\r\\n76930,0\\r\\n55701,0\\r\\n11293,0\\r\\n72798,0\\r\\n46643,0\\r\\n41195,0\\r\\n31462,0\\r\\n45801,0\\r\\n21462,0\\r\\n20820,0\\r\\n10355,0\\r\\n32366,0\\r\\n48208,0\\r\\n43271,0\\r\\n45199,0\\r\\n57046,0\\r\\n28967,0\\r\\n51691,0\\r\\n14531,0\\r\\n34165,0\\r\\n12021,0\\r\\n6130,0\\r\\n23875,0\\r\\n8823,0\\r\\n42135,0\\r\\n63855,0\\r\\n65592,0\\r\\n14534,0\\r\\n28157,0\\r\\n51589,0\\r\\n10580,0\\r\\n69279,0\\r\\n48938,0\\r\\n70516,0\\r\\n27151,0\\r\\n2622,0\\r\\n6401,0\\r\\n6623,0\\r\\n30321,0\\r\\n6692,0\\r\\n9494,0\\r\\n75121,0\\r\\n20875,0\\r\\n58294,0\\r\\n45899,0\\r\\n42533,0\\r\\n58949,0\\r\\n2010,0\\r\\n44956,0\\r\\n73601,0\\r\\n19617,0\\r\\n71870,0\\r\\n67646,0\\r\\n70135,0\\r\\n67748,0\\r\\n48010,0\\r\\n75955,1\\r\\n31899,0\\r\\n54117,0\\r\\n74320,0\\r\\n38598,0\\r\\n32137,0\\r\\n50093,0\\r\\n2342,0\\r\\n71901,0\\r\\n38414,0\\r\\n19317,0\\r\\n46090,0\\r\\n34359,0\\r\\n49764,0\\r\\n75724,0\\r\\n60939,0\\r\\n7978,0\\r\\n46288,0\\r\\n68174,0\\r\\n64554,0\\r\\n17083,1\\r\\n31572,0\\r\\n56703,0\\r\\n19091,0\\r\\n9943,0\\r\\n77007,1\\r\\n27394,0\\r\\n11959,0\\r\\n47000,0\\r\\n62289,0\\r\\n41386,0\\r\\n5997,0\\r\\n20778,0\\r\\n60804,0\\r\\n74292,0\\r\\n27039,0\\r\\n1435,0\\r\\n52104,0\\r\\n11875,0\\r\\n23323,0\\r\\n74512,0\\r\\n377,0\\r\\n50482,0\\r\\n48309,0\\r\\n7593,0\\r\\n7628,0\\r\\n29329,0\\r\\n70140,0\\r\\n22284,0\\r\\n27,0\\r\\n18328,0\\r\\n55170,0\\r\\n70127,0\\r\\n21158,0\\r\\n57254,0\\r\\n32991,0\\r\\n13762,0\\r\\n42708,0\\r\\n29980,0\\r\\n18285,0\\r\\n21731,0\\r\\n16888,0\\r\\n42033,0\\r\\n60427,0\\r\\n20128,0\\r\\n51906,0\\r\\n295,0\\r\\n50404,0\\r\\n74676,0\\r\\n63081,0\\r\\n77165,0\\r\\n69531,0\\r\\n2689,0\\r\\n74277,0\\r\\n9757,0\\r\\n323,0\\r\\n30412,0\\r\\n73256,0\\r\\n42397,0\\r\\n74237,0\\r\\n24213,0\\r\\n68899,0\\r\\n20046,0\\r\\n3982,0\\r\\n40854,0\\r\\n17887,0\\r\\n14717,0\\r\\n69580,0\\r\\n25165,0\\r\\n29369,0\\r\\n42652,0\\r\\n42368,0\\r\\n9549,0\\r\\n6,0\\r\\n37830,0\\r\\n28670,0\\r\\n10154,0\\r\\n68156,0\\r\\n47480,0\\r\\n67330,0\\r\\n51081,0\\r\\n50542,0\\r\\n37252,0\\r\\n6237,0\\r\\n27518,0\\r\\n65218,0\\r\\n64930,0\\r\\n68903,0\\r\\n2191,0\\r\\n64795,0\\r\\n29626,0\\r\\n63411,0\\r\\n20952,0\\r\\n17211,0\\r\\n6199,0\\r\\n8304,0\\r\\n17255,0\\r\\n66605,0\\r\\n58392,0\\r\\n9258,0\\r\\n5257,0\\r\\n5251,0\\r\\n67052,0\\r\\n26978,0\\r\\n34650,0\\r\\n50526,0\\r\\n27666,0\\r\\n45727,0\\r\\n37294,0\\r\\n74223,0\\r\\n33340,0\\r\\n8030,0\\r\\n77696,0\\r\\n47278,0\\r\\n17445,0\\r\\n64157,0\\r\\n18632,0\\r\\n62971,0\\r\\n62509,0\\r\\n25658,0\\r\\n68729,0\\r\\n21824,0\\r\\n64080,0\\r\\n13398,0\\r\\n20915,0\\r\\n6922,0\\r\\n71697,0\\r\\n55032,0\\r\\n72562,0\\r\\n7124,0\\r\\n54623,0\\r\\n13438,0\\r\\n13869,0\\r\\n76264,0\\r\\n63326,0\\r\\n34353,0\\r\\n74070,0\\r\\n49668,0\\r\\n68027,0\\r\\n56626,0\\r\\n55747,0\\r\\n20035,0\\r\\n71061,0\\r\\n75569,0\\r\\n72586,0\\r\\n50433,0\\r\\n41770,0\\r\\n14170,0\\r\\n27563,0\\r\\n17685,0\\r\\n2256,0\\r\\n46852,0\\r\\n27166,0\\r\\n35007,0\\r\\n29767,0\\r\\n68961,0\\r\\n16404,0\\r\\n5240,0\\r\\n58014,0\\r\\n42467,0\\r\\n14966,0\\r\\n60560,0\\r\\n10203,0\\r\\n64121,0\\r\\n11280,0\\r\\n45754,0\\r\\n55662,0\\r\\n76114,0\\r\\n11387,0\\r\\n63794,0\\r\\n50627,0\\r\\n59894,0\\r\\n38011,0\\r\\n14602,0\\r\\n58560,0\\r\\n40725,1\\r\\n42168,0\\r\\n23518,0\\r\\n56541,1\\r\\n3465,0\\r\\n40197,0\\r\\n15294,0\\r\\n52617,0\\r\\n10645,0\\r\\n29713,0\\r\\n21402,0\\r\\n10150,0\\r\\n16798,0\\r\\n28701,0\\r\\n1777,0\\r\\n61162,0\\r\\n4925,0\\r\\n41981,0\\r\\n1923,0\\r\\n37344,0\\r\\n5562,0\\r\\n11281,0\\r\\n65556,0\\r\\n66340,0\\r\\n38880,0\\r\\n9061,0\\r\\n49143,0\\r\\n40737,0\\r\\n24415,0\\r\\n66232,0\\r\\n4469,0\\r\\n38211,0\\r\\n59230,0\\r\\n44222,0\\r\\n6835,0\\r\\n62914,0\\r\\n16424,0\\r\\n75764,0\\r\\n76266,0\\r\\n11704,0\\r\\n54362,0\\r\\n62048,0\\r\\n62307,1\\r\\n4678,0\\r\\n57014,0\\r\\n23859,0\\r\\n30690,0\\r\\n64720,0\\r\\n49587,0\\r\\n43541,0\\r\\n73754,0\\r\\n48342,0\\r\\n65875,0\\r\\n17674,0\\r\\n75278,0\\r\\n45722,0\\r\\n17349,0\\r\\n69265,0\\r\\n68740,0\\r\\n76736,0\\r\\n50013,0\\r\\n11476,0\\r\\n34681,0\\r\\n27502,0\\r\\n39915,0\\r\\n37197,0\\r\\n62333,0\\r\\n69521,0\\r\\n69157,0\\r\\n28876,1\\r\\n28324,0\\r\\n56192,0\\r\\n67559,0\\r\\n64467,0\\r\\n59381,0\\r\\n26948,0\\r\\n7018,0\\r\\n14667,0\\r\\n13256,0\\r\\n30659,0\\r\\n27756,0\\r\\n72132,0\\r\\n56472,0\\r\\n56708,0\\r\\n61333,0\\r\\n6076,0\\r\\n74051,0\\r\\n60447,0\\r\\n49953,0\\r\\n77597,0\\r\\n67626,0\\r\\n52175,0\\r\\n25951,0\\r\\n39805,0\\r\\n17848,0\\r\\n63062,0\\r\\n4120,0\\r\\n16133,0\\r\\n30976,0\\r\\n49761,0\\r\\n66494,0\\r\\n61760,0\\r\\n43792,0\\r\\n60542,0\\r\\n50536,0\\r\\n3547,0\\r\\n9086,0\\r\\n39685,0\\r\\n21846,0\\r\\n6578,0\\r\\n19807,0\\r\\n6966,0\\r\\n20074,0\\r\\n73945,0\\r\\n7372,0\\r\\n29673,0\\r\\n4516,0\\r\\n29718,0\\r\\n48405,0\\r\\n6267,0\\r\\n66486,0\\r\\n66409,0\\r\\n49120,1\\r\\n37894,0\\r\\n51713,0\\r\\n43887,0\\r\\n55159,0\\r\\n71428,0\\r\\n37715,0\\r\\n65511,0\\r\\n26608,0\\r\\n70737,0\\r\\n8186,0\\r\\n52894,0\\r\\n12020,0\\r\\n13341,0\\r\\n18168,0\\r\\n51835,0\\r\\n37455,0\\r\\n5674,0\\r\\n71381,0\\r\\n69200,0\\r\\n59155,0\\r\\n52718,0\\r\\n10405,0\\r\\n11323,0\\r\\n39878,0\\r\\n67539,0\\r\\n51394,0\\r\\n18042,0\\r\\n60445,0\\r\\n58471,0\\r\\n21132,0\\r\\n58847,0\\r\\n28142,0\\r\\n18033,0\\r\\n77218,0\\r\\n74160,0\\r\\n61359,0\\r\\n8071,0\\r\\n54181,0\\r\\n28568,0\\r\\n67191,0\\r\\n13884,0\\r\\n75743,0\\r\\n32285,0\\r\\n45387,0\\r\\n40926,0\\r\\n76053,0\\r\\n17733,0\\r\\n62176,0\\r\\n27880,0\\r\\n54196,0\\r\\n52830,0\\r\\n11778,0\\r\\n17704,1\\r\\n22669,0\\r\\n9785,0\\r\\n62413,0\\r\\n25726,0\\r\\n7146,0\\r\\n65632,0\\r\\n13643,0\\r\\n313,0\\r\\n36453,0\\r\\n29129,0\\r\\n33929,0\\r\\n51112,0\\r\\n37031,0\\r\\n34261,0\\r\\n57564,0\\r\\n47996,0\\r\\n33111,0\\r\\n66669,0\\r\\n36393,0\\r\\n20398,0\\r\\n52398,0\\r\\n65947,0\\r\\n49786,0\\r\\n46283,0\\r\\n42549,0\\r\\n5229,0\\r\\n45808,0\\r\\n35555,0\\r\\n65673,0\\r\\n59420,0\\r\\n42985,0\\r\\n49098,0\\r\\n10695,0\\r\\n50426,0\\r\\n67805,0\\r\\n39179,0\\r\\n68400,0\\r\\n52578,0\\r\\n41075,0\\r\\n67497,0\\r\\n56231,0\\r\\n35107,0\\r\\n32815,0\\r\\n3103,0\\r\\n77372,0\\r\\n31516,0\\r\\n54562,0\\r\\n66417,0\\r\\n40538,0\\r\\n2087,0\\r\\n57494,0\\r\\n33462,0\\r\\n52675,0\\r\\n18649,0\\r\\n62344,0\\r\\n68525,0\\r\\n30256,0\\r\\n3490,0\\r\\n34744,1\\r\\n55873,0\\r\\n16706,0\\r\\n13207,0\\r\\n42941,0\\r\\n13644,1\\r\\n25497,0\\r\\n7672,0\\r\\n64299,0\\r\\n16396,0\\r\\n16663,0\\r\\n60922,0\\r\\n467,0\\r\\n63582,0\\r\\n51001,0\\r\\n53008,0\\r\\n49415,0\\r\\n50648,0\\r\\n16571,0\\r\\n36858,0\\r\\n3872,0\\r\\n47410,0\\r\\n18234,0\\r\\n25616,0\\r\\n69259,0\\r\\n21434,0\\r\\n14174,0\\r\\n61190,0\\r\\n31761,0\\r\\n35836,0\\r\\n9473,0\\r\\n62080,0\\r\\n52598,0\\r\\n69725,0\\r\\n32143,0\\r\\n2446,0\\r\\n62133,0\\r\\n63005,0\\r\\n33871,0\\r\\n14025,0\\r\\n35410,0\\r\\n71602,0\\r\\n2878,0\\r\\n18704,0\\r\\n34131,0\\r\\n50642,1\\r\\n69819,0\\r\\n24172,0\\r\\n68561,0\\r\\n54457,0\\r\\n71157,0\\r\\n71224,0\\r\\n67079,0\\r\\n15557,0\\r\\n16159,0\\r\\n38674,0\\r\\n28988,0\\r\\n7975,0\\r\\n57004,0\\r\\n35499,0\\r\\n18141,0\\r\\n6769,0\\r\\n57484,0\\r\\n17116,0\\r\\n75,0\\r\\n71199,0\\r\\n42893,0\\r\\n56248,0\\r\\n24496,0\\r\\n54569,0\\r\\n64900,0\\r\\n76430,0\\r\\n60533,0\\r\\n41759,0\\r\\n29148,0\\r\\n1733,0\\r\\n32985,0\\r\\n77314,0\\r\\n50688,1\\r\\n35556,0\\r\\n14434,0\\r\\n54098,0\\r\\n65695,0\\r\\n65721,0\\r\\n25887,0\\r\\n33687,0\\r\\n42587,0\\r\\n40214,0\\r\\n74114,0\\r\\n2535,0\\r\\n12808,0\\r\\n6454,0\\r\\n56598,0\\r\\n27567,0\\r\\n57866,0\\r\\n56878,0\\r\\n21094,0\\r\\n54694,0\\r\\n77887,0\\r\\n40603,0\\r\\n52244,0\\r\\n73936,0\\r\\n19940,0\\r\\n50501,0\\r\\n23688,0\\r\\n45620,0\\r\\n145,0\\r\\n40502,0\\r\\n67141,0\\r\\n30358,0\\r\\n39203,0\\r\\n8101,0\\r\\n60684,0\\r\\n33349,0\\r\\n13441,0\\r\\n11818,0\\r\\n20030,0\\r\\n15607,0\\r\\n21481,0\\r\\n46684,0\\r\\n58168,0\\r\\n6722,0\\r\\n11532,0\\r\\n9786,0\\r\\n28404,0\\r\\n45429,0\\r\\n54062,0\\r\\n51229,0\\r\\n28163,0\\r\\n77618,0\\r\\n22723,0\\r\\n27986,0\\r\\n27043,0\\r\\n49650,0\\r\\n55211,0\\r\\n14287,0\\r\\n54340,0\\r\\n51550,0\\r\\n11536,0\\r\\n57010,0\\r\\n616,0\\r\\n54372,0\\r\\n55593,0\\r\\n32588,0\\r\\n14739,0\\r\\n11376,0\\r\\n54739,0\\r\\n16696,0\\r\\n43750,0\\r\\n64072,0\\r\\n6359,0\\r\\n37132,0\\r\\n26134,0\\r\\n55976,0\\r\\n35812,0\\r\\n8112,0\\r\\n22472,0\\r\\n19065,0\\r\\n61832,0\\r\\n11504,0\\r\\n3051,0\\r\\n66543,0\\r\\n14479,0\\r\\n8995,0\\r\\n45905,0\\r\\n62243,0\\r\\n48491,0\\r\\n733,0\\r\\n63147,0\\r\\n42095,0\\r\\n60310,0\\r\\n36823,0\\r\\n15873,0\\r\\n6252,0\\r\\n17214,0\\r\\n75845,0\\r\\n45922,0\\r\\n42115,0\\r\\n6799,0\\r\\n61556,0\\r\\n50452,0\\r\\n26054,0\\r\\n66461,0\\r\\n41101,0\\r\\n60014,0\\r\\n13797,0\\r\\n32226,0\\r\\n52065,0\\r\\n44488,0\\r\\n59642,0\\r\\n46825,0\\r\\n25364,0\\r\\n17917,1\\r\\n60487,0\\r\\n1521,0\\r\\n34320,0\\r\\n48533,0\\r\\n46045,0\\r\\n23604,0\\r\\n20021,0\\r\\n51532,0\\r\\n29011,0\\r\\n56137,0\\r\\n25906,0\\r\\n18121,0\\r\\n57456,0\\r\\n14805,0\\r\\n78283,0\\r\\n7656,1\\r\\n5143,0\\r\\n2981,0\\r\\n40452,0\\r\\n73168,0\\r\\n52189,0\\r\\n17348,0\\r\\n54684,0\\r\\n15795,0\\r\\n70185,1\\r\\n59823,0\\r\\n1653,1\\r\\n56599,0\\r\\n55277,0\\r\\n63282,1\\r\\n39849,0\\r\\n69019,0\\r\\n56247,0\\r\\n44640,0\\r\\n49596,0\\r\\n27472,0\\r\\n55930,0\\r\\n5255,1\\r\\n76253,0\\r\\n28612,0\\r\\n25734,0\\r\\n67099,0\\r\\n48363,0\\r\\n64404,0\\r\\n64018,0\\r\\n13202,0\\r\\n52152,0\\r\\n53274,0\\r\\n8044,0\\r\\n35321,0\\r\\n63111,0\\r\\n19123,0\\r\\n14863,0\\r\\n11780,0\\r\\n17561,0\\r\\n4237,0\\r\\n21011,0\\r\\n64622,0\\r\\n62884,0\\r\\n67530,0\\r\\n8536,0\\r\\n38710,0\\r\\n46725,0\\r\\n71812,0\\r\\n59422,0\\r\\n66342,0\\r\\n25944,0\\r\\n25450,0\\r\\n26055,0\\r\\n33831,0\\r\\n61991,0\\r\\n31118,0\\r\\n34226,0\\r\\n46538,0\\r\\n4080,0\\r\\n23956,0\\r\\n71710,0\\r\\n29016,0\\r\\n32914,0\\r\\n18577,0\\r\\n37023,0\\r\\n71328,0\\r\\n55311,0\\r\\n6219,0\\r\\n29889,0\\r\\n5866,0\\r\\n46147,0\\r\\n24563,0\\r\\n32909,0\\r\\n77398,0\\r\\n15060,1\\r\\n7436,0\\r\\n19548,0\\r\\n10209,0\\r\\n70806,0\\r\\n57668,0\\r\\n76578,1\\r\\n8123,0\\r\\n42920,0\\r\\n41548,0\\r\\n38403,0\\r\\n48748,0\\r\\n18768,0\\r\\n76267,0\\r\\n40976,0\\r\\n66588,0\\r\\n34184,0\\r\\n14099,0\\r\\n75329,0\\r\\n13572,0\\r\\n20503,0\\r\\n55705,0\\r\\n63962,0\\r\\n76575,0\\r\\n20686,0\\r\\n50866,0\\r\\n24508,0\\r\\n35564,0\\r\\n27858,0\\r\\n13548,0\\r\\n47459,0\\r\\n29702,0\\r\\n4025,0\\r\\n70027,0\\r\\n62819,0\\r\\n40781,0\\r\\n35829,0\\r\\n27469,0\\r\\n18930,0\\r\\n17568,0\\r\\n26041,0\\r\\n70577,0\\r\\n44401,0\\r\\n65839,0\\r\\n43651,0\\r\\n8041,0\\r\\n45150,0\\r\\n56994,0\\r\\n78230,0\\r\\n7479,0\\r\\n18581,0\\r\\n56333,0\\r\\n36684,0\\r\\n71823,0\\r\\n38704,0\\r\\n38978,0\\r\\n70708,0\\r\\n42492,1\\r\\n47058,0\\r\\n59833,0\\r\\n71516,0\\r\\n3233,0\\r\\n30849,0\\r\\n33659,0\\r\\n54814,0\\r\\n66513,0\\r\\n22643,0\\r\\n69172,0\\r\\n21483,0\\r\\n48285,0\\r\\n41148,0\\r\\n2814,0\\r\\n77909,0\\r\\n31809,0\\r\\n64032,0\\r\\n68039,0\\r\\n25623,0\\r\\n5944,0\\r\\n7076,0\\r\\n50870,0\\r\\n56239,0\\r\\n29509,0\\r\\n48791,0\\r\\n52801,0\\r\\n22833,0\\r\\n12755,0\\r\\n34369,0\\r\\n71766,0\\r\\n15682,0\\r\\n47209,0\\r\\n50893,0\\r\\n71003,0\\r\\n55605,0\\r\\n26482,0\\r\\n23179,0\\r\\n50610,0\\r\\n24086,0\\r\\n53252,0\\r\\n572,0\\r\\n14670,0\\r\\n57288,0\\r\\n61558,0\\r\\n70559,0\\r\\n30984,0\\r\\n57026,0\\r\\n73762,0\\r\\n41529,0\\r\\n21266,0\\r\\n44957,0\\r\\n34600,0\\r\\n4630,0\\r\\n59475,0\\r\\n63355,0\\r\\n66008,1\\r\\n53781,0\\r\\n28402,0\\r\\n24305,0\\r\\n40856,0\\r\\n12854,0\\r\\n63042,0\\r\\n20656,0\\r\\n6656,0\\r\\n46764,0\\r\\n73407,0\\r\\n62745,0\\r\\n1996,0\\r\\n14210,0\\r\\n1801,0\\r\\n21515,0\\r\\n35736,0\\r\\n24420,0\\r\\n12149,0\\r\\n31226,0\\r\\n58194,0\\r\\n61206,0\\r\\n22089,0\\r\\n31137,0\\r\\n50044,0\\r\\n12674,0\\r\\n4635,0\\r\\n75530,0\\r\\n65749,1\\r\\n1518,0\\r\\n76553,0\\r\\n61848,0\\r\\n37589,0\\r\\n31477,0\\r\\n73414,0\\r\\n36317,0\\r\\n63362,0\\r\\n57664,0\\r\\n10414,0\\r\\n60908,0\\r\\n27157,0\\r\\n60304,0\\r\\n27826,0\\r\\n18271,0\\r\\n35057,0\\r\\n18251,0\\r\\n12222,0\\r\\n27338,0\\r\\n19174,0\\r\\n19960,0\\r\\n11528,0\\r\\n54954,0\\r\\n67487,0\\r\\n37398,0\\r\\n34432,0\\r\\n3000,0\\r\\n1980,0\\r\\n74466,0\\r\\n51374,0\\r\\n54913,0\\r\\n61425,0\\r\\n59697,0\\r\\n35260,0\\r\\n75678,0\\r\\n77886,0\\r\\n29178,0\\r\\n51529,0\\r\\n31614,0\\r\\n55337,0\\r\\n63856,0\\r\\n2117,0\\r\\n8808,0\\r\\n47804,0\\r\\n40641,0\\r\\n74380,0\\r\\n60629,0\\r\\n34291,0\\r\\n41801,0\\r\\n24042,0\\r\\n23703,0\\r\\n7184,0\\r\\n57887,0\\r\\n58082,0\\r\\n1368,0\\r\\n55677,0\\r\\n46158,0\\r\\n66419,0\\r\\n37477,0\\r\\n47505,0\\r\\n5611,0\\r\\n7993,0\\r\\n60430,0\\r\\n8919,0\\r\\n13507,0\\r\\n58709,0\\r\\n42264,0\\r\\n12276,0\\r\\n45648,0\\r\\n53503,0\\r\\n38514,0\\r\\n57107,0\\r\\n41631,0\\r\\n67680,0\\r\\n74024,0\\r\\n43999,0\\r\\n54941,0\\r\\n77256,0\\r\\n23758,0\\r\\n26379,0\\r\\n18911,1\\r\\n27477,0\\r\\n19019,0\\r\\n24918,0\\r\\n39898,0\\r\\n55607,0\\r\\n74314,0\\r\\n53720,0\\r\\n49437,0\\r\\n7052,0\\r\\n71792,0\\r\\n17988,0\\r\\n70246,0\\r\\n63496,0\\r\\n25432,0\\r\\n13005,0\\r\\n41222,0\\r\\n5324,0\\r\\n18697,0\\r\\n71371,0\\r\\n16023,0\\r\\n18964,0\\r\\n66163,0\\r\\n48896,0\\r\\n33359,1\\r\\n76118,0\\r\\n51625,0\\r\\n32696,0\\r\\n8263,0\\r\\n3482,0\\r\\n16877,0\\r\\n40920,0\\r\\n19765,0\\r\\n9412,0\\r\\n19224,0\\r\\n69052,0\\r\\n70557,0\\r\\n44938,0\\r\\n4015,0\\r\\n67587,1\\r\\n48788,0\\r\\n52171,0\\r\\n24814,0\\r\\n40212,0\\r\\n28614,0\\r\\n18523,0\\r\\n27235,0\\r\\n56640,0\\r\\n43264,1\\r\\n71494,0\\r\\n43575,0\\r\\n15451,0\\r\\n29006,0\\r\\n49165,0\\r\\n32489,0\\r\\n2207,0\\r\\n62030,0\\r\\n63393,0\\r\\n69087,0\\r\\n63049,0\\r\\n73247,0\\r\\n11466,0\\r\\n10604,0\\r\\n56583,0\\r\\n11014,0\\r\\n45415,0\\r\\n1274,0\\r\\n19425,0\\r\\n63489,0\\r\\n26224,0\\r\\n51297,0\\r\\n17644,0\\r\\n17592,0\\r\\n73070,0\\r\\n69812,0\\r\\n25180,0\\r\\n66969,0\\r\\n60910,0\\r\\n13530,0\\r\\n75810,0\\r\\n65477,0\\r\\n55319,0\\r\\n27507,0\\r\\n66904,0\\r\\n9101,0\\r\\n28271,0\\r\\n63118,0\\r\\n42071,0\\r\\n4573,0\\r\\n49337,0\\r\\n54635,0\\r\\n8675,1\\r\\n18738,0\\r\\n68616,0\\r\\n42872,0\\r\\n65241,0\\r\\n36020,0\\r\\n38457,0\\r\\n6632,0\\r\\n26165,0\\r\\n50117,0\\r\\n44340,0\\r\\n52626,0\\r\\n68886,0\\r\\n76095,0\\r\\n9068,0\\r\\n33488,0\\r\\n72633,0\\r\\n9382,0\\r\\n64254,0\\r\\n1042,0\\r\\n42072,0\\r\\n18894,0\\r\\n55545,0\\r\\n35864,0\\r\\n72305,0\\r\\n40151,0\\r\\n17662,0\\r\\n41528,0\\r\\n66694,0\\r\\n75184,1\\r\\n37341,0\\r\\n22939,0\\r\\n5948,0\\r\\n17168,0\\r\\n37607,0\\r\\n8131,0\\r\\n437,1\\r\\n49000,0\\r\\n51776,0\\r\\n73025,0\\r\\n71326,0\\r\\n76338,0\\r\\n37739,0\\r\\n17065,0\\r\\n14824,0\\r\\n55145,0\\r\\n43159,0\\r\\n60862,0\\r\\n48028,0\\r\\n22208,0\\r\\n76401,0\\r\\n9527,0\\r\\n77018,0\\r\\n6492,0\\r\\n71473,0\\r\\n7093,0\\r\\n63373,0\\r\\n35825,0\\r\\n22130,0\\r\\n13700,0\\r\\n62218,0\\r\\n56585,0\\r\\n41603,0\\r\\n66498,0\\r\\n46552,0\\r\\n51750,0\\r\\n19370,0\\r\\n44527,0\\r\\n70328,0\\r\\n53959,0\\r\\n18210,1\\r\\n12937,0\\r\\n18463,0\\r\\n31751,0\\r\\n6929,0\\r\\n5879,0\\r\\n14857,0\\r\\n49765,0\\r\\n11351,0\\r\\n15701,1\\r\\n75782,0\\r\\n62798,0\\r\\n54662,1\\r\\n4089,0\\r\\n65139,0\\r\\n77013,0\\r\\n53961,0\\r\\n57372,0\\r\\n1687,0\\r\\n70819,0\\r\\n32449,0\\r\\n63327,0\\r\\n10193,0\\r\\n64172,0\\r\\n13188,0\\r\\n2624,0\\r\\n36090,0\\r\\n55482,0\\r\\n27736,0\\r\\n34791,0\\r\\n57058,0\\r\\n47493,0\\r\\n66721,0\\r\\n2655,0\\r\\n29494,0\\r\\n41925,1\\r\\n56371,0\\r\\n58603,0\\r\\n38672,0\\r\\n66679,0\\r\\n20703,0\\r\\n43830,0\\r\\n61264,0\\r\\n16182,0\\r\\n23076,0\\r\\n69520,0\\r\\n41163,0\\r\\n32673,0\\r\\n10637,0\\r\\n64490,0\\r\\n59357,0\\r\\n6607,0\\r\\n13348,0\\r\\n16805,1\\r\\n64722,0\\r\\n13268,0\\r\\n54755,0\\r\\n71902,0\\r\\n21834,0\\r\\n62348,0\\r\\n26905,0\\r\\n13338,0\\r\\n12923,0\\r\\n63600,1\\r\\n43287,0\\r\\n8837,0\\r\\n12692,0\\r\\n55561,0\\r\\n66757,0\\r\\n60879,0\\r\\n12924,0\\r\\n69910,0\\r\\n54338,0\\r\\n29053,0\\r\\n75297,0\\r\\n26913,0\\r\\n18910,0\\r\\n20057,0\\r\\n67595,0\\r\\n4942,0\\r\\n61606,0\\r\\n62068,0\\r\\n30999,0\\r\\n77667,0\\r\\n59815,0\\r\\n52088,0\\r\\n15123,0\\r\\n64577,0\\r\\n15352,0\\r\\n37777,0\\r\\n50637,0\\r\\n15038,0\\r\\n3191,0\\r\\n49776,0\\r\\n2337,0\\r\\n33337,0\\r\\n15709,0\\r\\n872,0\\r\\n42586,0\\r\\n63943,0\\r\\n10997,0\\r\\n56530,0\\r\\n487,0\\r\\n4384,0\\r\\n4181,0\\r\\n41503,0\\r\\n17818,0\\r\\n76046,0\\r\\n66643,0\\r\\n55608,0\\r\\n33863,0\\r\\n31079,0\\r\\n75898,0\\r\\n72672,0\\r\\n17571,0\\r\\n32113,0\\r\\n15108,0\\r\\n30324,0\\r\\n36398,0\\r\\n71141,0\\r\\n66238,0\\r\\n50857,0\\r\\n28973,0\\r\\n28583,0\\r\\n36269,0\\r\\n171,0\\r\\n71933,0\\r\\n69090,0\\r\\n55085,0\\r\\n48919,0\\r\\n66580,0\\r\\n15245,0\\r\\n64746,0\\r\\n31008,0\\r\\n47508,0\\r\\n6604,0\\r\\n19735,0\\r\\n4963,0\\r\\n25761,0\\r\\n61278,0\\r\\n18575,0\\r\\n60226,0\\r\\n60316,0\\r\\n29208,0\\r\\n5676,0\\r\\n64585,0\\r\\n65118,0\\r\\n5591,0\\r\\n31135,0\\r\\n15985,0\\r\\n48464,0\\r\\n41604,0\\r\\n71017,1\\r\\n18990,0\\r\\n60556,0\\r\\n44121,0\\r\\n67592,0\\r\\n31313,0\\r\\n42488,0\\r\\n66315,0\\r\\n47220,0\\r\\n3725,0\\r\\n36947,0\\r\\n45940,0\\r\\n4547,0\\r\\n3535,0\\r\\n66610,1\\r\\n65929,0\\r\\n9574,0\\r\\n62101,0\\r\\n6793,0\\r\\n23663,0\\r\\n23507,0\\r\\n77913,0\\r\\n18842,0\\r\\n58947,0\\r\\n5361,0\\r\\n58692,1\\r\\n33094,0\\r\\n78010,0\\r\\n61646,0\\r\\n77169,0\\r\\n15728,0\\r\\n77121,0\\r\\n57870,0\\r\\n49707,0\\r\\n68317,0\\r\\n49915,0\\r\\n11646,0\\r\\n47570,0\\r\\n73720,0\\r\\n1693,0\\r\\n48121,0\\r\\n46446,0\\r\\n302,0\\r\\n46909,0\\r\\n13965,0\\r\\n39050,0\\r\\n49663,0\\r\\n72043,0\\r\\n73796,1\\r\\n30448,0\\r\\n36917,0\\r\\n41736,0\\r\\n55372,0\\r\\n45189,0\\r\\n259,0\\r\\n57949,1\\r\\n9799,0\\r\\n27742,0\\r\\n73305,0\\r\\n19817,0\\r\\n23029,0\\r\\n3723,0\\r\\n47337,0\\r\\n68793,0\\r\\n31002,0\\r\\n61798,0\\r\\n77190,0\\r\\n33049,0\\r\\n40500,0\\r\\n68809,0\\r\\n22986,0\\r\\n69544,0\\r\\n11647,0\\r\\n68645,0\\r\\n77093,0\\r\\n1744,0\\r\\n24328,0\\r\\n31234,0\\r\\n13312,0\\r\\n19994,0\\r\\n14685,0\\r\\n50618,0\\r\\n67478,0\\r\\n45886,0\\r\\n62558,0\\r\\n16350,0\\r\\n61102,1\\r\\n54982,0\\r\\n66449,0\\r\\n56661,0\\r\\n31657,0\\r\\n32992,0\\r\\n12450,0\\r\\n30983,0\\r\\n17280,0\\r\\n77683,0\\r\\n73019,0\\r\\n2048,0\\r\\n33996,0\\r\\n1222,0\\r\\n75863,0\\r\\n6986,0\\r\\n72243,0\\r\\n15527,0\\r\\n52265,0\\r\\n59273,0\\r\\n36370,0\\r\\n38000,0\\r\\n32440,0\\r\\n68424,0\\r\\n36039,1\\r\\n23420,0\\r\\n53283,0\\r\\n47031,0\\r\\n34683,0\\r\\n2158,0\\r\\n50085,0\\r\\n29594,0\\r\\n28728,0\\r\\n25331,0\\r\\n50965,0\\r\\n41719,0\\r\\n17923,0\\r\\n36890,0\\r\\n77166,0\\r\\n53605,0\\r\\n27128,0\\r\\n70067,0\\r\\n75340,0\\r\\n39541,0\\r\\n64550,0\\r\\n78067,0\\r\\n27437,0\\r\\n45720,0\\r\\n44732,0\\r\\n23682,0\\r\\n31443,0\\r\\n43884,0\\r\\n32106,0\\r\\n71561,0\\r\\n73248,0\\r\\n12150,0\\r\\n39414,0\\r\\n17159,0\\r\\n76030,0\\r\\n70860,0\\r\\n67149,0\\r\\n66096,0\\r\\n56012,0\\r\\n20902,0\\r\\n30635,0\\r\\n74339,0\\r\\n50473,1\\r\\n59172,0\\r\\n29914,0\\r\\n58234,0\\r\\n33368,0\\r\\n59694,0\\r\\n49460,0\\r\\n39166,0\\r\\n37913,0\\r\\n59260,0\\r\\n20058,0\\r\\n22013,0\\r\\n59330,0\\r\\n25444,0\\r\\n12204,0\\r\\n2343,0\\r\\n60753,0\\r\\n44122,0\\r\\n55313,0\\r\\n63942,0\\r\\n70578,0\\r\\n17015,0\\r\\n46769,0\\r\\n28644,0\\r\\n1370,0\\r\\n11319,0\\r\\n63501,0\\r\\n964,0\\r\\n22867,0\\r\\n66848,0\\r\\n5936,0\\r\\n70987,0\\r\\n71225,0\\r\\n42129,0\\r\\n53916,0\\r\\n33074,0\\r\\n12070,0\\r\\n19654,0\\r\\n26654,0\\r\\n68391,0\\r\\n9094,0\\r\\n4782,0\\r\\n43445,0\\r\\n63170,0\\r\\n42543,0\\r\\n57271,0\\r\\n70006,0\\r\\n50430,0\\r\\n13568,0\\r\\n26671,0\\r\\n34722,0\\r\\n63648,0\\r\\n8743,0\\r\\n62383,0\\r\\n43081,0\\r\\n19209,0\\r\\n63016,0\\r\\n20491,0\\r\\n51869,0\\r\\n10259,0\\r\\n65678,0\\r\\n45995,0\\r\\n24018,0\\r\\n48385,0\\r\\n5249,1\\r\\n25321,0\\r\\n27140,0\\r\\n16248,0\\r\\n1126,0\\r\\n76940,0\\r\\n68356,0\\r\\n44125,0\\r\\n8753,0\\r\\n8722,0\\r\\n12299,0\\r\\n38852,0\\r\\n29646,0\\r\\n12226,0\\r\\n68451,0\\r\\n64155,0\\r\\n28808,0\\r\\n35879,0\\r\\n8762,0\\r\\n15254,0\\r\\n37403,0\\r\\n30848,0\\r\\n11947,0\\r\\n45165,0\\r\\n341,0\\r\\n40993,0\\r\\n69675,0\\r\\n37973,0\\r\\n11585,1\\r\\n2880,0\\r\\n50953,0\\r\\n47573,0\\r\\n68852,0\\r\\n53866,0\\r\\n54193,0\\r\\n34430,0\\r\\n74869,0\\r\\n2018,0\\r\\n41585,0\\r\\n13562,0\\r\\n70419,0\\r\\n63725,0\\r\\n2210,0\\r\\n47785,1\\r\\n41813,0\\r\\n75647,0\\r\\n72062,0\\r\\n1418,0\\r\\n73282,0\\r\\n3108,0\\r\\n67555,0\\r\\n56168,0\\r\\n36844,0\\r\\n57321,0\\r\\n55005,0\\r\\n54403,0\\r\\n60143,0\\r\\n61753,0\\r\\n19864,0\\r\\n18700,0\\r\\n66879,0\\r\\n6045,0\\r\\n29350,0\\r\\n46084,0\\r\\n29257,0\\r\\n37652,0\\r\\n51050,0\\r\\n62020,0\\r\\n77960,0\\r\\n57146,0\\r\\n53832,0\\r\\n4760,0\\r\\n70506,0\\r\\n32912,0\\r\\n57150,0\\r\\n39788,0\\r\\n61293,0\\r\\n54448,0\\r\\n5100,0\\r\\n2236,1\\r\\n51454,0\\r\\n46432,0\\r\\n5193,0\\r\\n50985,0\\r\\n38308,0\\r\\n24422,0\\r\\n5192,0\\r\\n9839,0\\r\\n4397,0\\r\\n23039,0\\r\\n57788,0\\r\\n74598,0\\r\\n74025,0\\r\\n32582,0\\r\\n12577,0\\r\\n10141,0\\r\\n42334,0\\r\\n39818,0\\r\\n74328,0\\r\\n48127,0\\r\\n59469,0\\r\\n19431,0\\r\\n29943,0\\r\\n13400,0\\r\\n63214,0\\r\\n34765,0\\r\\n39954,0\\r\\n44020,0\\r\\n20702,0\\r\\n53083,0\\r\\n76072,0\\r\\n19241,0\\r\\n46778,0\\r\\n19138,1\\r\\n33946,0\\r\\n77979,0\\r\\n68304,0\\r\\n53892,0\\r\\n52663,0\\r\\n73789,0\\r\\n46688,0\\r\\n46163,0\\r\\n22447,0\\r\\n41067,0\\r\\n5929,0\\r\\n43649,0\\r\\n28749,0\\r\\n34910,0\\r\\n27048,0\\r\\n31432,0\\r\\n62580,1\\r\\n58019,0\\r\\n47077,0\\r\\n54763,0\\r\\n31801,0\\r\\n19538,0\\r\\n71537,0\\r\\n57374,0\\r\\n67416,0\\r\\n16556,0\\r\\n70602,0\\r\\n56517,1\\r\\n65577,0\\r\\n38435,0\\r\\n34297,0\\r\\n46883,0\\r\\n54151,0\\r\\n53519,0\\r\\n62399,0\\r\\n38618,0\\r\\n11617,0\\r\\n15244,0\\r\\n720,0\\r\\n28589,0\\r\\n2465,1\\r\\n74913,0\\r\\n19203,0\\r\\n29206,0\\r\\n2097,0\\r\\n38815,0\\r\\n47497,0\\r\\n6556,0\\r\\n10483,0\\r\\n71437,0\\r\\n77331,0\\r\\n29659,0\\r\\n23028,0\\r\\n37039,0\\r\\n75445,0\\r\\n73769,0\\r\\n16989,0\\r\\n57327,0\\r\\n11183,0\\r\\n1123,0\\r\\n62471,0\\r\\n75948,0\\r\\n31605,0\\r\\n60042,0\\r\\n16271,0\\r\\n9969,0\\r\\n73082,1\\r\\n41676,0\\r\\n23503,0\\r\\n68540,0\\r\\n67273,0\\r\\n58433,0\\r\\n39745,0\\r\\n25939,0\\r\\n8764,0\\r\\n9226,0\\r\\n58887,0\\r\\n53658,0\\r\\n37434,0\\r\\n51389,0\\r\\n60574,0\\r\\n52582,0\\r\\n29982,0\\r\\n20973,0\\r\\n31051,0\\r\\n64351,0\\r\\n21176,0\\r\\n26007,0\\r\\n64624,0\\r\\n8493,0\\r\\n34778,0\\r\\n14315,0\\r\\n12986,0\\r\\n63423,0\\r\\n25089,0\\r\\n22517,0\\r\\n38408,0\\r\\n70031,0\\r\\n70517,0\\r\\n61086,1\\r\\n23855,0\\r\\n77475,0\\r\\n9112,0\\r\\n27023,0\\r\\n40407,0\\r\\n46465,0\\r\\n76707,0\\r\\n33251,0\\r\\n22830,0\\r\\n50974,0\\r\\n22405,0\\r\\n47401,0\\r\\n20,0\\r\\n37827,0\\r\\n67148,0\\r\\n4486,0\\r\\n67860,0\\r\\n21006,0\\r\\n16441,0\\r\\n57398,0\\r\\n26540,0\\r\\n47317,0\\r\\n64572,0\\r\\n42835,0\\r\\n44715,0\\r\\n70456,0\\r\\n619,0\\r\\n2475,0\\r\\n2885,0\\r\\n65513,0\\r\\n73396,0\\r\\n33410,0\\r\\n31241,1\\r\\n36473,0\\r\\n49298,0\\r\\n58585,0\\r\\n44816,0\\r\\n41407,0\\r\\n52623,0\\r\\n25427,0\\r\\n67877,0\\r\\n8895,0\\r\\n76825,0\\r\\n54687,0\\r\\n3047,0\\r\\n1010,0\\r\\n35716,0\\r\\n37521,0\\r\\n24530,0\\r\\n24916,0\\r\\n65675,0\\r\\n73903,0\\r\\n24698,0\\r\\n36915,0\\r\\n17016,0\\r\\n883,0\\r\\n55668,0\\r\\n58917,0\\r\\n55308,0\\r\\n16729,0\\r\\n29658,0\\r\\n34902,0\\r\\n59059,0\\r\\n60155,0\\r\\n15639,0\\r\\n28877,0\\r\\n59599,1\\r\\n73646,0\\r\\n70287,0\\r\\n45543,0\\r\\n699,0\\r\\n34346,0\\r\\n13809,0\\r\\n22682,0\\r\\n23745,0\\r\\n65708,0\\r\\n1426,0\\r\\n71934,0\\r\\n38503,0\\r\\n68022,0\\r\\n6519,0\\r\\n14672,0\\r\\n46399,0\\r\\n72353,0\\r\\n51514,0\\r\\n62638,0\\r\\n28742,0\\r\\n52222,0\\r\\n22219,0\\r\\n45265,0\\r\\n37360,0\\r\\n67812,0\\r\\n41595,0\\r\\n6854,0\\r\\n74153,0\\r\\n63439,0\\r\\n54890,0\\r\\n62124,0\\r\\n42744,0\\r\\n60551,0\\r\\n17714,0\\r\\n33626,0\\r\\n45400,0\\r\\n19557,0\\r\\n29737,0\\r\\n23960,0\\r\\n77684,0\\r\\n70798,0\\r\\n75668,0\\r\\n4779,0\\r\\n3716,0\\r\\n25003,0\\r\\n8154,0\\r\\n52412,0\\r\\n74669,0\\r\\n5853,0\\r\\n32025,0\\r\\n59998,0\\r\\n17391,0\\r\\n15080,0\\r\\n67758,0\\r\\n14456,0\\r\\n14691,0\\r\\n62983,0\\r\\n337,0\\r\\n33880,0\\r\\n47958,0\\r\\n11974,0\\r\\n13828,0\\r\\n28346,0\\r\\n67800,0\\r\\n17433,0\\r\\n70209,1\\r\\n8137,0\\r\\n47356,0\\r\\n1009,0\\r\\n60844,0\\r\\n24511,0\\r\\n61711,0\\r\\n26410,0\\r\\n4198,0\\r\\n26757,0\\r\\n18322,0\\r\\n30842,0\\r\\n76509,0\\r\\n27904,0\\r\\n6315,0\\r\\n74829,0\\r\\n71085,0\\r\\n64462,0\\r\\n3960,0\\r\\n76258,0\\r\\n26498,0\\r\\n51767,0\\r\\n27778,0\\r\\n46652,1\\r\\n67984,0\\r\\n45438,0\\r\\n59042,0\\r\\n67622,0\\r\\n11679,0\\r\\n28186,0\\r\\n76112,0\\r\\n58177,0\\r\\n63177,0\\r\\n6014,0\\r\\n6701,0\\r\\n64783,0\\r\\n71908,0\\r\\n9341,0\\r\\n17212,0\\r\\n35761,0\\r\\n23584,0\\r\\n38635,0\\r\\n67270,0\\r\\n62533,0\\r\\n20365,0\\r\\n12210,0\\r\\n62141,0\\r\\n41201,0\\r\\n68335,0\\r\\n51154,0\\r\\n28431,0\\r\\n68401,0\\r\\n69500,0\\r\\n25984,0\\r\\n56959,0\\r\\n45347,0\\r\\n4876,0\\r\\n32436,0\\r\\n21609,0\\r\\n58521,0\\r\\n65552,0\\r\\n47962,0\\r\\n20205,0\\r\\n31648,0\\r\\n73981,0\\r\\n21042,0\\r\\n73481,0\\r\\n71222,0\\r\\n60104,0\\r\\n16838,0\\r\\n6317,0\\r\\n54345,0\\r\\n51746,0\\r\\n12315,0\\r\\n2891,0\\r\\n50790,0\\r\\n52096,0\\r\\n39673,1\\r\\n10331,0\\r\\n12196,0\\r\\n3232,0\\r\\n29827,0\\r\\n48498,0\\r\\n56726,0\\r\\n14491,0\\r\\n58342,0\\r\\n5429,0\\r\\n69214,0\\r\\n53204,0\\r\\n47205,0\\r\\n4575,0\\r\\n68640,0\\r\\n19471,1\\r\\n31212,0\\r\\n47188,0\\r\\n40350,0\\r\\n32451,0\\r\\n56339,0\\r\\n4148,0\\r\\n40527,0\\r\\n32584,0\\r\\n32045,0\\r\\n58199,0\\r\\n60368,0\\r\\n13214,0\\r\\n74362,0\\r\\n44974,0\\r\\n18101,0\\r\\n77063,0\\r\\n35372,0\\r\\n63554,0\\r\\n25189,0\\r\\n11232,0\\r\\n67615,0\\r\\n8717,0\\r\\n47437,0\\r\\n57667,0\\r\\n59918,0\\r\\n77961,0\\r\\n27449,1\\r\\n22465,0\\r\\n23186,0\\r\\n42268,0\\r\\n77038,0\\r\\n68667,0\\r\\n12999,0\\r\\n64293,0\\r\\n63000,0\\r\\n20217,0\\r\\n44044,0\\r\\n59571,0\\r\\n16543,0\\r\\n41254,0\\r\\n32551,0\\r\\n30189,0\\r\\n9608,0\\r\\n66097,0\\r\\n58347,0\\r\\n39331,0\\r\\n25310,0\\r\\n35738,0\\r\\n12337,0\\r\\n29991,0\\r\\n35179,0\\r\\n13628,0\\r\\n53253,0\\r\\n56902,1\\r\\n42342,0\\r\\n4163,0\\r\\n46528,0\\r\\n8542,0\\r\\n6890,0\\r\\n38382,0\\r\\n9461,0\\r\\n33352,0\\r\\n73874,0\\r\\n32105,0\\r\\n46384,0\\r\\n13796,0\\r\\n52518,0\\r\\n52410,0\\r\\n35907,0\\r\\n36089,0\\r\\n40093,0\\r\\n55788,0\\r\\n18134,0\\r\\n51086,0\\r\\n22038,0\\r\\n36168,0\\r\\n57482,0\\r\\n3008,0\\r\\n69938,0\\r\\n1798,0\\r\\n71794,0\\r\\n38624,0\\r\\n49720,0\\r\\n12289,0\\r\\n40718,0\\r\\n63607,0\\r\\n57077,0\\r\\n3249,0\\r\\n72490,0\\r\\n60580,0\\r\\n37423,0\\r\\n9878,0\\r\\n501,0\\r\\n51563,0\\r\\n51683,0\\r\\n42399,0\\r\\n24482,0\\r\\n10626,0\\r\\n65970,0\\r\\n67523,0\\r\\n19699,0\\r\\n76020,0\\r\\n35486,0\\r\\n66627,0\\r\\n24264,0\\r\\n152,0\\r\\n60471,0\\r\\n60927,0\\r\\n68474,0\\r\\n50340,0\\r\\n7233,0\\r\\n24678,0\\r\\n19962,0\\r\\n39641,0\\r\\n7867,0\\r\\n1806,0\\r\\n24778,0\\r\\n35647,0\\r\\n35569,0\\r\\n50817,0\\r\\n43605,0\\r\\n56444,0\\r\\n56389,0\\r\\n63996,0\\r\\n10273,0\\r\\n69097,0\\r\\n73798,0\\r\\n49645,0\\r\\n48235,0\\r\\n69530,0\\r\\n12095,0\\r\\n34298,0\\r\\n66592,0\\r\\n21035,0\\r\\n71291,0\\r\\n76507,0\\r\\n49024,0\\r\\n17964,0\\r\\n54368,0\\r\\n73477,0\\r\\n6513,0\\r\\n6256,0\\r\\n77552,0\\r\\n52357,0\\r\\n64495,0\\r\\n68346,0\\r\\n37669,0\\r\\n63583,0\\r\\n24893,0\\r\\n9479,0\\r\\n49706,0\\r\\n42044,0\\r\\n63183,0\\r\\n29512,0\\r\\n75653,0\\r\\n50058,0\\r\\n314,0\\r\\n68759,1\\r\\n70845,0\\r\\n53494,1\\r\\n47062,0\\r\\n32009,0\\r\\n23475,0\\r\\n75744,0\\r\\n25222,0\\r\\n64245,0\\r\\n28880,0\\r\\n60811,0\\r\\n53223,0\\r\\n11953,0\\r\\n606,0\\r\\n45334,0\\r\\n39738,0\\r\\n2699,0\\r\\n62814,0\\r\\n1205,0\\r\\n70832,0\\r\\n53210,0\\r\\n55377,0\\r\\n37495,1\\r\\n44001,0\\r\\n52427,0\\r\\n77128,0\\r\\n47859,0\\r\\n6234,0\\r\\n11523,0\\r\\n26633,0\\r\\n36436,0\\r\\n11444,0\\r\\n49131,0\\r\\n55304,0\\r\\n43663,0\\r\\n43563,0\\r\\n2908,0\\r\\n40602,0\\r\\n22735,0\\r\\n75093,0\\r\\n68364,0\\r\\n52983,0\\r\\n55594,0\\r\\n19757,0\\r\\n54455,0\\r\\n64723,0\\r\\n55673,0\\r\\n65267,0\\r\\n25756,0\\r\\n38055,0\\r\\n47388,0\\r\\n56494,0\\r\\n12176,0\\r\\n28751,0\\r\\n72638,0\\r\\n8152,0\\r\\n19017,0\\r\\n31979,0\\r\\n39612,0\\r\\n56067,0\\r\\n22521,0\\r\\n27402,0\\r\\n56153,0\\r\\n4052,0\\r\\n55052,0\\r\\n68752,0\\r\\n40587,0\\r\\n34477,0\\r\\n59883,0\\r\\n32775,0\\r\\n67675,0\\r\\n24241,0\\r\\n9830,0\\r\\n14240,0\\r\\n32199,0\\r\\n8770,0\\r\\n33906,0\\r\\n46033,0\\r\\n76920,0\\r\\n49754,0\\r\\n34981,0\\r\\n1400,0\\r\\n56798,0\\r\\n77472,0\\r\\n34943,0\\r\\n48782,0\\r\\n68261,0\\r\\n40059,0\\r\\n67350,0\\r\\n60928,0\\r\\n37962,0\\r\\n1299,0\\r\\n7062,0\\r\\n41864,0\\r\\n33692,0\\r\\n16852,0\\r\\n30876,0\\r\\n58371,0\\r\\n77094,0\\r\\n54470,0\\r\\n55478,0\\r\\n10291,0\\r\\n40040,0\\r\\n74899,0\\r\\n40384,0\\r\\n131,0\\r\\n72427,0\\r\\n33819,0\\r\\n25143,0\\r\\n39770,0\\r\\n21573,0\\r\\n72029,0\\r\\n76294,0\\r\\n43807,0\\r\\n8629,0\\r\\n13002,0\\r\\n43043,0\\r\\n38691,0\\r\\n39346,0\\r\\n40949,0\\r\\n16623,0\\r\\n44278,0\\r\\n3188,0\\r\\n54484,0\\r\\n74894,0\\r\\n5876,0\\r\\n42305,0\\r\\n34809,0\\r\\n73922,0\\r\\n40082,0\\r\\n56147,0\\r\\n16707,1\\r\\n48143,0\\r\\n55430,0\\r\\n50222,0\\r\\n46169,0\\r\\n40580,0\\r\\n72592,0\\r\\n29261,0\\r\\n67103,0\\r\\n46270,0\\r\\n77848,0\\r\\n34867,0\\r\\n29807,0\\r\\n9029,0\\r\\n8116,0\\r\\n4340,0\\r\\n66387,0\\r\\n12653,0\\r\\n15601,0\\r\\n55687,0\\r\\n65566,0\\r\\n62972,0\\r\\n728,0\\r\\n57018,0\\r\\n39531,0\\r\\n64736,0\\r\\n58943,0\\r\\n48210,0\\r\\n9640,0\\r\\n44056,1\\r\\n78137,0\\r\\n63716,0\\r\\n8420,0\\r\\n53070,0\\r\\n9965,0\\r\\n46122,0\\r\\n37064,0\\r\\n261,0\\r\\n37330,0\\r\\n5715,0\\r\\n74269,0\\r\\n15720,0\\r\\n44636,0\\r\\n73784,0\\r\\n75025,0\\r\\n76502,0\\r\\n38968,0\\r\\n37165,0\\r\\n542,0\\r\\n55698,0\\r\\n75248,0\\r\\n29097,0\\r\\n20461,0\\r\\n75326,0\\r\\n30622,0\\r\\n20302,0\\r\\n56743,0\\r\\n9534,0\\r\\n37166,0\\r\\n8083,0\\r\\n26576,0\\r\\n52608,0\\r\\n60253,0\\r\\n58961,0\\r\\n54080,0\\r\\n30701,0\\r\\n66132,0\\r\\n62731,0\\r\\n69939,0\\r\\n69991,0\\r\\n27578,0\\r\\n19033,0\\r\\n72419,0\\r\\n17770,0\\r\\n60332,0\\r\\n55696,0\\r\\n14994,0\\r\\n26834,0\\r\\n21297,0\\r\\n56511,0\\r\\n23413,0\\r\\n34394,0\\r\\n23778,0\\r\\n7242,0\\r\\n50527,0\\r\\n6232,0\\r\\n48690,0\\r\\n19249,0\\r\\n38418,0\\r\\n13882,0\\r\\n46701,0\\r\\n63649,0\\r\\n1971,0\\r\\n44485,0\\r\\n36200,0\\r\\n70058,0\\r\\n17001,0\\r\\n22561,0\\r\\n73395,0\\r\\n31388,0\\r\\n38246,0\\r\\n60808,0\\r\\n3345,0\\r\\n34263,0\\r\\n29800,0\\r\\n16823,0\\r\\n46123,0\\r\\n62486,0\\r\\n24937,0\\r\\n32913,0\\r\\n33183,0\\r\\n57723,0\\r\\n35170,0\\r\\n75666,0\\r\\n72867,0\\r\\n59128,0\\r\\n57490,0\\r\\n13646,0\\r\\n35593,0\\r\\n24183,0\\r\\n29094,0\\r\\n14660,0\\r\\n67323,0\\r\\n24900,0\\r\\n33039,0\\r\\n8234,0\\r\\n63020,0\\r\\n26031,0\\r\\n49229,0\\r\\n33077,0\\r\\n39115,0\\r\\n13235,0\\r\\n5964,0\\r\\n12949,0\\r\\n53367,0\\r\\n40970,0\\r\\n3424,0\\r\\n61957,0\\r\\n19727,0\\r\\n46770,0\\r\\n70259,0\\r\\n20238,0\\r\\n54587,0\\r\\n32661,0\\r\\n4032,0\\r\\n46372,0\\r\\n40079,0\\r\\n73711,0\\r\\n63843,0\\r\\n52086,0\\r\\n57836,0\\r\\n17532,0\\r\\n38544,0\\r\\n67533,1\\r\\n71945,0\\r\\n29808,0\\r\\n13449,0\\r\\n52831,0\\r\\n71599,0\\r\\n18145,0\\r\\n52375,0\\r\\n78261,0\\r\\n38243,0\\r\\n38093,0\\r\\n31107,0\\r\\n73406,1\\r\\n73205,0\\r\\n37966,0\\r\\n76855,0\\r\\n55476,0\\r\\n67080,0\\r\\n41971,0\\r\\n8394,0\\r\\n65135,0\\r\\n44586,0\\r\\n23952,0\\r\\n4736,0\\r\\n62391,1\\r\\n53956,0\\r\\n8550,0\\r\\n14047,0\\r\\n21823,0\\r\\n10343,0\\r\\n36227,0\\r\\n1464,1\\r\\n3159,0\\r\\n67822,0\\r\\n12364,1\\r\\n15822,0\\r\\n69010,0\\r\\n18303,0\\r\\n74868,0\\r\\n7197,0\\r\\n37904,0\\r\\n26127,0\\r\\n20814,0\\r\\n40889,0\\r\\n33672,0\\r\\n57521,1\\r\\n42596,0\\r\\n54842,0\\r\\n2619,0\\r\\n7649,0\\r\\n15977,0\\r\\n16525,0\\r\\n28740,0\\r\\n33897,0\\r\\n62872,0\\r\\n23372,0\\r\\n17233,0\\r\\n66443,0\\r\\n61766,0\\r\\n11839,0\\r\\n25177,0\\r\\n11520,0\\r\\n73089,0\\r\\n37804,0\\r\\n60674,0\\r\\n44865,0\\r\\n31177,0\\r\\n28455,0\\r\\n76531,0\\r\\n52373,0\\r\\n3574,0\\r\\n44282,0\\r\\n32530,0\\r\\n12027,0\\r\\n13361,0\\r\\n69492,0\\r\\n73643,0\\r\\n31338,0\\r\\n27303,0\\r\\n50635,0\\r\\n7349,0\\r\\n3630,0\\r\\n37625,0\\r\\n66194,0\\r\\n61588,0\\r\\n54194,0\\r\\n23542,0\\r\\n73941,0\\r\\n76887,0\\r\\n39981,0\\r\\n8718,0\\r\\n44318,0\\r\\n2314,0\\r\\n78125,0\\r\\n65292,0\\r\\n45093,0\\r\\n8640,0\\r\\n12665,0\\r\\n36048,0\\r\\n55261,0\\r\\n10107,0\\r\\n21700,0\\r\\n24764,1\\r\\n68340,0\\r\\n39278,0\\r\\n61370,0\\r\\n5748,0\\r\\n51248,0\\r\\n29211,0\\r\\n24077,0\\r\\n70482,0\\r\\n73500,0\\r\\n52445,0\\r\\n64598,0\\r\\n6096,0\\r\\n64681,0\\r\\n71879,0\\r\\n64617,0\\r\\n69864,0\\r\\n45823,0\\r\\n47606,0\\r\\n58139,0\\r\\n19861,0\\r\\n35747,0\\r\\n23054,0\\r\\n15662,0\\r\\n46525,0\\r\\n50819,0\\r\\n5634,0\\r\\n52899,0\\r\\n15750,0\\r\\n48224,0\\r\\n71950,0\\r\\n61389,0\\r\\n59515,0\\r\\n61743,0\\r\\n35052,0\\r\\n22389,0\\r\\n1883,0\\r\\n73999,1\\r\\n12307,0\\r\\n655,0\\r\\n69922,0\\r\\n8165,1\\r\\n63267,0\\r\\n48890,0\\r\\n26071,0\\r\\n43335,1\\r\\n4936,0\\r\\n44936,0\\r\\n2975,0\\r\\n56558,0\\r\\n67768,0\\r\\n35532,0\\r\\n28148,0\\r\\n29310,0\\r\\n71272,0\\r\\n72910,0\\r\\n22023,0\\r\\n1164,0\\r\\n74437,0\\r\\n18373,0\\r\\n16368,0\\r\\n51701,0\\r\\n8220,0\\r\\n56473,0\\r\\n44215,0\\r\\n9350,0\\r\\n59407,0\\r\\n52819,0\\r\\n72002,0\\r\\n4829,0\\r\\n74253,0\\r\\n8341,0\\r\\n78239,0\\r\\n65724,0\\r\\n7446,0\\r\\n53273,0\\r\\n12417,0\\r\\n50061,0\\r\\n32578,0\\r\\n29579,0\\r\\n63032,0\\r\\n39672,0\\r\\n18665,0\\r\\n46863,1\\r\\n5719,0\\r\\n58182,0\\r\\n34549,0\\r\\n17303,0\\r\\n51341,0\\r\\n49552,0\\r\\n49947,0\\r\\n70300,0\\r\\n38543,0\\r\\n57119,0\\r\\n64138,0\\r\\n8944,0\\r\\n56947,0\\r\\n6601,0\\r\\n61978,0\\r\\n35848,0\\r\\n34559,0\\r\\n12744,0\\r\\n33833,0\\r\\n56075,0\\r\\n68274,0\\r\\n2854,0\\r\\n48611,0\\r\\n30943,0\\r\\n69012,0\\r\\n21060,0\\r\\n6709,0\\r\\n50492,0\\r\\n30624,1\\r\\n40654,0\\r\\n24439,0\\r\\n56745,0\\r\\n12379,0\\r\\n19657,0\\r\\n55720,0\\r\\n63213,0\\r\\n55167,0\\r\\n77318,0\\r\\n49416,0\\r\\n34063,0\\r\\n11731,0\\r\\n78107,0\\r\\n65732,0\\r\\n7443,0\\r\\n41708,0\\r\\n2636,0\\r\\n64673,0\\r\\n19690,0\\r\\n32318,1\\r\\n6940,0\\r\\n21496,0\\r\\n74171,0\\r\\n54085,0\\r\\n4612,0\\r\\n788,0\\r\\n16070,0\\r\\n50063,0\\r\\n15540,0\\r\\n19643,0\\r\\n49468,0\\r\\n70243,0\\r\\n29528,0\\r\\n13974,0\\r\\n31221,0\\r\\n18862,0\\r\\n75921,0\\r\\n68327,0\\r\\n39113,0\\r\\n43762,1\\r\\n71243,0\\r\\n38806,0\\r\\n30612,0\\r\\n117,0\\r\\n26161,0\\r\\n9209,0\\r\\n16752,0\\r\\n3309,0\\r\\n66952,0\\r\\n65824,0\\r\\n52001,0\\r\\n15768,0\\r\\n17769,1\\r\\n38996,0\\r\\n75826,0\\r\\n49700,0\\r\\n5425,0\\r\\n77698,0\\r\\n47638,0\\r\\n8586,0\\r\\n69065,0\\r\\n19119,0\\r\\n22666,0\\r\\n71164,0\\r\\n43921,0\\r\\n37711,0\\r\\n52717,0\\r\\n7219,0\\r\\n55821,0\\r\\n65491,0\\r\\n24784,0\\r\\n1224,0\\r\\n37836,0\\r\\n1189,0\\r\\n706,0\\r\\n38409,0\\r\\n6168,0\\r\\n61059,0\\r\\n9914,0\\r\\n412,0\\r\\n40664,0\\r\\n17551,0\\r\\n77276,0\\r\\n72368,0\\r\\n37671,0\\r\\n64054,0\\r\\n14317,0\\r\\n70698,1\\r\\n41538,0\\r\\n19257,0\\r\\n70748,0\\r\\n72876,0\\r\\n66798,0\\r\\n26444,0\\r\\n28280,0\\r\\n5336,0\\r\\n32943,0\\r\\n23670,0\\r\\n28061,0\\r\\n31487,0\\r\\n77429,0\\r\\n20336,0\\r\\n22543,0\\r\\n38339,0\\r\\n38888,0\\r\\n12349,0\\r\\n17347,0\\r\\n32240,0\\r\\n65919,0\\r\\n5886,0\\r\\n62750,0\\r\\n31404,1\\r\\n78009,0\\r\\n44002,0\\r\\n51028,0\\r\\n9849,0\\r\\n5437,0\\r\\n49390,0\\r\\n59752,0\\r\\n66202,0\\r\\n47106,0\\r\\n30795,0\\r\\n56633,0\\r\\n75388,0\\r\\n53408,0\\r\\n38696,0\\r\\n33192,0\\r\\n25454,0\\r\\n71811,0\\r\\n37611,0\\r\\n39338,0\\r\\n10269,0\\r\\n33009,0\\r\\n10758,0\\r\\n30160,0\\r\\n32978,0\\r\\n6385,0\\r\\n46551,0\\r\\n52218,0\\r\\n5809,0\\r\\n29227,0\\r\\n22072,0\\r\\n49153,0\\r\\n54995,0\\r\\n72010,0\\r\\n56115,0\\r\\n41998,0\\r\\n16061,0\\r\\n36948,0\\r\\n61126,0\\r\\n34774,0\\r\\n30344,0\\r\\n42521,0\\r\\n23042,0\\r\\n57301,0\\r\\n47777,0\\r\\n42229,0\\r\\n67137,0\\r\\n39155,0\\r\\n31593,0\\r\\n74360,0\\r\\n58881,1\\r\\n55018,0\\r\\n19902,0\\r\\n49260,0\\r\\n10104,0\\r\\n63968,0\\r\\n76077,0\\r\\n54294,1\\r\\n68719,0\\r\\n45992,0\\r\\n71304,0\\r\\n7280,0\\r\\n55437,0\\r\\n17370,1\\r\\n16085,0\\r\\n34486,0\\r\\n15357,0\\r\\n36409,0\\r\\n30884,0\\r\\n64719,0\\r\\n69446,0\\r\\n71779,0\\r\\n16163,0\\r\\n36831,0\\r\\n8210,0\\r\\n20123,0\\r\\n44745,0\\r\\n27718,1\\r\\n368,0\\r\\n67510,0\\r\\n6090,0\\r\\n69346,0\\r\\n70562,0\\r\\n30506,0\\r\\n45072,0\\r\\n75856,0\\r\\n13466,0\\r\\n17689,0\\r\\n63895,0\\r\\n56687,0\\r\\n45344,0\\r\\n47305,0\\r\\n63780,0\\r\\n16813,0\\r\\n77437,0\\r\\n45065,0\\r\\n11710,0\\r\\n49542,0\\r\\n34881,0\\r\\n65657,0\\r\\n54310,0\\r\\n47919,0\\r\\n25700,0\\r\\n62541,0\\r\\n51978,0\\r\\n53705,0\\r\\n51822,1\\r\\n41582,0\\r\\n24547,0\\r\\n73552,0\\r\\n42857,0\\r\\n7078,0\\r\\n54861,0\\r\\n26995,0\\r\\n72133,0\\r\\n46760,0\\r\\n19788,0\\r\\n46980,0\\r\\n34580,0\\r\\n75131,0\\r\\n23582,0\\r\\n2184,0\\r\\n57186,0\\r\\n31015,0\\r\\n74034,0\\r\\n9363,0\\r\\n20607,0\\r\\n403,0\\r\\n66606,1\\r\\n60801,0\\r\\n54957,0\\r\\n29451,0\\r\\n42552,0\\r\\n7681,0\\r\\n53117,0\\r\\n35300,0\\r\\n3483,0\\r\\n76854,0\\r\\n2569,0\\r\\n64309,0\\r\\n67041,0\\r\\n6287,0\\r\\n26051,0\\r\\n48152,0\\r\\n35373,0\\r\\n57409,0\\r\\n66980,0\\r\\n38266,0\\r\\n26217,0\\r\\n57800,0\\r\\n70212,0\\r\\n19570,0\\r\\n59445,0\\r\\n3845,0\\r\\n52337,0\\r\\n38320,0\\r\\n6642,0\\r\\n14797,0\\r\\n16173,0\\r\\n26439,0\\r\\n8864,0\\r\\n64189,0\\r\\n7241,0\\r\\n59413,0\\r\\n7902,0\\r\\n71544,0\\r\\n52551,0\\r\\n15695,0\\r\\n67362,0\\r\\n53788,0\\r\\n7310,0\\r\\n16503,0\\r\\n63074,0\\r\\n15209,0\\r\\n25809,0\\r\\n23312,0\\r\\n34268,0\\r\\n41417,0\\r\\n11609,0\\r\\n46348,0\\r\\n38867,0\\r\\n46435,0\\r\\n45832,0\\r\\n18695,0\\r\\n71027,0\\r\\n45405,0\\r\\n51477,0\\r\\n24629,0\\r\\n20348,0\\r\\n17562,0\\r\\n38894,0\\r\\n21626,0\\r\\n630,0\\r\\n4975,0\\r\\n13612,0\\r\\n61598,0\\r\\n16010,0\\r\\n77859,0\\r\\n29040,0\\r\\n12887,0\\r\\n44525,0\\r\\n24796,0\\r\\n38411,0\\r\\n41764,0\\r\\n58339,0\\r\\n47330,0\\r\\n33934,0\\r\\n2669,0\\r\\n28923,0\\r\\n53891,0\\r\\n48700,0\\r\\n45180,0\\r\\n72580,0\\r\\n8885,0\\r\\n12362,0\\r\\n17378,0\\r\\n49536,0\\r\\n36604,0\\r\\n52775,0\\r\\n20004,0\\r\\n73252,0\\r\\n40533,0\\r\\n14125,0\\r\\n37930,0\\r\\n77969,0\\r\\n40493,0\\r\\n54021,0\\r\\n7603,0\\r\\n49715,0\\r\\n74682,0\\r\\n37675,0\\r\\n34173,0\\r\\n25130,0\\r\\n50523,0\\r\\n4347,0\\r\\n57047,0\\r\\n75662,0\\r\\n5456,0\\r\\n77045,0\\r\\n50588,0\\r\\n46157,0\\r\\n51684,0\\r\\n78055,0\\r\\n68471,0\\r\\n60364,0\\r\\n15592,0\\r\\n23142,0\\r\\n39393,0\\r\\n39044,0\\r\\n45097,0\\r\\n41350,0\\r\\n67508,0\\r\\n58891,0\\r\\n10413,0\\r\\n27865,0\\r\\n42617,0\\r\\n50213,0\\r\\n19280,0\\r\\n33744,0\\r\\n57006,0\\r\\n14265,0\\r\\n70833,0\\r\\n11971,0\\r\\n28375,0\\r\\n3332,0\\r\\n7353,0\\r\\n16958,0\\r\\n24662,0\\r\\n10903,0\\r\\n29084,0\\r\\n26992,0\\r\\n30463,0\\r\\n43612,0\\r\\n41043,0\\r\\n38972,0\\r\\n3328,0\\r\\n24836,0\\r\\n5787,0\\r\\n35955,0\\r\\n2130,0\\r\\n30569,0\\r\\n21401,0\\r\\n56163,0\\r\\n72673,0\\r\\n56479,0\\r\\n19128,1\\r\\n49158,0\\r\\n41368,0\\r\\n5027,0\\r\\n44033,0\\r\\n50385,0\\r\\n24301,0\\r\\n63683,0\\r\\n46229,0\\r\\n24757,0\\r\\n30286,0\\r\\n42355,0\\r\\n72824,0\\r\\n60640,0\\r\\n37992,0\\r\\n36430,0\\r\\n21652,0\\r\\n64548,0\\r\\n2124,0\\r\\n55050,0\\r\\n36238,0\\r\\n57574,0\\r\\n31635,0\\r\\n4409,0\\r\\n30171,0\\r\\n4511,0\\r\\n24019,0\\r\\n44403,0\\r\\n2215,0\\r\\n26566,1\\r\\n25044,0\\r\\n68480,0\\r\\n77152,0\\r\\n66748,0\\r\\n73997,0\\r\\n39433,0\\r\\n49289,0\\r\\n29664,0\\r\\n45001,0\\r\\n12437,0\\r\\n72547,0\\r\\n40063,1\\r\\n35749,0\\r\\n57812,0\\r\\n45016,0\\r\\n26949,0\\r\\n76432,0\\r\\n28843,0\\r\\n27500,0\\r\\n14746,0\\r\\n28970,0\\r\\n53386,0\\r\\n29370,0\\r\\n16861,0\\r\\n78088,0\\r\\n74922,0\\r\\n74420,0\\r\\n12365,0\\r\\n67513,0\\r\\n66801,0\\r\\n77964,0\\r\\n2194,0\\r\\n16100,0\\r\\n43192,0\\r\\n50570,0\\r\\n15652,0\\r\\n45870,0\\r\\n8359,0\\r\\n52143,0\\r\\n34450,0\\r\\n75705,0\\r\\n69800,0\\r\\n77523,0\\r\\n29724,0\\r\\n27380,0\\r\\n44567,0\\r\\n40513,0\\r\\n18743,0\\r\\n22384,0\\r\\n26657,0\\r\\n64958,0\\r\\n68512,0\\r\\n3929,0\\r\\n18893,0\\r\\n22188,0\\r\\n13633,0\\r\\n3164,0\\r\\n70692,0\\r\\n22771,0\\r\\n70926,0\\r\\n2600,0\\r\\n1620,0\\r\\n20615,0\\r\\n77587,0\\r\\n17315,0\\r\\n24693,0\\r\\n21654,0\\r\\n25896,0\\r\\n48916,0\\r\\n56982,0\\r\\n35861,0\\r\\n54537,0\\r\\n71709,0\\r\\n16252,0\\r\\n60850,0\\r\\n9869,0\\r\\n48447,0\\r\\n16885,0\\r\\n43706,0\\r\\n77810,0\\r\\n60884,0\\r\\n37070,0\\r\\n10130,0\\r\\n48226,0\\r\\n45302,0\\r\\n2238,0\\r\\n58323,0\\r\\n787,0\\r\\n36838,0\\r\\n2933,0\\r\\n17625,0\\r\\n4259,0\\r\\n48882,0\\r\\n8856,0\\r\\n12468,1\\r\\n14686,0\\r\\n46524,0\\r\\n18729,0\\r\\n58237,0\\r\\n59187,0\\r\\n76284,0\\r\\n72808,0\\r\\n55791,0\\r\\n71609,0\\r\\n76224,0\\r\\n46893,0\\r\\n50901,0\\r\\n14176,0\\r\\n41579,0\\r\\n5408,0\\r\\n51365,0\\r\\n40771,0\\r\\n13778,0\\r\\n67311,0\\r\\n23808,0\\r\\n33172,0\\r\\n45939,0\\r\\n4954,0\\r\\n4324,1\\r\\n62172,0\\r\\n30694,0\\r\\n6558,0\\r\\n72972,0\\r\\n63340,0\\r\\n55938,0\\r\\n37767,0\\r\\n19627,0\\r\\n47978,0\\r\\n67168,0\\r\\n28111,0\\r\\n37961,0\\r\\n55588,0\\r\\n19641,0\\r\\n34869,0\\r\\n37418,0\\r\\n34989,0\\r\\n2869,0\\r\\n54821,0\\r\\n62284,0\\r\\n31281,0\\r\\n75888,1\\r\\n57899,0\\r\\n29597,0\\r\\n37368,1\\r\\n67642,0\\r\\n48837,0\\r\\n21941,0\\r\\n11598,0\\r\\n31095,0\\r\\n5289,0\\r\\n63984,0\\r\\n61550,0\\r\\n66356,0\\r\\n17695,0\\r\\n49112,0\\r\\n59308,0\\r\\n63169,0\\r\\n75911,0\\r\\n69803,0\\r\\n42251,0\\r\\n17319,0\\r\\n18860,1\\r\\n9775,1\\r\\n59111,0\\r\\n34251,0\\r\\n40393,0\\r\\n32894,0\\r\\n10753,0\\r\\n33623,0\\r\\n23000,0\\r\\n36873,0\\r\\n9416,0\\r\\n60369,0\\r\\n57650,0\\r\\n46873,1\\r\\n42726,0\\r\\n38912,0\\r\\n6169,1\\r\\n44055,0\\r\\n17994,0\\r\\n35256,0\\r\\n27403,0\\r\\n68035,0\\r\\n22537,0\\r\\n61231,0\\r\\n13192,0\\r\\n66924,0\\r\\n55678,0\\r\\n38768,0\\r\\n76703,0\\r\\n14130,0\\r\\n10731,0\\r\\n38716,0\\r\\n53810,0\\r\\n6973,0\\r\\n61597,0\\r\\n44024,0\\r\\n23577,0\\r\\n37717,0\\r\\n61515,0\\r\\n56724,0\\r\\n54215,0\\r\\n5065,0\\r\\n49843,0\\r\\n13042,0\\r\\n51417,0\\r\\n21742,0\\r\\n63337,0\\r\\n21146,0\\r\\n9594,0\\r\\n43743,0\\r\\n69940,0\\r\\n20517,0\\r\\n69190,0\\r\\n57050,0\\r\\n49523,0\\r\\n566,0\\r\\n47527,0\\r\\n65446,0\\r\\n62795,0\\r\\n52465,0\\r\\n32826,0\\r\\n49985,0\\r\\n15663,0\\r\\n9028,0\\r\\n40163,0\\r\\n29507,0\\r\\n41316,0\\r\\n63211,0\\r\\n56212,0\\r\\n41315,0\\r\\n4934,0\\r\\n43178,0\\r\\n4090,0\\r\\n13492,0\\r\\n76160,0\\r\\n64092,0\\r\\n13352,0\\r\\n13665,0\\r\\n13767,0\\r\\n17210,0\\r\\n68789,0\\r\\n23265,0\\r\\n26983,0\\r\\n17874,0\\r\\n75543,0\\r\\n27690,0\\r\\n77360,0\\r\\n6042,0\\r\\n49132,0\\r\\n46402,0\\r\\n38026,0\\r\\n8066,0\\r\\n48686,0\\r\\n72282,0\\r\\n36788,0\\r\\n26823,0\\r\\n59662,0\\r\\n32892,0\\r\\n51080,0\\r\\n27353,0\\r\\n24707,0\\r\\n43387,0\\r\\n73875,0\\r\\n74104,0\\r\\n77219,0\\r\\n36751,0\\r\\n18070,0\\r\\n40056,0\\r\\n2182,1\\r\\n8804,0\\r\\n42610,0\\r\\n16547,0\\r\\n61191,0\\r\\n39072,0\\r\\n5280,0\\r\\n27073,0\\r\\n42128,0\\r\\n52300,0\\r\\n60735,0\\r\\n60076,0\\r\\n67830,0\\r\\n1946,0\\r\\n39267,0\\r\\n43237,0\\r\\n21438,0\\r\\n14842,0\\r\\n18284,0\\r\\n49675,0\\r\\n2012,0\\r\\n4430,0\\r\\n59659,0\\r\\n30182,0\\r\\n48823,1\\r\\n56238,0\\r\\n35623,0\\r\\n70894,0\\r\\n6714,0\\r\\n74999,0\\r\\n400,0\\r\\n7767,0\\r\\n21638,0\\r\\n69096,0\\r\\n5421,0\\r\\n11405,0\\r\\n19563,0\\r\\n75188,0\\r\\n18295,0\\r\\n62036,0\\r\\n14292,0\\r\\n37014,0\\r\\n37323,0\\r\\n37063,0\\r\\n7282,0\\r\\n51994,0\\r\\n28769,0\\r\\n38296,0\\r\\n35959,0\\r\\n17486,0\\r\\n78168,0\\r\\n73772,0\\r\\n63469,0\\r\\n39257,1\\r\\n11152,0\\r\\n69178,0\\r\\n27802,0\\r\\n71453,0\\r\\n9823,0\\r\\n32750,0\\r\\n51919,0\\r\\n30177,0\\r\\n123,0\\r\\n35958,0\\r\\n23390,0\\r\\n31517,0\\r\\n59292,0\\r\\n54167,0\\r\\n5348,0\\r\\n20605,0\\r\\n7270,0\\r\\n59890,0\\r\\n34800,0\\r\\n52781,0\\r\\n52759,0\\r\\n7906,1\\r\\n10307,0\\r\\n64979,0\\r\\n55003,0\\r\\n32974,0\\r\\n11510,0\\r\\n4073,0\\r\\n6278,0\\r\\n73145,0\\r\\n49198,0\\r\\n57354,0\\r\\n1760,0\\r\\n48341,0\\r\\n77730,1\\r\\n10449,0\\r\\n18869,0\\r\\n4461,0\\r\\n69185,0\\r\\n76523,0\\r\\n25551,0\\r\\n71782,0\\r\\n54180,0\\r\\n1626,0\\r\\n10191,0\\r\\n16832,0\\r\\n60380,0\\r\\n39792,0\\r\\n13342,0\\r\\n63420,0\\r\\n24651,0\\r\\n29571,0\\r\\n40989,0\\r\\n52708,0\\r\\n60408,0\\r\\n22499,0\\r\\n72187,0\\r\\n53737,0\\r\\n69551,0\\r\\n59461,0\\r\\n29090,1\\r\\n6620,0\\r\\n55248,1\\r\\n33941,0\\r\\n33716,0\\r\\n76242,0\\r\\n45800,0\\r\\n59312,0\\r\\n20911,0\\r\\n47021,0\\r\\n72036,0\\r\\n61802,0\\r\\n36555,0\\r\\n64385,0\\r\\n12401,1\\r\\n9754,0\\r\\n30666,0\\r\\n69735,0\\r\\n9503,0\\r\\n33203,0\\r\\n25960,0\\r\\n50215,0\\r\\n76408,0\\r\\n31797,0\\r\\n39519,0\\r\\n76481,0\\r\\n75158,0\\r\\n26016,0\\r\\n67571,0\\r\\n50278,1\\r\\n57297,0\\r\\n40661,0\\r\\n2844,0\\r\\n71548,0\\r\\n39897,0\\r\\n23618,0\\r\\n44419,0\\r\\n34243,0\\r\\n903,0\\r\\n9531,0\\r\\n78117,0\\r\\n42997,0\\r\\n13707,0\\r\\n30739,0\\r\\n17174,0\\r\\n62129,0\\r\\n44914,0\\r\\n59774,0\\r\\n22589,0\\r\\n16275,0\\r\\n46677,0\\r\\n20408,0\\r\\n34977,0\\r\\n54022,0\\r\\n56759,0\\r\\n48065,0\\r\\n15478,0\\r\\n56355,0\\r\\n16477,0\\r\\n68448,0\\r\\n35136,0\\r\\n20479,0\\r\\n26416,0\\r\\n47044,0\\r\\n72717,0\\r\\n51159,0\\r\\n45638,0\\r\\n47564,0\\r\\n39757,0\\r\\n34692,0\\r\\n2749,0\\r\\n53621,0\\r\\n68900,0\\r\\n44655,0\\r\\n76446,0\\r\\n11221,0\\r\\n7408,0\\r\\n68414,0\\r\\n35431,0\\r\\n70484,0\\r\\n13890,0\\r\\n17026,0\\r\\n62110,0\\r\\n72463,0\\r\\n9686,0\\r\\n6790,0\\r\\n61919,0\\r\\n51916,0\\r\\n4213,0\\r\\n34772,0\\r\\n25636,0\\r\\n31271,0\\r\\n78240,0\\r\\n33412,0\\r\\n63048,0\\r\\n14969,0\\r\\n50675,0\\r\\n43405,0\\r\\n64726,0\\r\\n31101,0\\r\\n11059,0\\r\\n77124,0\\r\\n60817,0\\r\\n16413,0\\r\\n44348,0\\r\\n44540,0\\r\\n69382,0\\r\\n10888,0\\r\\n40702,0\\r\\n77425,0\\r\\n37124,1\\r\\n24731,0\\r\\n67268,0\\r\\n10021,0\\r\\n21313,0\\r\\n27410,0\\r\\n42544,0\\r\\n11898,0\\r\\n56484,0\\r\\n70065,0\\r\\n65161,0\\r\\n68952,0\\r\\n53533,0\\r\\n17368,0\\r\\n56525,0\\r\\n55147,0\\r\\n20913,0\\r\\n22479,0\\r\\n38644,0\\r\\n654,0\\r\\n8535,0\\r\\n47563,0\\r\\n21370,0\\r\\n53986,0\\r\\n43437,0\\r\\n336,0\\r\\n24306,0\\r\\n37901,0\\r\\n74806,0\\r\\n77655,0\\r\\n48903,1\\r\\n7888,0\\r\\n14216,0\\r\\n29240,0\\r\\n45783,0\\r\\n12838,0\\r\\n62490,0\\r\\n59750,0\\r\\n42665,0\\r\\n59453,0\\r\\n18343,0\\r\\n76473,0\\r\\n17079,0\\r\\n60881,0\\r\\n57530,0\\r\\n11190,0\\r\\n9413,0\\r\\n17716,0\\r\\n43527,0\\r\\n28467,0\\r\\n43695,0\\r\\n39079,0\\r\\n51385,0\\r\\n51519,0\\r\\n15094,0\\r\\n11499,0\\r\\n75958,0\\r\\n62073,0\\r\\n36812,0\\r\\n41740,0\\r\\n35617,0\\r\\n7996,0\\r\\n74442,0\\r\\n147,0\\r\\n41265,0\\r\\n52486,0\\r\\n47940,0\\r\\n66141,0\\r\\n32522,1\\r\\n49723,0\\r\\n11961,0\\r\\n16849,0\\r\\n14149,0\\r\\n40684,0\\r\\n2843,0\\r\\n56817,0\\r\\n20413,0\\r\\n41032,0\\r\\n59287,0\\r\\n56956,0\\r\\n3672,0\\r\\n31203,0\\r\\n61088,0\\r\\n3322,0\\r\\n71830,0\\r\\n52027,0\\r\\n44207,0\\r\\n10987,0\\r\\n40536,0\\r\\n69692,0\\r\\n36416,0\\r\\n71218,0\\r\\n63004,0\\r\\n48400,0\\r\\n52044,0\\r\\n67097,0\\r\\n21110,0\\r\\n3578,0\\r\\n63570,0\\r\\n55210,0\\r\\n59734,0\\r\\n67424,0\\r\\n47004,0\\r\\n68409,0\\r\\n61418,0\\r\\n45815,0\\r\\n19137,0\\r\\n76656,0\\r\\n3505,0\\r\\n38595,1\\r\\n27077,0\\r\\n72347,0\\r\\n68579,0\\r\\n18970,0\\r\\n30005,0\\r\\n7554,0\\r\\n55503,0\\r\\n69083,0\\r\\n37237,0\\r\\n46864,0\\r\\n14644,0\\r\\n45655,0\\r\\n40381,0\\r\\n24146,0\\r\\n33787,0\\r\\n16665,0\\r\\n77645,0\\r\\n67110,0\\r\\n28434,0\\r\\n39340,0\\r\\n24369,0\\r\\n2582,0\\r\\n28547,0\\r\\n51262,0\\r\\n59498,0\\r\\n47833,0\\r\\n73138,0\\r\\n32066,0\\r\\n66109,0\\r\\n35533,1\\r\\n10187,0\\r\\n71045,0\\r\\n25974,0\\r\\n4658,0\\r\\n26900,0\\r\\n71639,0\\r\\n75479,0\\r\\n5118,1\\r\\n15183,0\\r\\n53387,0\\r\\n17693,0\\r\\n49962,0\\r\\n65049,0\\r\\n68631,0\\r\\n19934,0\\r\\n59272,0\\r\\n44456,0\\r\\n22366,0\\r\\n4644,0\\r\\n48114,0\\r\\n14881,0\\r\\n6312,0\\r\\n37960,0\\r\\n17711,0\\r\\n28260,0\\r\\n25251,0\\r\\n28185,0\\r\\n39360,0\\r\\n57797,0\\r\\n26285,0\\r\\n67619,0\\r\\n61742,0\\r\\n25805,0\\r\\n53170,0\\r\\n28520,0\\r\\n55203,0\\r\\n32406,0\\r\\n38150,0\\r\\n56091,0\\r\\n65469,0\\r\\n69108,0\\r\\n42407,0\\r\\n59210,0\\r\\n17085,0\\r\\n58498,0\\r\\n4250,0\\r\\n25694,0\\r\\n11571,0\\r\\n55693,0\\r\\n76447,0\\r\\n30156,0\\r\\n27922,0\\r\\n76715,0\\r\\n39464,0\\r\\n41615,0\\r\\n61496,0\\r\\n12409,0\\r\\n34840,0\\r\\n55053,0\\r\\n53194,0\\r\\n36276,0\\r\\n31152,0\\r\\n60830,0\\r\\n8320,0\\r\\n15471,0\\r\\n47877,0\\r\\n57590,0\\r\\n51738,0\\r\\n64170,0\\r\\n3180,0\\r\\n39748,0\\r\\n41416,0\\r\\n23492,0\\r\\n60554,0\\r\\n53135,0\\r\\n61026,0\\r\\n21631,0\\r\\n16781,0\\r\\n49757,0\\r\\n68296,0\\r\\n6093,0\\r\\n15893,0\\r\\n29947,0\\r\\n38267,0\\r\\n29184,0\\r\\n5529,0\\r\\n74576,0\\r\\n38682,0\\r\\n58405,0\\r\\n13405,0\\r\\n27091,0\\r\\n55948,0\\r\\n15758,0\\r\\n74855,0\\r\\n74065,0\\r\\n48628,0\\r\\n73568,0\\r\\n25786,0\\r\\n60103,0\\r\\n6528,0\\r\\n36263,0\\r\\n32288,0\\r\\n11977,0\\r\\n8572,1\\r\\n40797,0\\r\\n21926,0\\r\\n46654,0\\r\\n74691,0\\r\\n10632,0\\r\\n51263,0\\r\\n66645,0\\r\\n24483,0\\r\\n50871,0\\r\\n34894,0\\r\\n38886,0\\r\\n1480,0\\r\\n28313,0\\r\\n44531,0\\r\\n32727,0\\r\\n18718,1\\r\\n30844,0\\r\\n53850,0\\r\\n24497,0\\r\\n45237,0\\r\\n48844,0\\r\\n61344,0\\r\\n23643,0\\r\\n50697,0\\r\\n71180,0\\r\\n38177,0\\r\\n57594,0\\r\\n68960,0\\r\\n38100,0\\r\\n43574,0\\r\\n50729,0\\r\\n52763,0\\r\\n41282,0\\r\\n3270,0\\r\\n2947,0\\r\\n69653,0\\r\\n19474,0\\r\\n61608,0\\r\\n64459,0\\r\\n53432,0\\r\\n35305,0\\r\\n11307,0\\r\\n49853,0\\r\\n56992,0\\r\\n42373,0\\r\\n47913,0\\r\\n78101,0\\r\\n25462,0\\r\\n13688,0\\r\\n29344,0\\r\\n34061,0\\r\\n548,0\\r\\n70813,0\\r\\n41679,0\\r\\n2113,0\\r\\n16810,0\\r\\n45152,0\\r\\n19332,0\\r\\n10090,0\\r\\n15426,0\\r\\n40786,0\\r\\n53206,0\\r\\n22573,0\\r\\n50903,0\\r\\n13058,0\\r\\n68523,0\\r\\n62301,0\\r\\n52903,0\\r\\n66769,0\\r\\n16637,0\\r\\n74742,0\\r\\n13145,0\\r\\n10917,0\\r\\n36566,0\\r\\n970,0\\r\\n36875,0\\r\\n46561,0\\r\\n34776,0\\r\\n9379,0\\r\\n53364,0\\r\\n67089,0\\r\\n36647,1\\r\\n18190,0\\r\\n29349,0\\r\\n50103,0\\r\\n72038,0\\r\\n25680,0\\r\\n54476,0\\r\\n37289,0\\r\\n34714,0\\r\\n62217,0\\r\\n25814,0\\r\\n7990,0\\r\\n74815,0\\r\\n22773,0\\r\\n33901,0\\r\\n32675,0\\r\\n56405,0\\r\\n54576,0\\r\\n36106,0\\r\\n9887,0\\r\\n71208,0\\r\\n45046,0\\r\\n11269,0\\r\\n51117,0\\r\\n74134,0\\r\\n41532,0\\r\\n22242,0\\r\\n25552,0\\r\\n16491,0\\r\\n19797,0\\r\\n21414,0\\r\\n52962,0\\r\\n23625,0\\r\\n7352,0\\r\\n66864,0\\r\\n52047,0\\r\\n35187,0\\r\\n38884,0\\r\\n69418,0\\r\\n36807,0\\r\\n67257,0\\r\\n25688,0\\r\\n58443,0\\r\\n57078,0\\r\\n40809,0\\r\\n68207,0\\r\\n1696,0\\r\\n76591,0\\r\\n53115,0\\r\\n58703,0\\r\\n23098,0\\r\\n13383,0\\r\\n47129,0\\r\\n24652,0\\r\\n11053,0\\r\\n23190,0\\r\\n23881,0\\r\\n32998,0\\r\\n75690,0\\r\\n26376,0\\r\\n55623,0\\r\\n70064,0\\r\\n30523,0\\r\\n22489,0\\r\\n64457,0\\r\\n7327,0\\r\\n15616,0\\r\\n26178,0\\r\\n46572,0\\r\\n42295,0\\r\\n4790,1\\r\\n67280,0\\r\\n66539,0\\r\\n37428,0\\r\\n2061,0\\r\\n67611,0\\r\\n63345,0\\r\\n13909,0\\r\\n8190,0\\r\\n72001,0\\r\\n50644,0\\r\\n33829,0\\r\\n39261,0\\r\\n27793,0\\r\\n68495,0\\r\\n76330,0\\r\\n3684,0\\r\\n77812,0\\r\\n44868,0\\r\\n70221,0\\r\\n72986,0\\r\\n32088,0\\r\\n49029,0\\r\\n18552,0\\r\\n976,0\\r\\n33086,0\\r\\n20202,0\\r\\n1960,0\\r\\n24679,0\\r\\n63130,0\\r\\n18297,0\\r\\n65911,0\\r\\n65564,0\\r\\n51706,0\\r\\n46851,0\\r\\n15121,0\\r\\n2199,0\\r\\n73,0\\r\\n53334,0\\r\\n4366,0\\r\\n64077,0\\r\\n39525,0\\r\\n32648,0\\r\\n25236,0\\r\\n54626,0\\r\\n72274,0\\r\\n83,0\\r\\n24245,0\\r\\n15100,0\\r\\n43071,0\\r\\n67001,0\\r\\n60893,0\\r\\n47324,0\\r\\n38045,0\\r\\n75673,0\\r\\n4843,0\\r\\n66325,0\\r\\n719,0\\r\\n34003,0\\r\\n199,0\\r\\n76102,0\\r\\n64854,0\\r\\n5431,0\\r\\n10792,0\\r\\n17217,0\\r\\n25278,0\\r\\n13561,0\\r\\n71890,0\\r\\n65997,0\\r\\n58563,0\\r\\n55002,0\\r\\n31361,0\\r\\n37056,0\\r\\n35453,0\\r\\n31619,0\\r\\n50963,0\\r\\n43170,1\\r\\n11097,0\\r\\n47642,0\\r\\n25335,0\\r\\n16929,0\\r\\n66281,0\\r\\n21421,0\\r\\n69155,0\\r\\n30455,0\\r\\n27987,0\\r\\n26244,0\\r\\n73686,0\\r\\n1667,0\\r\\n22404,0\\r\\n61460,0\\r\\n13458,0\\r\\n38215,0\\r\\n50031,0\\r\\n50920,0\\r\\n1444,0\\r\\n44314,0\\r\\n16642,0\\r\\n65575,0\\r\\n49357,0\\r\\n8055,0\\r\\n250,0\\r\\n52455,0\\r\\n34476,0\\r\\n57245,0\\r\\n38438,0\\r\\n40483,0\\r\\n21933,0\\r\\n37220,0\\r\\n67182,0\\r\\n1550,0\\r\\n75294,0\\r\\n52384,0\\r\\n43591,0\\r\\n38830,0\\r\\n60200,0\\r\\n13483,0\\r\\n62918,0\\r\\n15149,0\\r\\n4958,0\\r\\n53296,0\\r\\n27541,0\\r\\n12682,0\\r\\n28977,0\\r\\n42675,0\\r\\n1932,0\\r\\n12624,1\\r\\n60174,0\\r\\n39196,0\\r\\n36879,0\\r\\n23517,0\\r\\n27427,0\\r\\n69113,0\\r\\n7831,0\\r\\n63167,1\\r\\n73629,1\\r\\n40301,0\\r\\n15957,0\\r\\n53578,0\\r\\n375,0\\r\\n45263,0\\r\\n42859,0\\r\\n20751,0\\r\\n69243,0\\r\\n7926,0\\r\\n29931,0\\r\\n71477,0\\r\\n35954,0\\r\\n64796,0\\r\\n37146,0\\r\\n19489,0\\r\\n1016,0\\r\\n58839,0\\r\\n25244,0\\r\\n18458,0\\r\\n24458,0\\r\\n18917,0\\r\\n51585,0\\r\\n13089,0\\r\\n62231,0\\r\\n5309,0\\r\\n53817,0\\r\\n40150,0\\r\\n36365,0\\r\\n78228,0\\r\\n22541,0\\r\\n2237,0\\r\\n46679,0\\r\\n77929,0\\r\\n69322,0\\r\\n55824,0\\r\\n23293,0\\r\\n12638,0\\r\\n47047,0\\r\\n69744,0\\r\\n56721,0\\r\\n1386,0\\r\\n11552,0\\r\\n33313,0\\r\\n63030,0\\r\\n11736,0\\r\\n32545,0\\r\\n58913,0\\r\\n67246,0\\r\\n38337,0\\r\\n17574,0\\r\\n7510,0\\r\\n41273,0\\r\\n75440,0\\r\\n63216,0\\r\\n11,0\\r\\n59758,0\\r\\n55899,0\\r\\n65973,0\\r\\n11483,0\\r\\n52704,0\\r\\n2311,0\\r\\n68986,0\\r\\n25567,0\\r\\n49819,0\\r\\n23814,0\\r\\n54527,0\\r\\n7478,0\\r\\n4660,0\\r\\n6022,0\\r\\n46664,0\\r\\n12773,0\\r\\n1459,0\\r\\n65091,0\\r\\n2250,0\\r\\n27365,1\\r\\n26723,0\\r\\n38513,0\\r\\n65123,0\\r\\n47945,0\\r\\n43643,0\\r\\n54316,0\\r\\n59332,0\\r\\n62140,0\\r\\n3688,0\\r\\n75171,0\\r\\n63084,0\\r\\n54466,0\\r\\n75137,1\\r\\n73582,0\\r\\n15574,0\\r\\n31543,0\\r\\n73567,0\\r\\n24928,0\\r\\n76782,0\\r\\n45949,0\\r\\n57511,0\\r\\n22003,0\\r\\n61864,0\\r\\n50976,0\\r\\n21947,0\\r\\n20595,0\\r\\n29535,0\\r\\n6865,0\\r\\n39887,0\\r\\n52191,0\\r\\n24804,0\\r\\n59716,0\\r\\n28107,0\\r\\n52050,0\\r\\n44149,0\\r\\n53709,0\\r\\n33894,0\\r\\n58651,0\\r\\n31120,0\\r\\n11663,0\\r\\n35132,0\\r\\n74672,0\\r\\n49015,0\\r\\n14137,0\\r\\n43011,0\\r\\n37938,1\\r\\n8672,0\\r\\n49004,0\\r\\n40769,0\\r\\n70962,0\\r\\n34419,0\\r\\n37265,0\\r\\n28101,0\\r\\n60707,1\\r\\n9267,0\\r\\n28692,0\\r\\n18489,0\\r\\n22348,0\\r\\n25736,0\\r\\n36797,0\\r\\n20023,0\\r\\n34145,0\\r\\n50521,0\\r\\n47206,0\\r\\n67319,0\\r\\n74588,0\\r\\n7040,0\\r\\n55193,0\\r\\n78043,0\\r\\n67258,0\\r\\n19180,0\\r\\n50718,0\\r\\n7013,0\\r\\n28267,0\\r\\n64883,0\\r\\n73233,0\\r\\n71001,0\\r\\n77933,0\\r\\n61789,0\\r\\n590,0\\r\\n63617,0\\r\\n49374,0\\r\\n55664,0\\r\\n72639,0\\r\\n8857,0\\r\\n49604,0\\r\\n28356,0\\r\\n74889,0\\r\\n74347,0\\r\\n27776,0\\r\\n72207,0\\r\\n23387,0\\r\\n28371,0\\r\\n4821,0\\r\\n72040,0\\r\\n3899,0\\r\\n17731,0\\r\\n40506,0\\r\\n71756,0\\r\\n24079,0\\r\\n8195,0\\r\\n45482,0\\r\\n40535,1\\r\\n55952,0\\r\\n75428,0\\r\\n50470,0\\r\\n61081,0\\r\\n64620,0\\r\\n56549,0\\r\\n36514,0\\r\\n49533,0\\r\\n57762,0\\r\\n44424,0\\r\\n1120,0\\r\\n70804,0\\r\\n71382,0\\r\\n36747,0\\r\\n11160,0\\r\\n26811,0\\r\\n39480,0\\r\\n14264,0\\r\\n2030,0\\r\\n38938,1\\r\\n32290,0\\r\\n32173,0\\r\\n64728,0\\r\\n16415,0\\r\\n5136,0\\r\\n3084,0\\r\\n61607,0\\r\\n23628,0\\r\\n65259,0\\r\\n6589,0\\r\\n73496,0\\r\\n22459,0\\r\\n64181,0\\r\\n57912,0\\r\\n34573,0\\r\\n21660,0\\r\\n76064,0\\r\\n19664,0\\r\\n4732,0\\r\\n50616,0\\r\\n71474,0\\r\\n24161,0\\r\\n4948,0\\r\\n44993,0\\r\\n70781,0\\r\\n46783,0\\r\\n74908,0\\r\\n17552,0\\r\\n14864,0\\r\\n19102,0\\r\\n55342,0\\r\\n610,0\\r\\n32517,0\\r\\n11621,0\\r\\n31239,0\\r\\n74090,0\\r\\n71269,0\\r\\n41131,0\\r\\n19064,0\\r\\n47005,0\\r\\n19368,0\\r\\n32150,0\\r\\n66714,0\\r\\n47208,0\\r\\n43609,0\\r\\n43348,0\\r\\n72170,0\\r\\n6727,0\\r\\n2445,0\\r\\n71726,0\\r\\n26663,0\\r\\n8250,0\\r\\n67674,0\\r\\n75309,0\\r\\n50719,0\\r\\n76272,0\\r\\n45280,0\\r\\n25709,0\\r\\n37708,0\\r\\n17048,0\\r\\n62168,0\\r\\n63603,0\\r\\n15632,0\\r\\n43556,0\\r\\n6142,0\\r\\n63,0\\r\\n12232,0\\r\\n13874,0\\r\\n34111,0\\r\\n38156,0\\r\\n57981,0\\r\\n112,0\\r\\n52225,0\\r\\n55031,0\\r\\n54398,0\\r\\n64653,0\\r\\n29871,0\\r\\n7187,0\\r\\n48417,0\\r\\n31874,0\\r\\n54935,0\\r\\n62869,0\\r\\n47929,0\\r\\n10123,0\\r\\n22729,1\\r\\n9653,0\\r\\n14096,0\\r\\n68431,0\\r\\n66508,0\\r\\n12014,0\\r\\n38434,0\\r\\n68893,0\\r\\n2226,0\\r\\n16406,0\\r\\n2836,0\\r\\n24382,0\\r\\n32254,0\\r\\n34830,0\\r\\n41988,0\\r\\n58608,0\\r\\n5313,0\\r\\n20009,0\\r\\n72104,0\\r\\n69818,0\\r\\n41851,0\\r\\n37084,0\\r\\n64672,0\\r\\n69324,0\\r\\n23324,0\\r\\n57805,0\\r\\n42667,0\\r\\n25721,0\\r\\n73457,0\\r\\n67564,1\\r\\n29275,0\\r\\n74400,0\\r\\n65205,0\\r\\n57349,0\\r\\n19465,0\\r\\n16940,0\\r\\n36243,1\\r\\n24522,0\\r\\n44470,0\\r\\n50116,0\\r\\n62871,0\\r\\n10820,0\\r\\n15669,0\\r\\n74059,0\\r\\n65536,0\\r\\n17312,0\\r\\n44945,0\\r\\n30668,0\\r\\n2232,0\\r\\n26510,0\\r\\n50835,0\\r\\n1789,0\\r\\n26394,0\\r\\n11631,0\\r\\n20547,0\\r\\n36088,0\\r\\n31620,0\\r\\n33100,0\\r\\n24130,0\\r\\n28407,0\\r\\n19205,0\\r\\n7273,0\\r\\n74390,0\\r\\n49749,0\\r\\n34530,0\\r\\n72970,0\\r\\n23051,0\\r\\n18684,0\\r\\n58192,0\\r\\n76217,0\\r\\n47302,0\\r\\n76924,0\\r\\n35456,0\\r\\n66546,0\\r\\n66453,0\\r\\n51821,0\\r\\n7918,0\\r\\n74471,0\\r\\n42787,0\\r\\n73867,0\\r\\n71267,0\\r\\n36264,0\\r\\n22231,0\\r\\n48996,0\\r\\n8578,0\\r\\n10146,0\\r\\n73612,0\\r\\n60362,0\\r\\n1015,0\\r\\n70591,0\\r\\n34673,0\\r\\n38976,0\\r\\n42635,0\\r\\n50956,0\\r\\n54539,0\\r\\n26857,0\\r\\n49907,0\\r\\n30075,0\\r\\n33645,0\\r\\n45307,0\\r\\n1074,0\\r\\n6473,0\\r\\n23999,0\\r\\n11668,0\\r\\n9037,0\\r\\n48661,0\\r\\n16634,0\\r\\n68050,0\\r\\n70144,0\\r\\n2157,1\\r\\n22926,0\\r\\n10537,0\\r\\n24572,0\\r\\n49812,1\\r\\n5738,0\\r\\n58936,0\\r\\n13843,0\\r\\n41100,0\\r\\n31643,0\\r\\n52943,0\\r\\n74020,0\\r\\n75207,0\\r\\n64447,0\\r\\n46128,0\\r\\n41135,0\\r\\n40544,0\\r\\n60769,0\\r\\n31078,0\\r\\n21589,0\\r\\n50700,0\\r\\n73884,0\\r\\n54698,0\\r\\n1722,0\\r\\n63993,0\\r\\n37159,0\\r\\n55596,0\\r\\n16672,0\\r\\n45212,0\\r\\n6525,0\\r\\n34568,0\\r\\n41933,0\\r\\n77903,0\\r\\n68287,0\\r\\n9583,0\\r\\n71285,0\\r\\n21765,0\\r\\n55361,0\\r\\n6049,0\\r\\n76484,0\\r\\n73770,0\\r\\n49404,0\\r\\n48704,0\\r\\n62936,0\\r\\n46104,0\\r\\n47768,0\\r\\n49936,0\\r\\n52605,0\\r\\n5166,0\\r\\n26062,0\\r\\n25394,0\\r\\n16969,0\\r\\n32485,0\\r\\n39926,0\\r\\n1802,0\\r\\n57821,1\\r\\n25004,0\\r\\n21099,0\\r\\n27305,0\\r\\n44404,0\\r\\n37950,0\\r\\n15249,0\\r\\n47319,0\\r\\n55324,0\\r\\n25135,0\\r\\n73453,0\\r\\n21642,0\\r\\n40573,0\\r\\n74093,0\\r\\n26815,0\\r\\n43051,0\\r\\n49771,0\\r\\n4841,0\\r\\n12158,0\\r\\n68924,0\\r\\n51032,0\\r\\n56507,0\\r\\n67444,0\\r\\n64819,0\\r\\n28546,0\\r\\n45668,0\\r\\n27661,0\\r\\n66390,0\\r\\n5606,0\\r\\n11879,0\\r\\n13997,0\\r\\n25874,0\\r\\n70656,0\\r\\n50640,0\\r\\n58957,0\\r\\n24153,1\\r\\n20914,0\\r\\n11593,0\\r\\n69303,0\\r\\n1970,0\\r\\n23321,0\\r\\n22956,0\\r\\n29024,0\\r\\n20465,0\\r\\n9961,0\\r\\n74794,0\\r\\n42583,0\\r\\n60955,0\\r\\n52125,0\\r\\n11204,0\\r\\n76886,0\\r\\n20597,0\\r\\n60243,1\\r\\n24905,0\\r\\n30115,0\\r\\n53287,0\\r\\n4656,0\\r\\n4531,0\\r\\n54120,0\\r\\n30129,0\\r\\n9201,0\\r\\n35058,0\\r\\n54451,0\\r\\n32679,0\\r\\n58542,0\\r\\n29553,0\\r\\n35653,0\\r\\n68130,0\\r\\n40899,0\\r\\n10573,0\\r\\n73011,0\\r\\n68853,0\\r\\n71676,0\\r\\n70022,0\\r\\n21672,0\\r\\n31316,1\\r\\n11671,0\\r\\n74605,0\\r\\n35014,0\\r\\n13923,0\\r\\n52135,0\\r\\n31781,0\\r\\n7916,0\\r\\n11395,0\\r\\n8124,0\\r\\n25425,0\\r\\n24908,0\\r\\n6888,0\\r\\n23923,0\\r\\n13381,0\\r\\n2198,0\\r\\n41372,0\\r\\n39952,0\\r\\n8918,0\\r\\n57648,0\\r\\n11410,0\\r\\n64587,0\\r\\n42292,0\\r\\n29088,0\\r\\n4299,0\\r\\n4652,0\\r\\n61511,0\\r\\n41638,0\\r\\n66251,0\\r\\n25334,1\\r\\n1003,0\\r\\n72311,0\\r\\n19997,0\\r\\n41784,0\\r\\n53338,0\\r\\n64418,0\\r\\n7812,0\\r\\n18096,0\\r\\n11098,0\\r\\n77396,0\\r\\n46726,0\\r\\n3052,0\\r\\n49204,0\\r\\n14794,0\\r\\n41534,0\\r\\n59632,0\\r\\n71828,0\\r\\n4533,0\\r\\n44515,0\\r\\n75676,0\\r\\n7534,0\\r\\n9894,0\\r\\n34254,0\\r\\n27002,0\\r\\n17460,0\\r\\n35837,0\\r\\n39916,0\\r\\n60271,0\\r\\n29246,0\\r\\n25715,1\\r\\n15708,0\\r\\n28067,0\\r\\n19082,0\\r\\n69269,0\\r\\n56797,0\\r\\n62529,0\\r\\n34256,0\\r\\n29141,0\\r\\n14416,0\\r\\n36683,0\\r\\n36713,0\\r\\n29762,0\\r\\n19580,0\\r\\n15561,0\\r\\n51986,0\\r\\n10212,0\\r\\n22982,0\\r\\n59669,0\\r\\n16144,0\\r\\n11116,0\\r\\n19558,1\\r\\n52721,0\\r\\n72005,0\\r\\n26143,0\\r\\n23775,0\\r\\n33988,0\\r\\n25086,0\\r\\n73281,0\\r\\n6192,0\\r\\n45989,0\\r\\n19948,0\\r\\n70438,1\\r\\n22491,0\\r\\n13899,0\\r\\n13615,0\\r\\n28159,0\\r\\n53692,0\\r\\n72254,0\\r\\n36061,0\\r\\n27296,0\\r\\n72464,0\\r\\n72248,0\\r\\n70612,0\\r\\n71837,0\\r\\n35071,0\\r\\n5424,0\\r\\n23184,0\\r\\n10459,0\\r\\n60714,0\\r\\n26153,0\\r\\n31579,0\\r\\n54165,0\\r\\n72097,0\\r\\n3492,0\\r\\n23901,0\\r\\n37520,0\\r\\n33451,0\\r\\n62444,0\\r\\n44490,0\\r\\n72831,0\\r\\n70808,1\\r\\n73234,0\\r\\n39684,0\\r\\n35937,0\\r\\n51261,0\\r\\n29489,0\\r\\n63300,0\\r\\n74386,0\\r\\n5093,0\\r\\n12763,0\\r\\n57917,0\\r\\n21236,0\\r\\n4488,0\\r\\n38292,0\\r\\n40386,0\\r\\n44099,0\\r\\n7118,0\\r\\n470,0\\r\\n71896,0\\r\\n62437,0\\r\\n1056,0\\r\\n49150,0\\r\\n54259,0\\r\\n41865,0\\r\\n14169,0\\r\\n24479,0\\r\\n29106,0\\r\\n40233,0\\r\\n61880,0\\r\\n730,0\\r\\n63289,0\\r\\n1238,0\\r\\n29165,0\\r\\n1688,0\\r\\n5368,0\\r\\n13693,0\\r\\n12058,0\\r\\n39064,0\\r\\n18865,0\\r\\n18638,0\\r\\n24336,0\\r\\n56842,0\\r\\n74503,0\\r\\n46474,0\\r\\n77771,1\\r\\n77836,0\\r\\n22811,0\\r\\n68301,0\\r\\n66073,0\\r\\n34970,0\\r\\n68442,0\\r\\n45718,0\\r\\n7617,0\\r\\n1379,0\\r\\n11149,0\\r\\n8970,0\\r\\n28933,0\\r\\n69080,0\\r\\n51351,0\\r\\n68655,0\\r\\n46002,0\\r\\n74494,0\\r\\n69175,0\\r\\n35607,0\\r\\n14469,0\\r\\n62160,0\\r\\n67580,0\\r\\n3726,0\\r\\n11019,0\\r\\n20831,0\\r\\n7289,0\\r\\n22635,0\\r\\n14179,1\\r\\n34627,0\\r\\n41030,0\\r\\n16789,0\\r\\n71498,0\\r\\n59222,0\\r\\n39566,0\\r\\n60738,0\\r\\n68676,0\\r\\n60617,0\\r\\n59764,1\\r\\n38193,0\\r\\n50849,0\\r\\n705,1\\r\\n5360,0\\r\\n18059,0\\r\\n77294,0\\r\\n39349,0\\r\\n22674,0\\r\\n64523,0\\r\\n54270,0\\r\\n71220,0\\r\\n75104,0\\r\\n67971,0\\r\\n37042,0\\r\\n75397,0\\r\\n73142,0\\r\\n31436,1\\r\\n1460,0\\r\\n57226,0\\r\\n27608,0\\r\\n26300,0\\r\\n57986,0\\r\\n15766,0\\r\\n47893,0\\r\\n8323,0\\r\\n32064,0\\r\\n51123,0\\r\\n9539,0\\r\\n29623,0\\r\\n29795,0\\r\\n77096,0\\r\\n6626,0\\r\\n2293,0\\r\\n69873,0\\r\\n25959,0\\r\\n38586,0\\r\\n17124,0\\r\\n68702,0\\r\\n1840,0\\r\\n24734,0\\r\\n55192,0\\r\\n10506,0\\r\\n8726,0\\r\\n32497,0\\r\\n6046,0\\r\\n457,0\\r\\n18799,0\\r\\n12700,0\\r\\n11032,0\\r\\n61440,0\\r\\n71746,1\\r\\n25208,0\\r\\n75169,0\\r\\n45883,0\\r\\n74593,0\\r\\n49316,0\\r\\n73021,0\\r\\n3924,0\\r\\n8664,0\\r\\n64678,0\\r\\n17059,1\\r\\n56189,0\\r\\n6653,0\\r\\n52607,0\\r\\n19020,0\\r\\n18215,0\\r\\n25401,0\\r\\n12418,0\\r\\n54743,0\\r\\n46892,0\\r\\n58399,0\\r\\n55489,1\\r\\n12880,0\\r\\n39668,0\\r\\n76582,0\\r\\n19099,0\\r\\n28908,0\\r\\n47453,0\\r\\n74824,0\\r\\n67348,0\\r\\n343,0\\r\\n20484,0\\r\\n66490,0\\r\\n11983,0\\r\\n71362,0\\r\\n31054,0\\r\\n64006,0\\r\\n60019,0\\r\\n426,0\\r\\n39910,1\\r\\n71589,0\\r\\n60221,0\\r\\n43069,0\\r\\n62526,0\\r\\n15351,0\\r\\n13845,0\\r\\n60426,0\\r\\n65350,0\\r\\n10875,0\\r\\n42946,0\\r\\n48897,0\\r\\n66794,0\\r\\n33054,0\\r\\n12168,0\\r\\n37391,0\\r\\n12465,0\\r\\n59227,0\\r\\n77273,0\\r\\n3418,0\\r\\n16918,0\\r\\n17,0\\r\\n12003,0\\r\\n37618,1\\r\\n48587,0\\r\\n72215,0\\r\\n12263,0\\r\\n7615,0\\r\\n76601,0\\r\\n7818,0\\r\\n56496,0\\r\\n64050,0\\r\\n20353,0\\r\\n77114,0\\r\\n6001,0\\r\\n35302,0\\r\\n39086,0\\r\\n44746,0\\r\\n12694,0\\r\\n74816,0\\r\\n11386,0\\r\\n55861,0\\r\\n68981,0\\r\\n28760,0\\r\\n35173,0\\r\\n63874,0\\r\\n5697,0\\r\\n73721,0\\r\\n33555,0\\r\\n3988,0\\r\\n75132,0\\r\\n72828,1\\r\\n44360,0\\r\\n77024,0\\r\\n58617,0\\r\\n27879,0\\r\\n69307,0\\r\\n34485,0\\r\\n39711,0\\r\\n6659,0\\r\\n3214,0\\r\\n66604,0\\r\\n32831,0\\r\\n13186,0\\r\\n49688,0\\r\\n5849,0\\r\\n46558,0\\r\\n66824,1\\r\\n54548,0\\r\\n75266,0\\r\\n21751,0\\r\\n2746,0\\r\\n35796,0\\r\\n22638,0\\r\\n46626,0\\r\\n27962,0\\r\\n67562,0\\r\\n7169,0\\r\\n11972,0\\r\\n59144,0\\r\\n65451,0\\r\\n1471,0\\r\\n63728,0\\r\\n69301,0\\r\\n3814,0\\r\\n33942,0\\r\\n55500,0\\r\\n42222,0\\r\\n37202,0\\r\\n30831,0\\r\\n17795,0\\r\\n56519,0\\r\\n49123,0\\r\\n24575,0\\r\\n70356,0\\r\\n19090,0\\r\\n16112,0\\r\\n24489,0\\r\\n56729,0\\r\\n14366,0\\r\\n61925,0\\r\\n20137,0\\r\\n64177,0\\r\\n35197,0\\r\\n29862,0\\r\\n30540,0\\r\\n19537,0\\r\\n69713,0\\r\\n52389,0\\r\\n1334,0\\r\\n2379,0\\r\\n72989,0\\r\\n58870,0\\r\\n50304,0\\r\\n17524,0\\r\\n70623,0\\r\\n56289,0\\r\\n5477,0\\r\\n54498,0\\r\\n52854,1\\r\\n12116,0\\r\\n25367,0\\r\\n42241,1\\r\\n54927,0\\r\\n2920,0\\r\\n24113,0\\r\\n73056,0\\r\\n13412,0\\r\\n51063,0\\r\\n43870,0\\r\\n72430,0\\r\\n41258,0\\r\\n47871,0\\r\\n15624,0\\r\\n63464,0\\r\\n44777,0\\r\\n27331,0\\r\\n73775,0\\r\\n9169,0\\r\\n24437,0\\r\\n67982,0\\r\\n22012,0\\r\\n64753,0\\r\\n12456,0\\r\\n67100,0\\r\\n34950,0\\r\\n2837,0\\r\\n49352,0\\r\\n58030,0\\r\\n64244,0\\r\\n77247,0\\r\\n69448,0\\r\\n58376,0\\r\\n22560,0\\r\\n18838,0\\r\\n63425,0\\r\\n77553,0\\r\\n36793,0\\r\\n32938,0\\r\\n22260,0\\r\\n37113,0\\r\\n2711,0\\r\\n29471,0\\r\\n75088,0\\r\\n69644,0\\r\\n76597,0\\r\\n35625,0\\r\\n16592,0\\r\\n24582,0\\r\\n42795,0\\r\\n73904,0\\r\\n63857,0\\r\\n1939,0\\r\\n48300,0\\r\\n67200,0\\r\\n36622,0\\r\\n5298,0\\r\\n31094,0\\r\\n11161,0\\r\\n30420,0\\r\\n76683,0\\r\\n29688,0\\r\\n8061,0\\r\\n78042,0\\r\\n43122,0\\r\\n48463,1\\r\\n70184,0\\r\\n25124,0\\r\\n7861,0\\r\\n38217,0\\r\\n51138,0\\r\\n16202,0\\r\\n51182,0\\r\\n54095,0\\r\\n35972,0\\r\\n72365,0\\r\\n73691,0\\r\\n37406,0\\r\\n77414,0\\r\\n39479,0\\r\\n37626,0\\r\\n20150,0\\r\\n41549,0\\r\\n44031,0\\r\\n74776,0\\r\\n21029,0\\r\\n61178,0\\r\\n40516,0\\r\\n28081,0\\r\\n2366,0\\r\\n71265,0\\r\\n46427,0\\r\\n54052,0\\r\\n45007,0\\r\\n8379,0\\r\\n75709,0\\r\\n16161,0\\r\\n21866,0\\r\\n68260,0\\r\\n38289,0\\r\\n30219,0\\r\\n53702,0\\r\\n46085,0\\r\\n32929,0\\r\\n10657,0\\r\\n6609,0\\r\\n8268,0\\r\\n4446,0\\r\\n19426,0\\r\\n77600,0\\r\\n70731,0\\r\\n28322,0\\r\\n32572,0\\r\\n3374,0\\r\\n69133,0\\r\\n77701,0\\r\\n70181,0\\r\\n24639,0\\r\\n51562,0\\r\\n35997,0\\r\\n31195,0\\r\\n54557,0\\r\\n60199,0\\r\\n54504,0\\r\\n7501,0\\r\\n12553,0\\r\\n47133,0\\r\\n23911,0\\r\\n26878,0\\r\\n66891,0\\r\\n66731,0\\r\\n66870,0\\r\\n50672,0\\r\\n51007,0\\r\\n76368,0\\r\\n30957,1\\r\\n77717,0\\r\\n70874,0\\r\\n44708,0\\r\\n21366,0\\r\\n37552,0\\r\\n68999,0\\r\\n60983,0\\r\\n52280,0\\r\\n74260,0\\r\\n68742,0\\r\\n39355,0\\r\\n62349,0\\r\\n47667,0\\r\\n28189,0\\r\\n59654,0\\r\\n17578,0\\r\\n39045,0\\r\\n67465,0\\r\\n25815,0\\r\\n52060,0\\r\\n35363,0\\r\\n53585,0\\r\\n23426,0\\r\\n62862,0\\r\\n64129,0\\r\\n3592,0\\r\\n28779,0\\r\\n649,0\\r\\n60673,0\\r\\n23255,0\\r\\n4088,0\\r\\n25780,0\\r\\n21819,0\\r\\n64724,0\\r\\n24068,0\\r\\n22,0\\r\\n36139,0\\r\\n73773,0\\r\\n29645,0\\r\\n72991,0\\r\\n12336,1\\r\\n19008,0\\r\\n69287,0\\r\\n47016,0\\r\\n57149,0\\r\\n23970,0\\r\\n1213,0\\r\\n54217,0\\r\\n31490,0\\r\\n31706,0\\r\\n41340,0\\r\\n68604,0\\r\\n19001,0\\r\\n34919,0\\r\\n35602,0\\r\\n30681,0\\r\\n18764,0\\r\\n32458,0\\r\\n27130,0\\r\\n44242,0\\r\\n6510,0\\r\\n49643,0\\r\\n12169,0\\r\\n42550,0\\r\\n59997,0\\r\\n36961,0\\r\\n56021,0\\r\\n8478,0\\r\\n57916,0\\r\\n28734,0\\r\\n4965,0\\r\\n22733,0\\r\\n42522,0\\r\\n55396,0\\r\\n65925,1\\r\\n36129,0\\r\\n36778,0\\r\\n19533,0\\r\\n47272,0\\r\\n46703,0\\r\\n54464,0\\r\\n62377,0\\r\\n20400,0\\r\\n14878,0\\r\\n64818,0\\r\\n21852,0\\r\\n52172,0\\r\\n53593,0\\r\\n61432,0\\r\\n70657,0\\r\\n33390,0\\r\\n68757,0\\r\\n34738,0\\r\\n7835,0\\r\\n17983,0\\r\\n12613,0\\r\\n26033,0\\r\\n49666,0\\r\\n73094,0\\r\\n54132,0\\r\\n56057,0\\r\\n76959,1\\r\\n16297,0\\r\\n27104,0\\r\\n42743,0\\r\\n11482,0\\r\\n65807,0\\r\\n67577,0\\r\\n9418,0\\r\\n50510,0\\r\\n24897,0\\r\\n14964,0\\r\\n72000,0\\r\\n25763,0\\r\\n12348,0\\r\\n63174,0\\r\\n46777,0\\r\\n73035,0\\r\\n43688,0\\r\\n9713,0\\r\\n18989,0\\r\\n77242,0\\r\\n75466,0\\r\\n10354,0\\r\\n1055,1\\r\\n63950,0\\r\\n17134,0\\r\\n21020,0\\r\\n27234,0\\r\\n4358,0\\r\\n49170,0\\r\\n60785,0\\r\\n64810,0\\r\\n63229,0\\r\\n39743,0\\r\\n73113,0\\r\\n49351,0\\r\\n73584,0\\r\\n16840,0\\r\\n26842,0\\r\\n77364,0\\r\\n2951,0\\r\\n60272,0\\r\\n30364,0\\r\\n67777,0\\r\\n20556,0\\r\\n55068,0\\r\\n17660,0\\r\\n1884,0\\r\\n10923,0\\r\\n4349,0\\r\\n46803,1\\r\\n64163,0\\r\\n34110,0\\r\\n43925,0\\r\\n71723,0\\r\\n73103,0\\r\\n77855,0\\r\\n74871,0\\r\\n50025,0\\r\\n61058,0\\r\\n73580,0\\r\\n8642,0\\r\\n69179,0\\r\\n68368,0\\r\\n1689,0\\r\\n17382,0\\r\\n55806,0\\r\\n17251,0\\r\\n21764,0\\r\\n37443,0\\r\\n21472,0\\r\\n33983,0\\r\\n2034,0\\r\\n19694,0\\r\\n35446,0\\r\\n20412,0\\r\\n69907,0\\r\\n1395,0\\r\\n8819,0\\r\\n15659,0\\r\\n9543,0\\r\\n24841,0\\r\\n10894,0\\r\\n64623,0\\r\\n37658,0\\r\\n66241,0\\r\\n48703,0\\r\\n78005,1\\r\\n52953,0\\r\\n32217,0\\r\\n30152,0\\r\\n18370,0\\r\\n65467,0\\r\\n33284,0\\r\\n69217,0\\r\\n1102,0\\r\\n31569,0\\r\\n55408,0\\r\\n37048,0\\r\\n17754,0\\r\\n23273,0\\r\\n59813,0\\r\\n56702,0\\r\\n77507,0\\r\\n78162,0\\r\\n26620,0\\r\\n46486,0\\r\\n11295,0\\r\\n13170,0\\r\\n74990,0\\r\\n19304,1\\r\\n23449,0\\r\\n14224,0\\r\\n49080,0\\r\\n67183,0\\r\\n12615,0\\r\\n58395,0\\r\\n45339,0\\r\\n54855,0\\r\\n6999,0\\r\\n77341,0\\r\\n7743,0\\r\\n59568,0\\r\\n54571,0\\r\\n6141,0\\r\\n32287,0\\r\\n72442,0\\r\\n59088,1\\r\\n62596,0\\r\\n63819,0\\r\\n1019,0\\r\\n401,0\\r\\n59805,0\\r\\n16016,0\\r\\n31350,0\\r\\n33076,1\\r\\n14590,0\\r\\n72923,0\\r\\n44981,0\\r\\n22709,0\\r\\n14525,1\\r\\n37103,0\\r\\n24179,0\\r\\n61443,0\\r\\n9469,0\\r\\n46755,0\\r\\n62374,0\\r\\n31363,0\\r\\n72388,0\\r\\n15283,0\\r\\n46968,0\\r\\n168,0\\r\\n40635,0\\r\\n67327,0\\r\\n67235,0\\r\\n67810,0\\r\\n49249,0\\r\\n75505,0\\r\\n2680,0\\r\\n7363,0\\r\\n18794,0\\r\\n58204,0\\r\\n56581,0\\r\\n65373,0\\r\\n78254,0\\r\\n64365,0\\r\\n72242,0\\r\\n40000,0\\r\\n35578,0\\r\\n26509,0\\r\\n7817,0\\r\\n64033,0\\r\\n21359,0\\r\\n73657,0\\r\\n63092,0\\r\\n61951,0\\r\\n48971,1\\r\\n65743,0\\r\\n72842,0\\r\\n76370,0\\r\\n62294,0\\r\\n28842,0\\r\\n44533,0\\r\\n57665,0\\r\\n70467,0\\r\\n20346,0\\r\\n41903,0\\r\\n76492,0\\r\\n22024,0\\r\\n41446,0\\r\\n38447,0\\r\\n52727,1\\r\\n9923,0\\r\\n30248,0\\r\\n17758,0\\r\\n67854,0\\r\\n34918,0\\r\\n26716,0\\r\\n52526,0\\r\\n39706,1\\r\\n68289,0\\r\\n2826,0\\r\\n24902,0\\r\\n59107,0\\r\\n4444,0\\r\\n56459,0\\r\\n44500,0\\r\\n33333,0\\r\\n69893,0\\r\\n4911,0\\r\\n10394,0\\r\\n47866,0\\r\\n17596,0\\r\\n45860,0\\r\\n14550,0\\r\\n58706,0\\r\\n16009,0\\r\\n77965,0\\r\\n35298,0\\r\\n20724,0\\r\\n46797,0\\r\\n73497,0\\r\\n27949,0\\r\\n62416,0\\r\\n50353,0\\r\\n23335,0\\r\\n16037,0\\r\\n50655,0\\r\\n61458,0\\r\\n56911,0\\r\\n71793,0\\r\\n24713,0\\r\\n52946,1\\r\\n55479,0\\r\\n74619,0\\r\\n25861,0\\r\\n33727,0\\r\\n24503,0\\r\\n39178,0\\r\\n40020,0\\r\\n8134,0\\r\\n59916,0\\r\\n4314,0\\r\\n70107,0\\r\\n62055,0\\r\\n60204,0\\r\\n26282,0\\r\\n12043,0\\r\\n29730,0\\r\\n25026,1\\r\\n35090,0\\r\\n62567,0\\r\\n23182,0\\r\\n10408,0\\r\\n43523,0\\r\\n39096,0\\r\\n46281,0\\r\\n30610,0\\r\\n20598,0\\r\\n52230,0\\r\\n45827,0\\r\\n75324,0\\r\\n26469,0\\r\\n56919,0\\r\\n64593,0\\r\\n17011,0\\r\\n28689,0\\r\\n65366,0\\r\\n37796,0\\r\\n25277,0\\r\\n10371,0\\r\\n63239,0\\r\\n58179,0\\r\\n2421,0\\r\\n68632,0\\r\\n30591,0\\r\\n57907,0\\r\\n56398,0\\r\\n27010,0\\r\\n58890,0\\r\\n41427,0\\r\\n41220,0\\r\\n39885,0\\r\\n15665,0\\r\\n27777,0\\r\\n54969,0\\r\\n30003,0\\r\\n33121,0\\r\\n50090,0\\r\\n22846,0\\r\\n78033,0\\r\\n69593,0\\r\\n27867,0\\r\\n63223,0\\r\\n15734,0\\r\\n54660,0\\r\\n72743,0\\r\\n41422,0\\r\\n2675,0\\r\\n28156,0\\r\\n75657,0\\r\\n75336,0\\r\\n31750,0\\r\\n48089,0\\r\\n50448,0\\r\\n31370,0\\r\\n48934,0\\r\\n45755,0\\r\\n53286,0\\r\\n43388,0\\r\\n62061,0\\r\\n33073,0\\r\\n23899,0\\r\\n18783,0\\r\\n46776,0\\r\\n49209,0\\r\\n9468,0\\r\\n70405,0\\r\\n25543,0\\r\\n9984,0\\r\\n12664,0\\r\\n8910,0\\r\\n39010,0\\r\\n23415,0\\r\\n36942,0\\r\\n19662,0\\r\\n23153,0\\r\\n39506,0\\r\\n45012,1\\r\\n59072,0\\r\\n77464,0\\r\\n26828,0\\r\\n54382,0\\r\\n31337,0\\r\\n65642,0\\r\\n76595,0\\r\\n9623,0\\r\\n21014,0\\r\\n20731,0\\r\\n5297,0\\r\\n47071,0\\r\\n62549,0\\r\\n63547,0\\r\\n41014,0\\r\\n75432,0\\r\\n61717,0\\r\\n17948,0\\r\\n59855,0\\r\\n5804,0\\r\\n44211,0\\r\\n76723,0\\r\\n28072,0\\r\\n21161,0\\r\\n16484,0\\r\\n14489,0\\r\\n31040,0\\r\\n64267,0\\r\\n66841,0\\r\\n23262,0\\r\\n49049,0\\r\\n1193,0\\r\\n67181,0\\r\\n11129,0\\r\\n57172,0\\r\\n57614,0\\r\\n39655,0\\r\\n71629,0\\r\\n26420,0\\r\\n18555,0\\r\\n1430,0\\r\\n67406,0\\r\\n8087,0\\r\\n28949,0\\r\\n75801,0\\r\\n13479,0\\r\\n75215,0\\r\\n10499,0\\r\\n37133,0\\r\\n47327,0\\r\\n69428,0\\r\\n28183,0\\r\\n73038,0\\r\\n55385,0\\r\\n22610,0\\r\\n74536,0\\r\\n70614,0\\r\\n16269,0\\r\\n74231,0\\r\\n29916,0\\r\\n60106,0\\r\\n10805,0\\r\\n39877,1\\r\\n67411,0\\r\\n23780,0\\r\\n27350,0\\r\\n61446,0\\r\\n6390,0\\r\\n66581,0\\r\\n73436,0\\r\\n8930,0\\r\\n26752,0\\r\\n69144,0\\r\\n38446,0\\r\\n24846,0\\r\\n45272,0\\r\\n48207,0\\r\\n26545,0\\r\\n4132,1\\r\\n7552,0\\r\\n71550,0\\r\\n72489,0\\r\\n52251,0\\r\\n36245,0\\r\\n56427,0\\r\\n71312,0\\r\\n23916,0\\r\\n74907,0\\r\\n32370,0\\r\\n14199,0\\r\\n74813,0\\r\\n35651,0\\r\\n35191,0\\r\\n26221,0\\r\\n72383,0\\r\\n61002,0\\r\\n77106,0\\r\\n58042,0\\r\\n63899,0\\r\\n55111,0\\r\\n69350,0\\r\\n70747,0\\r\\n3976,0\\r\\n3629,0\\r\\n44650,0\\r\\n32144,0\\r\\n22870,0\\r\\n28129,0\\r\\n26019,0\\r\\n40053,0\\r\\n39193,0\\r\\n27332,0\\r\\n5063,0\\r\\n29690,0\\r\\n22477,0\\r\\n46833,0\\r\\n38845,0\\r\\n21069,0\\r\\n70956,0\\r\\n72513,0\\r\\n72792,0\\r\\n7055,1\\r\\n1283,0\\r\\n10809,0\\r\\n55845,0\\r\\n19823,0\\r\\n57972,0\\r\\n39886,0\\r\\n34845,0\\r\\n620,0\\r\\n3694,0\\r\\n13092,0\\r\\n51912,0\\r\\n35592,0\\r\\n19179,0\\r\\n62627,0\\r\\n5565,0\\r\\n75511,0\\r\\n27791,0\\r\\n55234,0\\r\\n51314,0\\r\\n4227,0\\r\\n22105,0\\r\\n75143,0\\r\\n24519,0\\r\\n44045,0\\r\\n49999,0\\r\\n46673,0\\r\\n26384,0\\r\\n24232,0\\r\\n25001,0\\r\\n44326,0\\r\\n76171,1\\r\\n57576,0\\r\\n6504,0\\r\\n73092,0\\r\\n50739,0\\r\\n69936,0\\r\\n64531,0\\r\\n59602,0\\r\\n69235,0\\r\\n73108,1\\r\\n60363,0\\r\\n37558,0\\r\\n50111,0\\r\\n5629,0\\r\\n45361,0\\r\\n25330,0\\r\\n32614,0\\r\\n68526,0\\r\\n33671,0\\r\\n39469,0\\r\\n29569,0\\r\\n15373,0\\r\\n21263,0\\r\\n4539,0\\r\\n4713,0\\r\\n68677,0\\r\\n5958,0\\r\\n8948,0\\r\\n55740,0\\r\\n24589,0\\r\\n74741,0\\r\\n11058,0\\r\\n10921,0\\r\\n44186,0\\r\\n6998,0\\r\\n30793,0\\r\\n28639,0\\r\\n32521,0\\r\\n35316,0\\r\\n28785,0\\r\\n23607,0\\r\\n38151,0\\r\\n61639,0\\r\\n12657,0\\r\\n36122,0\\r\\n43819,0\\r\\n4321,0\\r\\n22097,0\\r\\n67838,0\\r\\n11301,0\\r\\n49138,0\\r\\n77201,0\\r\\n50372,0\\r\\n11699,0\\r\\n13191,0\\r\\n38819,0\\r\\n60913,0\\r\\n35232,0\\r\\n55953,1\\r\\n4371,0\\r\\n33241,0\\r\\n24673,0\\r\\n25796,0\\r\\n26073,0\\r\\n3939,0\\r\\n52973,0\\r\\n47690,0\\r\\n50382,0\\r\\n3194,0\\r\\n2249,0\\r\\n44391,0\\r\\n9919,0\\r\\n1433,0\\r\\n52927,0\\r\\n73780,0\\r\\n30525,0\\r\\n49497,0\\r\\n65174,0\\r\\n18615,0\\r\\n5448,0\\r\\n30008,0\\r\\n54973,0\\r\\n73273,0\\r\\n50948,0\\r\\n59500,0\\r\\n33995,0\\r\\n17127,0\\r\\n45547,0\\r\\n71340,0\\r\\n49744,0\\r\\n9401,0\\r\\n51437,0\\r\\n66664,0\\r\\n76725,0\\r\\n46834,0\\r\\n55749,0\\r\\n40831,1\\r\\n16594,0\\r\\n54102,0\\r\\n28006,0\\r\\n20308,0\\r\\n71765,0\\r\\n70441,0\\r\\n63475,0\\r\\n68861,0\\r\\n14618,0\\r\\n34155,0\\r\\n77370,0\\r\\n38551,0\\r\\n21915,0\\r\\n43482,0\\r\\n16103,0\\r\\n5393,0\\r\\n30224,0\\r\\n58507,0\\r\\n45378,0\\r\\n4094,0\\r\\n42226,0\\r\\n70472,0\\r\\n21198,0\\r\\n48659,0\\r\\n55528,0\\r\\n13826,0\\r\\n34275,0\\r\\n64561,0\\r\\n56351,0\\r\\n71458,0\\r\\n24148,0\\r\\n22934,0\\r\\n52485,0\\r\\n40663,0\\r\\n73240,0\\r\\n59630,0\\r\\n61404,0\\r\\n76207,0\\r\\n70032,0\\r\\n2643,0\\r\\n3077,0\\r\\n36537,0\\r\\n74330,0\\r\\n5874,0\\r\\n54681,0\\r\\n28707,0\\r\\n48558,0\\r\\n23738,0\\r\\n75520,0\\r\\n18148,0\\r\\n52317,0\\r\\n28069,0\\r\\n15956,0\\r\\n33814,0\\r\\n7506,0\\r\\n4170,0\\r\\n35771,0\\r\\n39783,0\\r\\n25689,0\\r\\n12586,0\\r\\n13273,0\\r\\n7709,0\\r\\n48329,0\\r\\n52823,0\\r\\n16945,0\\r\\n72520,0\\r\\n48129,0\\r\\n62905,0\\r\\n25411,0\\r\\n76139,0\\r\\n12520,0\\r\\n29068,0\\r\\n12214,0\\r\\n410,0\\r\\n26374,0\\r\\n49409,0\\r\\n2109,0\\r\\n22298,0\\r\\n26103,0\\r\\n32375,0\\r\\n37473,0\\r\\n6640,0\\r\\n53091,0\\r\\n55401,0\\r\\n13523,0\\r\\n64100,0\\r\\n560,1\\r\\n30369,0\\r\\n45996,1\\r\\n29429,0\\r\\n28334,0\\r\\n28131,0\\r\\n54602,0\\r\\n42161,0\\r\\n71749,0\\r\\n71266,0\\r\\n26048,0\\r\\n66655,0\\r\\n42494,0\\r\\n75895,0\\r\\n8188,0\\r\\n26340,0\\r\\n41156,0\\r\\n9428,0\\r\\n49183,0\\r\\n52100,1\\r\\n51747,0\\r\\n40657,0\\r\\n46866,0\\r\\n59623,0\\r\\n2543,0\\r\\n4037,0\\r\\n14386,1\\r\\n57343,0\\r\\n67459,0\\r\\n64335,0\\r\\n20843,0\\r\\n30025,0\\r\\n14567,0\\r\\n19512,0\\r\\n50153,0\\r\\n62527,0\\r\\n17659,0\\r\\n58935,0\\r\\n66114,0\\r\\n13401,0\\r\\n31474,0\\r\\n73823,0\\r\\n3609,0\\r\\n25240,0\\r\\n17582,0\\r\\n42290,0\\r\\n4287,0\\r\\n49896,0\\r\\n64925,0\\r\\n57841,0\\r\\n22030,0\\r\\n8909,0\\r\\n27233,0\\r\\n25733,0\\r\\n6333,0\\r\\n59262,0\\r\\n61633,0\\r\\n65282,0\\r\\n60512,0\\r\\n68904,0\\r\\n29895,0\\r\\n23937,0\\r\\n38758,0\\r\\n43668,0\\r\\n42032,0\\r\\n76865,0\\r\\n8423,0\\r\\n11990,1\\r\\n56423,0\\r\\n70567,0\\r\\n41945,0\\r\\n10244,0\\r\\n25436,0\\r\\n36045,1\\r\\n4055,0\\r\\n10880,0\\r\\n48406,0\\r\\n16243,0\\r\\n3340,0\\r\\n36739,0\\r\\n63359,0\\r\\n77066,0\\r\\n27096,0\\r\\n68937,0\\r\\n32975,0\\r\\n5544,0\\r\\n42498,0\\r\\n35097,0\\r\\n18993,0\\r\\n33606,0\\r\\n77631,0\\r\\n57373,0\\r\\n55069,0\\r\\n36344,0\\r\\n13200,0\\r\\n46601,0\\r\\n6942,0\\r\\n40520,0\\r\\n74254,0\\r\\n4987,1\\r\\n74508,0\\r\\n17248,0\\r\\n6858,0\\r\\n55600,0\\r\\n10900,0\\r\\n7890,0\\r\\n41939,0\\r\\n19029,0\\r\\n50018,0\\r\\n34645,0\\r\\n14443,0\\r\\n68331,0\\r\\n60383,0\\r\\n47565,0\\r\\n61296,0\\r\\n17563,0\\r\\n35027,0\\r\\n37498,0\\r\\n25993,0\\r\\n29829,0\\r\\n1155,0\\r\\n23148,0\\r\\n46379,1\\r\\n53339,0\\r\\n63586,0\\r\\n24052,0\\r\\n21953,0\\r\\n74895,0\\r\\n6155,0\\r\\n62351,0\\r\\n68481,0\\r\\n55922,0\\r\\n7910,0\\r\\n40380,1\\r\\n23191,0\\r\\n28611,0\\r\\n32738,0\\r\\n57093,0\\r\\n54255,0\\r\\n72770,0\\r\\n53415,0\\r\\n31838,0\\r\\n73898,0\\r\\n41855,0\\r\\n42568,0\\r\\n18573,0\\r\\n21490,0\\r\\n45966,0\\r\\n30513,0\\r\\n13461,0\\r\\n42861,0\\r\\n56942,0\\r\\n1870,1\\r\\n9147,0\\r\\n21487,0\\r\\n76724,0\\r\\n22376,0\\r\\n3967,0\\r\\n77014,0\\r\\n43590,0\\r\\n24544,0\\r\\n9617,0\\r\\n23322,0\\r\\n22294,0\\r\\n70738,0\\r\\n44520,0\\r\\n18654,0\\r\\n65717,0\\r\\n19622,0\\r\\n63621,0\\r\\n68819,0\\r\\n55967,0\\r\\n54047,0\\r\\n24622,0\\r\\n44460,0\\r\\n25716,0\\r\\n22550,0\\r\\n71476,0\\r\\n39924,0\\r\\n72359,0\\r\\n15776,0\\r\\n63131,0\\r\\n39209,0\\r\\n73459,0\\r\\n20592,0\\r\\n27764,0\\r\\n28696,0\\r\\n26492,0\\r\\n52627,0\\r\\n25964,0\\r\\n22310,0\\r\\n35423,0\\r\\n1150,0\\r\\n58374,0\\r\\n77596,0\\r\\n24170,0\\r\\n48654,0\\r\\n11195,1\\r\\n77454,0\\r\\n23311,0\\r\\n37785,0\\r\\n43155,0\\r\\n73321,0\\r\\n32123,0\\r\\n60514,0\\r\\n20786,0\\r\\n48492,0\\r\\n15798,0\\r\\n14573,0\\r\\n7718,0\\r\\n12342,0\\r\\n62234,0\\r\\n70150,0\\r\\n14989,0\\r\\n4791,0\\r\\n36898,0\\r\\n7237,0\\r\\n78068,0\\r\\n60537,0\\r\\n68056,0\\r\\n70904,0\\r\\n54004,0\\r\\n58317,0\\r\\n43156,0\\r\\n29885,0\\r\\n10929,0\\r\\n25038,0\\r\\n69588,0\\r\\n56694,0\\r\\n56127,0\\r\\n59907,0\\r\\n26298,0\\r\\n51815,0\\r\\n49388,0\\r\\n40743,0\\r\\n51458,0\\r\\n27804,0\\r\\n63747,0\\r\\n491,0\\r\\n11425,0\\r\\n69343,0\\r\\n46546,0\\r\\n35244,0\\r\\n50343,0\\r\\n9719,0\\r\\n48368,1\\r\\n72299,0\\r\\n37277,0\\r\\n34079,0\\r\\n10843,0\\r\\n9039,0\\r\\n63851,0\\r\\n57952,0\\r\\n77422,0\\r\\n20209,0\\r\\n59484,0\\r\\n27164,0\\r\\n63960,0\\r\\n59358,0\\r\\n71090,0\\r\\n69005,1\\r\\n2978,0\\r\\n50589,0\\r\\n20300,0\\r\\n46843,0\\r\\n46214,0\\r\\n40254,0\\r\\n52081,0\\r\\n40232,0\\r\\n45991,0\\r\\n26049,0\\r\\n16762,0\\r\\n2744,0\\r\\n74161,1\\r\\n71772,0\\r\\n59834,0\\r\\n9989,0\\r\\n34328,0\\r\\n39879,0\\r\\n40909,0\\r\\n77801,0\\r\\n49398,0\\r\\n57705,0\\r\\n23488,0\\r\\n39649,0\\r\\n62994,0\\r\\n2801,0\\r\\n19888,0\\r\\n7558,0\\r\\n69160,0\\r\\n24858,0\\r\\n27069,0\\r\\n43210,0\\r\\n60437,0\\r\\n59215,0\\r\\n66696,0\\r\\n24945,0\\r\\n48255,0\\r\\n57136,0\\r\\n24576,0\\r\\n35013,0\\r\\n70746,0\\r\\n13077,0\\r\\n17218,0\\r\\n65215,0\\r\\n48786,0\\r\\n55347,0\\r\\n17803,0\\r\\n74982,0\\r\\n45882,0\\r\\n71093,0\\r\\n71281,0\\r\\n18147,0\\r\\n45585,0\\r\\n11917,0\\r\\n11703,0\\r\\n65255,0\\r\\n29508,0\\r\\n58000,0\\r\\n22891,1\\r\\n32941,0\\r\\n68353,0\\r\\n76981,0\\r\\n16866,0\\r\\n38927,0\\r\\n19889,0\\r\\n60481,0\\r\\n66897,0\\r\\n36221,0\\r\\n12076,0\\r\\n25292,0\\r\\n16666,0\\r\\n41413,0\\r\\n26075,0\\r\\n18339,0\\r\\n8561,0\\r\\n1118,0\\r\\n44483,0\\r\\n29134,0\\r\\n30916,0\\r\\n59257,0\\r\\n76460,0\\r\\n37814,0\\r\\n6780,0\\r\\n29406,0\\r\\n30037,0\\r\\n38581,0\\r\\n29761,0\\r\\n64028,0\\r\\n6535,0\\r\\n32443,0\\r\\n50785,0\\r\\n68491,0\\r\\n67593,0\\r\\n13221,0\\r\\n56670,0\\r\\n19998,0\\r\\n62734,0\\r\\n57415,0\\r\\n33548,0\\r\\n54979,0\\r\\n12352,0\\r\\n41359,0\\r\\n28210,0\\r\\n8681,0\\r\\n48155,0\\r\\n57848,0\\r\\n26351,0\\r\\n47855,0\\r\\n23851,0\\r\\n52766,0\\r\\n14823,0\\r\\n39482,0\\r\\n46191,0\\r\\n62787,0\\r\\n42271,0\\r\\n40489,0\\r\\n47014,0\\r\\n71397,0\\r\\n32810,0\\r\\n47884,1\\r\\n67541,0\\r\\n10785,0\\r\\n30372,0\\r\\n50152,0\\r\\n43844,0\\r\\n78293,0\\r\\n63655,0\\r\\n10268,0\\r\\n43249,0\\r\\n51209,0\\r\\n47419,0\\r\\n75359,0\\r\\n38505,0\\r\\n50889,0\\r\\n77532,0\\r\\n14414,0\\r\\n42813,0\\r\\n15258,0\\r\\n42933,0\\r\\n11926,0\\r\\n49767,0\\r\\n71986,0\\r\\n43389,0\\r\\n45179,0\\r\\n12199,0\\r\\n37200,0\\r\\n76074,0\\r\\n65645,0\\r\\n59295,0\\r\\n2956,0\\r\\n32353,0\\r\\n62257,0\\r\\n32198,0\\r\\n3556,0\\r\\n24487,0\\r\\n9920,0\\r\\n17845,0\\r\\n3838,0\\r\\n11460,0\\r\\n73355,0\\r\\n76273,0\\r\\n37982,0\\r\\n72990,0\\r\\n8143,0\\r\\n5206,0\\r\\n64308,0\\r\\n42076,0\\r\\n65628,0\\r\\n23011,0\\r\\n23898,0\\r\\n54720,0\\r\\n66899,0\\r\\n56059,0\\r\\n40066,0\\r\\n36251,0\\r\\n18696,0\\r\\n3139,0\\r\\n43068,0\\r\\n67013,0\\r\\n977,0\\r\\n56131,0\\r\\n54882,0\\r\\n75343,0\\r\\n69124,0\\r\\n3415,0\\r\\n63044,0\\r\\n7209,0\\r\\n10773,0\\r\\n44967,0\\r\\n11285,0\\r\\n63678,0\\r\\n12060,1\\r\\n54637,0\\r\\n34556,0\\r\\n5806,0\\r\\n57960,0\\r\\n29022,0\\r\\n40721,0\\r\\n7485,0\\r\\n49432,0\\r\\n57702,0\\r\\n46178,0\\r\\n18022,0\\r\\n27752,0\\r\\n61736,1\\r\\n70969,0\\r\\n48812,0\\r\\n46810,0\\r\\n65569,0\\r\\n41817,0\\r\\n45178,0\\r\\n69402,0\\r\\n17791,0\\r\\n2918,0\\r\\n49363,0\\r\\n33020,0\\r\\n53697,0\\r\\n955,0\\r\\n65318,0\\r\\n43451,0\\r\\n78142,0\\r\\n4129,0\\r\\n50204,0\\r\\n59930,0\\r\\n52581,0\\r\\n23331,0\\r\\n28821,0\\r\\n71444,0\\r\\n15814,0\\r\\n73292,0\\r\\n70778,0\\r\\n53713,0\\r\\n19965,0\\r\\n33347,0\\r\\n22009,0\\r\\n74758,0\\r\\n27522,0\\r\\n25655,0\\r\\n7168,0\\r\\n75518,0\\r\\n10446,0\\r\\n74657,0\\r\\n56325,0\\r\\n53688,0\\r\\n8941,0\\r\\n13048,0\\r\\n45583,0\\r\\n52860,0\\r\\n29463,0\\r\\n13103,0\\r\\n27324,0\\r\\n10491,0\\r\\n55109,0\\r\\n71042,0\\r\\n5654,0\\r\\n17246,0\\r\\n15268,0\\r\\n41535,0\\r\\n6378,0\\r\\n58775,0\\r\\n49079,0\\r\\n7143,0\\r\\n13960,0\\r\\n237,0\\r\\n13266,0\\r\\n16377,0\\r\\n75369,0\\r\\n51036,0\\r\\n21999,0\\r\\n3837,0\\r\\n63058,0\\r\\n21971,0\\r\\n28373,0\\r\\n21233,0\\r\\n2193,0\\r\\n70782,0\\r\\n31560,0\\r\\n9391,0\\r\\n3769,0\\r\\n45049,0\\r\\n67621,0\\r\\n14776,0\\r\\n63272,0\\r\\n74737,1\\r\\n549,0\\r\\n33636,0\\r\\n71165,0\\r\\n20451,0\\r\\n72304,0\\r\\n48685,0\\r\\n24468,0\\r\\n20024,0\\r\\n66459,0\\r\\n39348,0\\r\\n70480,0\\r\\n32235,0\\r\\n31896,0\\r\\n30898,0\\r\\n34185,0\\r\\n37462,0\\r\\n73226,0\\r\\n41052,0\\r\\n61350,0\\r\\n42830,0\\r\\n55039,0\\r\\n40955,0\\r\\n6257,0\\r\\n10129,0\\r\\n14358,0\\r\\n47562,0\\r\\n39681,0\\r\\n25594,0\\r\\n74678,0\\r\\n37756,0\\r\\n68588,0\\r\\n76251,0\\r\\n18927,0\\r\\n60934,0\\r\\n77483,0\\r\\n75563,0\\r\\n4183,0\\r\\n71217,0\\r\\n77747,0\\r\\n45063,0\\r\\n18259,0\\r\\n8081,0\\r\\n22790,0\\r\\n55814,0\\r\\n33865,0\\r\\n6455,0\\r\\n61695,0\\r\\n5716,0\\r\\n48673,0\\r\\n62713,0\\r\\n38863,0\\r\\n18888,0\\r\\n72120,0\\r\\n34157,0\\r\\n55848,0\\r\\n41203,0\\r\\n14679,0\\r\\n34399,0\\r\\n23301,0\\r\\n15243,0\\r\\n55685,0\\r\\n73697,0\\r\\n42328,0\\r\\n52722,0\\r\\n23627,0\\r\\n67155,0\\r\\n14963,0\\r\\n65820,0\\r\\n65866,0\\r\\n44987,0\\r\\n42595,0\\r\\n52441,0\\r\\n76538,0\\r\\n45915,0\\r\\n61375,0\\r\\n29159,0\\r\\n26714,0\\r\\n43194,0\\r\\n56000,0\\r\\n69993,0\\r\\n3307,0\\r\\n45839,0\\r\\n75862,0\\r\\n15368,0\\r\\n6670,0\\r\\n61463,0\\r\\n7341,0\\r\\n47815,0\\r\\n37568,0\\r\\n25845,0\\r\\n24226,0\\r\\n39381,0\\r\\n31175,0\\r\\n31416,0\\r\\n76391,0\\r\\n60234,1\\r\\n33139,1\\r\\n18151,0\\r\\n14339,0\\r\\n31210,0\\r\\n1135,0\\r\\n54278,0\\r\\n9082,0\\r\\n77271,0\\r\\n12813,0\\r\\n68406,0\\r\\n66745,0\\r\\n24206,0\\r\\n45621,0\\r\\n6493,0\\r\\n2662,0\\r\\n38365,0\\r\\n45865,0\\r\\n60145,0\\r\\n57915,0\\r\\n4724,1\\r\\n45929,0\\r\\n46496,0\\r\\n44047,0\\r\\n11716,0\\r\\n2129,0\\r\\n22995,0\\r\\n64258,0\\r\\n6724,0\\r\\n11165,0\\r\\n63107,0\\r\\n58236,0\\r\\n37955,1\\r\\n66759,0\\r\\n62171,0\\r\\n686,0\\r\\n22626,0\\r\\n20861,0\\r\\n73003,0\\r\\n20113,0\\r\\n14585,0\\r\\n47448,0\\r\\n48561,0\\r\\n39740,0\\r\\n57520,0\\r\\n31277,0\\r\\n37818,0\\r\\n52588,0\\r\\n711,0\\r\\n58475,0\\r\\n61311,0\\r\\n53368,0\\r\\n54269,0\\r\\n65486,0\\r\\n24395,0\\r\\n54692,0\\r\\n43546,0\\r\\n50486,0\\r\\n70856,0\\r\\n41186,0\\r\\n41643,0\\r\\n62431,0\\r\\n47657,0\\r\\n59174,0\\r\\n32103,0\\r\\n37943,0\\r\\n55162,0\\r\\n71910,0\\r\\n69876,0\\r\\n29007,1\\r\\n72280,0\\r\\n26586,0\\r\\n5439,0\\r\\n58325,0\\r\\n44896,0\\r\\n26871,0\\r\\n56173,0\\r\\n54713,0\\r\\n30325,0\\r\\n3518,0\\r\\n6644,0\\r\\n23761,0\\r\\n1363,0\\r\\n9831,0\\r\\n24527,0\\r\\n69016,0\\r\\n8348,0\\r\\n27596,0\\r\\n53989,0\\r\\n60600,0\\r\\n43865,0\\r\\n75416,0\\r\\n62780,0\\r\\n54924,0\\r\\n53769,0\\r\\n71245,0\\r\\n10640,0\\r\\n47713,0\\r\\n38522,1\\r\\n74872,0\\r\\n1031,0\\r\\n58871,0\\r\\n36611,0\\r\\n60813,0\\r\\n48068,0\\r\\n49016,0\\r\\n5845,0\\r\\n16605,0\\r\\n41567,0\\r\\n68586,0\\r\\n36452,0\\r\\n8782,0\\r\\n17849,0\\r\\n14507,0\\r\\n1265,0\\r\\n53939,0\\r\\n46858,0\\r\\n8544,0\\r\\n6706,0\\r\\n66982,0\\r\\n4878,0\\r\\n32185,0\\r\\n10286,0\\r\\n73467,0\\r\\n51662,0\\r\\n50,0\\r\\n4249,0\\r\\n14509,0\\r\\n59531,0\\r\\n27162,0\\r\\n20859,0\\r\\n4931,0\\r\\n10613,0\\r\\n10161,0\\r\\n1968,0\\r\\n46841,0\\r\\n8755,0\\r\\n7923,0\\r\\n472,0\\r\\n1100,0\\r\\n27219,0\\r\\n17219,0\\r\\n46599,0\\r\\n5985,0\\r\\n9816,0\\r\\n45068,0\\r\\n61072,0\\r\\n59870,0\\r\\n14407,0\\r\\n28803,0\\r\\n68638,0\\r\\n60132,0\\r\\n19578,0\\r\\n54233,0\\r\\n1725,0\\r\\n38607,0\\r\\n52221,0\\r\\n63324,0\\r\\n75624,0\\r\\n38957,0\\r\\n62305,0\\r\\n10512,0\\r\\n13500,0\\r\\n29155,0\\r\\n27490,0\\r\\n39872,0\\r\\n74484,0\\r\\n771,0\\r\\n32383,0\\r\\n55533,0\\r\\n16632,0\\r\\n19124,0\\r\\n70218,0\\r\\n20903,0\\r\\n49001,0\\r\\n77163,0\\r\\n37091,0\\r\\n64694,0\\r\\n16693,0\\r\\n64651,1\\r\\n23562,0\\r\\n31043,0\\r\\n22375,0\\r\\n17523,0\\r\\n20134,0\\r\\n73573,0\\r\\n72502,0\\r\\n24211,0\\r\\n63140,0\\r\\n22165,0\\r\\n7368,0\\r\\n73427,0\\r\\n57638,0\\r\\n17438,0\\r\\n21305,0\\r\\n14462,0\\r\\n77156,0\\r\\n64259,0\\r\\n53295,0\\r\\n47915,0\\r\\n26280,0\\r\\n29537,0\\r\\n24914,0\\r\\n26549,0\\r\\n30013,0\\r\\n34502,0\\r\\n58300,0\\r\\n43804,0\\r\\n7427,0\\r\\n40733,0\\r\\n55571,0\\r\\n58088,0\\r\\n74140,0\\r\\n10789,0\\r\\n16826,0\\r\\n29812,0\\r\\n62670,0\\r\\n76645,0\\r\\n5189,0\\r\\n7511,0\\r\\n5739,0\\r\\n59386,0\\r\\n66607,0\\r\\n53437,0\\r\\n73535,0\\r\\n25903,0\\r\\n41978,0\\r\\n42880,0\\r\\n23585,0\\r\\n30116,0\\r\\n39563,0\\r\\n29610,0\\r\\n27436,1\\r\\n6639,0\\r\\n68997,0\\r\\n42233,0\\r\\n47359,0\\r\\n69150,0\\r\\n10055,0\\r\\n38084,0\\r\\n23139,0\\r\\n16920,0\\r\\n75229,0\\r\\n74754,0\\r\\n38437,0\\r\\n19468,0\\r\\n25281,0\\r\\n70444,0\\r\\n2670,0\\r\\n5126,0\\r\\n18239,0\\r\\n46340,0\\r\\n2503,0\\r\\n22268,0\\r\\n6953,0\\r\\n48079,0\\r\\n20890,0\\r\\n43457,0\\r\\n63785,0\\r\\n13363,0\\r\\n56714,0\\r\\n6926,0\\r\\n60377,0\\r\\n62261,0\\r\\n59923,0\\r\\n32457,0\\r\\n24949,0\\r\\n69833,1\\r\\n14171,0\\r\\n3908,0\\r\\n68968,0\\r\\n20450,0\\r\\n26904,0\\r\\n13107,0\\r\\n46443,0\\r\\n71004,0\\r\\n6337,0\\r\\n17023,0\\r\\n15884,0\\r\\n47807,0\\r\\n54719,0\\r\\n18154,0\\r\\n73075,0\\r\\n46705,0\\r\\n14465,0\\r\\n13476,0\\r\\n75699,0\\r\\n43859,0\\r\\n72363,0\\r\\n46226,0\\r\\n74617,0\\r\\n25417,0\\r\\n16779,0\\r\\n45360,0\\r\\n60232,0\\r\\n46140,0\\r\\n55560,0\\r\\n26553,0\\r\\n45584,0\\r\\n60136,0\\r\\n36356,0\\r\\n39873,0\\r\\n60957,0\\r\\n1796,0\\r\\n24546,0\\r\\n77823,0\\r\\n2971,0\\r\\n16783,0\\r\\n39415,0\\r\\n5493,0\\r\\n15474,0\\r\\n36114,0\\r\\n78025,0\\r\\n41624,0\\r\\n19395,1\\r\\n65232,0\\r\\n63738,0\\r\\n47509,0\\r\\n31925,0\\r\\n18113,0\\r\\n62359,0\\r\\n30361,0\\r\\n72403,0\\r\\n30926,0\\r\\n16583,0\\r\\n36375,0\\r\\n76894,0\\r\\n57847,0\\r\\n45268,0\\r\\n76739,0\\r\\n4776,0\\r\\n43593,0\\r\\n51306,0\\r\\n73862,0\\r\\n54303,0\\r\\n37038,0\\r\\n40394,0\\r\\n37507,0\\r\\n68307,0\\r\\n54387,0\\r\\n28311,0\\r\\n5245,0\\r\\n75220,0\\r\\n56155,0\\r\\n45343,0\\r\\n66612,0\\r\\n64660,0\\r\\n5522,0\\r\\n40588,0\\r\\n72922,0\\r\\n28104,0\\r\\n40982,0\\r\\n3749,0\\r\\n32759,0\\r\\n73417,0\\r\\n77860,0\\r\\n35303,0\\r\\n38302,0\\r\\n15784,0\\r\\n57639,0\\r\\n44140,0\\r\\n61853,0\\r\\n45236,0\\r\\n4797,0\\r\\n57753,0\\r\\n4448,1\\r\\n37430,0\\r\\n76159,0\\r\\n42497,0\\r\\n48092,1\\r\\n28585,0\\r\\n46013,0\\r\\n9457,0\\r\\n28039,0\\r\\n19668,0\\r\\n36764,0\\r\\n6340,0\\r\\n44625,0\\r\\n37582,0\\r\\n47191,0\\r\\n62405,0\\r\\n70286,0\\r\\n69348,0\\r\\n17501,0\\r\\n26198,0\\r\\n29903,0\\r\\n61630,0\\r\\n65360,0\\r\\n6235,1\\r\\n58768,0\\r\\n59427,0\\r\\n61133,0\\r\\n22565,0\\r\\n23350,1\\r\\n52367,0\\r\\n70664,0\\r\\n60618,0\\r\\n66326,0\\r\\n39228,0\\r\\n17756,0\\r\\n34647,0\\r\\n19007,0\\r\\n61910,0\\r\\n33320,0\\r\\n38565,0\\r\\n60139,0\\r\\n62573,0\\r\\n6575,0\\r\\n12103,0\\r\\n14106,0\\r\\n26211,1\\r\\n19277,0\\r\\n74285,0\\r\\n35122,0\\r\\n27417,0\\r\\n70390,0\\r\\n2471,0\\r\\n66638,0\\r\\n62601,0\\r\\n38933,0\\r\\n58503,0\\r\\n22234,0\\r\\n52068,0\\r\\n3786,0\\r\\n8004,0\\r\\n877,0\\r\\n21838,0\\r\\n44900,0\\r\\n7755,0\\r\\n13075,0\\r\\n25108,0\\r\\n56579,0\\r\\n72620,0\\r\\n65738,0\\r\\n71135,0\\r\\n21178,0\\r\\n22534,0\\r\\n67773,0\\r\\n71369,0\\r\\n25370,0\\r\\n57440,0\\r\\n10754,0\\r\\n13518,0\\r\\n52541,0\\r\\n59417,0\\r\\n70970,0\\r\\n50908,0\\r\\n17751,0\\r\\n10998,0\\r\\n44894,0\\r\\n32257,0\\r\\n12309,0\\r\\n37744,0\\r\\n65994,0\\r\\n25872,0\\r\\n12573,0\\r\\n32015,0\\r\\n31733,0\\r\\n41392,0\\r\\n29,0\\r\\n25020,0\\r\\n7450,0\\r\\n76150,0\\r\\n36641,0\\r\\n72652,0\\r\\n29591,0\\r\\n9848,0\\r\\n13575,0\\r\\n39397,1\\r\\n4509,0\\r\\n34767,0\\r\\n42947,0\\r\\n29583,0\\r\\n71122,1\\r\\n38623,0\\r\\n40904,0\\r\\n9052,0\\r\\n7235,0\\r\\n19890,0\\r\\n73550,0\\r\\n54597,0\\r\\n48413,0\\r\\n69099,0\\r\\n36050,0\\r\\n3330,1\\r\\n21875,0\\r\\n26734,0\\r\\n9651,0\\r\\n45608,0\\r\\n52017,0\\r\\n58755,0\\r\\n51640,0\\r\\n12294,0\\r\\n50768,0\\r\\n14734,0\\r\\n68390,0\\r\\n14592,0\\r\\n35688,0\\r\\n9784,0\\r\\n5101,1\\r\\n75284,0\\r\\n36623,0\\r\\n60863,0\\r\\n59081,0\\r\\n63739,0\\r\\n65900,0\\r\\n14323,0\\r\\n3498,0\\r\\n42695,0\\r\\n21364,0\\r\\n39181,0\\r\\n44798,0\\r\\n35151,0\\r\\n777,0\\r\\n59364,0\\r\\n71712,0\\r\\n36176,0\\r\\n36153,0\\r\\n63166,0\\r\\n5977,0\\r\\n69965,0\\r\\n77959,0\\r\\n67937,0\\r\\n19322,0\\r\\n35401,0\\r\\n21171,0\\r\\n18032,0\\r\\n19362,0\\r\\n9326,0\\r\\n17541,0\\r\\n36296,0\\r\\n9231,0\\r\\n60612,0\\r\\n47007,0\\r\\n73287,0\\r\\n11273,0\\r\\n23888,0\\r\\n1554,0\\r\\n73141,0\\r\\n20359,0\\r\\n17294,0\\r\\n67706,0\\r\\n77858,0\\r\\n69171,0\\r\\n75919,0\\r\\n36976,0\\r\\n53704,0\\r\\n33824,0\\r\\n72553,1\\r\\n32465,0\\r\\n1243,0\\r\\n12448,0\\r\\n2141,0\\r\\n56109,0\\r\\n63080,1\\r\\n64303,0\\r\\n77658,0\\r\\n18077,0\\r\\n59820,0\\r\\n51871,0\\r\\n60361,0\\r\\n39993,0\\r\\n47870,0\\r\\n60964,0\\r\\n12788,0\\r\\n21860,1\\r\\n34421,0\\r\\n46255,0\\r\\n15670,0\\r\\n53711,0\\r\\n60391,0\\r\\n13978,0\\r\\n36186,0\\r\\n5953,0\\r\\n58737,0\\r\\n30497,0\\r\\n10656,0\\r\\n47037,0\\r\\n72606,0\\r\\n43672,0\\r\\n56979,0\\r\\n19168,0\\r\\n43582,0\\r\\n72382,0\\r\\n50258,0\\r\\n9958,0\\r\\n53276,0\\r\\n54511,0\\r\\n26782,0\\r\\n37772,0\\r\\n65390,0\\r\\n22356,0\\r\\n37205,0\\r\\n18724,0\\r\\n22297,0\\r\\n41779,0\\r\\n6117,0\\r\\n15418,0\\r\\n74357,0\\r\\n77130,0\\r\\n25579,0\\r\\n33236,0\\r\\n75190,0\\r\\n42805,0\\r\\n65644,0\\r\\n60798,0\\r\\n33973,0\\r\\n7967,0\\r\\n5169,0\\r\\n33684,0\\r\\n12974,0\\r\\n7437,0\\r\\n68867,0\\r\\n55029,0\\r\\n20139,0\\r\\n64861,0\\r\\n68119,0\\r\\n78092,0\\r\\n33667,0\\r\\n11475,0\\r\\n16378,0\\r\\n27599,0\\r\\n74777,0\\r\\n31570,0\\r\\n50428,0\\r\\n71179,0\\r\\n1095,0\\r\\n8686,0\\r\\n71380,0\\r\\n47851,0\\r\\n7618,0\\r\\n32592,0\\r\\n63265,0\\r\\n71342,0\\r\\n17415,0\\r\\n49924,0\\r\\n49056,0\\r\\n70966,0\\r\\n14633,0\\r\\n71043,0\\r\\n1815,0\\r\\n37746,0\\r\\n65968,0\\r\\n59628,1\\r\\n1376,0\\r\\n73527,0\\r\\n40916,0\\r\\n64191,0\\r\\n11406,0\\r\\n29157,0\\r\\n5744,0\\r\\n49196,0\\r\\n47250,0\\r\\n25790,0\\r\\n4735,0\\r\\n67275,0\\r\\n47171,0\\r\\n2783,0\\r\\n11397,0\\r\\n23355,0\\r\\n56858,0\\r\\n73418,0\\r\\n14370,0\\r\\n59922,0\\r\\n27711,0\\r\\n28200,0\\r\\n36882,0\\r\\n64859,0\\r\\n35312,1\\r\\n12503,0\\r\\n65981,0\\r\\n15617,0\\r\\n13072,0\\r\\n42133,0\\r\\n18359,0\\r\\n73892,0\\r\\n68678,0\\r\\n64926,0\\r\\n76616,0\\r\\n53397,0\\r\\n49817,0\\r\\n72829,0\\r\\n35037,0\\r\\n71626,0\\r\\n11367,0\\r\\n2105,0\\r\\n40755,0\\r\\n637,0\\r\\n14728,0\\r\\n32782,0\\r\\n22824,0\\r\\n16863,0\\r\\n23438,0\\r\\n71037,0\\r\\n61779,0\\r\\n69874,0\\r\\n35704,0\\r\\n9777,0\\r\\n67142,0\\r\\n51016,0\\r\\n60355,0\\r\\n27161,0\\r\\n43983,0\\r\\n14213,0\\r\\n12087,0\\r\\n51145,0\\r\\n77685,0\\r\\n2125,0\\r\\n57531,0\\r\\n30329,0\\r\\n11761,0\\r\\n53414,0\\r\\n28969,0\\r\\n63168,0\\r\\n38020,0\\r\\n33592,0\\r\\n4826,0\\r\\n18155,0\\r\\n50975,0\\r\\n37083,0\\r\\n10350,0\\r\\n10950,0\\r\\n18885,0\\r\\n75987,0\\r\\n27877,0\\r\\n13928,0\\r\\n25381,0\\r\\n8934,0\\r\\n10398,0\\r\\n27901,0\\r\\n64891,0\\r\\n65844,0\\r\\n77626,0\\r\\n40189,0\\r\\n49550,0\\r\\n35960,0\\r\\n28342,0\\r\\n18026,0\\r\\n21485,0\\r\\n40763,0\\r\\n54101,0\\r\\n63479,0\\r\\n8882,0\\r\\n25104,0\\r\\n19920,0\\r\\n19361,0\\r\\n17755,0\\r\\n4377,0\\r\\n52964,0\\r\\n16635,0\\r\\n21292,0\\r\\n3681,0\\r\\n64348,0\\r\\n28531,0\\r\\n41678,0\\r\\n17198,0\\r\\n37005,0\\r\\n17701,0\\r\\n7094,0\\r\\n62691,0\\r\\n34062,0\\r\\n27531,0\\r\\n71686,0\\r\\n51293,0\\r\\n2547,0\\r\\n56884,0\\r\\n58048,0\\r\\n63745,0\\r\\n31677,0\\r\\n71492,0\\r\\n34177,0\\r\\n55597,0\\r\\n65441,0\\r\\n21986,0\\r\\n68855,0\\r\\n26474,0\\r\\n4093,0\\r\\n69840,0\\r\\n24538,0\\r\\n70260,0\\r\\n12373,0\\r\\n12670,0\\r\\n68188,0\\r\\n11927,0\\r\\n63132,0\\r\\n33564,0\\r\\n13374,0\\r\\n57662,0\\r\\n59446,0\\r\\n11638,0\\r\\n41853,0\\r\\n14221,0\\r\\n13474,0\\r\\n75365,0\\r\\n5864,0\\r\\n78279,0\\r\\n1329,0\\r\\n32080,0\\r\\n54545,0\\r\\n43263,0\\r\\n6551,0\\r\\n62965,0\\r\\n32094,0\\r\\n62484,0\\r\\n56730,0\\r\\n30897,0\\r\\n3128,0\\r\\n57438,0\\r\\n3636,0\\r\\n64051,0\\r\\n70697,0\\r\\n76808,0\\r\\n18533,0\\r\\n12286,0\\r\\n39071,0\\r\\n59718,0\\r\\n5433,0\\r\\n73097,0\\r\\n27004,0\\r\\n77073,0\\r\\n8604,0\\r\\n14359,0\\r\\n75983,0\\r\\n27354,0\\r\\n68782,0\\r\\n58821,1\\r\\n23977,1\\r\\n66355,0\\r\\n8314,0\\r\\n54553,1\\r\\n72626,0\\r\\n28963,0\\r\\n3433,0\\r\\n68323,1\\r\\n2127,0\\r\\n70918,0\\r\\n1312,0\\r\\n25648,0\\r\\n66793,0\\r\\n3088,0\\r\\n65305,0\\r\\n13871,1\\r\\n18431,0\\r\\n60206,0\\r\\n51472,0\\r\\n31437,0\\r\\n8157,0\\r\\n49423,0\\r\\n54505,0\\r\\n69643,0\\r\\n5358,0\\r\\n13592,0\\r\\n3134,0\\r\\n64957,0\\r\\n60347,0\\r\\n49060,0\\r\\n7425,0\\r\\n12560,0\\r\\n52848,0\\r\\n1951,0\\r\\n67059,0\\r\\n15147,0\\r\\n75403,0\\r\\n77344,0\\r\\n58279,0\\r\\n732,0\\r\\n42548,0\\r\\n42850,0\\r\\n7500,0\\r\\n56665,1\\r\\n74252,0\\r\\n52177,0\\r\\n66128,0\\r\\n6674,0\\r\\n583,0\\r\\n65355,0\\r\\n35325,0\\r\\n6180,0\\r\\n42741,0\\r\\n24769,0\\r\\n12102,0\\r\\n69115,0\\r\\n51762,0\\r\\n19246,0\\r\\n26568,0\\r\\n28167,0\\r\\n48122,0\\r\\n22064,0\\r\\n3644,0\\r\\n29420,0\\r\\n72747,0\\r\\n70354,0\\r\\n53994,0\\r\\n7752,0\\r\\n52839,0\\r\\n53485,0\\r\\n14435,0\\r\\n53241,0\\r\\n36423,0\\r\\n48301,0\\r\\n40408,0\\r\\n56331,0\\r\\n74677,0\\r\\n63374,0\\r\\n55525,0\\r\\n43782,0\\r\\n46021,0\\r\\n1146,0\\r\\n19595,0\\r\\n67320,0\\r\\n65783,0\\r\\n28954,0\\r\\n7696,0\\r\\n49384,0\\r\\n51441,0\\r\\n6197,0\\r\\n75055,0\\r\\n40444,0\\r\\n67113,0\\r\\n49623,0\\r\\n41034,0\\r\\n62615,0\\r\\n31335,0\\r\\n56271,0\\r\\n42749,0\\r\\n5305,0\\r\\n9154,0\\r\\n28557,0\\r\\n37219,0\\r\\n56657,0\\r\\n65635,0\\r\\n42341,0\\r\\n38951,0\\r\\n76232,0\\r\\n3487,0\\r\\n49433,0\\r\\n25183,0\\r\\n51474,0\\r\\n3665,0\\r\\n9432,0\\r\\n73371,0\\r\\n75949,0\\r\\n22564,0\\r\\n29554,0\\r\\n77291,0\\r\\n4346,0\\r\\n55108,0\\r\\n50275,0\\r\\n1786,0\\r\\n1410,0\\r\\n22997,0\\r\\n46416,0\\r\\n3590,0\\r\\n56374,0\\r\\n7624,0\\r\\n52788,0\\r\\n12144,0\\r\\n15944,0\\r\\n21246,0\\r\\n74013,0\\r\\n35822,0\\r\\n8894,0\\r\\n10907,0\\r\\n56715,0\\r\\n32107,0\\r\\n43199,0\\r\\n73336,0\\r\\n74547,0\\r\\n5930,0\\r\\n8862,0\\r\\n7075,0\\r\\n68209,0\\r\\n51991,0\\r\\n46921,0\\r\\n19879,0\\r\\n39163,0\\r\\n69223,0\\r\\n25784,0\\r\\n53161,0\\r\\n1846,0\\r\\n61444,1\\r\\n50604,0\\r\\n19714,0\\r\\n48402,0\\r\\n39065,0\\r\\n34039,0\\r\\n330,0\\r\\n74364,0\\r\\n31766,0\\r\\n32804,0\\r\\n10943,0\\r\\n55071,0\\r\\n71711,0\\r\\n24484,0\\r\\n3875,0\\r\\n64785,0\\r\\n29995,0\\r\\n67217,0\\r\\n7109,0\\r\\n45985,0\\r\\n39297,0\\r\\n70683,0\\r\\n64017,0\\r\\n64326,0\\r\\n62666,0\\r\\n29853,0\\r\\n58103,0\\r\\n8230,0\\r\\n41139,0\\r\\n7894,0\\r\\n3623,0\\r\\n48196,0\\r\\n61310,0\\r\\n67762,0\\r\\n31194,1\\r\\n28430,0\\r\\n61419,0\\r\\n52660,0\\r\\n74389,0\\r\\n59944,0\\r\\n67283,0\\r\\n3295,0\\r\\n73677,0\\r\\n7979,0\\r\\n9076,1\\r\\n7503,0\\r\\n35345,0\\r\\n77365,0\\r\\n57338,0\\r\\n42366,0\\r\\n33312,0\\r\\n544,0\\r\\n32880,0\\r\\n23155,0\\r\\n7473,0\\r\\n23149,0\\r\\n11240,0\\r\\n41683,0\\r\\n6298,0\\r\\n42093,0\\r\\n56069,0\\r\\n64982,0\\r\\n55490,0\\r\\n18256,0\\r\\n57923,0\\r\\n64934,0\\r\\n6928,0\\r\\n27540,0\\r\\n36740,0\\r\\n47948,0\\r\\n47912,0\\r\\n33913,0\\r\\n32514,0\\r\\n7581,0\\r\\n75018,0\\r\\n44621,0\\r\\n9291,0\\r\\n41302,0\\r\\n61787,0\\r\\n49752,0\\r\\n61325,0\\r\\n15428,0\\r\\n74549,0\\r\\n76847,0\\r\\n36850,0\\r\\n45219,0\\r\\n68380,0\\r\\n18722,0\\r\\n10837,0\\r\\n63241,0\\r\\n76971,0\\r\\n77774,0\\r\\n707,0\\r\\n61297,0\\r\\n53033,0\\r\\n75101,0\\r\\n58231,0\\r\\n47225,0\\r\\n27196,0\\r\\n18582,0\\r\\n30242,0\\r\\n40338,0\\r\\n67893,0\\r\\n8563,0\\r\\n3714,0\\r\\n7770,0\\r\\n46670,0\\r\\n24,0\\r\\n10738,0\\r\\n17763,0\\r\\n53014,0\\r\\n68423,0\\r\\n76989,0\\r\\n47856,0\\r\\n62845,0\\r\\n49726,0\\r\\n3469,0\\r\\n61724,0\\r\\n76344,0\\r\\n2159,0\\r\\n56907,0\\r\\n17747,0\\r\\n12050,0\\r\\n13480,0\\r\\n65487,0\\r\\n37927,0\\r\\n10472,1\\r\\n61593,0\\r\\n33467,0\\r\\n20710,0\\r\\n74878,0\\r\\n40487,0\\r\\n48003,1\\r\\n10337,0\\r\\n66896,0\\r\\n60495,0\\r\\n52639,0\\r\\n31163,0\\r\\n15430,0\\r\\n3754,0\\r\\n33225,0\\r\\n44929,0\\r\\n72035,0\\r\\n75448,0\\r\\n46989,0\\r\\n26592,0\\r\\n6700,0\\r\\n18021,0\\r\\n77813,0\\r\\n55688,0\\r\\n42655,0\\r\\n31831,0\\r\\n267,0\\r\\n28631,0\\r\\n74611,1\\r\\n31762,0\\r\\n37157,0\\r\\n44539,0\\r\\n12108,0\\r\\n67279,0\\r\\n42718,0\\r\\n61881,0\\r\\n52680,0\\r\\n39411,0\\r\\n78209,0\\r\\n28517,0\\r\\n72267,0\\r\\n24311,0\\r\\n4787,0\\r\\n20566,1\\r\\n57908,0\\r\\n49887,0\\r\\n24434,0\\r\\n35434,0\\r\\n61971,0\\r\\n76329,0\\r\\n50400,0\\r\\n4449,0\\r\\n10659,0\\r\\n50269,0\\r\\n39244,0\\r\\n12730,0\\r\\n45257,0\\r\\n67224,0\\r\\n31854,0\\r\\n53142,0\\r\\n62157,0\\r\\n60066,1\\r\\n17186,0\\r\\n1618,0\\r\\n62968,0\\r\\n5914,0\\r\\n16312,0\\r\\n6387,0\\r\\n52202,0\\r\\n22467,0\\r\\n72449,0\\r\\n17241,0\\r\\n65964,0\\r\\n53800,0\\r\\n58272,0\\r\\n39883,0\\r\\n45109,0\\r\\n34433,0\\r\\n37993,0\\r\\n20671,0\\r\\n232,0\\r\\n696,0\\r\\n38257,0\\r\\n75779,0\\r\\n73583,0\\r\\n6112,0\\r\\n51099,0\\r\\n16960,0\\r\\n55244,0\\r\\n48398,0\\r\\n76802,0\\r\\n37422,0\\r\\n5380,0\\r\\n31187,0\\r\\n69657,0\\r\\n5770,0\\r\\n77945,0\\r\\n1911,0\\r\\n23721,0\\r\\n60287,0\\r\\n74089,0\\r\\n61934,0\\r\\n70277,0\\r\\n47552,0\\r\\n14089,0\\r\\n75979,0\\r\\n54729,0\\r\\n41167,0\\r\\n43552,0\\r\\n28427,0\\r\\n3070,0\\r\\n41341,0\\r\\n41049,0\\r\\n36346,1\\r\\n38633,0\\r\\n18233,0\\r\\n50075,0\\r\\n373,0\\r\\n59843,0\\r\\n46540,0\\r\\n75327,0\\r\\n54495,0\\r\\n33261,0\\r\\n6012,0\\r\\n55418,0\\r\\n34417,0\\r\\n40581,0\\r\\n29038,0\\r\\n62015,0\\r\\n68839,0\\r\\n40997,0\\r\\n3698,0\\r\\n26358,0\\r\\n17269,0\\r\\n22138,0\\r\\n36803,0\\r\\n67066,0\\r\\n34620,0\\r\\n40638,0\\r\\n68358,0\\r\\n10443,0\\r\\n53469,0\\r\\n12233,0\\r\\n8579,0\\r\\n44153,0\\r\\n63839,0\\r\\n73166,0\\r\\n1516,0\\r\\n18537,0\\r\\n56922,0\\r\\n21004,0\\r\\n61104,0\\r\\n14254,0\\r\\n32028,0\\r\\n73939,0\\r\\n7791,0\\r\\n6850,0\\r\\n22117,0\\r\\n17192,0\\r\\n58856,0\\r\\n23575,0\\r\\n48617,0\\r\\n36674,0\\r\\n29149,0\\r\\n62299,0\\r\\n65352,0\\r\\n16062,0\\r\\n17599,0\\r\\n62510,0\\r\\n6613,0\\r\\n24043,0\\r\\n45853,0\\r\\n5205,0\\r\\n33028,0\\r\\n11100,0\\r\\n64642,0\\r\\n4416,0\\r\\n7116,0\\r\\n59434,0\\r\\n41940,0\\r\\n5875,0\\r\\n76976,0\\r\\n43822,0\\r\\n32108,0\\r\\n66836,0\\r\\n802,0\\r\\n1756,0\\r\\n21473,0\\r\\n43913,0\\r\\n73652,0\\r\\n41074,0\\r\\n21621,0\\r\\n13093,0\\r\\n26982,0\\r\\n49293,0\\r\\n68980,0\\r\\n60833,0\\r\\n62550,0\\r\\n36581,0\\r\\n69315,0\\r\\n3087,0\\r\\n54494,0\\r\\n68344,0\\r\\n3800,0\\r\\n11680,0\\r\\n74451,0\\r\\n43103,0\\r\\n374,0\\r\\n29302,0\\r\\n34670,0\\r\\n14056,0\\r\\n62144,0\\r\\n47154,0\\r\\n9637,0\\r\\n71512,0\\r\\n20280,0\\r\\n68014,0\\r\\n16655,0\\r\\n52093,0\\r\\n38115,0\\r\\n52702,0\\r\\n57059,0\\r\\n60395,0\\r\\n45315,0\\r\\n24059,0\\r\\n33891,0\\r\\n53508,0\\r\\n42827,0\\r\\n39403,0\\r\\n69779,0\\r\\n49612,0\\r\\n5815,0\\r\\n25496,0\\r\\n76859,0\\r\\n9514,0\\r\\n58921,0\\r\\n36173,0\\r\\n78264,0\\r\\n59825,0\\r\\n3626,0\\r\\n62378,0\\r\\n75938,1\\r\\n34533,0\\r\\n77439,0\\r\\n51753,0\\r\\n18873,0\\r\\n29031,0\\r\\n40143,0\\r\\n50464,0\\r\\n72560,0\\r\\n57130,0\\r\\n19717,0\\r\\n59650,0\\r\\n36444,0\\r\\n3860,0\\r\\n69474,0\\r\\n42062,0\\r\\n77712,0\\r\\n15346,0\\r\\n62126,0\\r\\n45877,0\\r\\n71101,0\\r\\n40065,0\\r\\n7004,0\\r\\n72044,0\\r\\n49399,0\\r\\n34293,0\\r\\n26367,0\\r\\n72658,0\\r\\n44509,0\\r\\n40390,0\\r\\n8437,0\\r\\n29830,0\\r\\n2712,0\\r\\n65120,0\\r\\n1335,0\\r\\n30977,0\\r\\n65440,0\\r\\n44793,0\\r\\n67106,0\\r\\n63396,0\\r\\n32669,0\\r\\n24294,0\\r\\n72957,1\\r\\n59971,0\\r\\n25573,0\\r\\n64269,0\\r\\n40574,0\\r\\n19036,0\\r\\n57950,0\\r\\n56681,0\\r\\n2924,0\\r\\n73285,0\\r\\n45182,0\\r\\n9584,0\\r\\n8231,0\\r\\n19433,0\\r\\n25891,0\\r\\n46641,0\\r\\n56418,0\\r\\n31162,0\\r\\n77049,0\\r\\n57768,0\\r\\n76860,0\\r\\n2406,0\\r\\n15188,0\\r\\n44600,0\\r\\n65842,0\\r\\n28027,0\\r\\n21923,0\\r\\n74352,0\\r\\n59906,0\\r\\n36405,0\\r\\n4286,0\\r\\n10379,0\\r\\n24892,0\\r\\n49114,0\\r\\n19486,0\\r\\n75836,0\\r\\n51535,0\\r\\n31213,0\\r\\n65776,0\\r\\n32518,0\\r\\n25471,0\\r\\n22256,0\\r\\n611,0\\r\\n65498,0\\r\\n39761,0\\r\\n194,0\\r\\n53620,0\\r\\n56065,0\\r\\n48721,0\\r\\n67596,0\\r\\n66392,0\\r\\n34842,0\\r\\n16124,0\\r\\n26554,0\\r\\n67540,0\\r\\n65782,0\\r\\n43592,0\\r\\n6282,0\\r\\n49272,0\\r\\n64729,0\\r\\n66808,0\\r\\n57348,0\\r\\n52945,0\\r\\n18983,0\\r\\n12323,0\\r\\n48201,0\\r\\n60324,0\\r\\n28245,0\\r\\n78164,0\\r\\n25542,0\\r\\n72683,0\\r\\n62478,0\\r\\n68703,0\\r\\n68438,0\\r\\n11401,0\\r\\n738,0\\r\\n10589,0\\r\\n73494,0\\r\\n30112,0\\r\\n27560,0\\r\\n53132,0\\r\\n51942,0\\r\\n30481,0\\r\\n72527,0\\r\\n70252,0\\r\\n42080,0\\r\\n42866,0\\r\\n52783,0\\r\\n2943,0\\r\\n30703,1\\r\\n12098,0\\r\\n53950,0\\r\\n5113,0\\r\\n15200,0\\r\\n56388,0\\r\\n48979,0\\r\\n2181,0\\r\\n47420,0\\r\\n27322,0\\r\\n24597,0\\r\\n76752,0\\r\\n46699,0\\r\\n39824,0\\r\\n49841,0\\r\\n54363,0\\r\\n54772,0\\r\\n61340,0\\r\\n2142,0\\r\\n22319,0\\r\\n31850,0\\r\\n42804,0\\r\\n52277,0\\r\\n49835,0\\r\\n41731,0\\r\\n49130,0\\r\\n16101,0\\r\\n33772,0\\r\\n19310,0\\r\\n67094,0\\r\\n24307,0\\r\\n41699,0\\r\\n51003,0\\r\\n42917,0\\r\\n49220,0\\r\\n3992,0\\r\\n54679,0\\r\\n60114,0\\r\\n3954,0\\r\\n31926,0\\r\\n72194,0\\r\\n33701,0\\r\\n5328,0\\r\\n41700,0\\r\\n74428,0\\r\\n63165,0\\r\\n18025,0\\r\\n10790,1\\r\\n53651,0\\r\\n56293,0\\r\\n6463,0\\r\\n65376,0\\r\\n7594,0\\r\\n5092,0\\r\\n72870,0\\r\\n33142,0\\r\\n16111,0\\r\\n75980,0\\r\\n18687,0\\r\\n76066,0\\r\\n24985,0\\r\\n31923,1\\r\\n23973,0\\r\\n52217,0\\r\\n65455,0\\r\\n62361,0\\r\\n5996,0\\r\\n19281,0\\r\\n38568,0\\r\\n54192,0\\r\\n57239,0\\r\\n73858,0\\r\\n64573,0\\r\\n49584,0\\r\\n48151,0\\r\\n35590,0\\r\\n68854,0\\r\\n52699,0\\r\\n4152,0\\r\\n11306,0\\r\\n61658,0\\r\\n51597,0\\r\\n66572,0\\r\\n57216,0\\r\\n62987,0\\r\\n71450,0\\r\\n47666,0\\r\\n8892,0\\r\\n27474,0\\r\\n10047,0\\r\\n33276,0\\r\\n61357,0\\r\\n4699,0\\r\\n25632,0\\r\\n21116,0\\r\\n72920,0\\r\\n48066,0\\r\\n57175,0\\r\\n31108,0\\r\\n77831,0\\r\\n32579,0\\r\\n65433,0\\r\\n52853,0\\r\\n39652,0\\r\\n22069,0\\r\\n14322,0\\r\\n62970,0\\r\\n68297,0\\r\\n71192,0\\r\\n12375,0\\r\\n15455,1\\r\\n60496,0\\r\\n44740,0\\r\\n73564,0\\r\\n45775,0\\r\\n29972,0\\r\\n71139,0\\r\\n41619,0\\r\\n61320,0\\r\\n55098,0\\r\\n55382,0\\r\\n12434,0\\r\\n16682,0\\r\\n22454,0\\r\\n31157,0\\r\\n75259,0\\r\\n4968,0\\r\\n76075,0\\r\\n4851,0\\r\\n30774,0\\r\\n22377,0\\r\\n11461,0\\r\\n27641,0\\r\\n6753,0\\r\\n19904,0\\r\\n72892,0\\r\\n29558,0\\r\\n25484,0\\r\\n55798,0\\r\\n27451,0\\r\\n10788,0\\r\\n75471,0\\r\\n51545,0\\r\\n41336,0\\r\\n9296,0\\r\\n77753,0\\r\\n50070,0\\r\\n11777,0\\r\\n40016,0\\r\\n49075,0\\r\\n57647,0\\r\\n25621,0\\r\\n38732,0\\r\\n35808,0\\r\\n63833,0\\r\\n34494,0\\r\\n57092,0\\r\\n42083,1\\r\\n39405,0\\r\\n24775,0\\r\\n70835,0\\r\\n35951,0\\r\\n69069,0\\r\\n71169,0\\r\\n60270,0\\r\\n27209,0\\r\\n62071,0\\r\\n12634,0\\r\\n61044,0\\r\\n26435,0\\r\\n9108,1\\r\\n47864,0\\r\\n21328,0\\r\\n46420,0\\r\\n69618,0\\r\\n59320,0\\r\\n49238,0\\r\\n45577,0\\r\\n71081,0\\r\\n64959,0\\r\\n45595,0\\r\\n3351,0\\r\\n14552,0\\r\\n39501,0\\r\\n67131,0\\r\\n26793,0\\r\\n68692,0\\r\\n947,0\\r\\n24558,0\\r\\n75737,0\\r\\n41767,0\\r\\n75052,0\\r\\n43820,0\\r\\n64626,0\\r\\n33504,0\\r\\n21321,0\\r\\n40591,0\\r\\n14454,0\\r\\n51169,0\\r\\n41207,0\\r\\n61158,0\\r\\n72229,0\\r\\n68766,0\\r\\n17162,0\\r\\n27840,0\\r\\n69879,0\\r\\n61605,0\\r\\n48487,0\\r\\n61963,0\\r\\n20416,0\\r\\n69869,0\\r\\n5031,0\\r\\n30,0\\r\\n838,0\\r\\n49755,0\\r\\n15092,0\\r\\n77537,0\\r\\n16086,0\\r\\n1834,0\\r\\n55962,0\\r\\n62978,0\\r\\n43569,0\\r\\n53780,0\\r\\n5848,0\\r\\n19069,0\\r\\n26892,0\\r\\n13247,0\\r\\n56760,0\\r\\n17173,0\\r\\n77495,0\\r\\n8463,0\\r\\n55328,1\\r\\n36225,0\\r\\n41072,0\\r\\n45283,0\\r\\n26929,0\\r\\n64217,0\\r\\n10910,0\\r\\n48746,0\\r\\n10431,0\\r\\n75431,0\\r\\n61933,0\\r\\n7780,0\\r\\n32154,0\\r\\n56563,0\\r\\n60645,0\\r\\n43611,0\\r\\n51328,0\\r\\n49083,0\\r\\n64507,0\\r\\n4177,0\\r\\n15572,0\\r\\n40371,0\\r\\n56044,0\\r\\n9171,0\\r\\n54788,0\\r\\n11629,0\\r\\n23879,0\\r\\n72653,0\\r\\n57037,0\\r\\n10029,0\\r\\n46835,0\\r\\n67965,0\\r\\n38892,0\\r\\n52284,0\\r\\n5509,0\\r\\n38387,0\\r\\n12319,0\\r\\n30748,0\\r\\n10232,0\\r\\n1853,0\\r\\n62711,0\\r\\n39241,0\\r\\n33468,0\\r\\n21873,0\\r\\n67451,0\\r\\n30312,0\\r\\n27492,0\\r\\n39934,0\\r\\n12765,0\\r\\n44807,0\\r\\n55380,0\\r\\n36418,0\\r\\n54113,0\\r\\n10305,0\\r\\n54325,0\\r\\n73346,0\\r\\n15725,0\\r\\n41593,0\\r\\n73374,0\\r\\n62700,0\\r\\n71215,0\\r\\n29990,0\\r\\n6777,0\\r\\n62539,0\\r\\n32074,1\\r\\n2846,0\\r\\n3302,0\\r\\n57414,0\\r\\n1530,0\\r\\n54344,0\\r\\n19235,0\\r\\n45117,0\\r\\n10351,0\\r\\n28360,0\\r\\n31080,0\\r\\n7637,0\\r\\n58006,0\\r\\n63235,0\\r\\n1105,0\\r\\n13421,0\\r\\n78031,0\\r\\n18485,0\\r\\n45508,0\\r\\n62454,0\\r\\n10363,0\\r\\n74422,0\\r\\n4270,0\\r\\n53648,0\\r\\n63191,0\\r\\n30820,0\\r\\n26979,0\\r\\n10783,0\\r\\n57337,1\\r\\n2601,0\\r\\n61298,0\\r\\n6036,0\\r\\n30537,0\\r\\n70553,0\\r\\n18605,0\\r\\n72478,0\\r\\n19848,0\\r\\n67282,0\\r\\n36903,0\\r\\n37886,0\\r\\n75395,0\\r\\n44400,0\\r\\n8335,0\\r\\n40292,0\\r\\n23863,0\\r\\n6248,0\\r\\n13754,0\\r\\n12427,0\\r\\n29707,0\\r\\n35069,0\\r\\n18468,0\\r\\n44368,0\\r\\n22085,0\\r\\n64482,0\\r\\n51609,0\\r\\n34325,0\\r\\n7496,0\\r\\n62609,0\\r\\n2324,0\\r\\n20149,0\\r\\n12046,0\\r\\n73424,0\\r\\n47257,0\\r\\n63519,0\\r\\n34016,0\\r\\n16848,0\\r\\n12013,0\\r\\n10877,0\\r\\n44126,0\\r\\n6661,0\\r\\n17623,0\\r\\n31430,0\\r\\n44664,0\\r\\n2982,0\\r\\n22043,0\\r\\n46189,0\\r\\n50323,0\\r\\n20750,0\\r\\n26833,0\\r\\n60836,0\\r\\n60098,0\\r\\n68028,0\\r\\n16456,0\\r\\n70655,0\\r\\n48440,0\\r\\n51289,0\\r\\n43288,0\\r\\n59156,0\\r\\n2500,0\\r\\n64127,0\\r\\n18030,0\\r\\n34691,0\\r\\n12241,0\\r\\n1953,0\\r\\n40251,0\\r\\n54289,0\\r\\n8376,0\\r\\n32560,0\\r\\n74156,0\\r\\n37936,0\\r\\n8854,0\\r\\n44829,1\\r\\n10941,0\\r\\n63346,0\\r\\n48924,0\\r\\n39275,0\\r\\n67536,0\\r\\n60302,0\\r\\n72484,0\\r\\n53570,0\\r\\n17121,0\\r\\n43422,0\\r\\n30683,0\\r\\n50586,0\\r\\n30201,0\\r\\n886,0\\r\\n57267,0\\r\\n72987,0\\r\\n43448,0\\r\\n29820,0\\r\\n62790,0\\r\\n4777,0\\r\\n61069,0\\r\\n39030,0\\r\\n19718,0\\r\\n15079,0\\r\\n26093,0\\r\\n54963,0\\r\\n70648,0\\r\\n14629,0\\r\\n21080,1\\r\\n16896,0\\r\\n42502,0\\r\\n24947,0\\r\\n2374,0\\r\\n72031,0\\r\\n875,0\\r\\n37971,0\\r\\n366,0\\r\\n36196,0\\r\\n24699,0\\r\\n76052,0\\r\\n30601,0\\r\\n60458,0\\r\\n74711,0\\r\\n25942,0\\r\\n15635,0\\r\\n3628,0\\r\\n39509,0\\r\\n40552,0\\r\\n74142,0\\r\\n63319,0\\r\\n9297,1\\r\\n75886,0\\r\\n29089,0\\r\\n57171,0\\r\\n57796,0\\r\\n23677,0\\r\\n10321,0\\r\\n37917,0\\r\\n74337,0\\r\\n7699,0\\r\\n72381,0\\r\\n12748,0\\r\\n25374,0\\r\\n7931,0\\r\\n45345,0\\r\\n41184,0\\r\\n3599,0\\r\\n47757,0\\r\\n40980,0\\r\\n4767,0\\r\\n44392,0\\r\\n43407,0\\r\\n72169,0\\r\\n75417,0\\r\\n54212,0\\r\\n36397,0\\r\\n57929,0\\r\\n17035,0\\r\\n23122,0\\r\\n71334,0\\r\\n34634,0\\r\\n48367,0\\r\\n33638,0\\r\\n17646,0\\r\\n4903,0\\r\\n13522,0\\r\\n14935,0\\r\\n8135,0\\r\\n61078,0\\r\\n40291,0\\r\\n66145,0\\r\\n67104,0\\r\\n4374,0\\r\\n72102,0\\r\\n41616,0\\r\\n56235,0\\r\\n22989,0\\r\\n45760,0\\r\\n5415,0\\r\\n27831,0\\r\\n41103,0\\r\\n52562,0\\r\\n73242,0\\r\\n38697,0\\r\\n70128,0\\r\\n23770,0\\r\\n26190,0\\r\\n64802,0\\r\\n64362,0\\r\\n21882,0\\r\\n29739,0\\r\\n2501,0\\r\\n23442,0\\r\\n51759,0\\r\\n4519,0\\r\\n59433,0\\r\\n41871,0\\r\\n11249,0\\r\\n59280,0\\r\\n827,0\\r\\n42605,0\\r\\n69975,0\\r\\n18050,0\\r\\n36018,0\\r\\n66428,0\\r\\n57675,0\\r\\n41,0\\r\\n61839,0\\r\\n25731,0\\r\\n24664,1\\r\\n38190,0\\r\\n63465,0\\r\\n29144,0\\r\\n40092,0\\r\\n28028,0\\r\\n840,0\\r\\n77192,0\\r\\n8702,0\\r\\n29244,0\\r\\n45983,1\\r\\n56036,0\\r\\n47011,0\\r\\n39825,0\\r\\n69135,0\\r\\n24957,0\\r\\n8818,0\\r\\n35254,0\\r\\n25393,0\\r\\n10262,0\\r\\n51780,0\\r\\n9776,0\\r\\n51212,0\\r\\n32832,0\\r\\n34342,0\\r\\n41345,0\\r\\n25090,0\\r\\n53883,0\\r\\n16427,0\\r\\n16968,0\\r\\n48276,0\\r\\n60241,0\\r\\n56071,0\\r\\n3344,0\\r\\n27828,0\\r\\n71277,0\\r\\n20698,0\\r\\n915,0\\r\\n74126,0\\r\\n77490,0\\r\\n17090,0\\r\\n41028,0\\r\\n25539,0\\r\\n43031,0\\r\\n17200,0\\r\\n51700,0\\r\\n50447,0\\r\\n21342,0\\r\\n4195,0\\r\\n38023,0\\r\\n37068,0\\r\\n10352,0\\r\\n33903,0\\r\\n23671,0\\r\\n46656,0\\r\\n12627,0\\r\\n71843,0\\r\\n31378,0\\r\\n5602,0\\r\\n23634,0\\r\\n10490,0\\r\\n37458,0\\r\\n45399,1\\r\\n35255,0\\r\\n13631,0\\r\\n21371,0\\r\\n20352,0\\r\\n20262,1\\r\\n41909,0\\r\\n31005,0\\r\\n69,0\\r\\n182,0\\r\\n56786,0\\r\\n53430,0\\r\\n46600,0\\r\\n51785,0\\r\\n27621,0\\r\\n60906,0\\r\\n56082,0\\r\\n10846,0\\r\\n33231,0\\r\\n60582,0\\r\\n70929,0\\r\\n7402,0\\r\\n4943,0\\r\\n10643,0\\r\\n71721,0\\r\\n36426,0\\r\\n22245,0\\r\\n53106,0\\r\\n50554,0\\r\\n54409,0\\r\\n70868,0\\r\\n67313,0\\r\\n58378,0\\r\\n47783,0\\r\\n71558,0\\r\\n57148,0\\r\\n54329,0\\r\\n17138,0\\r\\n43846,0\\r\\n19360,0\\r\\n68587,0\\r\\n12794,0\\r\\n7544,0\\r\\n31453,0\\r\\n17507,0\\r\\n56327,0\\r\\n54274,0\\r\\n23910,0\\r\\n22900,0\\r\\n49808,0\\r\\n66341,0\\r\\n62105,0\\r\\n6959,0\\r\\n12282,0\\r\\n74327,0\\r\\n16784,1\\r\\n29041,0\\r\\n9373,0\\r\\n14772,0\\r\\n45466,0\\r\\n22246,0\\r\\n59866,0\\r\\n60384,0\\r\\n10229,0\\r\\n60119,0\\r\\n39215,0\\r\\n44998,0\\r\\n70820,0\\r\\n41378,0\\r\\n43032,0\\r\\n8036,0\\r\\n38083,0\\r\\n26934,0\\r\\n15062,0\\r\\n53316,0\\r\\n40686,0\\r\\n69035,0\\r\\n18726,0\\r\\n76467,0\\r\\n37457,0\\r\\n12264,0\\r\\n18767,0\\r\\n61732,0\\r\\n19979,0\\r\\n66990,0\\r\\n42875,0\\r\\n6673,0\\r\\n11332,0\\r\\n71392,0\\r\\n70163,0\\r\\n75146,0\\r\\n63202,0\\r\\n74659,0\\r\\n64118,0\\r\\n20950,0\\r\\n4989,0\\r\\n18601,0\\r\\n22483,0\\r\\n174,0\\r\\n24424,0\\r\\n3527,0\\r\\n34178,0\\r\\n1314,0\\r\\n72262,0\\r\\n55391,0\\r\\n57053,0\\r\\n63157,0\\r\\n17624,0\\r\\n73152,0\\r\\n63975,0\\r\\n54741,1\\r\\n17271,0\\r\\n30136,0\\r\\n36867,0\\r\\n52015,0\\r\\n33792,0\\r\\n14580,0\\r\\n63529,0\\r\\n26058,0\\r\\n69942,0\\r\\n58310,0\\r\\n19798,0\\r\\n41894,0\\r\\n12736,0\\r\\n66993,0\\r\\n39735,0\\r\\n12182,0\\r\\n26288,0\\r\\n61777,0\\r\\n15660,0\\r\\n30113,0\\r\\n48145,0\\r\\n53074,0\\r\\n30758,0\\r\\n59807,0\\r\\n45975,0\\r\\n41681,0\\r\\n68533,0\\r\\n74674,0\\r\\n16054,0\\r\\n69583,0\\r\\n73774,0\\r\\n68108,0\\r\\n74375,0\\r\\n29397,0\\r\\n52383,0\\r\\n73239,0\\r\\n71627,0\\r\\n4718,0\\r\\n31696,0\\r\\n41452,0\\r\\n29723,0\\r\\n46818,0\\r\\n2300,0\\r\\n53786,0\\r\\n15461,0\\r\\n25275,0\\r\\n36815,0\\r\\n8580,0\\r\\n8836,0\\r\\n54429,0\\r\\n6140,0\\r\\n59470,0\\r\\n16814,0\\r\\n18085,0\\r\\n35406,0\\r\\n63055,0\\r\\n22463,0\\r\\n71238,0\\r\\n30608,0\\r\\n70563,0\\r\\n15233,0\\r\\n58740,0\\r\\n72246,0\\r\\n54645,0\\r\\n25273,1\\r\\n64916,0\\r\\n13330,0\\r\\n45786,0\\r\\n47770,0\\r\\n23737,0\\r\\n26235,0\\r\\n29703,0\\r\\n50778,0\\r\\n22485,0\\r\\n35713,0\\r\\n32166,0\\r\\n66634,0\\r\\n15019,0\\r\\n31537,0\\r\\n53867,0\\r\\n40045,0\\r\\n35613,0\\r\\n50657,0\\r\\n57159,0\\r\\n75372,0\\r\\n64391,0\\r\\n1780,0\\r\\n17322,0\\r\\n36517,0\\r\\n1503,0\\r\\n4675,0\\r\\n62417,0\\r\\n68055,0\\r\\n61372,0\\r\\n9426,0\\r\\n50409,0\\r\\n60005,0\\r\\n1331,0\\r\\n43817,0\\r\\n62390,0\\r\\n74415,0\\r\\n68606,0\\r\\n7969,0\\r\\n45520,0\\r\\n20387,0\\r\\n50033,0\\r\\n40815,0\\r\\n5919,0\\r\\n49458,0\\r\\n35886,0\\r\\n30563,0\\r\\n57464,0\\r\\n13262,0\\r\\n11861,0\\r\\n21766,0\\r\\n13998,0\\r\\n66318,0\\r\\n49477,0\\r\\n52417,0\\r\\n38611,0\\r\\n52805,0\\r\\n15222,0\\r\\n62556,0\\r\\n59003,0\\r\\n55289,0\\r\\n77775,0\\r\\n24820,0\\r\\n5648,0\\r\\n72186,0\\r\\n76998,0\\r\\n68032,0\\r\\n26080,0\\r\\n17989,0\\r\\n39970,0\\r\\n3959,0\\r\\n12068,0\\r\\n48677,0\\r\\n32051,0\\r\\n78145,0\\r\\n2223,0\\r\\n8637,0\\r\\n66209,0\\r\\n9223,0\\r\\n68021,0\\r\\n18686,0\\r\\n45768,0\\r\\n3863,1\\r\\n57889,0\\r\\n26231,0\\r\\n3140,0\\r\\n34388,1\\r\\n73119,0\\r\\n10241,0\\r\\n15691,0\\r\\n49447,0\\r\\n29613,0\\r\\n5802,0\\r\\n69566,1\\r\\n70932,0\\r\\n24727,0\\r\\n2156,0\\r\\n58631,0\\r\\n29773,0\\r\\n10040,0\\r\\n19672,0\\r\\n61221,0\\r\\n23561,0\\r\\n54441,0\\r\\n21140,1\\r\\n16676,0\\r\\n56973,0\\r\\n10828,0\\r\\n6954,0\\r\\n33521,0\\r\\n15089,0\\r\\n20230,0\\r\\n12195,0\\r\\n10646,0\\r\\n30544,0\\r\\n73486,0\\r\\n60033,0\\r\\n21170,0\\r\\n17104,0\\r\\n7584,0\\r\\n764,0\\r\\n29351,0\\r\\n25956,0\\r\\n71348,0\\r\\n78089,0\\r\\n65682,0\\r\\n26022,0\\r\\n28454,0\\r\\n15179,0\\r\\n49739,0\\r\\n51715,0\\r\\n44128,0\\r\\n60827,0\\r\\n27100,0\\r\\n53449,0\\r\\n11050,0\\r\\n37933,0\\r\\n25,0\\r\\n53123,0\\r\\n28138,0\\r\\n30874,0\\r\\n68618,0\\r\\n29647,0\\r\\n33773,0\\r\\n55056,0\\r\\n5538,0\\r\\n50834,0\\r\\n9562,0\\r\\n49585,0\\r\\n66,0\\r\\n34874,0\\r\\n20138,0\\r\\n58164,0\\r\\n3037,0\\r\\n30903,0\\r\\n19661,0\\r\\n15280,0\\r\\n4512,0\\r\\n12673,0\\r\\n29273,0\\r\\n18265,0\\r\\n44165,0\\r\\n4698,0\\r\\n77841,0\\r\\n64530,0\\r\\n33610,0\\r\\n60912,0\\r\\n34682,0\\r\\n20433,0\\r\\n11820,1\\r\\n50112,0\\r\\n30760,0\\r\\n30238,0\\r\\n60777,0\\r\\n1546,0\\r\\n75995,0\\r\\n2140,0\\r\\n19407,0\\r\\n33397,0\\r\\n26020,0\\r\\n60930,0\\r\\n69344,0\\r\\n18850,0\\r\\n70012,0\\r\\n41712,0\\r\\n76643,0\\r\\n52549,0\\r\\n24833,0\\r\\n46899,0\\r\\n73415,0\\r\\n70417,0\\r\\n70988,0\\r\\n53659,0\\r\\n28733,0\\r\\n178,0\\r\\n49046,0\\r\\n28716,0\\r\\n61979,0\\r\\n61570,0\\r\\n37144,0\\r\\n63377,0\\r\\n62199,0\\r\\n36752,0\\r\\n68235,0\\r\\n73792,0\\r\\n36846,0\\r\\n30528,0\\r\\n22361,0\\r\\n64372,0\\r\\n15001,0\\r\\n59701,0\\r\\n60046,0\\r\\n7254,0\\r\\n13725,0\\r\\n893,0\\r\\n6677,0\\r\\n56064,0\\r\\n16906,0\\r\\n17336,0\\r\\n35322,0\\r\\n31380,0\\r\\n48531,0\\r\\n45421,0\\r\\n57936,0\\r\\n12333,1\\r\\n68121,1\\r\\n48351,0\\r\\n19169,0\\r\\n32825,0\\r\\n72467,0\\r\\n48944,0\\r\\n49314,0\\r\\n956,0\\r\\n38385,0\\r\\n53013,0\\r\\n63128,1\\r\\n7527,0\\r\\n15623,0\\r\\n43637,0\\r\\n2190,0\\r\\n27231,0\\r\\n48891,0\\r\\n30434,0\\r\\n27773,0\\r\\n4800,0\\r\\n67037,0\\r\\n9906,0\\r\\n24171,0\\r\\n36996,0\\r\\n26453,0\\r\\n38836,0\\r\\n72864,0\\r\\n13676,0\\r\\n64380,0\\r\\n38665,0\\r\\n75904,0\\r\\n72460,0\\r\\n39255,0\\r\\n51881,0\\r\\n4103,0\\r\\n9590,1\\r\\n6031,0\\r\\n66005,0\\r\\n19305,0\\r\\n18690,0\\r\\n54243,0\\r\\n37089,0\\r\\n31862,0\\r\\n65608,0\\r\\n27245,0\\r\\n30784,0\\r\\n1666,0\\r\\n55033,0\\r\\n26345,0\\r\\n9941,0\\r\\n14615,0\\r\\n70583,0\\r\\n21522,0\\r\\n46574,0\\r\\n67337,0\\r\\n8739,0\\r\\n49365,0\\r\\n34024,0\\r\\n60589,0\\r\\n34020,0\\r\\n45926,0\\r\\n21174,0\\r\\n68374,0\\r\\n26511,0\\r\\n1697,0\\r\\n54945,0\\r\\n33546,0\\r\\n73162,0\\r\\n31562,0\\r\\n57834,0\\r\\n45299,0\\r\\n31769,0\\r\\n62023,0\\r\\n51495,0\\r\\n39350,0\\r\\n40550,0\\r\\n40332,0\\r\\n17671,0\\r\\n39667,0\\r\\n9854,0\\r\\n58634,0\\r\\n44823,1\\r\\n55950,0\\r\\n11810,0\\r\\n58256,0\\r\\n71161,0\\r\\n34273,0\\r\\n25848,0\\r\\n61704,1\\r\\n27028,0\\r\\n8951,0\\r\\n10834,0\\r\\n35868,0\\r\\n71877,0\\r\\n26488,0\\r\\n36026,0\\r\\n37396,0\\r\\n72205,0\\r\\n16302,0\\r\\n40494,0\\r\\n74613,0\\r\\n60901,0\\r\\n49879,0\\r\\n35117,0\\r\\n65038,0\\r\\n57340,0\\r\\n48668,0\\r\\n13486,0\\r\\n11849,0\\r\\n59705,0\\r\\n51134,0\\r\\n18336,0\\r\\n51187,0\\r\\n60289,0\\r\\n46853,0\\r\\n44274,1\\r\\n37781,0\\r\\n8033,0\\r\\n76665,0\\r\\n71489,0\\r\\n57430,0\\r\\n31263,0\\r\\n42535,0\\r\\n22770,0\\r\\n4107,0\\r\\n43177,0\\r\\n7963,0\\r\\n13094,0\\r\\n16617,1\\r\\n73641,0\\r\\n18728,0\\r\\n63477,0\\r\\n60429,0\\r\\n11216,0\\r\\n31323,0\\r\\n25238,0\\r\\n70510,0\\r\\n47534,0\\r\\n61486,0\\r\\n31892,0\\r\\n41374,0\\r\\n71553,0\\r\\n60621,0\\r\\n34422,0\\r\\n31093,0\\r\\n2069,0\\r\\n6092,0\\r\\n59786,0\\r\\n5104,0\\r\\n74658,0\\r\\n9437,0\\r\\n57153,0\\r\\n29455,0\\r\\n60285,0\\r\\n57696,0\\r\\n23206,0\\r\\n65131,0\\r\\n16777,0\\r\\n12089,0\\r\\n11429,0\\r\\n37800,0\\r\\n6156,0\\r\\n21083,0\\r\\n68906,0\\r\\n981,0\\r\\n4121,0\\r\\n72309,0\\r\\n43764,0\\r\\n50483,0\\r\\n55729,0\\r\\n42965,0\\r\\n53420,0\\r\\n29789,0\\r\\n32175,0\\r\\n49397,0\\r\\n30571,0\\r\\n14314,0\\r\\n8039,0\\r\\n63007,0\\r\\n8869,0\\r\\n46202,0\\r\\n31297,0\\r\\n24131,0\\r\\n36806,0\\r\\n65076,0\\r\\n28680,0\\r\\n75988,0\\r\\n7683,0\\r\\n65457,0\\r\\n75549,0\\r\\n24599,0\\r\\n67475,0\\r\\n66502,0\\r\\n27552,0\\r\\n59526,0\\r\\n18782,0\\r\\n46,0\\r\\n65533,0\\r\\n55118,0\\r\\n15605,0\\r\\n19314,0\\r\\n77516,0\\r\\n9406,0\\r\\n36595,0\\r\\n7177,0\\r\\n47731,0\\r\\n70802,0\\r\\n68697,0\\r\\n3568,0\\r\\n31557,0\\r\\n53910,0\\r\\n75120,0\\r\\n67576,0\\r\\n50187,0\\r\\n12374,0\\r\\n27609,0\\r\\n19697,0\\r\\n38533,0\\r\\n2106,0\\r\\n25660,0\\r\\n38869,0\\r\\n23606,1\\r\\n7381,0\\r\\n12779,0\\r\\n1512,0\\r\\n21435,0\\r\\n5754,0\\r\\n9580,0\\r\\n32662,0\\r\\n58808,0\\r\\n28358,0\\r\\n71774,0\\r\\n70157,0\\r\\n63998,0\\r\\n50005,0\\r\\n52453,0\\r\\n36112,0\\r\\n7063,0\\r\\n44795,0\\r\\n24182,0\\r\\n24340,0\\r\\n64751,0\\r\\n34141,0\\r\\n36476,0\\r\\n23697,0\\r\\n56497,0\\r\\n19410,0\\r\\n48541,0\\r\\n44374,0\\r\\n76935,0\\r\\n24719,0\\r\\n3785,0\\r\\n20311,0\\r\\n23086,0\\r\\n43623,0\\r\\n35154,0\\r\\n14547,0\\r\\n20206,0\\r\\n60991,0\\r\\n63646,0\\r\\n53042,0\\r\\n1332,0\\r\\n66957,0\\r\\n14086,0\\r\\n65105,0\\r\\n68369,0\\r\\n2043,0\\r\\n15196,0\\r\\n50898,0\\r\\n73302,0\\r\\n55485,0\\r\\n29602,0\\r\\n16677,0\\r\\n34579,0\\r\\n53053,0\\r\\n77642,0\\r\\n41786,0\\r\\n29491,0\\r\\n48618,0\\r\\n58843,0\\r\\n71462,0\\r\\n34602,0\\r\\n53209,0\\r\\n3531,0\\r\\n33524,0\\r\\n2378,0\\r\\n12865,0\\r\\n69078,0\\r\\n44492,0\\r\\n64311,0\\r\\n54440,0\\r\\n20332,0\\r\\n6508,0\\r\\n48215,0\\r\\n60345,0\\r\\n9949,0\\r\\n4003,0\\r\\n22000,0\\r\\n34680,1\\r\\n66408,0\\r\\n26824,0\\r\\n74404,0\\r\\n873,0\\r\\n59432,0\\r\\n46273,0\\r\\n52892,0\\r\\n31458,0\\r\\n27682,0\\r\\n836,0\\r\\n77308,0\\r\\n28928,0\\r\\n69502,0\\r\\n41790,0\\r\\n23696,0\\r\\n39919,0\\r\\n22022,0\\r\\n54031,0\\r\\n52173,0\\r\\n13353,0\\r\\n61395,0\\r\\n57395,0\\r\\n38531,0\\r\\n56161,0\\r\\n34795,0\\r\\n38727,0\\r\\n62313,0\\r\\n53951,0\\r\\n19908,0\\r\\n19397,0\\r\\n61111,0\\r\\n60547,0\\r\\n60633,0\\r\\n29842,0\\r\\n44166,0\\r\\n70873,0\\r\\n22930,0\\r\\n65473,0\\r\\n54575,0\\r\\n63190,0\\r\\n28004,0\\r\\n24460,0\\r\\n1895,0\\r\\n72531,0\\r\\n69813,0\\r\\n56341,0\\r\\n55368,0\\r\\n47797,0\\r\\n15120,0\\r\\n65308,0\\r\\n66119,0\\r\\n42670,0\\r\\n32784,0\\r\\n9404,0\\r\\n40311,0\\r\\n6056,0\\r\\n21830,0\\r\\n58381,0\\r\\n8462,0\\r\\n45162,0\\r\\n56803,0\\r\\n19357,0\\r\\n22536,0\\r\\n26476,0\\r\\n62902,0\\r\\n46112,0\\r\\n2919,0\\r\\n63979,0\\r\\n64151,0\\r\\n55733,0\\r\\n9588,0\\r\\n72985,0\\r\\n25298,0\\r\\n69204,0\\r\\n70852,0\\r\\n11509,0\\r\\n17234,0\\r\\n72722,0\\r\\n70924,0\\r\\n70931,0\\r\\n64203,0\\r\\n51588,0\\r\\n36001,0\\r\\n48767,0\\r\\n21504,0\\r\\n71223,0\\r\\n36891,0\\r\\n51184,0\\r\\n44428,0\\r\\n9782,0\\r\\n31336,0\\r\\n38112,0\\r\\n74316,0\\r\\n58902,0\\r\\n9180,0\\r\\n30499,0\\r\\n22367,1\\r\\n48244,0\\r\\n69699,0\\r\\n31278,0\\r\\n30262,0\\r\\n52183,0\\r\\n987,0\\r\\n52811,0\\r\\n38122,0\\r\\n65374,0\\r\\n62334,0\\r\\n30289,0\\r\\n58827,0\\r\\n8939,0\\r\\n54889,0\\r\\n30786,0\\r\\n72260,0\\r\\n57021,0\\r\\n9026,0\\r\\n23381,0\\r\\n11101,0\\r\\n16867,0\\r\\n11004,0\\r\\n55640,0\\r\\n74866,0\\r\\n950,0\\r\\n17081,0\\r\\n37802,0\\r\\n32056,0\\r\\n47848,0\\r\\n7230,0\\r\\n69738,0\\r\\n74578,0\\r\\n76773,0\\r\\n19637,0\\r\\n30467,0\\r\\n38762,0\\r\\n60303,0\\r\\n73313,0\\r\\n17242,0\\r\\n39037,0\\r\\n58971,0\\r\\n65775,0\\r\\n44658,0\\r\\n36353,0\\r\\n9741,0\\r\\n5474,0\\r\\n13393,0\\r\\n31514,0\\r\\n4886,0\\r\\n52842,0\\r\\n44843,0\\r\\n61692,1\\r\\n10245,0\\r\\n21965,0\\r\\n70537,0\\r\\n64780,0\\r\\n16641,0\\r\\n49838,0\\r\\n10667,0\\r\\n8453,0\\r\\n31417,0\\r\\n44530,0\\r\\n63159,0\\r\\n3614,0\\r\\n21448,0\\r\\n27542,0\\r\\n77591,0\\r\\n46674,0\\r\\n60517,0\\r\\n41121,0\\r\\n22713,0\\r\\n10074,0\\r\\n12679,0\\r\\n63609,0\\r\\n64558,0\\r\\n103,0\\r\\n2631,0\\r\\n61734,0\\r\\n44643,0\\r\\n72237,0\\r\\n68351,1\\r\\n23902,0\\r\\n48097,0\\r\\n26087,0\\r\\n22763,0\\r\\n57089,0\\r\\n7431,0\\r\\n44909,0\\r\\n5116,0\\r\\n39154,0\\r\\n57127,0\\r\\n32441,0\\r\\n32640,0\\r\\n64766,0\\r\\n77950,0\\r\\n33461,0\\r\\n33184,0\\r\\n31038,0\\r\\n70779,0\\r\\n2861,0\\r\\n51085,0\\r\\n26362,0\\r\\n43965,0\\r\\n10480,0\\r\\n38542,0\\r\\n21554,0\\r\\n23870,0\\r\\n45642,0\\r\\n13863,0\\r\\n61188,0\\r\\n21958,0\\r\\n25698,0\\r\\n47597,0\\r\\n52592,0\\r\\n72209,0\\r\\n18817,0\\r\\n20530,0\\r\\n40294,0\\r\\n11727,0\\r\\n64251,0\\r\\n10892,0\\r\\n8690,0\\r\\n57879,0\\r\\n39456,0\\r\\n10608,1\\r\\n68126,0\\r\\n12139,0\\r\\n23595,0\\r\\n25714,0\\r\\n41451,0\\r\\n74242,0\\r\\n32326,0\\r\\n26064,0\\r\\n49832,1\\r\\n5208,0\\r\\n63488,0\\r\\n33856,0\\r\\n72399,0\\r\\n8527,0\\r\\n47938,0\\r\\n54130,0\\r\\n49435,0\\r\\n30616,0\\r\\n73345,0\\r\\n57174,0\\r\\n73931,0\\r\\n67940,0\\r\\n19466,0\\r\\n76804,0\\r\\n23789,0\\r\\n14983,0\\r\\n44613,0\\r\\n13019,0\\r\\n54688,0\\r\\n63428,0\\r\\n27906,0\\r\\n25909,0\\r\\n71607,0\\r\\n10830,0\\r\\n47729,0\\r\\n33533,0\\r\\n2781,0\\r\\n5356,0\\r\\n60809,0\\r\\n54197,0\\r\\n55641,0\\r\\n43863,0\\r\\n44465,0\\r\\n29117,0\\r\\n48621,0\\r\\n40025,0\\r\\n64132,0\\r\\n29049,0\\r\\n26591,0\\r\\n12335,0\\r\\n26754,0\\r\\n40730,0\\r\\n30281,0\\r\\n51459,0\\r\\n2139,0\\r\\n24787,0\\r\\n75102,0\\r\\n38748,1\\r\\n10814,0\\r\\n18716,0\\r\\n74804,0\\r\\n65153,0\\r\\n60476,0\\r\\n72431,0\\r\\n55025,0\\r\\n60540,0\\r\\n23236,0\\r\\n10030,0\\r\\n19621,0\\r\\n14236,0\\r\\n72261,0\\r\\n28093,0\\r\\n39927,0\\r\\n66780,0\\r\\n9787,0\\r\\n27762,0\\r\\n45659,0\\r\\n6147,0\\r\\n34534,0\\r\\n13790,0\\r\\n67807,0\\r\\n74831,0\\r\\n60073,0\\r\\n70871,0\\r\\n45348,0\\r\\n8967,0\\r\\n41046,0\\r\\n52038,0\\r\\n16904,0\\r\\n18089,0\\r\\n47891,0\\r\\n11420,0\\r\\n5984,0\\r\\n69640,0\\r\\n25670,0\\r\\n37290,0\\r\\n27396,0\\r\\n38550,0\\r\\n61612,0\\r\\n71182,0\\r\\n70402,0\\r\\n41887,0\\r\\n61907,0\\r\\n8058,0\\r\\n23600,0\\r\\n46994,0\\r\\n46786,0\\r\\n38891,0\\r\\n52723,0\\r\\n4228,0\\r\\n23462,0\\r\\n39455,0\\r\\n11652,0\\r\\n59288,0\\r\\n18877,0\\r\\n35857,0\\r\\n69626,0\\r\\n63821,0\\r\\n6397,0\\r\\n23961,0\\r\\n76170,0\\r\\n20581,0\\r\\n69650,0\\r\\n62758,0\\r\\n32637,0\\r\\n10968,0\\r\\n47488,0\\r\\n27674,1\\r\\n1494,0\\r\\n71617,0\\r\\n19469,0\\r\\n64923,0\\r\\n65420,0\\r\\n58733,0\\r\\n49210,0\\r\\n36560,0\\r\\n47952,0\\r\\n55282,0\\r\\n8533,0\\r\\n30595,0\\r\\n45037,0\\r\\n2000,0\\r\\n59096,0\\r\\n22283,0\\r\\n53422,0\\r\\n73422,0\\r\\n5905,0\\r\\n51935,0\\r\\n16925,0\\r\\n41804,0\\r\\n67725,0\\r\\n32425,0\\r\\n74468,0\\r\\n67434,0\\r\\n32630,0\\r\\n24462,0\\r\\n69995,0\\r\\n60945,0\\r\\n44608,0\\r\\n61914,0\\r\\n68019,0\\r\\n14854,0\\r\\n15757,0\\r\\n70857,0\\r\\n38130,0\\r\\n37663,0\\r\\n19271,0\\r\\n51162,0\\r\\n51530,0\\r\\n11922,1\\r\\n52034,0\\r\\n13550,1\\r\\n37954,0\\r\\n19294,0\\r\\n8325,0\\r\\n69524,0\\r\\n30805,0\\r\\n12022,0\\r\\n38479,0\\r\\n33477,0\\r\\n7627,0\\r\\n56178,0\\r\\n951,0\\r\\n13467,0\\r\\n77254,0\\r\\n66905,0\\r\\n77244,0\\r\\n28465,0\\r\\n39477,0\\r\\n29293,0\\r\\n27329,0\\r\\n76177,0\\r\\n77843,0\\r\\n46625,0\\r\\n14759,0\\r\\n21732,0\\r\\n4263,0\\r\\n51087,0\\r\\n24159,0\\r\\n36901,0\\r\\n11859,0\\r\\n38061,0\\r\\n55614,0\\r\\n40610,0\\r\\n41198,0\\r\\n30771,0\\r\\n24859,0\\r\\n50253,0\\r\\n27487,0\\r\\n25702,0\\r\\n52387,0\\r\\n49889,0\\r\\n65720,0\\r\\n78256,0\\r\\n71219,0\\r\\n35250,0\\r\\n19371,0\\r\\n53802,0\\r\\n45868,0\\r\\n30711,0\\r\\n1463,0\\r\\n45707,0\\r\\n1182,0\\r\\n67123,0\\r\\n35310,0\\r\\n40357,0\\r\\n7559,0\\r\\n7707,0\\r\\n57199,0\\r\\n75608,0\\r\\n11752,0\\r\\n27000,0\\r\\n3920,0\\r\\n77652,0\\r\\n14570,0\\r\\n63114,0\\r\\n71727,0\\r\\n51388,0\\r\\n35101,0\\r\\n74261,0\\r\\n43444,0\\r\\n36513,0\\r\\n59867,0\\r\\n1172,0\\r\\n19789,0\\r\\n69795,0\\r\\n40245,1\\r\\n70066,0\\r\\n33168,0\\r\\n52746,0\\r\\n18920,0\\r\\n42999,0\\r\\n18132,0\\r\\n23520,0\\r\\n33556,0\\r\\n25522,0\\r\\n65535,0\\r\\n74565,0\\r\\n73683,0\\r\\n70483,0\\r\\n48808,0\\r\\n53746,0\\r\\n27256,0\\r\\n7841,0\\r\\n49551,0\\r\\n77446,0\\r\\n69475,0\\r\\n23652,0\\r\\n22965,0\\r\\n16791,0\\r\\n58953,0\\r\\n58086,0\\r\\n13423,0\\r\\n35851,0\\r\\n23218,0\\r\\n67870,0\\r\\n35544,0\\r\\n75698,0\\r\\n2962,0\\r\\n27955,0\\r\\n8225,0\\r\\n4908,0\\r\\n3839,0\\r\\n64869,0\\r\\n66912,0\\r\\n16628,0\\r\\n33669,0\\r\\n14485,0\\r\\n1639,0\\r\\n45618,0\\r\\n32752,0\\r\\n24321,0\\r\\n25447,0\\r\\n68283,0\\r\\n41338,0\\r\\n11825,1\\r\\n56395,1\\r\\n1660,0\\r\\n5121,0\\r\\n21900,0\\r\\n53269,0\\r\\n43939,0\\r\\n19381,0\\r\\n2426,0\\r\\n47161,0\\r\\n3932,0\\r\\n44160,0\\r\\n70442,0\\r\\n75798,0\\r\\n25696,0\\r\\n14790,0\\r\\n46492,0\\r\\n2587,0\\r\\n8149,0\\r\\n61145,0\\r\\n12245,0\\r\\n73387,0\\r\\n57215,0\\r\\n48833,0\\r\\n50639,0\\r\\n12393,1\\r\\n19802,0\\r\\n38507,0\\r\\n28087,0\\r\\n39285,0\\r\\n43661,0\\r\\n46738,0\\r\\n49002,0\\r\\n18061,0\\r\\n72468,0\\r\\n75438,0\\r\\n28392,0\\r\\n18105,0\\r\\n7057,0\\r\\n51868,0\\r\\n60249,0\\r\\n22704,0\\r\\n5411,0\\r\\n21518,0\\r\\n3423,0\\r\\n65918,0\\r\\n77211,0\\r\\n14541,0\\r\\n3209,0\\r\\n666,0\\r\\n2903,0\\r\\n42931,0\\r\\n63540,0\\r\\n15901,0\\r\\n29050,0\\r\\n4066,0\\r\\n14700,0\\r\\n49425,0\\r\\n74361,0\\r\\n12643,0\\r\\n24036,0\\r\\n18733,0\\r\\n58637,0\\r\\n14885,0\\r\\n31358,0\\r\\n15597,1\\r\\n39377,0\\r\\n13011,0\\r\\n47006,0\\r\\n58013,0\\r\\n60767,0\\r\\n76078,0\\r\\n61875,0\\r\\n73785,0\\r\\n53557,0\\r\\n41464,0\\r\\n74781,0\\r\\n4341,0\\r\\n69458,0\\r\\n66723,0\\r\\n18780,0\\r\\n34223,0\\r\\n16692,0\\r\\n74443,0\\r\\n16489,0\\r\\n41727,0\\r\\n1498,0\\r\\n60379,0\\r\\n2422,0\\r\\n37171,0\\r\\n31454,0\\r\\n48453,0\\r\\n28780,0\\r\\n9369,0\\r\\n7297,0\\r\\n10764,0\\r\\n22083,0\\r\\n67644,0\\r\\n66290,0\\r\\n20064,0\\r\\n49922,0\\r\\n46745,0\\r\\n69042,0\\r\\n54612,0\\r\\n58154,0\\r\\n20738,0\\r\\n36987,0\\r\\n30822,0\\r\\n54178,0\\r\\n39752,0\\r\\n66279,0\\r\\n29194,0\\r\\n76308,0\\r\\n26725,0\\r\\n19016,0\\r\\n33974,0\\r\\n43825,0\\r\\n13175,0\\r\\n54176,0\\r\\n16504,0\\r\\n72198,0\\r\\n47937,0\\r\\n25008,0\\r\\n23382,0\\r\\n2514,1\\r\\n25009,0\\r\\n8645,0\\r\\n29566,1\\r\\n38809,0\\r\\n25757,0\\r\\n2798,0\\r\\n73153,0\\r\\n78205,0\\r\\n35554,0\\r\\n30449,0\\r\\n71471,0\\r\\n23376,0\\r\\n22476,0\\r\\n24944,0\\r\\n60671,0\\r\\n69599,0\\r\\n3021,0\\r\\n37475,0\\r\\n65965,0\\r\\n13357,0\\r\\n47125,0\\r\\n32176,0\\r\\n43267,0\\r\\n61990,0\\r\\n37556,0\\r\\n23220,0\\r\\n45849,0\\r\\n32646,0\\r\\n39080,0\\r\\n76790,0\\r\\n46987,0\\r\\n45813,0\\r\\n56620,0\\r\\n56779,0\\r\\n77157,0\\r\\n77737,0\\r\\n72140,0\\r\\n49693,0\\r\\n68426,0\\r\\n50636,0\\r\\n52470,0\\r\\n42465,0\\r\\n45122,0\\r\\n59507,0\\r\\n32765,0\\r\\n21726,0\\r\\n49684,0\\r\\n20062,1\\r\\n59190,0\\r\\n3784,0\\r\\n77462,0\\r\\n2803,0\\r\\n31403,0\\r\\n19594,0\\r\\n11121,0\\r\\n3758,0\\r\\n44639,0\\r\\n32462,0\\r\\n27899,0\\r\\n575,0\\r\\n29946,0\\r\\n35923,0\\r\\n430,0\\r\\n33164,0\\r\\n64079,0\\r\\n36631,0\\r\\n34316,0\\r\\n50929,0\\r\\n1302,0\\r\\n49963,1\\r\\n19268,0\\r\\n17421,0\\r\\n51565,0\\r\\n2757,0\\r\\n2604,0\\r\\n852,0\\r\\n3151,0\\r\\n55227,0\\r\\n66807,0\\r\\n7039,0\\r\\n64971,0\\r\\n22556,0\\r\\n22079,0\\r\\n64302,0\\r\\n59472,0\\r\\n43373,0\\r\\n61568,0\\r\\n19506,0\\r\\n17156,0\\r\\n28174,0\\r\\n13590,0\\r\\n58533,0\\r\\n7853,0\\r\\n52379,0\\r\\n19846,0\\r\\n55684,0\\r\\n48548,0\\r\\n76136,0\\r\\n48937,0\\r\\n74305,0\\r\\n67557,0\\r\\n26715,0\\r\\n20953,0\\r\\n36756,0\\r\\n52475,0\\r\\n17108,0\\r\\n67408,0\\r\\n51652,0\\r\\n31132,0\\r\\n55256,0\\r\\n52937,0\\r\\n26687,0\\r\\n57320,0\\r\\n44134,0\\r\\n17330,0\\r\\n56260,0\\r\\n20477,0\\r\\n21000,0\\r\\n48283,0\\r\\n29832,0\\r\\n68501,0\\r\\n45973,0\\r\\n77054,0\\r\\n72011,0\\r\\n21089,0\\r\\n57045,0\\r\\n75790,0\\r\\n67612,0\\r\\n29445,0\\r\\n37653,0\\r\\n69863,0\\r\\n63687,0\\r\\n38247,0\\r\\n21950,0\\r\\n9788,0\\r\\n44255,1\\r\\n2593,0\\r\\n19005,0\\r\\n12281,0\\r\\n14712,0\\r\\n33246,0\\r\\n25532,0\\r\\n18595,0\\r\\n19828,0\\r\\n18067,0\\r\\n21879,0\\r\\n63094,0\\r\\n29403,0\\r\\n22480,0\\r\\n76649,0\\r\\n72681,0\\r\\n16625,0\\r\\n40992,0\\r\\n48585,1\\r\\n41347,0\\r\\n20380,0\\r\\n38605,0\\r\\n34262,0\\r\\n63507,0\\r\\n60160,0\\r\\n23192,0\\r\\n67668,0\\r\\n30200,0\\r\\n11071,0\\r\\n65224,0\\r\\n8303,0\\r\\n24020,0\\r\\n48356,0\\r\\n5250,0\\r\\n75982,0\\r\\n60525,0\\r\\n12948,0\\r\\n73886,0\\r\\n46455,0\\r\\n14656,0\\r\\n12666,0\\r\\n71375,0\\r\\n8796,0\\r\\n15198,0\\r\\n36028,0\\r\\n65606,0\\r\\n76488,0\\r\\n43518,0\\r\\n46006,0\\r\\n561,0\\r\\n61312,0\\r\\n4101,0\\r\\n7395,1\\r\\n72173,0\\r\\n39342,0\\r\\n14796,0\\r\\n70118,0\\r\\n35852,0\\r\\n33169,0\\r\\n41587,0\\r\\n67743,0\\r\\n47032,0\\r\\n55191,0\\r\\n73363,0\\r\\n68814,0\\r\\n63954,0\\r\\n3327,0\\r\\n62117,0\\r\\n64284,0\\r\\n7387,0\\r\\n36049,0\\r\\n19211,0\\r\\n75897,0\\r\\n8156,0\\r\\n36193,0\\r\\n43375,0\\r\\n16485,0\\r\\n3564,0\\r\\n47661,0\\r\\n54894,0\\r\\n70253,0\\r\\n52874,0\\r\\n57622,0\\r\\n49629,0\\r\\n24407,0\\r\\n20580,0\\r\\n2652,0\\r\\n11321,0\\r\\n11984,0\\r\\n22774,1\\r\\n63277,0\\r\\n14249,0\\r\\n53203,0\\r\\n52970,0\\r\\n23975,0\\r\\n77999,0\\r\\n2179,0\\r\\n14384,1\\r\\n364,0\\r\\n68941,0\\r\\n11873,0\\r\\n37516,0\\r\\n4473,0\\r\\n12403,0\\r\\n39168,1\\r\\n76542,0\\r\\n21620,1\\r\\n37487,0\\r\\n5498,0\\r\\n14876,0\\r\\n62219,0\\r\\n16558,0\\r\\n10775,0\\r\\n23367,0\\r\\n74286,0\\r\\n17373,0\\r\\n67035,0\\r\\n75301,0\\r\\n34213,0\\r\\n54860,0\\r\\n47579,0\\r\\n58028,0\\r\\n21826,0\\r\\n62170,0\\r\\n29560,0\\r\\n36439,0\\r\\n52553,0\\r\\n45119,0\\r\\n50347,0\\r\\n58171,0\\r\\n21992,0\\r\\n69062,0\\r\\n47385,0\\r\\n2009,0\\r\\n60996,0\\r\\n56856,0\\r\\n37841,0\\r\\n14829,0\\r\\n17100,0\\r\\n24051,0\\r\\n32496,0\\r\\n2206,0\\r\\n33481,0\\r\\n41102,0\\r\\n39416,0\\r\\n40230,1\\r\\n63871,0\\r\\n4702,0\\r\\n15998,0\\r\\n11334,0\\r\\n16831,0\\r\\n10340,0\\r\\n78249,0\\r\\n39221,0\\r\\n5776,0\\r\\n65740,0\\r\\n13269,0\\r\\n18139,0\\r\\n21987,0\\r\\n29909,0\\r\\n42921,0\\r\\n42385,0\\r\\n52459,0\\r\\n13299,0\\r\\n40629,0\\r\\n13563,0\\r\\n74030,0\\r\\n70834,0\\r\\n22141,0\\r\\n9400,0\\r\\n18017,0\\r\\n63047,0\\r\\n46682,0\\r\\n72131,0\\r\\n64696,0\\r\\n66064,0\\r\\n30967,0\\r\\n70078,0\\r\\n35277,0\\r\\n35290,0\\r\\n15482,0\\r\\n49106,0\\r\\n48470,0\\r\\n24583,0\\r\\n76405,0\\r\\n41253,0\\r\\n49792,0\\r\\n1245,0\\r\\n55509,0\\r\\n44306,0\\r\\n33658,0\\r\\n226,0\\r\\n71377,0\\r\\n52134,1\\r\\n41608,0\\r\\n34563,0\\r\\n73356,0\\r\\n16262,0\\r\\n22612,0\\r\\n71657,0\\r\\n61887,0\\r\\n42841,0\\r\\n19129,0\\r\\n35360,0\\r\\n28837,0\\r\\n20989,0\\r\\n28012,0\\r\\n39778,0\\r\\n59214,0\\r\\n50511,0\\r\\n15821,0\\r\\n58206,0\\r\\n38378,0\\r\\n53586,0\\r\\n67486,0\\r\\n77666,0\\r\\n21962,0\\r\\n48516,0\\r\\n58367,0\\r\\n41137,0\\r\\n77994,0\\r\\n46297,0\\r\\n52434,0\\r\\n32082,0\\r\\n2450,0\\r\\n48855,0\\r\\n26951,0\\r\\n64342,1\\r\\n30316,0\\r\\n72192,0\\r\\n13091,0\\r\\n48818,0\\r\\n67266,0\\r\\n36542,0\\r\\n45266,0\\r\\n11217,0\\r\\n16952,0\\r\\n38261,0\\r\\n47260,0\\r\\n45486,0\\r\\n14468,0\\r\\n12025,0\\r\\n13718,0\\r\\n25758,0\\r\\n63997,0\\r\\n47381,0\\r\\n29783,0\\r\\n72161,0\\r\\n18978,0\\r\\n45160,0\\r\\n48569,0\\r\\n47104,0\\r\\n724,0\\r\\n75465,0\\r\\n19988,0\\r\\n71148,0\\r\\n68402,0\\r\\n62521,0\\r\\n57289,0\\r\\n61594,0\\r\\n21344,1\\r\\n26268,0\\r\\n47727,0\\r\\n53297,0\\r\\n56921,0\\r\\n56324,0\\r\\n5385,0\\r\\n57062,0\\r\\n28932,0\\r\\n9329,0\\r\\n50158,0\\r\\n72873,0\\r\\n25711,0\\r\\n54971,0\\r\\n52949,0\\r\\n4510,0\\r\\n40228,0\\r\\n68584,0\\r\\n36635,0\\r\\n43815,0\\r\\n45146,0\\r\\n68421,0\\r\\n67344,0\\r\\n59970,0\\r\\n7465,0\\r\\n5771,0\\r\\n70349,0\\r\\n51004,0\\r\\n6963,0\\r\\n23764,0\\r\\n32487,0\\r\\n33324,0\\r\\n18819,0\\r\\n622,0\\r\\n21325,0\\r\\n15171,0\\r\\n40454,0\\r\\n72292,0\\r\\n34742,0\\r\\n72143,0\\r\\n13564,0\\r\\n60216,0\\r\\n55579,0\\r\\n11723,0\\r\\n25280,0\\r\\n26598,0\\r\\n54008,0\\r\\n29766,0\\r\\n44335,0\\r\\n75688,0\\r\\n53523,0\\r\\n68315,0\\r\\n78154,0\\r\\n60421,0\\r\\n68706,0\\r\\n26581,0\\r\\n1727,0\\r\\n22046,0\\r\\n57486,0\\r\\n39313,0\\r\\n37152,0\\r\\n78078,0\\r\\n41717,0\\r\\n36896,0\\r\\n54892,0\\r\\n34702,0\\r\\n56621,0\\r\\n31356,0\\r\\n30637,0\\r\\n31446,0\\r\\n62984,0\\r\\n35575,1\\r\\n829,0\\r\\n26092,0\\r\\n76914,0\\r\\n5687,0\\r\\n9747,0\\r\\n37311,0\\r\\n7515,0\\r\\n27979,0\\r\\n27024,0\\r\\n24596,0\\r\\n12001,0\\r\\n66394,0\\r\\n64608,0\\r\\n40784,1\\r\\n21709,0\\r\\n22411,0\\r\\n58133,0\\r\\n77384,0\\r\\n64646,0\\r\\n72956,0\\r\\n30416,0\\r\\n13119,0\\r\\n1345,0\\r\\n6335,0\\r\\n20405,0\\r\\n60759,0\\r\\n33216,0\\r\\n15780,1\\r\\n20042,0\\r\\n29105,0\\r\\n48606,0\\r\\n4454,0\\r\\n66021,1\\r\\n19560,0\\r\\n53012,0\\r\\n69659,0\\r\\n62054,0\\r\\n4792,0\\r\\n58659,0\\r\\n46792,0\\r\\n75652,0\\r\\n54375,0\\r\\n59023,0\\r\\n16842,0\\r\\n6381,0\\r\\n57513,0\\r\\n74505,0\\r\\n10356,0\\r\\n40153,0\\r\\n68277,0\\r\\n55262,0\\r\\n77223,0\\r\\n7288,0\\r\\n27184,0\\r\\n68058,0\\r\\n3850,0\\r\\n50314,0\\r\\n21088,0\\r\\n5292,0\\r\\n5681,0\\r\\n68949,0\\r\\n31207,0\\r\\n78158,0\\r\\n49705,0\\r\\n73257,0\\r\\n77584,0\\r\\n16205,0\\r\\n33565,0\\r\\n35411,0\\r\\n33571,0\\r\\n25705,0\\r\\n3361,0\\r\\n31616,0\\r\\n57549,0\\r\\n36607,0\\r\\n50444,0\\r\\n77320,0\\r\\n20164,0\\r\\n14161,0\\r\\n1833,0\\r\\n66396,0\\r\\n14108,0\\r\\n25628,0\\r\\n75013,0\\r\\n42903,0\\r\\n41797,0\\r\\n15631,0\\r\\n9383,0\\r\\n67300,0\\r\\n72749,0\\r\\n52020,0\\r\\n37307,0\\r\\n63835,0\\r\\n65904,0\\r\\n39766,0\\r\\n49763,0\\r\\n2470,0\\r\\n33179,0\\r\\n4241,0\\r\\n45746,0\\r\\n58362,0\\r\\n56096,1\\r\\n2280,0\\r\\n7700,0\\r\\n61183,0\\r\\n70049,0\\r\\n31098,0\\r\\n14504,0\\r\\n40426,0\\r\\n60605,0\\r\\n29556,0\\r\\n76766,0\\r\\n47211,0\\r\\n65418,0\\r\\n78196,0\\r\\n3904,0\\r\\n31204,0\\r\\n40935,0\\r\\n40363,0\\r\\n28036,0\\r\\n7322,0\\r\\n6290,0\\r\\n62455,0\\r\\n31526,0\\r\\n35239,0\\r\\n52757,0\\r\\n56228,0\\r\\n5326,0\\r\\n54951,0\\r\\n43172,1\\r\\n24108,0\\r\\n62463,0\\r\\n17807,0\\r\\n38516,0\\r\\n31006,0\\r\\n8364,0\\r\\n33784,0\\r\\n76677,0\\r\\n49321,0\\r\\n32266,0\\r\\n74244,0\\r\\n7953,0\\r\\n15097,0\\r\\n54590,0\\r\\n57533,0\\r\\n41960,0\\r\\n19743,0\\r\\n51192,0\\r\\n13673,0\\r\\n12024,0\\r\\n43143,0\\r\\n38695,0\\r\\n75954,0\\r\\n32477,0\\r\\n39249,0\\r\\n52035,0\\r\\n27726,1\\r\\n12704,0\\r\\n44666,0\\r\\n62732,0\\r\\n62684,0\\r\\n65805,0\\r\\n71918,0\\r\\n51810,1\\r\\n62706,0\\r\\n61555,0\\r\\n50460,0\\r\\n8125,0\\r\\n6800,0\\r\\n48161,0\\r\\n37877,0\\r\\n40358,0\\r\\n72911,0\\r\\n40009,0\\r\\n10878,0\\r\\n10691,0\\r\\n75512,0\\r\\n59895,0\\r\\n2549,0\\r\\n44660,0\\r\\n42987,0\\r\\n5505,0\\r\\n75850,0\\r\\n19039,0\\r\\n1672,0\\r\\n46949,0\\r\\n52422,0\\r\\n71954,1\\r\\n19163,0\\r\\n7751,0\\r\\n72145,0\\r\\n18935,0\\r\\n69719,0\\r\\n5401,0\\r\\n15007,0\\r\\n44962,0\\r\\n27932,0\\r\\n31780,1\\r\\n10522,0\\r\\n69460,0\\r\\n862,0\\r\\n35234,0\\r\\n54824,0\\r\\n57935,0\\r\\n47072,0\\r\\n64670,0\\r\\n57056,0\\r\\n22107,0\\r\\n29620,0\\r\\n27875,0\\r\\n26315,0\\r\\n411,0\\r\\n1434,0\\r\\n16082,0\\r\\n10407,0\\r\\n68005,0\\r\\n34736,0\\r\\n10600,0\\r\\n13921,0\\r\\n65289,0\\r\\n29921,0\\r\\n74882,0\\r\\n77277,0\\r\\n52318,0\\r\\n29586,0\\r\\n7240,0\\r\\n67498,0\\r\\n24915,0\\r\\n25054,0\\r\\n26245,0\\r\\n55756,0\\r\\n43996,0\\r\\n46537,0\\r\\n14858,0\\r\\n16390,0\\r\\n38038,0\\r\\n14927,0\\r\\n34762,0\\r\\n37859,0\\r\\n28562,0\\r\\n24614,0\\r\\n59727,1\\r\\n16797,0\\r\\n38546,0\\r\\n42791,0\\r\\n183,0\\r\\n7705,0\\r\\n16527,0\\r\\n49420,0\\r\\n18914,0\\r\\n30547,0\\r\\n5508,0\\r\\n68605,0\\r\\n32955,0\\r\\n28839,0\\r\\n72320,0\\r\\n26666,0\\r\\n44230,0\\r\\n25589,0\\r\\n70530,0\\r\\n48230,0\\r\\n43572,0\\r\\n60413,0\\r\\n70183,0\\r\\n64664,0\\r\\n1967,0\\r\\n72185,0\\r\\n2630,0\\r\\n40421,0\\r\\n27269,0\\r\\n24378,0\\r\\n33283,0\\r\\n19350,0\\r\\n45519,0\\r\\n33376,0\\r\\n27614,0\\r\\n53247,0\\r\\n11606,0\\r\\n23200,0\\r\\n13684,0\\r\\n22857,0\\r\\n25448,0\\r\\n7347,0\\r\\n73357,0\\r\\n63828,0\\r\\n77084,0\\r\\n37148,0\\r\\n3889,0\\r\\n2282,0\\r\\n43468,0\\r\\n31355,0\\r\\n48629,0\\r\\n23747,0\\r\\n23894,0\\r\\n45828,0\\r\\n12235,0\\r\\n36213,0\\r\\n27017,0\\r\\n28859,0\\r\\n27920,0\\r\\n32040,0\\r\\n23410,0\\r\\n56538,0\\r\\n32180,0\\r\\n71521,0\\r\\n30785,0\\r\\n51490,0\\r\\n6657,0\\r\\n1678,0\\r\\n48322,0\\r\\n41158,0\\r\\n11529,0\\r\\n18502,0\\r\\n15154,0\\r\\n32608,0\\r\\n73977,0\\r\\n65052,0\\r\\n12646,0\\r\\n61667,0\\r\\n36678,0\\r\\n72202,0\\r\\n50285,0\\r\\n38406,0\\r\\n51666,0\\r\\n21634,0\\r\\n7785,1\\r\\n3604,0\\r\\n51373,0\\r\\n34481,0\\r\\n76454,0\\r\\n55937,0\\r\\n16409,1\\r\\n49273,0\\r\\n37497,0\\r\\n42451,0\\r\\n77105,0\\r\\n22661,0\\r\\n11027,1\\r\\n28177,0\\r\\n20771,0\\r\\n50964,0\\r\\n54858,0\\r\\n47331,0\\r\\n45959,0\\r\\n17708,0\\r\\n47287,0\\r\\n512,0\\r\\n48932,1\\r\\n28075,0\\r\\n34259,0\\r\\n42971,0\\r\\n39386,0\\r\\n45022,0\\r\\n18807,0\\r\\n30839,0\\r\\n23435,0\\r\\n23785,0\\r\\n57147,0\\r\\n18796,0\\r\\n38157,0\\r\\n22162,0\\r\\n64906,0\\r\\n28277,0\\r\\n26890,0\\r\\n17526,0\\r\\n32228,0\\r\\n45616,0\\r\\n3406,0\\r\\n28007,0\\r\\n45401,0\\r\\n64376,0\\r\\n10979,0\\r\\n38432,0\\r\\n70525,0\\r\\n21399,0\\r\\n39593,0\\r\\n28253,0\\r\\n26567,0\\r\\n60335,0\\r\\n57396,0\\r\\n9822,0\\r\\n9208,0\\r\\n38458,0\\r\\n34729,0\\r\\n75045,1\\r\\n60625,0\\r\\n11702,0\\r\\n55979,0\\r\\n75196,0\\r\\n37880,0\\r\\n58786,0\\r\\n75287,0\\r\\n31679,0\\r\\n15303,0\\r\\n45414,0\\r\\n56719,0\\r\\n22331,0\\r\\n66584,0\\r\\n54939,0\\r\\n22679,0\\r\\n73909,0\\r\\n19106,0\\r\\n21610,0\\r\\n54628,0\\r\\n15510,0\\r\\n60038,0\\r\\n9133,0\\r\\n73049,0\\r\\n74299,0\\r\\n72772,0\\r\\n6532,0\\r\\n36966,0\\r\\n18668,0\\r\\n63523,0\\r\\n74245,0\\r\\n18904,0\\r\\n53214,0\\r\\n15787,0\\r\\n26086,0\\r\\n21574,0\\r\\n9526,0\\r\\n46361,0\\r\\n50967,0\\r\\n23281,0\\r\\n71084,0\\r\\n23734,0\\r\\n18832,0\\r\\n28453,0\\r\\n34598,0\\r\\n40714,0\\r\\n14492,0\\r\\n16837,0\\r\\n61061,0\\r\\n4617,1\\r\\n61255,0\\r\\n75078,0\\r\\n23334,1\\r\\n69550,0\\r\\n78238,0\\r\\n77529,0\\r\\n4836,0\\r\\n21942,0\\r\\n62244,0\\r\\n11192,0\\r\\n57873,0\\r\\n3897,0\\r\\n76048,0\\r\\n73712,0\\r\\n37405,0\\r\\n73254,0\\r\\n23709,0\\r\\n62723,0\\r\\n25112,0\\r\\n3494,0\\r\\n71613,0\\r\\n32897,0\\r\\n35548,0\\r\\n18683,0\\r\\n59436,0\\r\\n17076,0\\r\\n19824,0\\r\\n33485,0\\r\\n40341,0\\r\\n32616,0\\r\\n22090,0\\r\\n23807,0\\r\\n54248,0\\r\\n73217,1\\r\\n77770,0\\r\\n20054,0\\r\\n1766,0\\r\\n28984,0\\r\\n20010,0\\r\\n5925,0\\r\\n53467,1\\r\\n32654,0\\r\\n37022,0\\r\\n34130,0\\r\\n71010,0\\r\\n38606,0\\r\\n35963,0\\r\\n66031,0\\r\\n37542,1\\r\\n17806,0\\r\\n19638,0\\r\\n40247,0\\r\\n74689,0\\r\\n21145,1\\r\\n7750,0\\r\\n45615,0\\r\\n54736,0\\r\\n5592,0\\r\\n11852,0\\r\\n21622,0\\r\\n56651,1\\r\\n26418,0\\r\\n7777,0\\r\\n18734,0\\r\\n7423,0\\r\\n51582,0\\r\\n20632,0\\r\\n62228,0\\r\\n13846,0\\r\\n19721,0\\r\\n44459,0\\r\\n15865,0\\r\\n37926,0\\r\\n53452,0\\r\\n64985,0\\r\\n40314,0\\r\\n38322,0\\r\\n40896,0\\r\\n42637,0\\r\\n23172,0\\r\\n50490,0\\r\\n21686,0\\r\\n54528,0\\r\\n61731,0\\r\\n60586,0\\r\\n52113,0\\r\\n41647,0\\r\\n56641,0\\r\\n10736,0\\r\\n36440,0\\r\\n77671,0\\r\\n58313,0\\r\\n523,0\\r\\n17871,0\\r\\n35403,0\\r\\n32276,0\\r\\n3557,0\\r\\n75224,0\\r\\n36468,0\\r\\n36765,1\\r\\n31836,0\\r\\n65306,0\\r\\n42676,0\\r\\n39134,0\\r\\n66851,0\\r\\n42759,0\\r\\n3931,0\\r\\n40335,0\\r\\n41437,0\\r\\n12259,0\\r\\n19905,0\\r\\n67537,0\\r\\n25039,0\\r\\n3390,0\\r\\n45716,0\\r\\n55447,0\\r\\n61094,0\\r\\n49528,0\\r\\n58344,0\\r\\n9886,0\\r\\n22535,0\\r\\n447,0\\r\\n355,0\\r\\n7268,0\\r\\n50907,0\\r\\n56594,0\\r\\n47200,0\\r\\n22070,0\\r\\n31405,0\\r\\n67436,0\\r\\n67046,0\\r\\n64988,0\\r\\n21848,0\\r\\n13769,1\\r\\n4514,0\\r\\n56669,0\\r\\n8045,0\\r\\n34879,0\\r\\n38010,0\\r\\n56672,0\\r\\n33655,0\\r\\n50658,0\\r\\n36250,0\\r\\n38532,0\\r\\n8879,0\\r\\n73974,0\\r\\n76449,0\\r\\n25650,0\\r\\n8617,1\\r\\n27908,0\\r\\n23145,0\\r\\n27814,0\\r\\n39940,0\\r\\n77055,0\\r\\n16704,0\\r\\n29858,0\\r\\n56646,0\\r\\n64830,0\\r\\n61351,0\\r\\n58809,0\\r\\n2561,0\\r\\n73709,0\\r\\n50138,0\\r\\n2676,0\\r\\n46490,1\\r\\n69741,0\\r\\n9038,0\\r\\n29003,0\\r\\n65672,0\\r\\n5388,0\\r\\n20825,0\\r\\n41060,0\\r\\n6616,0\\r\\n22688,0\\r\\n43957,0\\r\\n55318,0\\r\\n70812,0\\r\\n24692,0\\r\\n58752,0\\r\\n38930,0\\r\\n1703,0\\r\\n42905,0\\r\\n36715,0\\r\\n18867,0\\r\\n17411,0\\r\\n11003,0\\r\\n5131,0\\r\\n61268,0\\r\\n10116,0\\r\\n17443,0\\r\\n32829,0\\r\\n75701,0\\r\\n13836,0\\r\\n26347,0\\r\\n59551,0\\r\\n57597,0\\r\\n3068,0\\r\\n22755,0\\r\\n14155,0\\r\\n65041,0\\r\\n26327,0\\r\\n31406,0\\r\\n60585,0\\r\\n74653,0\\r\\n9264,0\\r\\n58956,0\\r\\n63124,0\\r\\n51426,0\\r\\n73537,0\\r\\n27085,0\\r\\n39521,0\\r\\n73348,0\\r\\n37700,0\\r\\n46859,0\\r\\n1792,0\\r\\n8829,0\\r\\n22724,0\\r\\n30885,1\\r\\n18364,0\\r\\n18065,0\\r\\n2373,0\\r\\n3014,0\\r\\n21683,0\\r\\n26427,0\\r\\n29517,0\\r\\n65795,0\\r\\n71406,0\\r\\n27294,0\\r\\n28070,0\\r\\n14017,0\\r\\n27271,0\\r\\n77702,0\\r\\n64352,0\\r\\n72682,0\\r\\n18923,0\\r\\n45259,0\\r\\n75770,0\\r\\n23514,1\\r\\n29135,0\\r\\n18793,0\\r\\n68460,0\\r\\n12152,0\\r\\n75787,0\\r\\n67307,0\\r\\n12905,0\\r\\n75806,0\\r\\n57829,0\\r\\n74896,0\\r\\n66255,0\\r\\n5693,0\\r\\n45455,0\\r\\n74355,0\\r\\n61946,0\\r\\n38236,0\\r\\n32227,0\\r\\n65268,0\\r\\n36792,0\\r\\n11006,0\\r\\n32575,0\\r\\n66353,0\\r\\n53561,0\\r\\n29282,1\\r\\n53996,0\\r\\n21495,0\\r\\n57852,0\\r\\n6122,0\\r\\n19130,0\\r\\n57920,0\\r\\n43140,0\\r\\n46025,0\\r\\n6139,0\\r\\n48783,0\\r\\n26454,0\\r\\n42320,0\\r\\n54408,0\\r\\n73362,0\\r\\n32942,0\\r\\n21675,0\\r\\n15098,0\\r\\n66181,0\\r\\n40186,0\\r\\n25122,0\\r\\n12236,0\\r\\n38027,0\\r\\n66444,0\\r\\n5213,0\\r\\n28870,0\\r\\n54170,0\\r\\n55914,0\\r\\n58146,1\\r\\n41136,0\\r\\n4700,1\\r\\n6214,0\\r\\n14689,0\\r\\n16782,0\\r\\n6207,0\\r\\n25195,0\\r\\n60706,0\\r\\n75977,0\\r\\n48848,0\\r\\n46741,0\\r\\n33338,0\\r\\n8534,0\\r\\n52715,0\\r\\n58440,0\\r\\n51882,0\\r\\n4695,0\\r\\n54206,0\\r\\n28746,0\\r\\n37910,0\\r\\n46779,0\\r\\n17608,0\\r\\n27515,0\\r\\n9942,0\\r\\n77985,0\\r\\n8759,0\\r\\n71403,0\\r\\n38660,0\\r\\n24276,0\\r\\n50290,0\\r\\n22206,0\\r\\n35665,0\\r\\n61527,0\\r\\n47599,0\\r\\n1371,0\\r\\n27833,0\\r\\n36448,0\\r\\n76281,0\\r\\n39217,0\\r\\n24993,0\\r\\n38098,0\\r\\n24304,0\\r\\n62586,0\\r\\n59920,0\\r\\n16891,0\\r\\n30374,0\\r\\n51494,0\\r\\n45324,0\\r\\n42227,0\\r\\n35404,0\\r\\n36824,0\\r\\n60294,0\\r\\n5904,0\\r\\n6910,0\\r\\n18358,0\\r\\n24281,0\\r\\n2084,0\\r\\n23421,0\\r\\n28218,0\\r\\n281,0\\r\\n27681,0\\r\\n15403,0\\r\\n68264,0\\r\\n58050,0\\r\\n13316,0\\r\\n67770,0\\r\\n72936,0\\r\\n2612,0\\r\\n64436,0\\r\\n71086,0\\r\\n24078,0\\r\\n44108,0\\r\\n7192,0\\r\\n17762,0\\r\\n17283,0\\r\\n58311,0\\r\\n26513,0\\r\\n65260,0\\r\\n28836,0\\r\\n60463,0\\r\\n61915,0\\r\\n52291,0\\r\\n76265,0\\r\\n66487,0\\r\\n16063,0\\r\\n60689,0\\r\\n70397,0\\r\\n50220,0\\r\\n64863,0\\r\\n8647,0\\r\\n32303,0\\r\\n66000,0\\r\\n28108,0\\r\\n10081,0\\r\\n65597,0\\r\\n44096,0\\r\\n59817,0\\r\\n65854,0\\r\\n70210,0\\r\\n71841,0\\r\\n1983,0\\r\\n17663,0\\r\\n28122,0\\r\\n58090,0\\r\\n60292,0\\r\\n25954,0\\r\\n18217,0\\r\\n64791,0\\r\\n24817,0\\r\\n67785,0\\r\\n39546,1\\r\\n66563,0\\r\\n57553,0\\r\\n73658,0\\r\\n72837,0\\r\\n55183,0\\r\\n32531,0\\r\\n47112,0\\r\\n26562,0\\r\\n55646,0\\r\\n1266,0\\r\\n11753,0\\r\\n73411,0\\r\\n66384,0\\r\\n16370,0\\r\\n36645,0\\r\\n34614,0\\r\\n15218,0\\r\\n50564,1\\r\\n72351,0\\r\\n60431,0\\r\\n60704,0\\r\\n22267,0\\r\\n38326,0\\r\\n64556,0\\r\\n69677,0\\r\\n41329,0\\r\\n54726,0\\r\\n8038,0\\r\\n29477,0\\r\\n12650,0\\r\\n61226,0\\r\\n14078,0\\r\\n65414,0\\r\\n68214,0\\r\\n29942,0\\r\\n41481,0\\r\\n65653,0\\r\\n39679,1\\r\\n25712,0\\r\\n70004,0\\r\\n37678,0\\r\\n43117,0\\r\\n53660,0\\r\\n11650,1\\r\\n75776,0\\r\\n23711,0\\r\\n72256,0\\r\\n38350,0\\r\\n31586,0\\r\\n56716,0\\r\\n21193,0\\r\\n10261,0\\r\\n73861,1\\r\\n6448,0\\r\\n3043,0\\r\\n27745,0\\r\\n26831,0\\r\\n5542,0\\r\\n56709,0\\r\\n70372,0\\r\\n15881,0\\r\\n72871,0\\r\\n74810,0\\r\\n43228,0\\r\\n63977,0\\r\\n39029,0\\r\\n67801,0\\r\\n76089,0\\r\\n15816,0\\r\\n55639,0\\r\\n21219,0\\r\\n18921,0\\r\\n7335,0\\r\\n50178,0\\r\\n53859,0\\r\\n33372,0\\r\\n21122,0\\r\\n2616,0\\r\\n15138,0\\r\\n14780,0\\r\\n77926,0\\r\\n9954,0\\r\\n32756,0\\r\\n68237,1\\r\\n66699,0\\r\\n59198,0\\r\\n33902,0\\r\\n35913,0\\r\\n45666,0\\r\\n52890,0\\r\\n76828,0\\r\\n10752,0\\r\\n576,0\\r\\n35980,0\\r\\n59854,0\\r\\n23453,0\\r\\n64144,0\\r\\n26651,0\\r\\n62052,0\\r\\n10375,0\\r\\n29891,0\\r\\n54370,1\\r\\n15090,0\\r\\n29027,0\\r\\n9499,0\\r\\n39831,0\\r\\n38504,0\\r\\n67290,0\\r\\n8982,0\\r\\n9377,0\\r\\n62094,0\\r\\n46135,0\\r\\n31503,0\\r\\n22627,0\\r\\n61498,0\\r\\n59934,0\\r\\n72462,0\\r\\n63593,0\\r\\n72521,0\\r\\n14687,0\\r\\n6305,0\\r\\n56996,0\\r\\n60508,0\\r\\n57357,0\\r\\n72898,0\\r\\n49434,0\\r\\n36814,0\\r\\n51317,0\\r\\n60614,0\\r\\n10709,0\\r\\n63043,0\\r\\n75558,0\\r\\n54817,0\\r\\n61417,0\\r\\n42972,0\\r\\n33174,0\\r\\n47925,0\\r\\n41169,0\\r\\n21814,0\\r\\n59255,0\\r\\n50125,0\\r\\n38416,0\\r\\n230,0\\r\\n68928,0\\r\\n39960,0\\r\\n70836,0\\r\\n32764,0\\r\\n27465,0\\r\\n62969,0\\r\\n56050,0\\r\\n6889,0\\r\\n10810,0\\r\\n53968,0\\r\\n19221,0\\r\\n54005,0\\r\\n28497,0\\r\\n21404,0\\r\\n57276,0\\r\\n6347,0\\r\\n73847,0\\r\\n24224,0\\r\\n57350,0\\r\\n49960,1\\r\\n59130,0\\r\\n17403,0\\r\\n68273,0\\r\\n10884,0\\r\\n17690,0\\r\\n15201,0\\r\\n16538,0\\r\\n56952,0\\r\\n28823,0\\r\\n62233,0\\r\\n7188,0\\r\\n47672,0\\r\\n64562,0\\r\\n3710,0\\r\\n32562,0\\r\\n29015,0\\r\\n27361,0\\r\\n4930,0\\r\\n77924,0\\r\\n17286,0\\r\\n15076,0\\r\\n1161,0\\r\\n24456,0\\r\\n45225,0\\r\\n4562,0\\r\\n72718,0\\r\\n20061,0\\r\\n44526,0\\r\\n49762,0\\r\\n68328,0\\r\\n14307,0\\r\\n40922,0\\r\\n37787,0\\r\\n8417,0\\r\\n49969,0\\r\\n6472,0\\r\\n26463,0\\r\\n19264,0\\r\\n11084,0\\r\\n68078,0\\r\\n62866,0\\r\\n77205,0\\r\\n23878,0\\r\\n18268,0\\r\\n72642,0\\r\\n17431,0\\r\\n65384,0\\r\\n74435,0\\r\\n66898,0\\r\\n10630,0\\r\\n15057,0\\r\\n66489,0\\r\\n1275,0\\r\\n33761,0\\r\\n17298,0\\r\\n59416,0\\r\\n61397,0\\r\\n33081,0\\r\\n35916,0\\r\\n13865,0\\r\\n31429,0\\r\\n61691,0\\r\\n43212,0\\r\\n1826,0\\r\\n39578,0\\r\\n44289,0\\r\\n41629,0\\r\\n37599,1\\r\\n47390,0\\r\\n20079,0\\r\\n17359,0\\r\\n40129,0\\r\\n43871,0\\r\\n25229,0\\r\\n1621,0\\r\\n6215,0\\r\\n6115,0\\r\\n39422,0\\r\\n63412,0\\r\\n33566,0\\r\\n55235,0\\r\\n77649,0\\r\\n40331,0\\r\\n76541,0\\r\\n60936,0\\r\\n66919,0\\r\\n25456,0\\r\\n46023,0\\r\\n75074,0\\r\\n35547,0\\r\\n34783,0\\r\\n37912,0\\r\\n65103,0\\r\\n49018,0\\r\\n8955,0\\r\\n46775,0\\r\\n23674,0\\r\\n9525,0\\r\\n50895,1\\r\\n40075,0\\r\\n73303,0\\r\\n26926,0\\r\\n22752,0\\r\\n77367,0\\r\\n22614,0\\r\\n49559,0\\r\\n859,0\\r\\n17355,0\\r\\n2200,0\\r\\n7508,0\\r\\n29059,0\\r\\n33688,0\\r\\n46391,0\\r\\n30627,0\\r\\n28123,0\\r\\n35327,0\\r\\n66282,0\\r\\n27293,0\\r\\n20869,0\\r\\n23513,0\\r\\n30628,0\\r\\n63577,0\\r\\n35127,0\\r\\n30566,0\\r\\n47778,0\\r\\n13982,0\\r\\n74303,0\\r\\n66217,0\\r\\n67685,0\\r\\n13274,0\\r\\n25361,0\\r\\n42953,0\\r\\n67169,0\\r\\n67735,0\\r\\n68037,0\\r\\n42263,0\\r\\n74476,0\\r\\n14166,0\\r\\n5729,0\\r\\n1524,0\\r\\n40779,0\\r\\n23351,0\\r\\n74934,0\\r\\n30492,0\\r\\n50850,1\\r\\n37079,0\\r\\n38804,1\\r\\n62546,0\\r\\n9139,0\\r\\n40787,0\\r\\n49807,0\\r\\n23238,0\\r\\n58141,0\\r\\n4898,0\\r\\n55552,0\\r\\n10297,0\\r\\n11827,0\\r\\n77536,0\\r\\n12396,0\\r\\n75773,0\\r\\n66689,0\\r\\n48902,0\\r\\n46633,0\\r\\n66840,0\\r\\n66422,0\\r\\n72456,0\\r\\n10168,0\\r\\n48675,0\\r\\n19961,0\\r\\n32597,0\\r\\n61037,0\\r\\n49811,0\\r\\n17617,0\\r\\n21302,0\\r\\n31687,0\\r\\n65605,0\\r\\n36197,0\\r\\n58550,0\\r\\n53507,0\\r\\n37679,0\\r\\n8835,0\\r\\n2926,0\\r\\n12810,0\\r\\n27686,0\\r\\n22436,0\\r\\n31216,0\\r\\n9434,0\\r\\n33987,0\\r\\n48601,0\\r\\n21361,1\\r\\n65754,0\\r\\n44595,0\\r\\n23108,0\\r\\n11749,0\\r\\n60925,0\\r\\n34975,0\\r\\n38754,1\\r\\n1493,0\\r\\n38794,0\\r\\n46360,0\\r\\n59600,0\\r\\n1107,0\\r\\n46964,0\\r\\n17753,0\\r\\n37257,0\\r\\n10791,0\\r\\n35596,0\\r\\n65140,0\\r\\n14640,0\\r\\n27548,0\\r\\n26826,0\\r\\n65531,0\\r\\n72312,0\\r\\n40969,0\\r\\n9842,0\\r\\n55714,0\\r\\n74649,0\\r\\n25847,0\\r\\n40747,0\\r\\n27926,0\\r\\n17047,0\\r\\n35358,0\\r\\n68272,0\\r\\n10101,0\\r\\n12778,0\\r\\n29941,0\\r\\n20101,0\\r\\n13991,0\\r\\n64963,0\\r\\n74434,0\\r\\n28160,0\\r\\n71118,0\\r\\n28697,0\\r\\n46430,0\\r\\n19239,0\\r\\n40595,0\\r\\n47577,0\\r\\n29997,0\\r\\n17000,0\\r\\n40434,0\\r\\n28985,0\\r\\n3750,0\\r\\n22676,0\\r\\n19408,0\\r\\n16501,0\\r\\n30454,0\\r\\n57891,0\\r\\n60702,1\\r\\n37760,0\\r\\n28601,0\\r\\n32790,0\\r\\n72385,0\\r\\n18073,0\\r\\n42330,0\\r\\n69708,0\\r\\n34541,0\\r\\n75731,0\\r\\n29251,0\\r\\n2578,0\\r\\n49959,0\\r\\n54558,0\\r\\n64745,0\\r\\n42501,0\\r\\n78013,0\\r\\n9482,0\\r\\n55690,0\\r\\n66790,0\\r\\n45968,1\\r\\n40304,0\\r\\n4515,0\\r\\n37696,0\\r\\n52748,0\\r\\n47896,0\\r\\n59732,0\\r\\n43597,0\\r\\n50079,0\\r\\n7414,0\\r\\n39688,0\\r\\n55760,0\\r\\n22931,0\\r\\n33097,0\\r\\n50435,0\\r\\n5817,0\\r\\n33193,0\\r\\n22768,0\\r\\n21768,0\\r\\n62668,0\\r\\n62565,0\\r\\n66427,0\\r\\n11797,0\\r\\n13622,0\\r\\n14296,0\\r\\n46624,0\\r\\n20635,0\\r\\n34414,0\\r\\n54595,0\\r\\n18907,0\\r\\n61097,0\\r\\n75150,0\\r\\n54186,0\\r\\n55301,0\\r\\n32871,0\\r\\n29902,0\\r\\n40351,0\\r\\n31602,0\\r\\n67199,0\\r\\n43279,0\\r\\n21022,0\\r\\n39918,0\\r\\n27915,0\\r\\n45139,0\\r\\n17488,0\\r\\n7208,0\\r\\n34938,0\\r\\n4805,0\\r\\n49633,0\\r\\n17394,0\\r\\n49157,0\\r\\n18264,0\\r\\n57930,0\\r\\n4598,0\\r\\n66228,0\\r\\n22524,0\\r\\n20688,0\\r\\n2319,0\\r\\n3370,0\\r\\n15999,0\\r\\n76769,0\\r\\n16839,0\\r\\n33513,0\\r\\n213,0\\r\\n70182,0\\r\\n10549,0\\r\\n59818,0\\r\\n21776,0\\r\\n61343,0\\r\\n31760,0\\r\\n50516,0\\r\\n75318,0\\r\\n48699,0\\r\\n4117,0\\r\\n4050,1\\r\\n67239,0\\r\\n71808,0\\r\\n66146,0\\r\\n29805,0\\r\\n73368,0\\r\\n38500,0\\r\\n64733,0\\r\\n15546,0\\r\\n24552,0\\r\\n24326,0\\r\\n66382,0\\r\\n5115,0\\r\\n47363,0\\r\\n30946,0\\r\\n76169,0\\r\\n59127,0\\r\\n60685,0\\r\\n53342,0\\r\\n16422,0\\r\\n8569,0\\r\\n2076,0\\r\\n34311,0\\r\\n25332,0\\r\\n62748,0\\r\\n77613,0\\r\\n6906,0\\r\\n77735,0\\r\\n32886,0\\r\\n53356,0\\r\\n28508,0\\r\\n24110,0\\r\\n46723,0\\r\\n30046,0\\r\\n25242,0\\r\\n18666,0\\r\\n29202,0\\r\\n6786,0\\r\\n55853,0\\r\\n14131,0\\r\\n65529,0\\r\\n33694,0\\r\\n34182,0\\r\\n77046,0\\r\\n44114,0\\r\\n61809,0\\r\\n759,0\\r\\n54171,0\\r\\n77117,0\\r\\n57501,0\\r\\n77072,0\\r\\n24694,0\\r\\n37538,0\\r\\n64411,0\\r\\n55088,0\\r\\n56180,0\\r\\n69781,0\\r\\n39664,0\\r\\n3871,0\\r\\n58173,0\\r\\n46401,0\\r\\n39781,0\\r\\n52849,0\\r\\n39724,0\\r\\n34363,0\\r\\n11443,0\\r\\n44398,0\\r\\n32820,0\\r\\n3277,0\\r\\n8350,0\\r\\n19829,0\\r\\n30318,0\\r\\n20481,0\\r\\n53656,0\\r\\n62330,0\\r\\n6904,0\\r\\n65537,0\\r\\n3149,0\\r\\n71052,0\\r\\n18192,0\\r\\n33387,0\\r\\n36957,0\\r\\n70579,0\\r\\n44035,0\\r\\n46609,0\\r\\n4498,0\\r\\n74840,0\\r\\n29118,0\\r\\n29861,0\\r\\n35153,0\\r\\n38381,0\\r\\n74768,0\\r\\n73866,0\\r\\n50890,0\\r\\n35823,0\\r\\n75046,0\\r\\n45680,0\\r\\n56614,0\\r\\n2796,0\\r\\n68881,0\\r\\n36489,0\\r\\n6768,0\\r\\n62097,0\\r\\n54937,0\\r\\n21825,0\\r\\n76570,0\\r\\n10564,0\\r\\n20011,0\\r\\n3511,0\\r\\n44605,0\\r\\n31147,0\\r\\n43430,0\\r\\n17469,0\\r\\n28231,1\\r\\n21544,0\\r\\n44579,0\\r\\n72452,0\\r\\n78211,0\\r\\n12612,0\\r\\n7819,0\\r\\n76500,0\\r\\n7439,0\\r\\n17086,0\\r\\n5730,0\\r\\n49622,0\\r\\n16084,0\\r\\n64596,0\\r\\n6188,0\\r\\n13907,0\\r\\n3248,0\\r\\n50297,0\\r\\n75594,0\\r\\n45054,0\\r\\n65663,0\\r\\n69656,0\\r\\n75063,0\\r\\n51448,0\\r\\n11627,0\\r\\n46969,0\\r\\n53960,0\\r\\n6789,0\\r\\n77767,0\\r\\n40205,0\\r\\n35753,0\\r\\n49094,0\\r\\n19969,0\\r\\n55913,0\\r\\n40352,0\\r\\n38883,0\\r\\n51518,0\\r\\n2813,0\\r\\n76125,0\\r\\n33322,0\\r\\n63929,0\\r\\n14527,0\\r\\n29101,0\\r\\n26137,0\\r\\n72924,0\\r\\n13270,0\\r\\n28432,0\\r\\n490,0\\r\\n35274,0\\r\\n5963,0\\r\\n7619,0\\r\\n34334,0\\r\\n77098,0\\r\\n32077,0\\r\\n11896,0\\r\\n32749,0\\r\\n30163,0\\r\\n46236,0\\r\\n41387,0\\r\\n4118,0\\r\\n64639,0\\r\\n9364,0\\r\\n13066,0\\r\\n27478,0\\r\\n46425,0\\r\\n14974,0\\r\\n697,0\\r\\n23144,0\\r\\n15946,0\\r\\n67177,0\\r\\n39498,0\\r\\n73590,0\\r\\n62182,0\\r\\n41649,0\\r\\n76588,0\\r\\n8757,0\\r\\n62091,0\\r\\n55521,0\\r\\n43857,0\\r\\n22700,0\\r\\n36434,0\\r\\n48776,0\\r\\n41844,0\\r\\n14349,0\\r\\n72569,0\\r\\n24686,0\\r\\n3107,0\\r\\n25802,0\\r\\n74383,0\\r\\n76416,0\\r\\n20776,0\\r\\n18849,0\\r\\n26179,0\\r\\n9190,0\\r\\n56949,0\\r\\n4096,0\\r\\n63078,0\\r\\n49653,0\\r\\n71799,0\\r\\n60815,0\\r\\n46130,0\\r\\n48325,0\\r\\n39592,0\\r\\n43587,0\\r\\n842,0\\r\\n72096,0\\r\\n48254,0\\r\\n26000,0\\r\\n17843,0\\r\\n51398,0\\r\\n48334,0\\r\\n35668,0\\r\\n45933,0\\r\\n53186,0\\r\\n58380,0\\r\\n46584,0\\r\\n70147,0\\r\\n33615,0\\r\\n7255,0\\r\\n76911,0\\r\\n18057,0\\r\\n61954,0\\r\\n70134,0\\r\\n29428,0\\r\\n48486,0\\r\\n61368,0\\r\\n38838,0\\r\\n67528,0\\r\\n59810,0\\r\\n15681,0\\r\\n13964,0\\r\\n41370,0\\r\\n73052,0\\r\\n56280,0\\r\\n25443,0\\r\\n31549,0\\r\\n65270,0\\r\\n39158,0\\r\\n48584,0\\r\\n17350,0\\r\\n45232,0\\r\\n35445,0\\r\\n18554,0\\r\\n34457,0\\r\\n39603,0\\r\\n56456,0\\r\\n38463,0\\r\\n9132,0\\r\\n24681,0\\r\\n188,0\\r\\n35908,0\\r\\n28953,0\\r\\n76250,0\\r\\n45396,0\\r\\n43092,0\\r\\n6059,0\\r\\n53677,0\\r\\n35965,0\\r\\n48765,0\\r\\n69323,0\\r\\n29532,0\\r\\n46046,0\\r\\n72424,0\\r\\n47156,0\\r\\n45672,0\\r\\n5779,0\\r\\n67296,0\\r\\n72850,0\\r\\n76134,0\\r\\n11182,0\\r\\n43302,0\\r\\n65192,0\\r\\n64429,0\\r\\n37012,0\\r\\n77279,1\\r\\n46469,0\\r\\n51554,0\\r\\n16944,0\\r\\n54430,0\\r\\n26619,0\\r\\n63555,0\\r\\n51428,0\\r\\n62882,0\\r\\n2229,0\\r\\n3094,0\\r\\n70960,0\\r\\n2272,0\\r\\n47439,0\\r\\n48157,0\\r\\n22697,0\\r\\n32828,0\\r\\n63650,0\\r\\n47886,0\\r\\n50917,0\\r\\n46882,0\\r\\n14033,0\\r\\n4489,0\\r\\n61805,0\\r\\n62037,0\\r\\n12303,0\\r\\n28858,0\\r\\n2149,0\\r\\n33360,0\\r\\n43061,0\\r\\n53807,0\\r\\n29326,0\\r\\n12661,0\\r\\n28891,0\\r\\n56453,0\\r\\n73065,0\\r\\n3737,0\\r\\n42864,0\\r\\n61564,0\\r\\n72802,1\\r\\n52118,0\\r\\n62924,0\\r\\n59034,0\\r\\n65413,0\\r\\n75703,0\\r\\n16336,0\\r\\n71989,0\\r\\n48613,0\\r\\n25022,0\\r\\n23557,0\\r\\n76857,0\\r\\n63192,0\\r\\n44075,0\\r\\n5472,0\\r\\n19315,0\\r\\n48304,1\\r\\n37203,0\\r\\n63722,0\\r\\n26305,0\\r\\n285,1\\r\\n24847,0\\r\\n33506,0\\r\\n58597,0\\r\\n72177,0\\r\\n55326,0\\r\\n22427,0\\r\\n20189,0\\r\\n49979,0\\r\\n67021,0\\r\\n62560,0\\r\\n74068,0\\r\\n23356,0\\r\\n61592,0\\r\\n6652,0\\r\\n52365,0\\r\\n72405,0\\r\\n48249,0\\r\\n16824,0\\r\\n49721,0\\r\\n31788,0\\r\\n33862,0\\r\\n29156,0\\r\\n5690,0\\r\\n69461,0\\r\\n50803,0\\r\\n23949,0\\r\\n71479,0\\r\\n28468,0\\r\\n11218,0\\r\\n44503,0\\r\\n51703,0\\r\\n19676,0\\r\\n18932,0\\r\\n75211,0\\r\\n65568,0\\r\\n38028,0\\r\\n77606,0\\r\\n61427,0\\r\\n40068,0\\r\\n48983,0\\r\\n2020,0\\r\\n24251,1\\r\\n69900,0\\r\\n3584,0\\r\\n36868,0\\r\\n73342,0\\r\\n58765,0\\r\\n58217,0\\r\\n10126,0\\r\\n53694,0\\r\\n1876,0\\r\\n5109,0\\r\\n70213,0\\r\\n66276,0\\r\\n55719,0\\r\\n38653,0\\r\\n47904,0\\r\\n31615,0\\r\\n49010,0\\r\\n20699,0\\r\\n69691,0\\r\\n17950,0\\r\\n44996,0\\r\\n5288,0\\r\\n26640,0\\r\\n45789,0\\r\\n21426,0\\r\\n55393,0\\r\\n34333,0\\r\\n31396,1\\r\\n77766,0\\r\\n57666,0\\r\\n71178,0\\r\\n41639,0\\r\\n37838,0\\r\\n25302,0\\r\\n56573,0\\r\\n66187,0\\r\\n45174,0\\r\\n66124,0\\r\\n66933,0\\r\\n13233,0\\r\\n22973,1\\r\\n21831,0\\r\\n46689,0\\r\\n53536,0\\r\\n32390,0\\r\\n49025,0\\r\\n62322,0\\r\\n53169,0\\r\\n9635,0\\r\\n7739,0\\r\\n34703,0\\r\\n15763,0\\r\\n50802,0\\r\\n66545,0\\r\\n995,0\\r\\n52838,0\\r\\n22834,0\\r\\n48046,0\\r\\n62854,0\\r\\n48189,0\\r\\n27203,0\\r\\n30966,0\\r\\n62127,0\\r\\n51231,0\\r\\n43023,0\\r\\n70052,0\\r\\n43981,0\\r\\n58951,0\\r\\n37492,0\\r\\n33810,0\\r\\n63155,0\\r\\n51219,0\\r\\n71235,0\\r\\n550,0\\r\\n65081,0\\r\\n21303,0\\r\\n6068,0\\r\\n7047,0\\r\\n46017,0\\r\\n18010,0\\r\\n62386,0\\r\\n62099,0\\r\\n46450,0\\r\\n40118,0\\r\\n42360,0\\r\\n36368,0\\r\\n14720,0\\r\\n19186,0\\r\\n55302,0\\r\\n32681,0\\r\\n53,0\\r\\n5861,0\\r\\n19566,0\\r\\n6182,0\\r\\n38860,0\\r\\n77441,0\\r\\n43917,0\\r\\n7962,0\\r\\n76675,0\\r\\n77857,0\\r\\n28581,0\\r\\n57410,0\\r\\n41133,0\\r\\n53215,0\\r\\n39368,0\\r\\n78197,0\\r\\n1585,0\\r\\n34653,0\\r\\n18925,0\\r\\n67461,0\\r\\n9766,0\\r\\n48525,0\\r\\n35064,0\\r\\n7823,0\\r\\n44654,0\\r\\n77241,0\\r\\n36016,0\\r\\n72389,0\\r\\n49470,0\\r\\n66363,0\\r\\n1964,0\\r\\n28351,0\\r\\n18617,0\\r\\n1940,0\\r\\n21956,0\\r\\n39082,0\\r\\n70062,0\\r\\n3796,0\\r\\n47165,0\\r\\n28783,0\\r\\n24924,0\\r\\n59022,0\\r\\n38879,0\\r\\n4806,0\\r\\n26683,0\\r\\n8164,0\\r\\n74106,0\\r\\n12472,0\\r\\n5069,0\\r\\n60988,0\\r\\n896,0\\r\\n19898,0\\r\\n37951,0\\r\\n71535,0\\r\\n33702,0\\r\\n4185,0\\r\\n13898,0\\r\\n15729,1\\r\\n59264,0\\r\\n53477,0\\r\\n25218,0\\r\\n55241,0\\r\\n62473,0\\r\\n73051,0\\r\\n32373,0\\r\\n8059,0\\r\\n69327,0\\r\\n47944,0\\r\\n33415,0\\r\\n45002,0\\r\\n20094,0\\r\\n460,0\\r\\n72800,0\\r\\n71244,0\\r\\n63061,0\\r\\n21524,0\\r\\n34866,0\\r\\n76720,0\\r\\n6499,0\\r\\n42474,0\\r\\n13076,0\\r\\n53642,0\\r\\n30073,0\\r\\n74645,0\\r\\n4889,0\\r\\n22362,0\\r\\n56713,0\\r\\n66843,0\\r\\n5351,0\\r\\n45310,0\\r\\n57542,0\\r\\n35582,0\\r\\n32587,0\\r\\n50794,0\\r\\n50503,0\\r\\n9968,0\\r\\n53884,0\\r\\n28525,0\\r\\n47192,0\\r\\n27593,1\\r\\n17740,0\\r\\n37349,0\\r\\n8546,0\\r\\n9999,0\\r\\n46393,0\\r\\n1241,0\\r\\n64145,0\\r\\n73680,0\\r\\n11965,0\\r\\n58660,0\\r\\n48030,0\\r\\n60522,0\\r\\n49505,0\\r\\n73080,1\\r\\n75535,0\\r\\n53259,0\\r\\n53003,0\\r\\n67742,0\\r\\n69089,0\\r\\n70233,0\\r\\n28686,0\\r\\n22210,0\\r\\n22157,0\\r\\n22017,0\\r\\n39078,0\\r\\n49698,0\\r\\n29530,0\\r\\n7574,0\\r\\n24263,0\\r\\n34846,0\\r\\n1340,0\\r\\n30098,0\\r\\n43751,0\\r\\n36599,0\\r\\n35810,0\\r\\n58153,0\\r\\n22760,0\\r\\n44919,0\\r\\n65332,0\\r\\n34398,0\\r\\n36244,0\\r\\n59946,0\\r\\n36899,0\\r\\n42359,0\\r\\n38165,0\\r\\n50868,0\\r\\n2101,0\\r\\n37320,0\\r\\n41986,0\\r\\n28477,0\\r\\n2138,0\\r\\n15378,0\\r\\n69578,0\\r\\n69121,0\\r\\n26152,0\\r\\n57065,0\\r\\n33146,0\\r\\n44673,0\\r\\n17811,0\\r\\n59968,0\\r\\n61652,0\\r\\n52693,0\\r\\n40503,0\\r\\n75006,0\\r\\n63921,0\\r\\n25612,0\\r\\n40672,0\\r\\n42357,0\\r\\n39395,0\\r\\n64662,0\\r\\n10571,0\\r\\n26277,0\\r\\n58893,0\\r\\n50332,0\\r\\n76598,0\\r\\n58345,0\\r\\n6840,0\\r\\n5416,0\\r\\n62937,0\\r\\n64313,0\\r\\n6307,0\\r\\n39059,0\\r\\n58806,0\\r\\n53410,0\\r\\n15742,0\\r\\n74763,0\\r\\n44349,0\\r\\n50019,0\\r\\n1002,0\\r\\n43324,0\\r\\n37719,0\\r\\n56040,0\\r\\n60675,0\\r\\n5033,0\\r\\n12183,0\\r\\n44431,0\\r\\n52363,0\\r\\n38673,0\\r\\n36531,0\\r\\n16317,0\\r\\n67687,0\\r\\n1584,0\\r\\n46132,0\\r\\n54478,0\\r\\n51719,0\\r\\n25479,0\\r\\n64481,0\\r\\n29421,0\\r\\n8610,0\\r\\n72263,0\\r\\n46983,0\\r\\n33714,0\\r\\n24262,0\\r\\n28155,0\\r\\n73382,0\\r\\n41029,0\\r\\n48247,0\\r\\n75940,0\\r\\n19496,0\\r\\n65828,0\\r\\n32431,0\\r\\n48736,0\\r\\n64240,0\\r\\n4716,0\\r\\n63259,0\\r\\n3762,0\\r\\n34382,0\\r\\n50291,0\\r\\n68195,0\\r\\n66236,0\\r\\n74346,0\\r\\n17136,0\\r\\n5966,0\\r\\n73812,1\\r\\n40445,0\\r\\n63505,0\\r\\n37674,1\\r\\n63642,0\\r\\n6187,0\\r\\n67932,0\\r\\n46240,0\\r\\n42767,0\\r\\n73041,0\\r\\n15765,0\\r\\n9170,0\\r\\n74178,0\\r\\n42493,0\\r\\n60971,0\\r\\n68452,0\\r\\n10787,0\\r\\n72113,0\\r\\n53778,0\\r\\n40037,0\\r\\n12992,0\\r\\n26544,0\\r\\n40372,0\\r\\n61345,0\\r\\n9293,0\\r\\n55450,0\\r\\n55259,0\\r\\n60734,0\\r\\n27299,0\\r\\n61697,0\\r\\n26328,0\\r\\n33806,0\\r\\n62274,0\\r\\n36994,0\\r\\n31115,0\\r\\n9519,0\\r\\n1358,0\\r\\n59787,0\\r\\n38043,0\\r\\n77290,0\\r\\n41120,0\\r\\n43785,0\\r\\n66817,0\\r\\n31855,0\\r\\n54968,0\\r\\n73717,0\\r\\n51113,0\\r\\n18381,0\\r\\n35776,0\\r\\n56446,0\\r\\n78284,0\\r\\n70045,0\\r\\n1965,0\\r\\n68948,0\\r\\n48981,0\\r\\n26254,0\\r\\n35441,0\\r\\n27982,0\\r\\n72894,0\\r\\n37728,0\\r\\n58587,0\\r\\n49147,0\\r\\n57225,0\\r\\n5632,0\\r\\n47742,1\\r\\n62237,0\\r\\n47399,0\\r\\n30395,0\\r\\n53221,0\\r\\n35180,0\\r\\n3027,0\\r\\n3869,0\\r\\n74654,0\\r\\n26625,0\\r\\n40778,0\\r\\n74148,0\\r\\n58819,0\\r\\n26256,0\\r\\n36212,0\\r\\n53284,0\\r\\n53768,0\\r\\n5733,0\\r\\n9470,0\\r\\n57773,0\\r\\n16586,0\\r\\n30253,0\\r\\n69676,0\\r\\n1451,0\\r\\n73050,0\\r\\n61291,0\\r\\n39042,0\\r\\n12426,0\\r\\n20560,0\\r\\n3979,0\\r\\n30121,0\\r\\n19752,0\\r\\n28993,0\\r\\n63116,0\\r\\n36852,0\\r\\n13369,0\\r\\n42575,0\\r\\n36115,0\\r\\n76716,0\\r\\n41888,0\\r\\n65502,0\\r\\n50848,0\\r\\n20561,0\\r\\n21749,0\\r\\n64539,0\\r\\n2921,0\\r\\n37209,0\\r\\n8583,0\\r\\n51606,0\\r\\n71895,0\\r\\n33511,0\\r\\n22797,0\\r\\n64849,0\\r\\n63095,0\\r\\n62975,0\\r\\n27475,0\\r\\n73744,0\\r\\n71145,0\\r\\n27871,0\\r\\n77922,0\\r\\n10935,0\\r\\n23087,0\\r\\n28912,0\\r\\n23002,0\\r\\n60898,1\\r\\n47847,0\\r\\n23280,0\\r\\n74139,0\\r\\n9537,0\\r\\n21378,0\\r\\n20880,0\\r\\n60315,0\\r\\n48660,0\\r\\n69336,0\\r\\n70454,0\\r\\n2040,1\\r\\n26583,0\\r\\n3265,0\\r\\n34804,0\\r\\n48373,0\\r\\n64095,1\\r\\n73719,0\\r\\n27462,0\\r\\n21247,0\\r\\n66538,0\\r\\n43452,0\\r\\n67521,0\\r\\n104,0\\r\\n42174,0\\r\\n37941,0\\r\\n72245,0\\r\\n20692,0\\r\\n39651,0\\r\\n17379,0\\r\\n36603,0\\r\\n61252,0\\r\\n26132,0\\r\\n68377,0\\r\\n14162,0\\r\\n25435,0\\r\\n56717,0\\r\\n3137,0\\r\\n35845,0\\r\\n25892,0\\r\\n17800,0\\r\\n34520,0\\r\\n41191,0\\r\\n3114,0\\r\\n23554,0\\r\\n37737,0\\r\\n76252,0\\r\\n5318,0\\r\\n42664,0\\r\\n2333,0\\r\\n64634,0\\r\\n77330,0\\r\\n54881,0\\r\\n70490,0\\r\\n36275,0\\r\\n4759,0\\r\\n47979,0\\r\\n28370,0\\r\\n33131,0\\r\\n25835,0\\r\\n68383,0\\r\\n49975,0\\r\\n1648,0\\r\\n65939,0\\r\\n11686,0\\r\\n29755,0\\r\\n23716,0\\r\\n11326,0\\r\\n18110,0\\r\\n41580,0\\r\\n25075,0\\r\\n36706,0\\r\\n58539,0\\r\\n9353,0\\r\\n42329,0\\r\\n21482,0\\r\\n42443,0\\r\\n8078,0\\r\\n73369,0\\r\\n40850,0\\r\\n48128,0\\r\\n50808,0\\r\\n41062,0\\r\\n31445,0\\r\\n18512,0\\r\\n76648,0\\r\\n42814,0\\r\\n62435,0\\r\\n51860,0\\r\\n43829,0\\r\\n57718,0\\r\\n20966,0\\r\\n55278,0\\r\\n23055,0\\r\\n1877,0\\r\\n29753,0\\r\\n26646,0\\r\\n41193,0\\r\\n9516,0\\r\\n54465,0\\r\\n6967,0\\r\\n57403,0\\r\\n3680,0\\r\\n60460,0\\r\\n16240,0\\r\\n66727,0\\r\\n1113,0\\r\\n28962,0\\r\\n54454,0\\r\\n27964,0\\r\\n65507,0\\r\\n75774,0\\r\\n33107,0\\r\\n66663,0\\r\\n71581,0\\r\\n41755,0\\r\\n4778,0\\r\\n12194,0\\r\\n9096,0\\r\\n15863,0\\r\\n41126,0\\r\\n58137,0\\r\\n66617,0\\r\\n69556,0\\r\\n48466,0\\r\\n27029,0\\r\\n46099,0\\r\\n6859,0\\r\\n2546,0\\r\\n21758,0\\r\\n20508,0\\r\\n37903,0\\r\\n47769,0\\r\\n38851,0\\r\\n58442,0\\r\\n19057,0\\r\\n35233,0\\r\\n56042,0\\r\\n62288,0\\r\\n36358,0\\r\\n10967,0\\r\\n23230,0\\r\\n69373,0\\r\\n31524,0\\r\\n33793,0\\r\\n69248,0\\r\\n16649,0\\r\\n36855,0\\r\\n22358,0\\r\\n74811,0\\r\\n72810,0\\r\\n71667,0\\r\\n17144,0\\r\\n57334,0\\r\\n21885,0\\r\\n9774,0\\r\\n59988,0\\r\\n41540,1\\r\\n56300,0\\r\\n53976,0\\r\\n75642,0\\r\\n29564,0\\r\\n41409,0\\r\\n54929,0\\r\\n75112,0\\r\\n1580,0\\r\\n33711,0\\r\\n54783,0\\r\\n71751,0\\r\\n67293,0\\r\\n31573,0\\r\\n45644,0\\r\\n70757,0\\r\\n50322,0\\r\\n48103,0\\r\\n2094,0\\r\\n20643,0\\r\\n47400,0\\r\\n45196,0\\r\\n49510,0\\r\\n18399,0\\r\\n66351,0\\r\\n34469,0\\r\\n5025,0\\r\\n64029,0\\r\\n34983,0\\r\\n25921,0\\r\\n38113,0\\r\\n63873,0\\r\\n30719,0\\r\\n39222,0\\r\\n1157,0\\r\\n46261,0\\r\\n51711,0\\r\\n68246,1\\r\\n57728,0\\r\\n27669,0\\r\\n42757,0\\r\\n20199,0\\r\\n60711,0\\r\\n51119,0\\r\\n64399,0\\r\\n6360,0\\r\\n62269,0\\r\\n59462,1\\r\\n64216,0\\r\\n30425,0\\r\\n9378,0\\r\\n7441,0\\r\\n60359,0\\r\\n44716,0\\r\\n36767,0\\r\\n24363,0\\r\\n36794,0\\r\\n24770,0\\r\\n21031,0\\r\\n66474,0\\r\\n72693,0\\r\\n38442,0\\r\\n28084,0\\r\\n43113,0\\r\\n55536,0\\r\\n8222,0\\r\\n26032,0\\r\\n58278,0\\r\\n25204,0\\r\\n10231,0\\r\\n19804,0\\r\\n17301,0\\r\\n55386,0\\r\\n21541,0\\r\\n76846,0\\r\\n24222,0\\r\\n40960,1\\r\\n51944,0\\r\\n66242,0\\r\\n67285,0\\r\\n50309,0\\r\\n53409,0\\r\\n761,0\\r\\n68190,0\\r\\n34098,0\\r\\n74701,0\\r\\n70955,0\\r\\n26642,0\\r\\n12190,0\\r\\n32905,0\\r\\n3288,0\\r\\n43189,0\\r\\n19800,0\\r\\n75367,0\\r\\n70138,0\\r\\n47018,0\\r\\n45499,0\\r\\n12244,0\\r\\n6546,0\\r\\n74526,0\\r\\n1574,0\\r\\n47234,0\\r\\n48502,0\\r\\n3995,0\\r\\n25843,0\\r\\n35795,0\\r\\n58665,0\\r\\n30561,0\\r\\n72466,0\\r\\n2457,1\\r\\n8428,1\\r\\n50606,0\\r\\n63245,0\\r\\n14802,0\\r\\n16327,0\\r\\n22558,0\\r\\n74458,0\\r\\n50723,0\\r\\n47187,0\\r\\n30894,0\\r\\n67387,0\\r\\n75635,0\\r\\n2723,0\\r\\n12804,0\\r\\n45700,0\\r\\n9113,1\\r\\n26722,0\\r\\n73384,0\\r\\n1848,0\\r\\n20487,0\\r\\n23389,0\\r\\n48792,0\\r\\n16661,0\\r\\n32299,0\\r\\n17684,0\\r\\n71409,0\\r\\n9612,0\\r\\n72977,0\\r\\n48437,0\\r\\n40302,1\\r\\n54703,0\\r\\n78021,0\\r\\n15771,0\\r\\n22124,0\\r\\n18594,0\\r\\n41564,0\\r\\n19507,0\\r\\n46207,0\\r\\n72512,0\\r\\n14352,0\\r\\n64183,0\\r\\n38837,0\\r\\n69786,0\\r\\n38814,0\\r\\n52411,0\\r\\n97,0\\r\\n71366,0\\r\\n14721,1\\r\\n41155,0\\r\\n28558,0\\r\\n55971,0\\r\\n23602,0\\r\\n14173,0\\r\\n30297,0\\r\\n27134,0\\r\\n14094,0\\r\\n54523,0\\r\\n19335,0\\r\\n23237,0\\r\\n48203,0\\r\\n7461,0\\r\\n33021,0\\r\\n70040,0\\r\\n17243,0\\r\\n73779,0\\r\\n10587,0\\r\\n25945,0\\r\\n35289,0\\r\\n8266,0\\r\\n55165,0\\r\\n2822,0\\r\\n52023,0\\r\\n4894,0\\r\\n37639,0\\r\\n43376,0\\r\\n45819,0\\r\\n18335,0\\r\\n41848,0\\r\\n37531,0\\r\\n51843,0\\r\\n33008,0\\r\\n7712,0\\r\\n60123,0\\r\\n50846,0\\r\\n38772,0\\r\\n70922,0\\r\\n20480,0\\r\\n16417,0\\r\\n30406,0\\r\\n9807,0\\r\\n53655,0\\r\\n16778,0\\r\\n8543,0\\r\\n1069,0\\r\\n7922,0\\r\\n16687,0\\r\\n64516,0\\r\\n21509,0\\r\\n76554,0\\r\\n42507,0\\r\\n60389,0\\r\\n75542,1\\r\\n13097,0\\r\\n28073,1\\r\\n26359,0\\r\\n4734,0\\r\\n27327,0\\r\\n27744,0\\r\\n54984,0\\r\\n65541,0\\r\\n3807,0\\r\\n40135,0\\r\\n28447,0\\r\\n31959,0\\r\\n75244,0\\r\\n63917,0\\r\\n63176,0\\r\\n54564,0\\r\\n77901,0\\r\\n15621,0\\r\\n31885,0\\r\\n18301,0\\r\\n75628,0\\r\\n39040,0\\r\\n36833,0\\r\\n35642,0\\r\\n34252,0\\r\\n10577,0\\r\\n30475,0\\r\\n36663,0\\r\\n10139,0\\r\\n49532,0\\r\\n63712,0\\r\\n76608,0\\r\\n67519,0\\r\\n46804,0\\r\\n39538,0\\r\\n25282,0\\r\\n45262,0\\r\\n76666,0\\r\\n54453,0\\r\\n38245,0\\r\\n76585,0\\r\\n16324,0\\r\\n41782,0\\r\\n26669,0\\r\\n20793,0\\r\\n59915,0\\r\\n39931,0\\r\\n57315,0\\r\\n17836,0\\r\\n39458,0\\r\\n19844,0\\r\\n38137,0\\r\\n13120,0\\r\\n7183,0\\r\\n65548,0\\r\\n7350,0\\r\\n67255,0\\r\\n258,0\\r\\n14947,0\\r\\n14597,0\\r\\n40720,1\\r\\n35177,0\\r\\n23477,0\\r\\n6509,0\\r\\n30613,1\\r\\n76931,0\\r\\n1440,0\\r\\n23224,0\\r\\n46341,0\\r\\n78194,0\\r\\n37214,0\\r\\n47622,0\\r\\n42356,0\\r\\n7735,0\\r\\n42707,0\\r\\n35323,0\\r\\n67712,0\\r\\n18036,0\\r\\n19624,0\\r\\n14967,0\\r\\n42593,0\\r\\n57720,0\\r\\n47914,0\\r\\n20514,0\\r\\n4056,0\\r\\n60004,0\\r\\n53154,0\\r\\n60823,0\\r\\n50752,1\\r\\n51131,0\\r\\n42401,0\\r\\n16066,0\\r\\n66333,0\\r\\n71322,0\\r\\n26822,0\\r\\n64806,0\\r\\n35370,0\\r\\n53500,0\\r\\n68397,0\\r\\n18027,0\\r\\n17185,0\\r\\n36549,0\\r\\n55826,0\\r\\n50287,0\\r\\n12733,0\\r\\n59938,0\\r\\n36023,0\\r\\n59687,1\\r\\n23712,0\\r\\n3373,0\\r\\n6479,0\\r\\n9080,0\\r\\n25433,0\\r\\n5781,0\\r\\n44810,1\\r\\n35378,0\\r\\n28905,0\\r\\n8191,0\\r\\n25599,0\\r\\n50334,0\\r\\n25226,0\\r\\n56767,0\\r\\n57269,0\\r\\n37191,0\\r\\n58915,0\\r\\n22777,0\\r\\n40517,0\\r\\n42256,0\\r\\n42007,0\\r\\n40887,0\\r\\n57029,0\\r\\n69084,0\\r\\n3770,0\\r\\n35049,0\\r\\n62746,0\\r\\n14197,0\\r\\n72218,0\\r\\n38805,0\\r\\n61604,0\\r\\n49462,0\\r\\n69928,0\\r\\n9450,0\\r\\n57165,0\\r\\n924,0\\r\\n7589,0\\r\\n46419,0\\r\\n36415,0\\r\\n56367,0\\r\\n22053,0\\r\\n15434,0\\r\\n11538,1\\r\\n49942,0\\r\\n1185,0\\r\\n39530,0\\r\\n40984,0\\r\\n44300,0\\r\\n15376,0\\r\\n66026,0\\r\\n32789,0\\r\\n67560,0\\r\\n66902,0\\r\\n18843,0\\r\\n18825,0\\r\\n58450,0\\r\\n2224,0\\r\\n20373,0\\r\\n54237,0\\r\\n76498,0\\r\\n49850,0\\r\\n22957,0\\r\\n19060,0\\r\\n18912,0\\r\\n10199,0\\r\\n57660,0\\r\\n66926,0\\r\\n60357,0\\r\\n19301,0\\r\\n27946,0\\r\\n51988,0\\r\\n61761,0\\r\\n25907,0\\r\\n60058,0\\r\\n65784,0\\r\\n74766,0\\r\\n53582,0\\r\\n24225,0\\r\\n1214,1\\r\\n22006,0\\r\\n3936,0\\r\\n49168,0\\r\\n65005,0\\r\\n55077,0\\r\\n77363,0\\r\\n76459,0\\r\\n35957,0\\r\\n13819,0\\r\\n68422,0\\r\\n29267,0\\r\\n74911,1\\r\\n5855,0\\r\\n48594,0\\r\\n7754,0\\r\\n21850,0\\r\\n70973,0\\r\\n8430,0\\r\\n26411,0\\r\\n27226,0\\r\\n13745,0\\r\\n73848,0\\r\\n78257,0\\r\\n17651,0\\r\\n44250,0\\r\\n68242,0\\r\\n77069,0\\r\\n70965,0\\r\\n55583,0\\r\\n11596,0\\r\\n10797,0\\r\\n65602,0\\r\\n45474,0\\r\\n51450,0\\r\\n24895,0\\r\\n20031,0\\r\\n17418,0\\r\\n47939,0\\r\\n48259,0\\r\\n72375,0\\r\\n35599,0\\r\\n48643,0\\r\\n63113,0\\r\\n43843,0\\r\\n24851,0\\r\\n38738,0\\r\\n60480,0\\r\\n48925,0\\r\\n20384,0\\r\\n45381,0\\r\\n22664,0\\r\\n65032,1\\r\\n5405,0\\r\\n62076,0\\r\\n58220,0\\r\\n78032,0\\r\\n56193,0\\r\\n60980,0\\r\\n78023,0\\r\\n75166,0\\r\\n48907,0\\r\\n25210,0\\r\\n8783,0\\r\\n69143,0\\r\\n58,0\\r\\n32109,0\\r\\n68959,0\\r\\n5525,0\\r\\n76637,0\\r\\n26785,0\\r\\n67051,0\\r\\n11174,0\\r\\n7091,0\\r\\n23308,0\\r\\n61260,0\\r\\n57568,0\\r\\n17540,0\\r\\n65774,0\\r\\n15167,0\\r\\n27555,0\\r\\n62407,0\\r\\n43839,0\\r\\n12585,0\\r\\n9707,0\\r\\n46687,0\\r\\n61384,0\\r\\n277,0\\r\\n56589,0\\r\\n19197,0\\r\\n77773,0\\r\\n54975,0\\r\\n40798,0\\r\\n75571,0\\r\\n15745,0\\r\\n63892,0\\r\\n55129,0\\r\\n18111,0\\r\\n5142,1\\r\\n37819,0\\r\\n2497,0\\r\\n4383,0\\r\\n56420,0\\r\\n8771,0\\r\\n26747,0\\r\\n29979,0\\r\\n30458,0\\r\\n16716,0\\r\\n5364,0\\r\\n22844,0\\r\\n31982,0\\r\\n11296,0\\r\\n68513,0\\r\\n64759,0\\r\\n30985,0\\r\\n44496,0\\r\\n48647,0\\r\\n69449,0\\r\\n11882,0\\r\\n58791,0\\r\\n7264,0\\r\\n77939,0\\r\\n56025,0\\r\\n12970,0\\r\\n54734,0\\r\\n50438,0\\r\\n70350,0\\r\\n77382,0\\r\\n29886,0\\r\\n27943,0\\r\\n60108,0\\r\\n2274,0\\r\\n31127,0\\r\\n29784,0\\r\\n72612,0\\r\\n70434,0\\r\\n46794,0\\r\\n28902,0\\r\\n7519,0\\r\\n66657,0\\r\\n65815,0\\r\\n45177,0\\r\\n40106,0\\r\\n74179,0\\r\\n36091,0\\r\\n53974,0\\r\\n42025,0\\r\\n58060,0\\r\\n34605,0\\r\\n17665,0\\r\\n44362,0\\r\\n53946,0\\r\\n21314,0\\r\\n45467,0\\r\\n27565,0\\r\\n75477,0\\r\\n71160,0\\r\\n34870,0\\r\\n17809,0\\r\\n33017,0\\r\\n32219,0\\r\\n61576,0\\r\\n6275,0\\r\\n37138,0\\r\\n20718,0\\r\\n76798,0\\r\\n75741,0\\r\\n42103,0\\r\\n20331,0\\r\\n68683,0\\r\\n18263,0\\r\\n76341,0\\r\\n50746,0\\r\\n67780,0\\r\\n29843,0\\r\\n46266,0\\r\\n50311,0\\r\\n29224,0\\r\\n61115,0\\r\\n76285,0\\r\\n68601,0\\r\\n14572,0\\r\\n13638,0\\r\\n8993,0\\r\\n76512,0\\r\\n27884,0\\r\\n7463,0\\r\\n32283,0\\r\\n31991,0\\r\\n45654,0\\r\\n32445,0\\r\\n31305,0\\r\\n15955,0\\r\\n66668,0\\r\\n40270,0\\r\\n70632,0\\r\\n13127,0\\r\\n28015,0\\r\\n52350,0\\r\\n75704,0\\r\\n22854,0\\r\\n53325,0\\r\\n36322,0\\r\\n51485,0\\r\\n14095,0\\r\\n67549,0\\r\\n42918,0\\r\\n64586,1\\r\\n19171,0\\r\\n40006,0\\r\\n52534,0\\r\\n33523,0\\r\\n19093,0\\r\\n43219,0\\r\\n22916,0\\r\\n77067,0\\r\\n75167,0\\r\\n38396,0\\r\\n12861,0\\r\\n18681,0\\r\\n34927,0\\r\\n70070,0\\r\\n27257,0\\r\\n48729,0\\r\\n43116,0\\r\\n1270,0\\r\\n73630,0\\r\\n14077,0\\r\\n47875,0\\r\\n76944,1\\r\\n58353,0\\r\\n72279,0\\r\\n58849,0\\r\\n3253,0\\r\\n55630,0\\r\\n56508,0\\r\\n10811,0\\r\\n23417,0\\r\\n46822,0\\r\\n56526,0\\r\\n1510,0\\r\\n7066,0\\r\\n13335,0\\r\\n39671,0\\r\\n42069,0\\r\\n36364,0\\r\\n52591,0\\r\\n58478,0\\r\\n59237,0\\r\\n13777,0\\r\\n32509,0\\r\\n77937,0\\r\\n32795,0\\r\\n6134,0\\r\\n33391,0\\r\\n34797,0\\r\\n35677,0\\r\\n20187,0\\r\\n21908,0\\r\\n44839,0\\r\\n70488,1\\r\\n7493,0\\r\\n69604,0\\r\\n67194,0\\r\\n50398,0\\r\\n43425,0\\r\\n19630,0\\r\\n17030,0\\r\\n74841,0\\r\\n59055,0\\r\\n33090,0\\r\\n20958,0\\r\\n68731,0\\r\\n37924,0\\r\\n18186,0\\r\\n18566,0\\r\\n53026,0\\r\\n25615,0\\r\\n69947,0\\r\\n14695,0\\r\\n68427,0\\r\\n29740,0\\r\\n65835,0\\r\\n4243,0\\r\\n68125,0\\r\\n40872,0\\r\\n44805,0\\r\\n23348,0\\r\\n31017,0\\r\\n46291,0\\r\\n22315,0\\r\\n8820,0\\r\\n29588,0\\r\\n19185,0\\r\\n24742,0\\r\\n67761,0\\r\\n34087,0\\r\\n20928,0\\r\\n63746,0\\r\\n20998,0\\r\\n61587,0\\r\\n55044,0\\r\\n6746,0\\r\\n58410,0\\r\\n43391,0\\r\\n19521,0\\r\\n66299,0\\r\\n64961,0\\r\\n6419,0\\r\\n27869,0\\r\\n16181,0\\r\\n54125,0\\r\\n59354,0\\r\\n73726,0\\r\\n55120,0\\r\\n29598,0\\r\\n60676,0\\r\\n13155,0\\r\\n73400,0\\r\\n14097,0\\r\\n4741,0\\r\\n41210,0\\r\\n25667,0\\r\\n1413,0\\r\\n56102,0\\r\\n68482,0\\r\\n25639,0\\r\\n28761,1\\r\\n1535,0\\r\\n21880,0\\r\\n28652,0\\r\\n48330,0\\r\\n66890,0\\r\\n53858,0\\r\\n71524,0\\r\\n54301,0\\r\\n11072,0\\r\\n77243,0\\r\\n2886,0\\r\\n7053,0\\r\\n45792,0\\r\\n47609,0\\r\\n37153,0\\r\\n73193,0\\r\\n5084,0\\r\\n7880,0\\r\\n70481,0\\r\\n23328,0\\r\\n54686,0\\r\\n70985,0\\r\\n62504,0\\r\\n45144,0\\r\\n15492,0\\r\\n63486,0\\r\\n27974,0\\r\\n43520,0\\r\\n63963,0\\r\\n23642,0\\r\\n8127,0\\r\\n34005,0\\r\\n39487,0\\r\\n53499,0\\r\\n65037,0\\r\\n16881,0\\r\\n27072,0\\r\\n45254,0\\r\\n19996,0\\r\\n12008,0\\r\\n69990,0\\r\\n42321,0\\r\\n43942,0\\r\\n6503,0\\r\\n6002,0\\r\\n24541,0\\r\\n16335,0\\r\\n71594,0\\r\\n40240,0\\r\\n41874,0\\r\\n62839,0\\r\\n62150,0\\r\\n72833,0\\r\\n56049,0\\r\\n27364,0\\r\\n40437,0\\r\\n5201,0\\r\\n55754,0\\r\\n45685,0\\r\\n60545,0\\r\\n37340,0\\r\\n56893,0\\r\\n63723,0\\r\\n73186,0\\r\\n3369,0\\r\\n69754,0\\r\\n20613,0\\r\\n27493,0\\r\\n65711,0\\r\\n41170,0\\r\\n44357,0\\r\\n2914,0\\r\\n56090,0\\r\\n56664,0\\r\\n63240,0\\r\\n45846,0\\r\\n21704,0\\r\\n11432,0\\r\\n32536,0\\r\\n57115,0\\r\\n62174,0\\r\\n34045,0\\r\\n33082,0\\r\\n4153,0\\r\\n7499,0\\r\\n20179,0\\r\\n17937,0\\r\\n43401,0\\r\\n7009,0\\r\\n25492,0\\r\\n13133,0\\r\\n18977,0\\r\\n62401,0\\r\\n12284,0\\r\\n36559,0\\r\\n40116,0\\r\\n43065,0\\r\\n17669,0\\r\\n49414,0\\r\\n18596,0\\r\\n1758,0\\r\\n67603,0\\r\\n65571,0\\r\\n39532,0\\r\\n69831,0\\r\\n45964,0\\r\\n16521,0\\r\\n67865,0\\r\\n10308,0\\r\\n44837,0\\r\\n62941,0\\r\\n66434,0\\r\\n32906,0\\r\\n42738,0\\r\\n71464,0\\r\\n35966,0\\r\\n27194,0\\r\\n73330,0\\r\\n27170,0\\r\\n7542,0\\r\\n40839,0\\r\\n41890,0\\r\\n24802,0\\r\\n56910,0\\r\\n4393,0\\r\\n395,0\\r\\n66892,0\\r\\n43561,0\\r\\n55631,0\\r\\n34844,0\\r\\n55985,0\\r\\n41066,0\\r\\n37949,0\\r\\n25415,0\\r\\n3006,0\\r\\n75544,0\\r\\n32976,0\\r\\n65101,0\\r\\n14688,0\\r\\n47469,0\\r\\n63727,0\\r\\n7608,0\\r\\n50379,0\\r\\n9835,0\\r\\n17778,0\\r\\n30597,0\\r\\n808,0\\r\\n68658,0\\r\\n58565,0\\r\\n43620,0\\r\\n35661,0\\r\\n68343,0\\r\\n76571,0\\r\\n57684,0\\r\\n45652,0\\r\\n60852,0\\r\\n55212,0\\r\\n65726,0\\r\\n38757,0\\r\\n75877,0\\r\\n50401,0\\r\\n11243,0\\r\\n53400,0\\r\\n23034,0\\r\\n76967,0\\r\\n45025,0\\r\\n57901,0\\r\\n74014,0\\r\\n3326,0\\r\\n27808,0\\r\\n9593,0\\r\\n39662,0\\r\\n2784,1\\r\\n10681,0\\r\\n4951,0\\r\\n9824,0\\r\\n28659,1\\r\\n29205,0\\r\\n9511,0\\r\\n36152,0\\r\\n8415,0\\r\\n70628,0\\r\\n75213,0\\r\\n68573,0\\r\\n25980,0\\r\\n70521,0\\r\\n48917,0\\r\\n45747,0\\r\\n69664,0\\r\\n70347,0\\r\\n34465,0\\r\\n20249,0\\r\\n52333,0\\r\\n29506,0\\r\\n70952,0\\r\\n31640,0\\r\\n17343,0\\r\\n24215,0\\r\\n5300,0\\r\\n36338,0\\r\\n16497,0\\r\\n18472,0\\r\\n1569,0\\r\\n69823,0\\r\\n6453,0\\r\\n3025,0\\r\\n30214,0\\r\\n43789,0\\r\\n40865,0\\r\\n36053,0\\r\\n42430,0\\r\\n21762,0\\r\\n50880,0\\r\\n29961,0\\r\\n17282,0\\r\\n29131,0\\r\\n57700,0\\r\\n58508,0\\r\\n26191,0\\r\\n42573,0\\r\\n4176,0\\r\\n18068,0\\r\\n38071,0\\r\\n50633,0\\r\\n37698,0\\r\\n51594,0\\r\\n51513,0\\r\\n67395,0\\r\\n66536,0\\r\\n41189,0\\r\\n55601,0\\r\\n3075,0\\r\\n19288,0\\r\\n59864,0\\r\\n42024,0\\r\\n52199,0\\r\\n65834,0\\r\\n45282,0\\r\\n58174,0\\r\\n46926,0\\r\\n25985,0\\r\\n2321,0\\r\\n16551,0\\r\\n68069,0\\r\\n1743,0\\r\\n24261,0\\r\\n49649,0\\r\\n73681,0\\r\\n15216,0\\r\\n15591,0\\r\\n25957,0\\r\\n37264,0\\r\\n12160,0\\r\\n35871,0\\r\\n63815,0\\r\\n33043,0\\r\\n3438,0\\r\\n15811,0\\r\\n14206,0\\r\\n14530,0\\r\\n41380,0\\r\\n69915,0\\r\\n18698,0\\r\\n38902,0\\r\\n78265,0\\r\\n42143,0\\r\\n72348,0\\r\\n49379,0\\r\\n16457,0\\r\\n33551,0\\r\\n50530,0\\r\\n48644,0\\r\\n10202,0\\r\\n61435,0\\r\\n40780,0\\r\\n61769,0\\r\\n10886,0\\r\\n10957,0\\r\\n7472,0\\r\\n65130,0\\r\\n58766,0\\r\\n73366,0\\r\\n57152,0\\r\\n43129,0\\r\\n41472,0\\r\\n41777,0\\r\\n64614,0\\r\\n12953,0\\r\\n43070,0\\r\\n32364,0\\r\\n69477,0\\r\\n61222,0\\r\\n2939,0\\r\\n11228,0\\r\\n57200,0\\r\\n43112,0\\r\\n18565,0\\r\\n59344,0\\r\\n69136,0\\r\\n16130,0\\r\\n50399,0\\r\\n35016,0\\r\\n43501,0\\r\\n40977,0\\r\\n2171,1\\r\\n25498,0\\r\\n17864,0\\r\\n14395,1\\r\\n32245,0\\r\\n29787,0\\r\\n78219,0\\r\\n75777,0\\r\\n60165,0\\r\\n43848,0\\r\\n70304,0\\r\\n34387,0\\r\\n28190,0\\r\\n16622,0\\r\\n42855,0\\r\\n30850,0\\r\\n35583,0\\r\\n65808,0\\r\\n53193,0\\r\\n61422,0\\r\\n47717,0\\r\\n33460,0\\r\\n34345,0\\r\\n24752,0\\r\\n32843,0\\r\\n68718,0\\r\\n19115,0\\r\\n48013,0\\r\\n50624,0\\r\\n66818,0\\r\\n47153,0\\r\\n23742,1\\r\\n32596,0\\r\\n6570,0\\r\\n13074,0\\r\\n59015,0\\r\\n39084,0\\r\\n38821,0\\r\\n68508,0\\r\\n10567,0\\r\\n44763,0\\r\\n51200,0\\r\\n9322,0\\r\\n48139,0\\r\\n40481,0\\r\\n59160,0\\r\\n9313,0\\r\\n18380,0\\r\\n21920,0\\r\\n33758,0\\r\\n50824,0\\r\\n70162,0\\r\\n10235,1\\r\\n2700,0\\r\\n69488,1\\r\\n11170,0\\r\\n52901,0\\r\\n10743,0\\r\\n68036,0\\r\\n27710,0\\r\\n60818,0\\r\\n65060,0\\r\\n61033,0\\r\\n56111,0\\r\\n14973,0\\r\\n57487,0\\r\\n3264,0\\r\\n21536,0\\r\\n77835,0\\r\\n54122,0\\r\\n35258,0\\r\\n74542,0\\r\\n71698,0\\r\\n41913,0\\r\\n31376,0\\r\\n42810,0\\r\\n70367,0\\r\\n43334,0\\r\\n2327,0\\r\\n76702,0\\r\\n12138,0\\r\\n67463,0\\r\\n77722,0\\r\\n60124,0\\r\\n7271,0\\r\\n51754,0\\r\\n35139,1\\r\\n42579,0\\r\\n51851,0\\r\\n27510,0\\r\\n10169,0\\r\\n70504,0\\r\\n68255,0\\r\\n6175,0\\r\\n75273,0\\r\\n12830,0\\r\\n55250,0\\r\\n76379,1\\r\\n76019,0\\r\\n74055,0\\r\\n48397,0\\r\\n43779,0\\r\\n47719,0\\r\\n15696,0\\r\\n70571,0\\r\\n5863,0\\r\\n75288,0\\r\\n53416,0\\r\\n29462,0\\r\\n10172,0\\r\\n44980,0\\r\\n39693,1\\r\\n24854,1\\r\\n57663,0\\r\\n5950,0\\r\\n71556,0\\r\\n1604,0\\r\\n19762,0\\r\\n77421,0\\r\\n70340,0\\r\\n66080,0\\r\\n59702,0\\r\\n3744,0\\r\\n19439,0\\r\\n2395,0\\r\\n12206,0\\r\\n60376,0\\r\\n48521,0\\r\\n36610,0\\r\\n33593,0\\r\\n26176,0\\r\\n2322,0\\r\\n1455,0\\r\\n7445,0\\r\\n54787,0\\r\\n45127,0\\r\\n61718,0\\r\\n42107,0\\r\\n4318,0\\r\\n25478,0\\r\\n30070,0\\r\\n5394,0\\r\\n12274,0\\r\\n36826,0\\r\\n60021,0\\r\\n37299,0\\r\\n42882,0\\r\\n528,0\\r\\n55637,0\\r\\n73546,0\\r\\n33641,0\\r\\n17025,0\\r\\n48759,0\\r\\n4703,0\\r\\n5485,0\\r\\n48565,0\\r\\n75467,0\\r\\n47428,0\\r\\n11772,0\\r\\n15341,0\\r\\n38022,0\\r\\n154,0\\r\\n4333,0\\r\\n68079,0\\r\\n7162,0\\r\\n73223,0\\r\\n60911,0\\r\\n1046,0\\r\\n68029,0\\r\\n27242,0\\r\\n18634,0\\r\\n7486,0\\r\\n67853,0\\r\\n21771,0\\r\\n24624,0\\r\\n27902,0\\r\\n12918,0\\r\\n46000,0\\r\\n71310,0\\r\\n34272,0\\r\\n33874,0\\r\\n23981,0\\r\\n26344,0\\r\\n8747,0\\r\\n64115,0\\r\\n1705,0\\r\\n76516,0\\r\\n15040,0\\r\\n13544,0\\r\\n26417,0\\r\\n22952,0\\r\\n12662,0\\r\\n10044,0\\r\\n29017,0\\r\\n21415,0\\r\\n17311,0\\r\\n76757,0\\r\\n5732,0\\r\\n33557,0\\r\\n65806,0\\r\\n46903,0\\r\\n790,0\\r\\n8126,0\\r\\n23817,0\\r\\n224,0\\r\\n10768,0\\r\\n53527,0\\r\\n46912,0\\r\\n61143,0\\r\\n50056,0\\r\\n28884,0\\r\\n71172,0\\r\\n48517,0\\r\\n67167,0\\r\\n29538,0\\r\\n44845,0\\r\\n18075,0\\r\\n53353,0\\r\\n46569,0\\r\\n60834,1\\r\\n424,0\\r\\n46080,0\\r\\n43860,0\\r\\n44498,0\\r\\n50190,0\\r\\n50155,0\\r\\n25742,0\\r\\n69683,0\\r\\n72758,0\\r\\n45954,0\\r\\n32754,0\\r\\n35798,0\\r\\n2273,0\\r\\n38700,0\\r\\n55636,0\\r\\n15393,0\\r\\n74078,0\\r\\n18346,0\\r\\n19028,0\\r\\n26564,0\\r\\n51546,0\\r\\n14168,0\\r\\n23325,0\\r\\n35076,0\\r\\n66555,0\\r\\n78141,0\\r\\n9742,0\\r\\n62778,0\\r\\n1563,0\\r\\n14603,0\\r\\n17020,0\\r\\n31908,0\\r\\n73933,0\\r\\n15232,0\\r\\n29448,0\\r\\n24619,0\\r\\n24428,0\\r\\n9155,0\\r\\n17548,0\\r\\n30796,0\\r\\n23305,0\\r\\n7583,0\\r\\n26679,0\\r\\n6201,0\\r\\n32224,0\\r\\n18203,0\\r\\n52334,0\\r\\n76747,0\\r\\n41751,0\\r\\n64286,0\\r\\n21005,0\\r\\n45977,0\\r\\n67464,0\\r\\n60434,0\\r\\n22745,0\\r\\n58409,0\\r\\n70785,0\\r\\n27204,0\\r\\n15224,0\\r\\n25684,0\\r\\n5452,1\\r\\n52353,0\\r\\n67029,0\\r\\n20855,0\\r\\n38823,0\\r\\n29019,1\\r\\n58481,0\\r\\n17199,0\\r\\n52083,0\\r\\n27714,0\\r\\n16026,0\\r\\n51769,0\\r\\n70977,0\\r\\n24273,0\\r\\n39060,0\\r\\n7077,0\\r\\n55939,0\\r\\n36820,0\\r\\n405,0\\r\\n68870,0\\r\\n57044,0\\r\\n20441,0\\r\\n54658,0\\r\\n40249,0\\r\\n53291,0\\r\\n48366,0\\r\\n77811,0\\r\\n28613,0\\r\\n63120,0\\r\\n14953,0\\r\\n26517,0\\r\\n40821,0\\r\\n22552,0\\r\\n14036,0\\r\\n19279,0\\r\\n57335,0\\r\\n72004,0\\r\\n18851,0\\r\\n73121,0\\r\\n44175,0\\r\\n22396,0\\r\\n46640,0\\r\\n5890,0\\r\\n12347,0\\r\\n15767,0\\r\\n18522,0\\r\\n7416,0\\r\\n54060,0\\r\\n51215,0\\r\\n57322,0\\r\\n65674,0\\r\\n34030,0\\r\\n54150,0\\r\\n20570,0\\r\\n10138,0\\r\\n26173,0\\r\\n14429,0\\r\\n67935,0\\r\\n28642,0\\r\\n24118,0\\r\\n18841,0\\r\\n16445,0\\r\\n30217,0\\r\\n65765,0\\r\\n16766,0\\r\\n40903,0\\r\\n56656,0\\r\\n43872,0\\r\\n32995,0\\r\\n22707,0\\r\\n65429,0\\r\\n51383,0\\r\\n55030,1\\r\\n70366,0\\r\\n57674,0\\r\\n73255,0\\r\\n61754,0\\r\\n30477,0\\r\\n72190,0\\r\\n27155,0\\r\\n15959,0\\r\\n72900,0\\r\\n57683,0\\r\\n55174,0\\r\\n51115,0\\r\\n50134,0\\r\\n59775,0\\r\\n14408,0\\r\\n4351,0\\r\\n59625,0\\r\\n29379,0\\r\\n67979,0\\r\\n61451,0\\r\\n73871,0\\r\\n52090,0\\r\\n18488,0\\r\\n59673,0\\r\\n39410,0\\r\\n11837,0\\r\\n78278,0\\r\\n27284,0\\r\\n49291,0\\r\\n47537,0\\r\\n53478,0\\r\\n25600,0\\r\\n45409,0\\r\\n1186,0\\r\\n5973,1\\r\\n'"
      ]
     },
     "execution_count": 50,
     "metadata": {},
     "output_type": "execute_result"
    }
   ],
   "source": [
    "data.to_csv(index = False)"
   ]
  },
  {
   "cell_type": "code",
   "execution_count": 51,
   "metadata": {
    "executionInfo": {
     "elapsed": 18,
     "status": "ok",
     "timestamp": 1671706141347,
     "user": {
      "displayName": "mohammad iqbal",
      "userId": "15909639298493340109"
     },
     "user_tz": -330
    },
    "id": "ynYyDwZVSWwd"
   },
   "outputs": [],
   "source": [
    "data.to_csv('Submission_Hr_Analytics.csv',index = False)"
   ]
  },
  {
   "cell_type": "markdown",
   "metadata": {
    "executionInfo": {
     "elapsed": 16,
     "status": "ok",
     "timestamp": 1671706141348,
     "user": {
      "displayName": "mohammad iqbal",
      "userId": "15909639298493340109"
     },
     "user_tz": -330
    },
    "id": "HXttFN5QaiXO"
   },
   "source": [
    "## This model gives me 1552 rank over 15999 "
   ]
  },
  {
   "cell_type": "code",
   "execution_count": null,
   "metadata": {},
   "outputs": [],
   "source": []
  }
 ],
 "metadata": {
  "colab": {
   "authorship_tag": "ABX9TyPNqf4QnzDdfl7q4pXD6z5B",
   "mount_file_id": "1zehe-kKMI_CbTReTY5IVDRV3g9RbU84e",
   "provenance": []
  },
  "gpuClass": "standard",
  "kernelspec": {
   "display_name": "Python 3",
   "language": "python",
   "name": "python3"
  },
  "language_info": {
   "codemirror_mode": {
    "name": "ipython",
    "version": 3
   },
   "file_extension": ".py",
   "mimetype": "text/x-python",
   "name": "python",
   "nbconvert_exporter": "python",
   "pygments_lexer": "ipython3",
   "version": "3.8.8"
  }
 },
 "nbformat": 4,
 "nbformat_minor": 1
}
